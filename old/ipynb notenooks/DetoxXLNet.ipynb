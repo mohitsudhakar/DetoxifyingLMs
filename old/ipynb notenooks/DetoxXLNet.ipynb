{
  "nbformat": 4,
  "nbformat_minor": 0,
  "metadata": {
    "kernelspec": {
      "display_name": "Python 3",
      "language": "python",
      "name": "python3"
    },
    "language_info": {
      "codemirror_mode": {
        "name": "ipython",
        "version": 3
      },
      "file_extension": ".py",
      "mimetype": "text/x-python",
      "name": "python",
      "nbconvert_exporter": "python",
      "pygments_lexer": "ipython3",
      "version": "3.7.6"
    },
    "colab": {
      "name": "DetoxXLNet.ipynb",
      "provenance": [],
      "collapsed_sections": []
    },
    "accelerator": "GPU",
    "widgets": {
      "application/vnd.jupyter.widget-state+json": {
        "ea7bdb77097b428d82e2fa1ee4f9b78a": {
          "model_module": "@jupyter-widgets/controls",
          "model_name": "HBoxModel",
          "state": {
            "_view_name": "HBoxView",
            "_dom_classes": [],
            "_model_name": "HBoxModel",
            "_view_module": "@jupyter-widgets/controls",
            "_model_module_version": "1.5.0",
            "_view_count": null,
            "_view_module_version": "1.5.0",
            "box_style": "",
            "layout": "IPY_MODEL_60e256f039c44ee38076b39b193dad48",
            "_model_module": "@jupyter-widgets/controls",
            "children": [
              "IPY_MODEL_ff1a8912325e49368ce9f349ae6ae20e",
              "IPY_MODEL_74670175226447d6a952014090d449c6"
            ]
          }
        },
        "60e256f039c44ee38076b39b193dad48": {
          "model_module": "@jupyter-widgets/base",
          "model_name": "LayoutModel",
          "state": {
            "_view_name": "LayoutView",
            "grid_template_rows": null,
            "right": null,
            "justify_content": null,
            "_view_module": "@jupyter-widgets/base",
            "overflow": null,
            "_model_module_version": "1.2.0",
            "_view_count": null,
            "flex_flow": null,
            "width": null,
            "min_width": null,
            "border": null,
            "align_items": null,
            "bottom": null,
            "_model_module": "@jupyter-widgets/base",
            "top": null,
            "grid_column": null,
            "overflow_y": null,
            "overflow_x": null,
            "grid_auto_flow": null,
            "grid_area": null,
            "grid_template_columns": null,
            "flex": null,
            "_model_name": "LayoutModel",
            "justify_items": null,
            "grid_row": null,
            "max_height": null,
            "align_content": null,
            "visibility": null,
            "align_self": null,
            "height": null,
            "min_height": null,
            "padding": null,
            "grid_auto_rows": null,
            "grid_gap": null,
            "max_width": null,
            "order": null,
            "_view_module_version": "1.2.0",
            "grid_template_areas": null,
            "object_position": null,
            "object_fit": null,
            "grid_auto_columns": null,
            "margin": null,
            "display": null,
            "left": null
          }
        },
        "ff1a8912325e49368ce9f349ae6ae20e": {
          "model_module": "@jupyter-widgets/controls",
          "model_name": "FloatProgressModel",
          "state": {
            "_view_name": "ProgressView",
            "style": "IPY_MODEL_f8e24a5e33c24185b6196fd26db7ca9c",
            "_dom_classes": [],
            "description": "Downloading: 100%",
            "_model_name": "FloatProgressModel",
            "bar_style": "success",
            "max": 798011,
            "_view_module": "@jupyter-widgets/controls",
            "_model_module_version": "1.5.0",
            "value": 798011,
            "_view_count": null,
            "_view_module_version": "1.5.0",
            "orientation": "horizontal",
            "min": 0,
            "description_tooltip": null,
            "_model_module": "@jupyter-widgets/controls",
            "layout": "IPY_MODEL_0fa0c88821614318818e801a2065411b"
          }
        },
        "74670175226447d6a952014090d449c6": {
          "model_module": "@jupyter-widgets/controls",
          "model_name": "HTMLModel",
          "state": {
            "_view_name": "HTMLView",
            "style": "IPY_MODEL_fcbece3c2c5547e48bc78f4741a65de6",
            "_dom_classes": [],
            "description": "",
            "_model_name": "HTMLModel",
            "placeholder": "​",
            "_view_module": "@jupyter-widgets/controls",
            "_model_module_version": "1.5.0",
            "value": " 798k/798k [00:49&lt;00:00, 16.0kB/s]",
            "_view_count": null,
            "_view_module_version": "1.5.0",
            "description_tooltip": null,
            "_model_module": "@jupyter-widgets/controls",
            "layout": "IPY_MODEL_4a8fdaba51714876a3e1a3057d61712e"
          }
        },
        "f8e24a5e33c24185b6196fd26db7ca9c": {
          "model_module": "@jupyter-widgets/controls",
          "model_name": "ProgressStyleModel",
          "state": {
            "_view_name": "StyleView",
            "_model_name": "ProgressStyleModel",
            "description_width": "initial",
            "_view_module": "@jupyter-widgets/base",
            "_model_module_version": "1.5.0",
            "_view_count": null,
            "_view_module_version": "1.2.0",
            "bar_color": null,
            "_model_module": "@jupyter-widgets/controls"
          }
        },
        "0fa0c88821614318818e801a2065411b": {
          "model_module": "@jupyter-widgets/base",
          "model_name": "LayoutModel",
          "state": {
            "_view_name": "LayoutView",
            "grid_template_rows": null,
            "right": null,
            "justify_content": null,
            "_view_module": "@jupyter-widgets/base",
            "overflow": null,
            "_model_module_version": "1.2.0",
            "_view_count": null,
            "flex_flow": null,
            "width": null,
            "min_width": null,
            "border": null,
            "align_items": null,
            "bottom": null,
            "_model_module": "@jupyter-widgets/base",
            "top": null,
            "grid_column": null,
            "overflow_y": null,
            "overflow_x": null,
            "grid_auto_flow": null,
            "grid_area": null,
            "grid_template_columns": null,
            "flex": null,
            "_model_name": "LayoutModel",
            "justify_items": null,
            "grid_row": null,
            "max_height": null,
            "align_content": null,
            "visibility": null,
            "align_self": null,
            "height": null,
            "min_height": null,
            "padding": null,
            "grid_auto_rows": null,
            "grid_gap": null,
            "max_width": null,
            "order": null,
            "_view_module_version": "1.2.0",
            "grid_template_areas": null,
            "object_position": null,
            "object_fit": null,
            "grid_auto_columns": null,
            "margin": null,
            "display": null,
            "left": null
          }
        },
        "fcbece3c2c5547e48bc78f4741a65de6": {
          "model_module": "@jupyter-widgets/controls",
          "model_name": "DescriptionStyleModel",
          "state": {
            "_view_name": "StyleView",
            "_model_name": "DescriptionStyleModel",
            "description_width": "",
            "_view_module": "@jupyter-widgets/base",
            "_model_module_version": "1.5.0",
            "_view_count": null,
            "_view_module_version": "1.2.0",
            "_model_module": "@jupyter-widgets/controls"
          }
        },
        "4a8fdaba51714876a3e1a3057d61712e": {
          "model_module": "@jupyter-widgets/base",
          "model_name": "LayoutModel",
          "state": {
            "_view_name": "LayoutView",
            "grid_template_rows": null,
            "right": null,
            "justify_content": null,
            "_view_module": "@jupyter-widgets/base",
            "overflow": null,
            "_model_module_version": "1.2.0",
            "_view_count": null,
            "flex_flow": null,
            "width": null,
            "min_width": null,
            "border": null,
            "align_items": null,
            "bottom": null,
            "_model_module": "@jupyter-widgets/base",
            "top": null,
            "grid_column": null,
            "overflow_y": null,
            "overflow_x": null,
            "grid_auto_flow": null,
            "grid_area": null,
            "grid_template_columns": null,
            "flex": null,
            "_model_name": "LayoutModel",
            "justify_items": null,
            "grid_row": null,
            "max_height": null,
            "align_content": null,
            "visibility": null,
            "align_self": null,
            "height": null,
            "min_height": null,
            "padding": null,
            "grid_auto_rows": null,
            "grid_gap": null,
            "max_width": null,
            "order": null,
            "_view_module_version": "1.2.0",
            "grid_template_areas": null,
            "object_position": null,
            "object_fit": null,
            "grid_auto_columns": null,
            "margin": null,
            "display": null,
            "left": null
          }
        },
        "37a5ffbab49b47a295a76886e51a8629": {
          "model_module": "@jupyter-widgets/controls",
          "model_name": "HBoxModel",
          "state": {
            "_view_name": "HBoxView",
            "_dom_classes": [],
            "_model_name": "HBoxModel",
            "_view_module": "@jupyter-widgets/controls",
            "_model_module_version": "1.5.0",
            "_view_count": null,
            "_view_module_version": "1.5.0",
            "box_style": "",
            "layout": "IPY_MODEL_141eb2c7f5e64c70b2cffd8fdad26fd7",
            "_model_module": "@jupyter-widgets/controls",
            "children": [
              "IPY_MODEL_a1a61a4d65c44a05931631aa38b57d91",
              "IPY_MODEL_6282134eee9b4ec6bee1ad682e9fe092"
            ]
          }
        },
        "141eb2c7f5e64c70b2cffd8fdad26fd7": {
          "model_module": "@jupyter-widgets/base",
          "model_name": "LayoutModel",
          "state": {
            "_view_name": "LayoutView",
            "grid_template_rows": null,
            "right": null,
            "justify_content": null,
            "_view_module": "@jupyter-widgets/base",
            "overflow": null,
            "_model_module_version": "1.2.0",
            "_view_count": null,
            "flex_flow": null,
            "width": null,
            "min_width": null,
            "border": null,
            "align_items": null,
            "bottom": null,
            "_model_module": "@jupyter-widgets/base",
            "top": null,
            "grid_column": null,
            "overflow_y": null,
            "overflow_x": null,
            "grid_auto_flow": null,
            "grid_area": null,
            "grid_template_columns": null,
            "flex": null,
            "_model_name": "LayoutModel",
            "justify_items": null,
            "grid_row": null,
            "max_height": null,
            "align_content": null,
            "visibility": null,
            "align_self": null,
            "height": null,
            "min_height": null,
            "padding": null,
            "grid_auto_rows": null,
            "grid_gap": null,
            "max_width": null,
            "order": null,
            "_view_module_version": "1.2.0",
            "grid_template_areas": null,
            "object_position": null,
            "object_fit": null,
            "grid_auto_columns": null,
            "margin": null,
            "display": null,
            "left": null
          }
        },
        "a1a61a4d65c44a05931631aa38b57d91": {
          "model_module": "@jupyter-widgets/controls",
          "model_name": "FloatProgressModel",
          "state": {
            "_view_name": "ProgressView",
            "style": "IPY_MODEL_ba4bc1e712d54d968c575bc0f278c85d",
            "_dom_classes": [],
            "description": "Downloading: 100%",
            "_model_name": "FloatProgressModel",
            "bar_style": "success",
            "max": 760,
            "_view_module": "@jupyter-widgets/controls",
            "_model_module_version": "1.5.0",
            "value": 760,
            "_view_count": null,
            "_view_module_version": "1.5.0",
            "orientation": "horizontal",
            "min": 0,
            "description_tooltip": null,
            "_model_module": "@jupyter-widgets/controls",
            "layout": "IPY_MODEL_b1694e34ae664b2ba495593b81489c5c"
          }
        },
        "6282134eee9b4ec6bee1ad682e9fe092": {
          "model_module": "@jupyter-widgets/controls",
          "model_name": "HTMLModel",
          "state": {
            "_view_name": "HTMLView",
            "style": "IPY_MODEL_ba7a55d558ad495ead50622f3af9d2c7",
            "_dom_classes": [],
            "description": "",
            "_model_name": "HTMLModel",
            "placeholder": "​",
            "_view_module": "@jupyter-widgets/controls",
            "_model_module_version": "1.5.0",
            "value": " 760/760 [00:00&lt;00:00, 1.22kB/s]",
            "_view_count": null,
            "_view_module_version": "1.5.0",
            "description_tooltip": null,
            "_model_module": "@jupyter-widgets/controls",
            "layout": "IPY_MODEL_8c1ab3a0b7d1490cad26af6a13a5e3eb"
          }
        },
        "ba4bc1e712d54d968c575bc0f278c85d": {
          "model_module": "@jupyter-widgets/controls",
          "model_name": "ProgressStyleModel",
          "state": {
            "_view_name": "StyleView",
            "_model_name": "ProgressStyleModel",
            "description_width": "initial",
            "_view_module": "@jupyter-widgets/base",
            "_model_module_version": "1.5.0",
            "_view_count": null,
            "_view_module_version": "1.2.0",
            "bar_color": null,
            "_model_module": "@jupyter-widgets/controls"
          }
        },
        "b1694e34ae664b2ba495593b81489c5c": {
          "model_module": "@jupyter-widgets/base",
          "model_name": "LayoutModel",
          "state": {
            "_view_name": "LayoutView",
            "grid_template_rows": null,
            "right": null,
            "justify_content": null,
            "_view_module": "@jupyter-widgets/base",
            "overflow": null,
            "_model_module_version": "1.2.0",
            "_view_count": null,
            "flex_flow": null,
            "width": null,
            "min_width": null,
            "border": null,
            "align_items": null,
            "bottom": null,
            "_model_module": "@jupyter-widgets/base",
            "top": null,
            "grid_column": null,
            "overflow_y": null,
            "overflow_x": null,
            "grid_auto_flow": null,
            "grid_area": null,
            "grid_template_columns": null,
            "flex": null,
            "_model_name": "LayoutModel",
            "justify_items": null,
            "grid_row": null,
            "max_height": null,
            "align_content": null,
            "visibility": null,
            "align_self": null,
            "height": null,
            "min_height": null,
            "padding": null,
            "grid_auto_rows": null,
            "grid_gap": null,
            "max_width": null,
            "order": null,
            "_view_module_version": "1.2.0",
            "grid_template_areas": null,
            "object_position": null,
            "object_fit": null,
            "grid_auto_columns": null,
            "margin": null,
            "display": null,
            "left": null
          }
        },
        "ba7a55d558ad495ead50622f3af9d2c7": {
          "model_module": "@jupyter-widgets/controls",
          "model_name": "DescriptionStyleModel",
          "state": {
            "_view_name": "StyleView",
            "_model_name": "DescriptionStyleModel",
            "description_width": "",
            "_view_module": "@jupyter-widgets/base",
            "_model_module_version": "1.5.0",
            "_view_count": null,
            "_view_module_version": "1.2.0",
            "_model_module": "@jupyter-widgets/controls"
          }
        },
        "8c1ab3a0b7d1490cad26af6a13a5e3eb": {
          "model_module": "@jupyter-widgets/base",
          "model_name": "LayoutModel",
          "state": {
            "_view_name": "LayoutView",
            "grid_template_rows": null,
            "right": null,
            "justify_content": null,
            "_view_module": "@jupyter-widgets/base",
            "overflow": null,
            "_model_module_version": "1.2.0",
            "_view_count": null,
            "flex_flow": null,
            "width": null,
            "min_width": null,
            "border": null,
            "align_items": null,
            "bottom": null,
            "_model_module": "@jupyter-widgets/base",
            "top": null,
            "grid_column": null,
            "overflow_y": null,
            "overflow_x": null,
            "grid_auto_flow": null,
            "grid_area": null,
            "grid_template_columns": null,
            "flex": null,
            "_model_name": "LayoutModel",
            "justify_items": null,
            "grid_row": null,
            "max_height": null,
            "align_content": null,
            "visibility": null,
            "align_self": null,
            "height": null,
            "min_height": null,
            "padding": null,
            "grid_auto_rows": null,
            "grid_gap": null,
            "max_width": null,
            "order": null,
            "_view_module_version": "1.2.0",
            "grid_template_areas": null,
            "object_position": null,
            "object_fit": null,
            "grid_auto_columns": null,
            "margin": null,
            "display": null,
            "left": null
          }
        },
        "667e15b4f6864ab78110038d4c6a84f2": {
          "model_module": "@jupyter-widgets/controls",
          "model_name": "HBoxModel",
          "state": {
            "_view_name": "HBoxView",
            "_dom_classes": [],
            "_model_name": "HBoxModel",
            "_view_module": "@jupyter-widgets/controls",
            "_model_module_version": "1.5.0",
            "_view_count": null,
            "_view_module_version": "1.5.0",
            "box_style": "",
            "layout": "IPY_MODEL_eb9c4dd331a247f3849c4110196f81cf",
            "_model_module": "@jupyter-widgets/controls",
            "children": [
              "IPY_MODEL_605168d8194a4bb5affcb7af6a6b05a2",
              "IPY_MODEL_63ccfc66b0884f638072f08db8a2f9c1"
            ]
          }
        },
        "eb9c4dd331a247f3849c4110196f81cf": {
          "model_module": "@jupyter-widgets/base",
          "model_name": "LayoutModel",
          "state": {
            "_view_name": "LayoutView",
            "grid_template_rows": null,
            "right": null,
            "justify_content": null,
            "_view_module": "@jupyter-widgets/base",
            "overflow": null,
            "_model_module_version": "1.2.0",
            "_view_count": null,
            "flex_flow": null,
            "width": null,
            "min_width": null,
            "border": null,
            "align_items": null,
            "bottom": null,
            "_model_module": "@jupyter-widgets/base",
            "top": null,
            "grid_column": null,
            "overflow_y": null,
            "overflow_x": null,
            "grid_auto_flow": null,
            "grid_area": null,
            "grid_template_columns": null,
            "flex": null,
            "_model_name": "LayoutModel",
            "justify_items": null,
            "grid_row": null,
            "max_height": null,
            "align_content": null,
            "visibility": null,
            "align_self": null,
            "height": null,
            "min_height": null,
            "padding": null,
            "grid_auto_rows": null,
            "grid_gap": null,
            "max_width": null,
            "order": null,
            "_view_module_version": "1.2.0",
            "grid_template_areas": null,
            "object_position": null,
            "object_fit": null,
            "grid_auto_columns": null,
            "margin": null,
            "display": null,
            "left": null
          }
        },
        "605168d8194a4bb5affcb7af6a6b05a2": {
          "model_module": "@jupyter-widgets/controls",
          "model_name": "FloatProgressModel",
          "state": {
            "_view_name": "ProgressView",
            "style": "IPY_MODEL_5342ec1275814331a1d762b05463888e",
            "_dom_classes": [],
            "description": "Downloading: 100%",
            "_model_name": "FloatProgressModel",
            "bar_style": "success",
            "max": 467042463,
            "_view_module": "@jupyter-widgets/controls",
            "_model_module_version": "1.5.0",
            "value": 467042463,
            "_view_count": null,
            "_view_module_version": "1.5.0",
            "orientation": "horizontal",
            "min": 0,
            "description_tooltip": null,
            "_model_module": "@jupyter-widgets/controls",
            "layout": "IPY_MODEL_5c992b030f4b47ee988d9d7a6b53c03e"
          }
        },
        "63ccfc66b0884f638072f08db8a2f9c1": {
          "model_module": "@jupyter-widgets/controls",
          "model_name": "HTMLModel",
          "state": {
            "_view_name": "HTMLView",
            "style": "IPY_MODEL_8e24a567e04f432891d7edf1abec123d",
            "_dom_classes": [],
            "description": "",
            "_model_name": "HTMLModel",
            "placeholder": "​",
            "_view_module": "@jupyter-widgets/controls",
            "_model_module_version": "1.5.0",
            "value": " 467M/467M [00:48&lt;00:00, 9.67MB/s]",
            "_view_count": null,
            "_view_module_version": "1.5.0",
            "description_tooltip": null,
            "_model_module": "@jupyter-widgets/controls",
            "layout": "IPY_MODEL_6809823f0adb4bb9b43fe6706881a65b"
          }
        },
        "5342ec1275814331a1d762b05463888e": {
          "model_module": "@jupyter-widgets/controls",
          "model_name": "ProgressStyleModel",
          "state": {
            "_view_name": "StyleView",
            "_model_name": "ProgressStyleModel",
            "description_width": "initial",
            "_view_module": "@jupyter-widgets/base",
            "_model_module_version": "1.5.0",
            "_view_count": null,
            "_view_module_version": "1.2.0",
            "bar_color": null,
            "_model_module": "@jupyter-widgets/controls"
          }
        },
        "5c992b030f4b47ee988d9d7a6b53c03e": {
          "model_module": "@jupyter-widgets/base",
          "model_name": "LayoutModel",
          "state": {
            "_view_name": "LayoutView",
            "grid_template_rows": null,
            "right": null,
            "justify_content": null,
            "_view_module": "@jupyter-widgets/base",
            "overflow": null,
            "_model_module_version": "1.2.0",
            "_view_count": null,
            "flex_flow": null,
            "width": null,
            "min_width": null,
            "border": null,
            "align_items": null,
            "bottom": null,
            "_model_module": "@jupyter-widgets/base",
            "top": null,
            "grid_column": null,
            "overflow_y": null,
            "overflow_x": null,
            "grid_auto_flow": null,
            "grid_area": null,
            "grid_template_columns": null,
            "flex": null,
            "_model_name": "LayoutModel",
            "justify_items": null,
            "grid_row": null,
            "max_height": null,
            "align_content": null,
            "visibility": null,
            "align_self": null,
            "height": null,
            "min_height": null,
            "padding": null,
            "grid_auto_rows": null,
            "grid_gap": null,
            "max_width": null,
            "order": null,
            "_view_module_version": "1.2.0",
            "grid_template_areas": null,
            "object_position": null,
            "object_fit": null,
            "grid_auto_columns": null,
            "margin": null,
            "display": null,
            "left": null
          }
        },
        "8e24a567e04f432891d7edf1abec123d": {
          "model_module": "@jupyter-widgets/controls",
          "model_name": "DescriptionStyleModel",
          "state": {
            "_view_name": "StyleView",
            "_model_name": "DescriptionStyleModel",
            "description_width": "",
            "_view_module": "@jupyter-widgets/base",
            "_model_module_version": "1.5.0",
            "_view_count": null,
            "_view_module_version": "1.2.0",
            "_model_module": "@jupyter-widgets/controls"
          }
        },
        "6809823f0adb4bb9b43fe6706881a65b": {
          "model_module": "@jupyter-widgets/base",
          "model_name": "LayoutModel",
          "state": {
            "_view_name": "LayoutView",
            "grid_template_rows": null,
            "right": null,
            "justify_content": null,
            "_view_module": "@jupyter-widgets/base",
            "overflow": null,
            "_model_module_version": "1.2.0",
            "_view_count": null,
            "flex_flow": null,
            "width": null,
            "min_width": null,
            "border": null,
            "align_items": null,
            "bottom": null,
            "_model_module": "@jupyter-widgets/base",
            "top": null,
            "grid_column": null,
            "overflow_y": null,
            "overflow_x": null,
            "grid_auto_flow": null,
            "grid_area": null,
            "grid_template_columns": null,
            "flex": null,
            "_model_name": "LayoutModel",
            "justify_items": null,
            "grid_row": null,
            "max_height": null,
            "align_content": null,
            "visibility": null,
            "align_self": null,
            "height": null,
            "min_height": null,
            "padding": null,
            "grid_auto_rows": null,
            "grid_gap": null,
            "max_width": null,
            "order": null,
            "_view_module_version": "1.2.0",
            "grid_template_areas": null,
            "object_position": null,
            "object_fit": null,
            "grid_auto_columns": null,
            "margin": null,
            "display": null,
            "left": null
          }
        }
      }
    }
  },
  "cells": [
    {
      "cell_type": "code",
      "metadata": {
        "id": "F56UFd7s8Do_",
        "outputId": "0fb60ef1-b2d5-41f6-c8f4-f9b945ed369f",
        "colab": {
          "base_uri": "https://localhost:8080/"
        }
      },
      "source": [
        "!pip install transformers\n",
        "import collections\n",
        "import numpy as np\n",
        "import pandas as pd\n",
        "import nltk\n",
        "nltk.download('stopwords')\n",
        "nltk.download('punkt')\n",
        "from nltk.tokenize import word_tokenize\n",
        "from nltk.corpus import stopwords\n",
        "stop_words = set(stopwords.words('english'))\n",
        "import string\n",
        "puncs = string.punctuation.replace('*', '').replace('#', '')\n",
        "table = str.maketrans('', '', puncs)\n",
        "import re\n",
        "# from nltk.stem.porter import PorterStemmer\n",
        "# porter = PorterStemmer()\n",
        "\n",
        "import torch\n",
        "import torch.nn as nn"
      ],
      "execution_count": 1,
      "outputs": [
        {
          "output_type": "stream",
          "text": [
            "Collecting transformers\n",
            "\u001b[?25l  Downloading https://files.pythonhosted.org/packages/2c/4e/4f1ede0fd7a36278844a277f8d53c21f88f37f3754abf76a5d6224f76d4a/transformers-3.4.0-py3-none-any.whl (1.3MB)\n",
            "\u001b[K     |████████████████████████████████| 1.3MB 5.2MB/s \n",
            "\u001b[?25hRequirement already satisfied: numpy in /usr/local/lib/python3.6/dist-packages (from transformers) (1.18.5)\n",
            "Collecting sentencepiece!=0.1.92\n",
            "\u001b[?25l  Downloading https://files.pythonhosted.org/packages/e5/2d/6d4ca4bef9a67070fa1cac508606328329152b1df10bdf31fb6e4e727894/sentencepiece-0.1.94-cp36-cp36m-manylinux2014_x86_64.whl (1.1MB)\n",
            "\u001b[K     |████████████████████████████████| 1.1MB 31.5MB/s \n",
            "\u001b[?25hRequirement already satisfied: tqdm>=4.27 in /usr/local/lib/python3.6/dist-packages (from transformers) (4.41.1)\n",
            "Requirement already satisfied: packaging in /usr/local/lib/python3.6/dist-packages (from transformers) (20.4)\n",
            "Requirement already satisfied: dataclasses; python_version < \"3.7\" in /usr/local/lib/python3.6/dist-packages (from transformers) (0.7)\n",
            "Requirement already satisfied: requests in /usr/local/lib/python3.6/dist-packages (from transformers) (2.23.0)\n",
            "Requirement already satisfied: protobuf in /usr/local/lib/python3.6/dist-packages (from transformers) (3.12.4)\n",
            "Collecting sacremoses\n",
            "\u001b[?25l  Downloading https://files.pythonhosted.org/packages/7d/34/09d19aff26edcc8eb2a01bed8e98f13a1537005d31e95233fd48216eed10/sacremoses-0.0.43.tar.gz (883kB)\n",
            "\u001b[K     |████████████████████████████████| 890kB 46.3MB/s \n",
            "\u001b[?25hCollecting tokenizers==0.9.2\n",
            "\u001b[?25l  Downloading https://files.pythonhosted.org/packages/7c/a5/78be1a55b2ac8d6a956f0a211d372726e2b1dd2666bb537fea9b03abd62c/tokenizers-0.9.2-cp36-cp36m-manylinux1_x86_64.whl (2.9MB)\n",
            "\u001b[K     |████████████████████████████████| 2.9MB 50.0MB/s \n",
            "\u001b[?25hRequirement already satisfied: regex!=2019.12.17 in /usr/local/lib/python3.6/dist-packages (from transformers) (2019.12.20)\n",
            "Requirement already satisfied: filelock in /usr/local/lib/python3.6/dist-packages (from transformers) (3.0.12)\n",
            "Requirement already satisfied: six in /usr/local/lib/python3.6/dist-packages (from packaging->transformers) (1.15.0)\n",
            "Requirement already satisfied: pyparsing>=2.0.2 in /usr/local/lib/python3.6/dist-packages (from packaging->transformers) (2.4.7)\n",
            "Requirement already satisfied: chardet<4,>=3.0.2 in /usr/local/lib/python3.6/dist-packages (from requests->transformers) (3.0.4)\n",
            "Requirement already satisfied: idna<3,>=2.5 in /usr/local/lib/python3.6/dist-packages (from requests->transformers) (2.10)\n",
            "Requirement already satisfied: certifi>=2017.4.17 in /usr/local/lib/python3.6/dist-packages (from requests->transformers) (2020.6.20)\n",
            "Requirement already satisfied: urllib3!=1.25.0,!=1.25.1,<1.26,>=1.21.1 in /usr/local/lib/python3.6/dist-packages (from requests->transformers) (1.24.3)\n",
            "Requirement already satisfied: setuptools in /usr/local/lib/python3.6/dist-packages (from protobuf->transformers) (50.3.2)\n",
            "Requirement already satisfied: click in /usr/local/lib/python3.6/dist-packages (from sacremoses->transformers) (7.1.2)\n",
            "Requirement already satisfied: joblib in /usr/local/lib/python3.6/dist-packages (from sacremoses->transformers) (0.17.0)\n",
            "Building wheels for collected packages: sacremoses\n",
            "  Building wheel for sacremoses (setup.py) ... \u001b[?25l\u001b[?25hdone\n",
            "  Created wheel for sacremoses: filename=sacremoses-0.0.43-cp36-none-any.whl size=893257 sha256=93701c151e1b9ebf5351d98d3aac1034f5f62dc63c5b1998f342e1fe81b40d88\n",
            "  Stored in directory: /root/.cache/pip/wheels/29/3c/fd/7ce5c3f0666dab31a50123635e6fb5e19ceb42ce38d4e58f45\n",
            "Successfully built sacremoses\n",
            "Installing collected packages: sentencepiece, sacremoses, tokenizers, transformers\n",
            "Successfully installed sacremoses-0.0.43 sentencepiece-0.1.94 tokenizers-0.9.2 transformers-3.4.0\n",
            "[nltk_data] Downloading package stopwords to /root/nltk_data...\n",
            "[nltk_data]   Unzipping corpora/stopwords.zip.\n",
            "[nltk_data] Downloading package punkt to /root/nltk_data...\n",
            "[nltk_data]   Unzipping tokenizers/punkt.zip.\n"
          ],
          "name": "stdout"
        }
      ]
    },
    {
      "cell_type": "code",
      "metadata": {
        "id": "jP5R6XFsbamg",
        "outputId": "3f8d899d-4585-4fb3-8f0c-fffa4455d510",
        "colab": {
          "base_uri": "https://localhost:8080/",
          "height": 218,
          "referenced_widgets": [
            "ea7bdb77097b428d82e2fa1ee4f9b78a",
            "60e256f039c44ee38076b39b193dad48",
            "ff1a8912325e49368ce9f349ae6ae20e",
            "74670175226447d6a952014090d449c6",
            "f8e24a5e33c24185b6196fd26db7ca9c",
            "0fa0c88821614318818e801a2065411b",
            "fcbece3c2c5547e48bc78f4741a65de6",
            "4a8fdaba51714876a3e1a3057d61712e",
            "37a5ffbab49b47a295a76886e51a8629",
            "141eb2c7f5e64c70b2cffd8fdad26fd7",
            "a1a61a4d65c44a05931631aa38b57d91",
            "6282134eee9b4ec6bee1ad682e9fe092",
            "ba4bc1e712d54d968c575bc0f278c85d",
            "b1694e34ae664b2ba495593b81489c5c",
            "ba7a55d558ad495ead50622f3af9d2c7",
            "8c1ab3a0b7d1490cad26af6a13a5e3eb",
            "667e15b4f6864ab78110038d4c6a84f2",
            "eb9c4dd331a247f3849c4110196f81cf",
            "605168d8194a4bb5affcb7af6a6b05a2",
            "63ccfc66b0884f638072f08db8a2f9c1",
            "5342ec1275814331a1d762b05463888e",
            "5c992b030f4b47ee988d9d7a6b53c03e",
            "8e24a567e04f432891d7edf1abec123d",
            "6809823f0adb4bb9b43fe6706881a65b"
          ]
        }
      },
      "source": [
        "from transformers import XLNetTokenizer, XLNetModel, XLNetConfig\n",
        "tokenizer = XLNetTokenizer.from_pretrained('xlnet-base-cased')\n",
        "# tokenizer.add_special_tokens({'pad_token': '[PAD]'})\n",
        "# gpt2_config = GPT2Config(vocab_size=tokenizer.vocab_size)\n",
        "xlnet_model = XLNetModel.from_pretrained('xlnet-base-cased')\n",
        "# gpt2_model.resize_token_embeddings(len(tokenizer))"
      ],
      "execution_count": 2,
      "outputs": [
        {
          "output_type": "display_data",
          "data": {
            "application/vnd.jupyter.widget-view+json": {
              "model_id": "ea7bdb77097b428d82e2fa1ee4f9b78a",
              "version_minor": 0,
              "version_major": 2
            },
            "text/plain": [
              "HBox(children=(FloatProgress(value=0.0, description='Downloading', max=798011.0, style=ProgressStyle(descripti…"
            ]
          },
          "metadata": {
            "tags": []
          }
        },
        {
          "output_type": "stream",
          "text": [
            "\n"
          ],
          "name": "stdout"
        },
        {
          "output_type": "display_data",
          "data": {
            "application/vnd.jupyter.widget-view+json": {
              "model_id": "37a5ffbab49b47a295a76886e51a8629",
              "version_minor": 0,
              "version_major": 2
            },
            "text/plain": [
              "HBox(children=(FloatProgress(value=0.0, description='Downloading', max=760.0, style=ProgressStyle(description_…"
            ]
          },
          "metadata": {
            "tags": []
          }
        },
        {
          "output_type": "stream",
          "text": [
            "\n"
          ],
          "name": "stdout"
        },
        {
          "output_type": "stream",
          "text": [
            "/usr/local/lib/python3.6/dist-packages/transformers/configuration_xlnet.py:212: FutureWarning: This config doesn't use attention memories, a core feature of XLNet. Consider setting `mem_len` to a non-zero value, for example `xlnet = XLNetLMHeadModel.from_pretrained('xlnet-base-cased'', mem_len=1024)`, for accurate training performance as well as an order of magnitude faster inference. Starting from version 3.5.0, the default parameter will be 1024, following the implementation in https://arxiv.org/abs/1906.08237\n",
            "  FutureWarning,\n"
          ],
          "name": "stderr"
        },
        {
          "output_type": "display_data",
          "data": {
            "application/vnd.jupyter.widget-view+json": {
              "model_id": "667e15b4f6864ab78110038d4c6a84f2",
              "version_minor": 0,
              "version_major": 2
            },
            "text/plain": [
              "HBox(children=(FloatProgress(value=0.0, description='Downloading', max=467042463.0, style=ProgressStyle(descri…"
            ]
          },
          "metadata": {
            "tags": []
          }
        },
        {
          "output_type": "stream",
          "text": [
            "\n"
          ],
          "name": "stdout"
        }
      ]
    },
    {
      "cell_type": "code",
      "metadata": {
        "id": "KezvOf-zYbkQ",
        "outputId": "79d9908c-12c4-4993-e293-f50e01dc4b7f",
        "colab": {
          "base_uri": "https://localhost:8080/"
        }
      },
      "source": [
        "print(tokenizer.vocab_size)\n",
        "print(tokenizer.pad_token)\n",
        "print(xlnet_model.config.vocab_size)\n"
      ],
      "execution_count": 3,
      "outputs": [
        {
          "output_type": "stream",
          "text": [
            "32000\n",
            "<pad>\n",
            "32000\n"
          ],
          "name": "stdout"
        }
      ]
    },
    {
      "cell_type": "code",
      "metadata": {
        "id": "hCX2Br2I8DpH"
      },
      "source": [
        "def checks(w):\n",
        "    if w in stop_words: return False\n",
        "    if re.search('[a-zA-Z]', w) and '*' in w: return True\n",
        "    if not w.isalpha(): return False\n",
        "    if len(w) == 1 and w not in ['a', 'i', 'o', 'u']: return False\n",
        "    return True"
      ],
      "execution_count": 4,
      "outputs": []
    },
    {
      "cell_type": "code",
      "metadata": {
        "id": "R5OL2mpL8DpK"
      },
      "source": [
        "def getWordCounts(texts, scores, word_tokens):\n",
        "  l = len(texts)\n",
        "  wordCounts = {}\n",
        "  for i in range(l):\n",
        "    if i % 10000 == 0: print(i)\n",
        "    text, score = texts[i], scores[i]\n",
        "    wtoks = word_tokens[i]\n",
        "    for w in wtoks:\n",
        "      w = w.strip()\n",
        "      if w[0] == '_': w = w[1:]\n",
        "      w = w.lower()\n",
        "      w = w.translate(table)\n",
        "      if not checks(w): continue\n",
        "      wordCounts[w] = wordCounts.get(w, 0) + 1\n",
        "  return wordCounts"
      ],
      "execution_count": 5,
      "outputs": []
    },
    {
      "cell_type": "code",
      "metadata": {
        "id": "Kx49BEXe8DpO"
      },
      "source": [
        "def getWordSentences(texts, word_tokens):\n",
        "    l = len(texts)\n",
        "    wordSentences = collections.defaultdict(list)\n",
        "    for i in range(l):\n",
        "        if i % 10000 == 0: print(i)\n",
        "        text = texts[i]\n",
        "        text = text.lower()\n",
        "        wtoks = word_tokens[i]\n",
        "        for w in wtoks:\n",
        "            w = w.strip()\n",
        "            if w[0] == '_': w = w[1:]\n",
        "            w = w.lower()\n",
        "            w = w.translate(table)\n",
        "            # w = porter.stem(w)\n",
        "            if not checks(w): continue\n",
        "            wordSentences[w].append(text)\n",
        "    return wordSentences"
      ],
      "execution_count": 6,
      "outputs": []
    },
    {
      "cell_type": "code",
      "metadata": {
        "id": "cf_mS0Pu8DpR"
      },
      "source": [
        "def getSortedWordScores(wordCounts, asc=False):\n",
        "    rows_list = []\n",
        "    for i,w in enumerate(wordCounts):\n",
        "        dic = {'Word': w, 'Count': wordCounts[w]}\n",
        "        rows_list.append(dic)\n",
        "        \n",
        "    wordScores = pd.DataFrame(rows_list, columns=['Word', 'Count'])\n",
        "    \n",
        "    return wordScores"
      ],
      "execution_count": 7,
      "outputs": []
    },
    {
      "cell_type": "code",
      "metadata": {
        "id": "FVA7LGEQ9Fgv",
        "outputId": "f0a4d6cb-6083-43c6-a92d-064e346ed3dd",
        "colab": {
          "base_uri": "https://localhost:8080/"
        }
      },
      "source": [
        "from google.colab import drive\n",
        "drive.mount('/content/drive', force_remount=True)\n",
        "path = '/content/drive/My Drive/DetoxBert/'"
      ],
      "execution_count": 8,
      "outputs": [
        {
          "output_type": "stream",
          "text": [
            "Mounted at /content/drive\n"
          ],
          "name": "stdout"
        }
      ]
    },
    {
      "cell_type": "code",
      "metadata": {
        "id": "G6Iw1AOtiRrR"
      },
      "source": [
        "rows = []\n",
        "with open(path+'toxic.tsv', 'r') as f:\n",
        "  lines = f.readlines()\n",
        "  columns = lines[0].split('\\t')\n",
        "  num_cols = len(columns)\n",
        "  lines = lines[1:]\n",
        "  for line in lines:\n",
        "    fields = line.split('\\t')\n",
        "    if len(fields) > num_cols:\n",
        "      fields = [' '.join(fields[:-num_cols])] + fields[-num_cols:]\n",
        "    elif len(fields) < num_cols:      \n",
        "      for i in range(num_cols - len(fields)):\n",
        "        fields.append('0')\n",
        "    rows.append(fields)\n",
        "\n",
        "df = pd.DataFrame(np.array(rows), columns=columns)\n"
      ],
      "execution_count": 9,
      "outputs": []
    },
    {
      "cell_type": "code",
      "metadata": {
        "id": "aQD_lIH68DpU",
        "outputId": "d23a0c4a-886a-4a06-bea8-60b175658133",
        "colab": {
          "base_uri": "https://localhost:8080/"
        }
      },
      "source": [
        "\n",
        "# df = pd.read_csv(path+'toxic_fixed.tsv', sep='\\t', encoding='utf-8')\n",
        "print('done: read file')\n",
        "# only check toxicity values, todo: check others as well\n",
        "\n",
        "# df = df[['Text', 'Tox']]\n",
        "df = df[['Text', 'Sev_Tox']]\n",
        "\n",
        "df.columns = ['Text', 'Score']\n",
        "df.Score = df.Score.astype(float)\n",
        "df = df.fillna(0)\n",
        "toxic_df = df[df['Score'] >= 0.5]\n",
        "nontox_df = df[df['Score'] < 0.5]\n",
        "print('done: got toxic data >=0.5')"
      ],
      "execution_count": 10,
      "outputs": [
        {
          "output_type": "stream",
          "text": [
            "done: read file\n",
            "done: got toxic data >=0.5\n"
          ],
          "name": "stdout"
        }
      ]
    },
    {
      "cell_type": "code",
      "metadata": {
        "id": "rE5bBSMs8Dpm",
        "outputId": "e1654ec5-e46d-496b-8d1a-63a7b56c2be0",
        "colab": {
          "base_uri": "https://localhost:8080/"
        }
      },
      "source": [
        "toxic_df[:3]['Text'].to_numpy()"
      ],
      "execution_count": 11,
      "outputs": [
        {
          "output_type": "execute_result",
          "data": {
            "text/plain": [
              "array(['That violence is both promoted by the government—one parliamentarian has said if he had a lesbian daughter, he would hang her—and carried out by private citizens with government complicity.',\n",
              "       'In the latest incident, a car bomb exploded at a petrol station in the government-held Damascus suburb of Barzeh, killing 11 people, including civilians, and injuring 40 more, according to both government and opposition reports.',\n",
              "       'Sebastopol’s local newspaper reports that seven of the 26 people murdered in Sonoma County since 2013 died during marijuana deals.'],\n",
              "      dtype=object)"
            ]
          },
          "metadata": {
            "tags": []
          },
          "execution_count": 11
        }
      ]
    },
    {
      "cell_type": "code",
      "metadata": {
        "id": "zm932vk5d3OY",
        "outputId": "2f5787c1-eb54-4fb1-cfb5-e6a2c3be42e1",
        "colab": {
          "base_uri": "https://localhost:8080/"
        }
      },
      "source": [
        "# df = pd.read_csv(path+'toxic.tsv', sep='\\t+', encoding='utf-8')\n",
        "\n",
        "pd.set_option('display.max_colwidth', None)\n",
        "te = toxic_df[toxic_df['Text'].str.contains('If I fought Rafael dos Anjos')]['Text']\n",
        "te2 = df[df['Text'].str.contains('anonymity may make some youtube')]['Text']\n",
        "\n",
        "print(te)\n",
        "te2"
      ],
      "execution_count": 83,
      "outputs": [
        {
          "output_type": "stream",
          "text": [
            "56112    \"If I fought Rafael dos Anjos, if he didn't pussy out of that last one and showed up, the shots I cracked Nate with in the first eight minutes of that [fight] would've KO'd Rafael dos Anjos stiff.\n",
            "Name: Text, dtype: object\n"
          ],
          "name": "stdout"
        },
        {
          "output_type": "execute_result",
          "data": {
            "text/plain": [
              "Series([], Name: Text, dtype: object)"
            ]
          },
          "metadata": {
            "tags": []
          },
          "execution_count": 83
        }
      ]
    },
    {
      "cell_type": "code",
      "metadata": {
        "id": "Za-OcagQyHkV",
        "outputId": "757cfd62-07ca-4aff-b2bc-05acb8eb0e76",
        "colab": {
          "base_uri": "https://localhost:8080/"
        }
      },
      "source": [
        "texts = df['Text'].to_numpy()\n",
        "text = texts[0]\n",
        "print(tokenizer.tokenize(text))\n",
        "print(tokenizer.encode(text))\n"
      ],
      "execution_count": 13,
      "outputs": [
        {
          "output_type": "stream",
          "text": [
            "['▁', 'Corruption', '▁involving', '▁the', '▁contractors', '▁is', '▁the', '▁chief', '▁culprit', '▁for', '▁the', '▁prison', '’', 's', '▁problems', ',', '▁according', '▁to', '▁a', '▁recent', '▁report', '▁from', '▁the', '▁Special', '▁Inspector', '▁General', '▁for', '▁Afghanistan', '▁Reconstruction', '—', 'a', '▁congressional', 'ly', '-', 'man', 'dated', '▁watchdog', '▁agency', '.']\n",
            "[17, 30589, 3458, 18, 9983, 27, 18, 735, 22555, 28, 18, 1840, 165, 23, 708, 19, 549, 22, 24, 644, 419, 40, 18, 3257, 16328, 1016, 28, 1805, 27495, 1559, 101, 5952, 111, 13, 249, 17824, 14003, 1100, 9, 4, 3]\n"
          ],
          "name": "stdout"
        }
      ]
    },
    {
      "cell_type": "code",
      "metadata": {
        "id": "IooCNcLQ8Dpz",
        "outputId": "1cb7dae4-690b-42ee-b351-e2d6a20e58ef",
        "colab": {
          "base_uri": "https://localhost:8080/"
        }
      },
      "source": [
        "texts = df['Text'].to_numpy()\n",
        "scores = df['Score'].to_numpy()\n",
        "# word_tokens = list(map(word_tokenize, texts))\n",
        "word_tokens = list(map(tokenizer.tokenize, texts))\n",
        "\n",
        "wcAll = getWordCounts(texts, scores, word_tokens)\n",
        "wsentAll = getWordSentences(texts, word_tokens)"
      ],
      "execution_count": 14,
      "outputs": [
        {
          "output_type": "stream",
          "text": [
            "0\n",
            "10000\n",
            "20000\n",
            "30000\n",
            "40000\n",
            "50000\n",
            "60000\n",
            "70000\n",
            "80000\n",
            "90000\n",
            "100000\n",
            "0\n",
            "10000\n",
            "20000\n",
            "30000\n",
            "40000\n",
            "50000\n",
            "60000\n",
            "70000\n",
            "80000\n",
            "90000\n",
            "100000\n"
          ],
          "name": "stdout"
        }
      ]
    },
    {
      "cell_type": "code",
      "metadata": {
        "id": "ktcRPuXKPQUd",
        "outputId": "d6e1c7fb-7176-4725-9912-418d78a352a1",
        "colab": {
          "base_uri": "https://localhost:8080/"
        }
      },
      "source": [
        "# t = \"An impatient commuter probably regretted telling a man to 'f**k himself' on a busy train.\"\n",
        "# print(t)\n",
        "# print(encoded_texts[0])\n",
        "print(tokenizer.encode(word_tokens[0]))\n",
        "print(len(wsentAll['pussy']))"
      ],
      "execution_count": 15,
      "outputs": [
        {
          "output_type": "stream",
          "text": [
            "[17, 30589, 3458, 18, 9983, 27, 18, 735, 22555, 28, 18, 1840, 165, 23, 708, 19, 549, 22, 24, 644, 419, 40, 18, 3257, 16328, 1016, 28, 1805, 27495, 1559, 101, 5952, 111, 13, 249, 17824, 14003, 1100, 9, 4, 3]\n",
            "0\n"
          ],
          "name": "stdout"
        }
      ]
    },
    {
      "cell_type": "code",
      "metadata": {
        "id": "EACjq7dD8Dp3",
        "outputId": "41bcede7-16d7-4df7-9bc9-f85a55f738fa",
        "colab": {
          "base_uri": "https://localhost:8080/"
        }
      },
      "source": [
        "texts = toxic_df['Text'].to_numpy()\n",
        "scores = toxic_df['Score'].to_numpy()\n",
        "# word_tokens = list(map(word_tokenize, texts))\n",
        "word_tokens = list(map(tokenizer.tokenize, texts))\n",
        "\n",
        "wcTox = getWordCounts(texts, scores, word_tokens)\n",
        "wsentTox = getWordSentences(texts, word_tokens)"
      ],
      "execution_count": 16,
      "outputs": [
        {
          "output_type": "stream",
          "text": [
            "0\n",
            "10000\n",
            "20000\n",
            "30000\n",
            "0\n",
            "10000\n",
            "20000\n",
            "30000\n"
          ],
          "name": "stdout"
        }
      ]
    },
    {
      "cell_type": "code",
      "metadata": {
        "id": "aizIgW1n8Dp9",
        "outputId": "bea78682-4706-44cc-cce8-2cd1a0ca8621",
        "colab": {
          "base_uri": "https://localhost:8080/"
        }
      },
      "source": [
        "texts = nontox_df['Text'].to_numpy()\n",
        "scores = nontox_df['Score'].to_numpy()\n",
        "# word_tokens = list(map(word_tokenize, texts))\n",
        "word_tokens = list(map(tokenizer.tokenize, texts))\n",
        "\n",
        "wcNT = getWordCounts(texts, scores, word_tokens)\n",
        "wsentNT = getWordSentences(texts, word_tokens)"
      ],
      "execution_count": 17,
      "outputs": [
        {
          "output_type": "stream",
          "text": [
            "0\n",
            "10000\n",
            "20000\n",
            "30000\n",
            "40000\n",
            "50000\n",
            "60000\n",
            "0\n",
            "10000\n",
            "20000\n",
            "30000\n",
            "40000\n",
            "50000\n",
            "60000\n"
          ],
          "name": "stdout"
        }
      ]
    },
    {
      "cell_type": "code",
      "metadata": {
        "id": "OEAIK9xn8Dqh",
        "outputId": "e69030c0-4803-4a04-9868-8a8222708bdb",
        "colab": {
          "base_uri": "https://localhost:8080/"
        }
      },
      "source": [
        "print(len(wcAll))\n",
        "print(len(wcTox))\n",
        "print(len(wcNT))"
      ],
      "execution_count": 18,
      "outputs": [
        {
          "output_type": "stream",
          "text": [
            "5472\n",
            "4911\n",
            "5358\n"
          ],
          "name": "stdout"
        }
      ]
    },
    {
      "cell_type": "code",
      "metadata": {
        "id": "fUIVLiya8Dqr"
      },
      "source": [
        "wordScoresAll = getSortedWordScores(wcAll)"
      ],
      "execution_count": 19,
      "outputs": []
    },
    {
      "cell_type": "code",
      "metadata": {
        "id": "f7rup_IE8Dq0"
      },
      "source": [
        "wordScoresTox = getSortedWordScores(wcTox)"
      ],
      "execution_count": 20,
      "outputs": []
    },
    {
      "cell_type": "code",
      "metadata": {
        "id": "-IIJcMEH8DrG"
      },
      "source": [
        "wordScoresNT = getSortedWordScores(wcNT, asc=True)"
      ],
      "execution_count": 21,
      "outputs": []
    },
    {
      "cell_type": "code",
      "metadata": {
        "id": "HVblcO1D8DrS",
        "outputId": "64b7523f-5eec-46b4-fd5d-b8620c12d9dc",
        "colab": {
          "base_uri": "https://localhost:8080/"
        }
      },
      "source": [
        "print('All\\n', wordScoresAll.head())\n",
        "print('Toxic\\n', wordScoresTox.head())\n",
        "print('NonToxic\\n', wordScoresNT.head())"
      ],
      "execution_count": 22,
      "outputs": [
        {
          "output_type": "stream",
          "text": [
            "All\n",
            "          Word  Count\n",
            "0  corruption     20\n",
            "1          ly   3901\n",
            "2         man   1154\n",
            "3       dated     21\n",
            "4          ka    282\n",
            "Toxic\n",
            "        Word  Count\n",
            "0       one    169\n",
            "1     arian     15\n",
            "2      held      6\n",
            "3        ze     79\n",
            "4  injuring     25\n",
            "NonToxic\n",
            "          Word  Count\n",
            "0  corruption     18\n",
            "1          ly   2315\n",
            "2         man    693\n",
            "3       dated     17\n",
            "4          ka    171\n"
          ],
          "name": "stdout"
        }
      ]
    },
    {
      "cell_type": "code",
      "metadata": {
        "id": "6AAazDp68Drc"
      },
      "source": [
        "sAll, sTox, sNT = wordScoresAll, wordScoresTox, wordScoresNT"
      ],
      "execution_count": 23,
      "outputs": []
    },
    {
      "cell_type": "code",
      "metadata": {
        "id": "IqdOJ6ze8Dsq",
        "outputId": "3405aa87-7aa1-4f86-db80-ce21ca314150",
        "colab": {
          "base_uri": "https://localhost:8080/"
        }
      },
      "source": [
        "sAll[sAll['Word'] == 'like'], sTox[sTox['Word'] == 'like'], sNT[sNT['Word'] == 'like']"
      ],
      "execution_count": 24,
      "outputs": [
        {
          "output_type": "execute_result",
          "data": {
            "text/plain": [
              "(    Word  Count\n",
              " 15  like    275,      Word  Count\n",
              " 186  like    108,     Word  Count\n",
              " 15  like    167)"
            ]
          },
          "metadata": {
            "tags": []
          },
          "execution_count": 24
        }
      ]
    },
    {
      "cell_type": "code",
      "metadata": {
        "id": "sSvuwP2i8DtN"
      },
      "source": [
        "from functools import reduce\n",
        "\n",
        "dfs = [sAll, sTox, sNT]\n",
        "df_merged = reduce(lambda left,right: pd.merge(left,right,on='Word'), dfs)"
      ],
      "execution_count": 25,
      "outputs": []
    },
    {
      "cell_type": "code",
      "metadata": {
        "id": "_S3BHI1p8DtQ",
        "outputId": "6639285c-a460-4ea7-9478-7c63e334bf65",
        "colab": {
          "base_uri": "https://localhost:8080/",
          "height": 204
        }
      },
      "source": [
        "df_merged.columns = ['Word', 'Count_All', 'Count_Tox', 'Count_NT']\n",
        "df_merged.head()"
      ],
      "execution_count": 26,
      "outputs": [
        {
          "output_type": "execute_result",
          "data": {
            "text/html": [
              "<div>\n",
              "<style scoped>\n",
              "    .dataframe tbody tr th:only-of-type {\n",
              "        vertical-align: middle;\n",
              "    }\n",
              "\n",
              "    .dataframe tbody tr th {\n",
              "        vertical-align: top;\n",
              "    }\n",
              "\n",
              "    .dataframe thead th {\n",
              "        text-align: right;\n",
              "    }\n",
              "</style>\n",
              "<table border=\"1\" class=\"dataframe\">\n",
              "  <thead>\n",
              "    <tr style=\"text-align: right;\">\n",
              "      <th></th>\n",
              "      <th>Word</th>\n",
              "      <th>Count_All</th>\n",
              "      <th>Count_Tox</th>\n",
              "      <th>Count_NT</th>\n",
              "    </tr>\n",
              "  </thead>\n",
              "  <tbody>\n",
              "    <tr>\n",
              "      <th>0</th>\n",
              "      <td>corruption</td>\n",
              "      <td>20</td>\n",
              "      <td>2</td>\n",
              "      <td>18</td>\n",
              "    </tr>\n",
              "    <tr>\n",
              "      <th>1</th>\n",
              "      <td>ly</td>\n",
              "      <td>3901</td>\n",
              "      <td>1586</td>\n",
              "      <td>2315</td>\n",
              "    </tr>\n",
              "    <tr>\n",
              "      <th>2</th>\n",
              "      <td>man</td>\n",
              "      <td>1154</td>\n",
              "      <td>461</td>\n",
              "      <td>693</td>\n",
              "    </tr>\n",
              "    <tr>\n",
              "      <th>3</th>\n",
              "      <td>dated</td>\n",
              "      <td>21</td>\n",
              "      <td>4</td>\n",
              "      <td>17</td>\n",
              "    </tr>\n",
              "    <tr>\n",
              "      <th>4</th>\n",
              "      <td>ka</td>\n",
              "      <td>282</td>\n",
              "      <td>111</td>\n",
              "      <td>171</td>\n",
              "    </tr>\n",
              "  </tbody>\n",
              "</table>\n",
              "</div>"
            ],
            "text/plain": [
              "         Word  Count_All  Count_Tox  Count_NT\n",
              "0  corruption         20          2        18\n",
              "1          ly       3901       1586      2315\n",
              "2         man       1154        461       693\n",
              "3       dated         21          4        17\n",
              "4          ka        282        111       171"
            ]
          },
          "metadata": {
            "tags": []
          },
          "execution_count": 26
        }
      ]
    },
    {
      "cell_type": "code",
      "metadata": {
        "id": "8rF848YDCEDY"
      },
      "source": [
        "df_merged['Tox_percent'] = df_merged.apply (lambda row: row['Count_Tox']/(row['Count_All']), axis=1)"
      ],
      "execution_count": 27,
      "outputs": []
    },
    {
      "cell_type": "code",
      "metadata": {
        "id": "antrEBVUEuKD",
        "outputId": "15f10e98-95c1-484a-96ee-bd97dce8df3e",
        "colab": {
          "base_uri": "https://localhost:8080/",
          "height": 80
        }
      },
      "source": [
        "df_merged[df_merged['Word'] == 'fuck']"
      ],
      "execution_count": 28,
      "outputs": [
        {
          "output_type": "execute_result",
          "data": {
            "text/html": [
              "<div>\n",
              "<style scoped>\n",
              "    .dataframe tbody tr th:only-of-type {\n",
              "        vertical-align: middle;\n",
              "    }\n",
              "\n",
              "    .dataframe tbody tr th {\n",
              "        vertical-align: top;\n",
              "    }\n",
              "\n",
              "    .dataframe thead th {\n",
              "        text-align: right;\n",
              "    }\n",
              "</style>\n",
              "<table border=\"1\" class=\"dataframe\">\n",
              "  <thead>\n",
              "    <tr style=\"text-align: right;\">\n",
              "      <th></th>\n",
              "      <th>Word</th>\n",
              "      <th>Count_All</th>\n",
              "      <th>Count_Tox</th>\n",
              "      <th>Count_NT</th>\n",
              "      <th>Tox_percent</th>\n",
              "    </tr>\n",
              "  </thead>\n",
              "  <tbody>\n",
              "    <tr>\n",
              "      <th>1194</th>\n",
              "      <td>fuck</td>\n",
              "      <td>955</td>\n",
              "      <td>929</td>\n",
              "      <td>26</td>\n",
              "      <td>0.972775</td>\n",
              "    </tr>\n",
              "  </tbody>\n",
              "</table>\n",
              "</div>"
            ],
            "text/plain": [
              "      Word  Count_All  Count_Tox  Count_NT  Tox_percent\n",
              "1194  fuck        955        929        26     0.972775"
            ]
          },
          "metadata": {
            "tags": []
          },
          "execution_count": 28
        }
      ]
    },
    {
      "cell_type": "code",
      "metadata": {
        "id": "D0aQa0dKCVdK"
      },
      "source": [
        "MINFREQ = 3\n",
        "df_merged_minfreq = df_merged[(df_merged['Count_All'] > MINFREQ)]"
      ],
      "execution_count": 29,
      "outputs": []
    },
    {
      "cell_type": "code",
      "metadata": {
        "id": "8ItuhWEIeO36"
      },
      "source": [
        "# highTox = df_merged_minfreq.sort_values([\"Count_All\", \"Tox_percent\"], ascending = [False, False])"
      ],
      "execution_count": 30,
      "outputs": []
    },
    {
      "cell_type": "code",
      "metadata": {
        "id": "3x22NBQyaY-j",
        "outputId": "a6c52272-d0a9-43bd-b700-e5132800c8cf",
        "colab": {
          "base_uri": "https://localhost:8080/"
        }
      },
      "source": [
        "# highTox = df_merged_minfreq.sort_values([\"Count_NT\", \"Count_Tox\"], ascending = [True, False])\n",
        "highTox = df_merged_minfreq.sort_values(\"Tox_percent\", ascending = False)\n",
        "len(highTox)"
      ],
      "execution_count": 31,
      "outputs": [
        {
          "output_type": "execute_result",
          "data": {
            "text/plain": [
              "4564"
            ]
          },
          "metadata": {
            "tags": []
          },
          "execution_count": 31
        }
      ]
    },
    {
      "cell_type": "code",
      "metadata": {
        "id": "fgzB3q3LFlZT",
        "outputId": "e61fabd9-edd6-43c8-b42c-4eebf77edea0",
        "colab": {
          "base_uri": "https://localhost:8080/",
          "height": 669
        }
      },
      "source": [
        "highTox[:20]"
      ],
      "execution_count": 32,
      "outputs": [
        {
          "output_type": "execute_result",
          "data": {
            "text/html": [
              "<div>\n",
              "<style scoped>\n",
              "    .dataframe tbody tr th:only-of-type {\n",
              "        vertical-align: middle;\n",
              "    }\n",
              "\n",
              "    .dataframe tbody tr th {\n",
              "        vertical-align: top;\n",
              "    }\n",
              "\n",
              "    .dataframe thead th {\n",
              "        text-align: right;\n",
              "    }\n",
              "</style>\n",
              "<table border=\"1\" class=\"dataframe\">\n",
              "  <thead>\n",
              "    <tr style=\"text-align: right;\">\n",
              "      <th></th>\n",
              "      <th>Word</th>\n",
              "      <th>Count_All</th>\n",
              "      <th>Count_Tox</th>\n",
              "      <th>Count_NT</th>\n",
              "      <th>Tox_percent</th>\n",
              "    </tr>\n",
              "  </thead>\n",
              "  <tbody>\n",
              "    <tr>\n",
              "      <th>1194</th>\n",
              "      <td>fuck</td>\n",
              "      <td>955</td>\n",
              "      <td>929</td>\n",
              "      <td>26</td>\n",
              "      <td>0.972775</td>\n",
              "    </tr>\n",
              "    <tr>\n",
              "      <th>1501</th>\n",
              "      <td>ussy</td>\n",
              "      <td>316</td>\n",
              "      <td>306</td>\n",
              "      <td>10</td>\n",
              "      <td>0.968354</td>\n",
              "    </tr>\n",
              "    <tr>\n",
              "      <th>4180</th>\n",
              "      <td>dick</td>\n",
              "      <td>430</td>\n",
              "      <td>414</td>\n",
              "      <td>16</td>\n",
              "      <td>0.962791</td>\n",
              "    </tr>\n",
              "    <tr>\n",
              "      <th>3055</th>\n",
              "      <td>hole</td>\n",
              "      <td>667</td>\n",
              "      <td>604</td>\n",
              "      <td>63</td>\n",
              "      <td>0.905547</td>\n",
              "    </tr>\n",
              "    <tr>\n",
              "      <th>4747</th>\n",
              "      <td>aca</td>\n",
              "      <td>10</td>\n",
              "      <td>9</td>\n",
              "      <td>1</td>\n",
              "      <td>0.900000</td>\n",
              "    </tr>\n",
              "    <tr>\n",
              "      <th>2582</th>\n",
              "      <td>ndi</td>\n",
              "      <td>10</td>\n",
              "      <td>9</td>\n",
              "      <td>1</td>\n",
              "      <td>0.900000</td>\n",
              "    </tr>\n",
              "    <tr>\n",
              "      <th>4623</th>\n",
              "      <td>bourg</td>\n",
              "      <td>9</td>\n",
              "      <td>8</td>\n",
              "      <td>1</td>\n",
              "      <td>0.888889</td>\n",
              "    </tr>\n",
              "    <tr>\n",
              "      <th>4677</th>\n",
              "      <td>cutter</td>\n",
              "      <td>9</td>\n",
              "      <td>8</td>\n",
              "      <td>1</td>\n",
              "      <td>0.888889</td>\n",
              "    </tr>\n",
              "    <tr>\n",
              "      <th>4499</th>\n",
              "      <td>ssian</td>\n",
              "      <td>9</td>\n",
              "      <td>8</td>\n",
              "      <td>1</td>\n",
              "      <td>0.888889</td>\n",
              "    </tr>\n",
              "    <tr>\n",
              "      <th>2556</th>\n",
              "      <td>nig</td>\n",
              "      <td>145</td>\n",
              "      <td>128</td>\n",
              "      <td>17</td>\n",
              "      <td>0.882759</td>\n",
              "    </tr>\n",
              "    <tr>\n",
              "      <th>4735</th>\n",
              "      <td>shit</td>\n",
              "      <td>145</td>\n",
              "      <td>127</td>\n",
              "      <td>18</td>\n",
              "      <td>0.875862</td>\n",
              "    </tr>\n",
              "    <tr>\n",
              "      <th>1479</th>\n",
              "      <td>oplasty</td>\n",
              "      <td>8</td>\n",
              "      <td>7</td>\n",
              "      <td>1</td>\n",
              "      <td>0.875000</td>\n",
              "    </tr>\n",
              "    <tr>\n",
              "      <th>410</th>\n",
              "      <td>actually</td>\n",
              "      <td>8</td>\n",
              "      <td>7</td>\n",
              "      <td>1</td>\n",
              "      <td>0.875000</td>\n",
              "    </tr>\n",
              "    <tr>\n",
              "      <th>4729</th>\n",
              "      <td>ggi</td>\n",
              "      <td>7</td>\n",
              "      <td>6</td>\n",
              "      <td>1</td>\n",
              "      <td>0.857143</td>\n",
              "    </tr>\n",
              "    <tr>\n",
              "      <th>4682</th>\n",
              "      <td>alli</td>\n",
              "      <td>7</td>\n",
              "      <td>6</td>\n",
              "      <td>1</td>\n",
              "      <td>0.857143</td>\n",
              "    </tr>\n",
              "    <tr>\n",
              "      <th>4763</th>\n",
              "      <td>bearer</td>\n",
              "      <td>7</td>\n",
              "      <td>6</td>\n",
              "      <td>1</td>\n",
              "      <td>0.857143</td>\n",
              "    </tr>\n",
              "    <tr>\n",
              "      <th>2472</th>\n",
              "      <td>tha</td>\n",
              "      <td>40</td>\n",
              "      <td>34</td>\n",
              "      <td>6</td>\n",
              "      <td>0.850000</td>\n",
              "    </tr>\n",
              "    <tr>\n",
              "      <th>44</th>\n",
              "      <td>job</td>\n",
              "      <td>66</td>\n",
              "      <td>56</td>\n",
              "      <td>10</td>\n",
              "      <td>0.848485</td>\n",
              "    </tr>\n",
              "    <tr>\n",
              "      <th>1452</th>\n",
              "      <td>bate</td>\n",
              "      <td>139</td>\n",
              "      <td>117</td>\n",
              "      <td>22</td>\n",
              "      <td>0.841727</td>\n",
              "    </tr>\n",
              "    <tr>\n",
              "      <th>1362</th>\n",
              "      <td>got</td>\n",
              "      <td>143</td>\n",
              "      <td>120</td>\n",
              "      <td>23</td>\n",
              "      <td>0.839161</td>\n",
              "    </tr>\n",
              "  </tbody>\n",
              "</table>\n",
              "</div>"
            ],
            "text/plain": [
              "          Word  Count_All  Count_Tox  Count_NT  Tox_percent\n",
              "1194      fuck        955        929        26     0.972775\n",
              "1501      ussy        316        306        10     0.968354\n",
              "4180      dick        430        414        16     0.962791\n",
              "3055      hole        667        604        63     0.905547\n",
              "4747       aca         10          9         1     0.900000\n",
              "2582       ndi         10          9         1     0.900000\n",
              "4623     bourg          9          8         1     0.888889\n",
              "4677    cutter          9          8         1     0.888889\n",
              "4499     ssian          9          8         1     0.888889\n",
              "2556       nig        145        128        17     0.882759\n",
              "4735      shit        145        127        18     0.875862\n",
              "1479   oplasty          8          7         1     0.875000\n",
              "410   actually          8          7         1     0.875000\n",
              "4729       ggi          7          6         1     0.857143\n",
              "4682      alli          7          6         1     0.857143\n",
              "4763    bearer          7          6         1     0.857143\n",
              "2472       tha         40         34         6     0.850000\n",
              "44         job         66         56        10     0.848485\n",
              "1452      bate        139        117        22     0.841727\n",
              "1362       got        143        120        23     0.839161"
            ]
          },
          "metadata": {
            "tags": []
          },
          "execution_count": 32
        }
      ]
    },
    {
      "cell_type": "code",
      "metadata": {
        "id": "BFN97YpUefu6"
      },
      "source": [
        "# highTox[:20]"
      ],
      "execution_count": 33,
      "outputs": []
    },
    {
      "cell_type": "code",
      "metadata": {
        "id": "UN92fIBG8Dtf"
      },
      "source": [
        "ht = highTox[:]"
      ],
      "execution_count": 34,
      "outputs": []
    },
    {
      "cell_type": "code",
      "metadata": {
        "id": "dIADd6Ve8DuQ",
        "outputId": "2700f9a5-7692-40a5-ce17-4ba6158a67b5",
        "colab": {
          "base_uri": "https://localhost:8080/",
          "height": 80
        }
      },
      "source": [
        "ht[ht['Word'] == 'damn']"
      ],
      "execution_count": 35,
      "outputs": [
        {
          "output_type": "execute_result",
          "data": {
            "text/html": [
              "<div>\n",
              "<style scoped>\n",
              "    .dataframe tbody tr th:only-of-type {\n",
              "        vertical-align: middle;\n",
              "    }\n",
              "\n",
              "    .dataframe tbody tr th {\n",
              "        vertical-align: top;\n",
              "    }\n",
              "\n",
              "    .dataframe thead th {\n",
              "        text-align: right;\n",
              "    }\n",
              "</style>\n",
              "<table border=\"1\" class=\"dataframe\">\n",
              "  <thead>\n",
              "    <tr style=\"text-align: right;\">\n",
              "      <th></th>\n",
              "      <th>Word</th>\n",
              "      <th>Count_All</th>\n",
              "      <th>Count_Tox</th>\n",
              "      <th>Count_NT</th>\n",
              "      <th>Tox_percent</th>\n",
              "    </tr>\n",
              "  </thead>\n",
              "  <tbody>\n",
              "    <tr>\n",
              "      <th>4551</th>\n",
              "      <td>damn</td>\n",
              "      <td>110</td>\n",
              "      <td>66</td>\n",
              "      <td>44</td>\n",
              "      <td>0.6</td>\n",
              "    </tr>\n",
              "  </tbody>\n",
              "</table>\n",
              "</div>"
            ],
            "text/plain": [
              "      Word  Count_All  Count_Tox  Count_NT  Tox_percent\n",
              "4551  damn        110         66        44          0.6"
            ]
          },
          "metadata": {
            "tags": []
          },
          "execution_count": 35
        }
      ]
    },
    {
      "cell_type": "code",
      "metadata": {
        "id": "BLwldnV-hjzJ"
      },
      "source": [
        "toxword = ht['Word'][:1]\n",
        "toxsents = wsentTox['pussy'][:20]\n",
        "for i, s in enumerate(toxsents):\n",
        "  if '\\t' in s:\n",
        "    print(i)\n",
        "    print(s)\n",
        "    print()"
      ],
      "execution_count": 36,
      "outputs": []
    },
    {
      "cell_type": "code",
      "metadata": {
        "id": "44TR_9eT8DvC"
      },
      "source": [
        "# todo: Compute PMI"
      ],
      "execution_count": 37,
      "outputs": []
    },
    {
      "cell_type": "code",
      "metadata": {
        "id": "oqH_kvBaF8ip",
        "outputId": "55d128a3-2537-4bc1-9a18-a30a8f9e90a3",
        "colab": {
          "base_uri": "https://localhost:8080/"
        }
      },
      "source": [
        "xlnet_model.word_embedding"
      ],
      "execution_count": 38,
      "outputs": [
        {
          "output_type": "execute_result",
          "data": {
            "text/plain": [
              "Embedding(32000, 768)"
            ]
          },
          "metadata": {
            "tags": []
          },
          "execution_count": 38
        }
      ]
    },
    {
      "cell_type": "code",
      "metadata": {
        "id": "q1HtyL4LF8e_",
        "outputId": "ec528472-5226-4382-a13d-c3cf7931c137",
        "colab": {
          "base_uri": "https://localhost:8080/"
        }
      },
      "source": [
        "xlnet_model.layer[0]"
      ],
      "execution_count": 39,
      "outputs": [
        {
          "output_type": "execute_result",
          "data": {
            "text/plain": [
              "XLNetLayer(\n",
              "  (rel_attn): XLNetRelativeAttention(\n",
              "    (layer_norm): LayerNorm((768,), eps=1e-12, elementwise_affine=True)\n",
              "    (dropout): Dropout(p=0.1, inplace=False)\n",
              "  )\n",
              "  (ff): XLNetFeedForward(\n",
              "    (layer_norm): LayerNorm((768,), eps=1e-12, elementwise_affine=True)\n",
              "    (layer_1): Linear(in_features=768, out_features=3072, bias=True)\n",
              "    (layer_2): Linear(in_features=3072, out_features=768, bias=True)\n",
              "    (dropout): Dropout(p=0.1, inplace=False)\n",
              "  )\n",
              "  (dropout): Dropout(p=0.1, inplace=False)\n",
              ")"
            ]
          },
          "metadata": {
            "tags": []
          },
          "execution_count": 39
        }
      ]
    },
    {
      "cell_type": "code",
      "metadata": {
        "id": "bAxH9J4QpOWB"
      },
      "source": [
        "import sklearn as sl\n",
        "from sklearn.preprocessing import StandardScaler as ss\n",
        "from sklearn.decomposition import PCA\n",
        "import matplotlib.pyplot as plt\n",
        "\n",
        "def plotVariance(y, title=\"\"):\n",
        "  x = range(len(y))\n",
        "  plt.plot(x, y)\n",
        "  plt.title(title)\n",
        "  plt.show()\n",
        "  plt.savefig(title)\n",
        "\n",
        "\n",
        "# Computes PCs of difference vector\n",
        "def getPrincipalComponents(D, num_comp=None):\n",
        "  pca = PCA(n_components=num_comp, svd_solver=\"auto\")\n",
        "  X = D[0].cpu().detach().numpy()\n",
        "  pca.fit(X)\n",
        "  exp_var = pca.explained_variance_ratio_\n",
        "  return torch.Tensor(np.array(pca.components_)), exp_var"
      ],
      "execution_count": 40,
      "outputs": []
    },
    {
      "cell_type": "code",
      "metadata": {
        "id": "ROT6ZTYJtCsE"
      },
      "source": [
        "def projection(a, b):\n",
        "  inner = torch.mm(a, b.T)\n",
        "  res = a - torch.mm(inner, b)\n",
        "  return res"
      ],
      "execution_count": 87,
      "outputs": []
    },
    {
      "cell_type": "markdown",
      "metadata": {
        "id": "FjiYHAoV37Za"
      },
      "source": [
        "**Debiasing GPT2**"
      ]
    },
    {
      "cell_type": "code",
      "metadata": {
        "id": "fV5WCtls5Tj7",
        "outputId": "4d664995-1067-41f7-b6e5-337aa962c350",
        "colab": {
          "base_uri": "https://localhost:8080/"
        }
      },
      "source": [
        "num_words = 15\n",
        "num_sents = 100\n",
        "tokenizer.pad_token\n",
        "xlnet_model.config.vocab_size"
      ],
      "execution_count": 88,
      "outputs": [
        {
          "output_type": "execute_result",
          "data": {
            "text/plain": [
              "32000"
            ]
          },
          "metadata": {
            "tags": []
          },
          "execution_count": 88
        }
      ]
    },
    {
      "cell_type": "code",
      "metadata": {
        "id": "W_YKG-1EBSBL"
      },
      "source": [
        "import torch\n",
        "import torch.nn as nn\n",
        "import torch.nn.functional as F\n",
        "\n",
        "class LayerXLNet(nn.Module):\n",
        "\n",
        "    def __init__(self):\n",
        "        super(LayerXLNet, self).__init__()\n",
        "        self.xln = xln = xlnet_model\n",
        "        self.emb = xln.word_embedding\n",
        "        self.blocks = xln.layer\n",
        "        self.dtype = xln.dtype\n",
        "\n",
        "    def forward(self, layer_num, hidden_h, hidden_g, attention_mask):\n",
        "        # the original code for XLNet uses shapes [len, bsz] with the batch dimension at the end\n",
        "        # so we move here the first dimension (batch) to the end\n",
        "        hidden_h = hidden_h.transpose(0, 1).contiguous()\n",
        "        if hidden_g:\n",
        "          hidden_g = hidden_g.transpose(0, 1).contiguous()\n",
        "        qlen, bsz = hidden_h.shape[0], hidden_h.shape[1]\n",
        "\n",
        "        if layer_num == 0:\n",
        "            inp = hidden_h\n",
        "            emb = self.emb(inp)\n",
        "            emb = emb.permute(1, 0, 2).contiguous()\n",
        "            return emb, None\n",
        "\n",
        "        else:\n",
        "\n",
        "            attention_mask = attention_mask.transpose(0, 1).contiguous() if attention_mask is not None else None\n",
        "\n",
        "            klen = qlen\n",
        "\n",
        "            dtype_float = self.dtype\n",
        "\n",
        "            # data mask: input mask & perm mask\n",
        "            input_mask = 1.0 - attention_mask\n",
        "            data_mask = input_mask[None]\n",
        "\n",
        "            attn_mask = data_mask[:, :, :, None]\n",
        "            attn_mask = (attn_mask > 0).to(dtype_float)\n",
        "            non_tgt_mask = -torch.eye(qlen).to(attn_mask)\n",
        "            non_tgt_mask = ((attn_mask + non_tgt_mask[:, :, None, None]) > 0).to(attn_mask)\n",
        "\n",
        "            # Positional encoding\n",
        "            pos_emb = self.xln.relative_positional_encoding(qlen, klen, bsz=bsz)\n",
        "            pos_emb = self.xln.dropout(pos_emb)\n",
        "\n",
        "            block = self.blocks[layer_num-1]\n",
        "\n",
        "            outputs = block(\n",
        "                hidden_h,\n",
        "                hidden_g,\n",
        "                attn_mask_h=non_tgt_mask,\n",
        "                attn_mask_g=attn_mask,\n",
        "                r=pos_emb,\n",
        "                seg_mat=None\n",
        "            )\n",
        "            output_h, output_g = outputs[:2]\n",
        "\n",
        "            # Prepare outputs, we transpose back here to shape [bsz, len, hidden_dim] (cf. beginning of forward() method)\n",
        "            output_h = output_h.permute(1, 0, 2).contiguous()\n",
        "            if output_g:\n",
        "              output_g = output_g.permute(1, 0, 2).contiguous()\n",
        "\n",
        "            # output = output_g if output_g is not None else output_h\n",
        "            return output_h, output_g\n",
        "\n",
        "\n",
        "layerXlnet = LayerXLNet()\n",
        "layerXlnet = layerXlnet.cuda()\n"
      ],
      "execution_count": 89,
      "outputs": []
    },
    {
      "cell_type": "code",
      "metadata": {
        "id": "MXAZDrONOBPI"
      },
      "source": [
        "# this algorithm takes in toxic sentence and corresponsing nontoxic sentence\n",
        "# and returns layer wise PC set {P_0, ..., P_12}\n",
        "def run_xlnet_algorithm(S_t, S_nt, model, debias=True):\n",
        "    # inputs are encoded sentences\n",
        "    W_t, W_nt = S_t, S_nt\n",
        "\n",
        "    inp_ids_t, attn_masks_t = W_t['input_ids'], W_t['attention_mask']\n",
        "    inp_ids_nt, attn_masks_nt = W_nt['input_ids'], W_nt['attention_mask']\n",
        "\n",
        "    u, v, D, PCs, ev = [None] * 13, [None] * 13, [None] * 13, [None] * 13, [None] * 13\n",
        "    u_out_h, u_out_g = [None]*13, [None]*13\n",
        "    v_out_h, v_out_g = [None]*13, [None]*13\n",
        "    \n",
        "    inp_t = inp_ids_t.cuda()\n",
        "    atn_t = attn_masks_t.cuda()\n",
        "    # inp_t = inp_ids_t\n",
        "    # atn_t = attn_masks_t\n",
        "    \n",
        "    # print('inp_t', inp_t.shape, 'atn_t', atn_t.shape)\n",
        "    u_out_h[0], u_out_g[0] = model(0, inp_t, None, atn_t)\n",
        "    u[0] = u_out_g[0] if u_out_g[0] is not None else u_out_h[0]\n",
        "\n",
        "    # print('u_out_g[0]', u_out_g[0].shape)\n",
        "    # print('u_out_h[0]', u_out_h[0].shape)\n",
        "\n",
        "    inp_nt = inp_ids_nt.cuda()\n",
        "    atn_nt = attn_masks_nt.cuda()\n",
        "    # inp_nt = inp_ids_nt\n",
        "    # atn_nt = attn_masks_nt\n",
        "    \n",
        "    v_out_h[0], v_out_g[0] = model(0, inp_nt, None, atn_nt)\n",
        "    v[0] = v_out_g[0] if v_out_g[0] is not None else v_out_h[0]\n",
        "    \n",
        "    D[0] = u[0] - v[0]  # todo: check dim, torch. ?\n",
        "    # print('D[0]', D[0].shape)\n",
        "    PCs[0], ev[0] = getPrincipalComponents(D[0])\n",
        "    \n",
        "    PCs[0] = PCs[0].cuda()\n",
        "    # print('PC[0]', PCs[0].shape, 'ev[0]', ev[0].shape)\n",
        "\n",
        "    for j in range(1, 13):\n",
        "        # print(\"BERT Layer j =\", j)\n",
        "        if debias:\n",
        "          u_out_h[j-1] = projection(u_out_h[j - 1][0], PCs[j - 1]).unsqueeze(dim=0).cuda()\n",
        "          v_out_h[j-1] = projection(v_out_h[j - 1][0], PCs[j - 1]).unsqueeze(dim=0).cuda()\n",
        "          # u_out_g[j-1] = projection(u_out_g[j - 1][0], PCs[j - 1]).unsqueeze(dim=0).cuda()\n",
        "          # v_out_g[j-1] = projection(v_out_g[j - 1][0], PCs[j - 1]).unsqueeze(dim=0).cuda()\n",
        "          \n",
        "        u_out_h[j], u_out_g[j] = model(j, u_out_h[j-1], u_out_g[j-1], atn_t)\n",
        "        u[j] = u_out_g[j] if u_out_g[j] is not None else u_out_h[j]\n",
        "\n",
        "        v_out_h[j], v_out_g[j] = model(j, v_out_h[j-1], v_out_g[j-1], atn_nt)\n",
        "        v[j] = v_out_g[j] if v_out_g[j] is not None else v_out_h[j]\n",
        "        \n",
        "        D[j] = u[j] - v[j]  # todo: check dim, torch. ?\n",
        "        PCs[j], ev[j] = getPrincipalComponents(D[j])\n",
        "        PCs[j] = PCs[j].cuda()\n",
        "\n",
        "        # print('PCs[j]', PCs[j].shape)\n",
        "\n",
        "    return PCs, ev\n"
      ],
      "execution_count": 90,
      "outputs": []
    },
    {
      "cell_type": "code",
      "metadata": {
        "id": "av8eN2ITOO4U",
        "outputId": "72a7beef-2136-4156-9fc7-589d15d8e61e",
        "colab": {
          "base_uri": "https://localhost:8080/"
        }
      },
      "source": [
        "\n",
        "toxic_words = ht['Word'][:num_words]\n",
        "ev = [0]*13\n",
        "count = 0\n",
        "# find toxic words and their sentences\n",
        "for word in toxic_words:\n",
        "  \n",
        "  sents = wsentTox[word][:num_sents]\n",
        "  print('word', word, 'num_sent', len(sents))\n",
        "  sflag = False\n",
        "  for sent in sents:\n",
        "    if count % 10 == 0: print(count)\n",
        "    # encoded_text = tokenizer(sent)\n",
        "    encoded_text = tokenizer.encode_plus(\n",
        "        sent, add_special_tokens=True, truncation=True,\n",
        "        max_length=256, padding='max_length',\n",
        "        return_attention_mask=True,\n",
        "        return_tensors='pt')\n",
        "    tox, attn_masks = encoded_text['input_ids'], encoded_text['attention_mask']\n",
        "    ntox = tox.clone()\n",
        "    tokens = list([tokenizer.convert_ids_to_tokens(i) for i in ntox][0])\n",
        "    tokens = [tok[1:] if tok[0] == '_' else tok for tok in tokens]\n",
        "    try:\n",
        "      idx = tokens.index(word)\n",
        "    except:\n",
        "      print('PROBLEM!')\n",
        "      # print(tokens)\n",
        "      print(sent)\n",
        "      continue\n",
        "      # sflag = True\n",
        "      # break\n",
        "\n",
        "    ntox[0][idx] = 0\n",
        "\n",
        "    encoded_T = {\n",
        "        \"input_ids\": tox,\n",
        "        \"attention_mask\": attn_masks\n",
        "    }\n",
        "    encoded_NT = {\n",
        "        \"input_ids\": ntox,\n",
        "        \"attention_mask\": attn_masks\n",
        "    }\n",
        "    principal_components, exp_variance = run_xlnet_algorithm(encoded_T, encoded_NT, layerXlnet, debias=True)\n",
        "\n",
        "    for i in range(13):\n",
        "      ev[i] += exp_variance[i]\n",
        "    count += 1\n",
        "\n",
        "  if sflag:\n",
        "    break\n",
        "print(count)\n",
        "# print('ev[0]', ev[0])\n",
        "# todo: Use BERTForSentenceClassification then check the classifier hidden output\n",
        "\n",
        "# a = num_sent x 768\n",
        "# b = 2 x 768 PCs\n",
        "# inner = a . bT -> num_sent x 2\n",
        "# inner . b -> num_sent x 768\n",
        "\n",
        "\n"
      ],
      "execution_count": 91,
      "outputs": [
        {
          "output_type": "stream",
          "text": [
            "word fuck num_sent 100\n",
            "0\n",
            "PROBLEM!\n",
            "“removing anonymity may make some youtube commentors (often held up as one of the most trustworthy examples of the internet fuckwad theory at work) think twice about spewing bilious nonsense all over youtube videos,” youtuber jim younkin wrote.\n",
            "PROBLEM!\n",
            "v6: ride the lightning at pawtuckaway, 21 votes, fuck the method at pawtuckaway, 5 votes\n",
            "PROBLEM!\n",
            "i wasn’t a fan of the south park movie (139 fucks), i thought jay and silent bob was pretty middle of the road (248 fucks)…it just isn’t a major selling point for me.\n",
            "PROBLEM!\n",
            "i wasn’t a fan of the south park movie (139 fucks), i thought jay and silent bob was pretty middle of the road (248 fucks)…it just isn’t a major selling point for me.\n",
            "PROBLEM!\n",
            "on their collaborative new album who the fuck is chris spencer??, underground chicago rappers vic spencer and chris crack appear wholly ignorant of all recent trends, as if they've emerged untouched from a late-'90s time capsule.\n",
            "PROBLEM!\n",
            "the latest to capture the imagination was the humble coconut, which was the center of user coconutthrowaway69’s story in the collection of embarrassing personal stories that comprise the today i fucked up forum.\n",
            "PROBLEM!\n",
            "last month we received a bumper postbag for the first in our occasional series on living well for less, live like a king on fuck all, and so we return to the subject in this post, incorporating some of your thoughts on the subject.\n",
            "10\n",
            "PROBLEM!\n",
            "the hashtag used by the professor in his first post appeared to be connected to a medium.com article entitled “let them fucking die” that he shared on facebook two days before.\n",
            "PROBLEM!\n",
            "audio 20 mf us cuties lindsey cruz & veronica valentine fucking live feb 26 5pm\n",
            "PROBLEM!\n",
            "police removed several works from an exhibition by artist paul yore called everything's fucked which allegedly features images of sexual acts with children's faced superimposed.\n",
            "PROBLEM!\n",
            "he’d lost grove press to bad business decisions (one of his nicknames was \"the worst, most fucked up businessman in america\"), had married five times—he’d grown old.\n",
            "PROBLEM!\n",
            "both the local authorities in fucking [2] and the european union's trade marks and designs registration office initially objected to the name.\n",
            "PROBLEM!\n",
            "after a drink or two, or maybe even bottle of water, you wonder, “which of these cute girls is dtf (down to fuck) tonight?”\n",
            "20\n",
            "PROBLEM!\n",
            "legendaryactivity: 1302merit: 1002core dev leaves me neg feedback #abuse #political re: fuck: segwit, ln, blockstream, core, adam back, and gmazwell march 25, 2017, 04:48:38 pm\n",
            "PROBLEM!\n",
            "at least they are according to an instagram post from …and you will know us by our really fucking long band name bassist autry fulbright.\n",
            "30\n",
            "PROBLEM!\n",
            "but it's his work with gonzales on his record ivory tower and his stellar production on spank rock's everything is boring and everyone is a fucking liar that perfectly showcases his versatility and talent across the musical spectrum.\n",
            "PROBLEM!\n",
            "fucking tyler (if he even exists, which i'm starting to doubt) is the worst kind of mmqb - the know-it-all wannabe warrior.\n",
            "40\n",
            "PROBLEM!\n",
            "the good, the bad, and the fucking nuts here are the bills that we hope will pass in olympia this year, the bills that we hope will die, and the bills that make us worry about the sanity of our lawmakers.\n",
            "40\n",
            "PROBLEM!\n",
            "i've noticed a trend in recent online editorial writing that disturbs me: the trend of the \"it's okay that i'm a fuck-up\" essay.\n",
            "40\n",
            "PROBLEM!\n",
            "gallery from: feed her fuck her\n",
            "40\n",
            "50\n",
            "PROBLEM!\n",
            "needless to say that if we find there is truth to this story, and they do not expeditiously cooperate in correcting the problem, fucking their shit up will ensue on a scale that will make the university of toronto breathe a sigh of relief.\n",
            "PROBLEM!\n",
            "fucking you tonight gabrielle georgia on my mind get a little taste of you gimme some lovin' girl give up the funk (tear the roof off the...\n",
            "PROBLEM!\n",
            "mcmorris rodgers watch: why you should give a fuck about the eastern wa republican holding a fundraiser in bellevue tonight\n",
            "PROBLEM!\n",
            "fucking, austria hell, norway two examples of unusual place names unusual place names are names for cities, towns, and other regions which are considered non-ordinary in some manner.\n",
            "PROBLEM!\n",
            "molko and the ‘god of fuck’ became friends in the ’90s when they both enjoyed a rapid rise to fame.\n",
            "60\n",
            "70\n",
            "PROBLEM!\n",
            "when i am fired as the editor of cracked and run out of ideas for penis-based horror novels, i want to write this up as a self-help book, probably titled fuck the karate kid: why life is so much harder than we think, by dr.\n",
            "PROBLEM!\n",
            "“huge congrats to russell westbrook on mvp, that boy went out there and was a created player on 2k all year, fuckin balled out.\n",
            "word ussy num_sent 100\n",
            "80\n",
            "90\n",
            "100\n",
            "110\n",
            "120\n",
            "130\n",
            "140\n",
            "150\n",
            "160\n",
            "170\n",
            "word dick num_sent 100\n",
            "180\n",
            "190\n",
            "200\n",
            "210\n",
            "220\n",
            "230\n",
            "240\n",
            "250\n",
            "260\n",
            "270\n",
            "word hole num_sent 100\n",
            "280\n",
            "290\n",
            "300\n",
            "310\n",
            "320\n",
            "330\n",
            "340\n",
            "350\n",
            "360\n",
            "370\n",
            "word aca num_sent 9\n",
            "PROBLEM!\n",
            "“i shot and killed donald trump purposely, intentionally and very proudly,” barkley said at the hearing, according to the ithaca voice.\n",
            "PROBLEM!\n",
            "and those dicks will be on their best behaviour if there is a chance i am actually a woman in real life, and not what the movie gattaca might call “a borrowed ladder.”\n",
            "word ndi num_sent 9\n",
            "380\n",
            "PROBLEM!\n",
            "martin luther king jr. cheated on his wife, ghandi had a thing for little girls and hated black africans, and mother teresa, despite being the go-to metaphor for goodness, was a complete asshole.\n",
            "word bourg num_sent 8\n",
            "390\n",
            "word cutter num_sent 8\n",
            "400\n",
            "word ssian num_sent 8\n",
            "410\n",
            "word nig num_sent 100\n",
            "420\n",
            "430\n",
            "440\n",
            "450\n",
            "460\n",
            "470\n",
            "480\n",
            "490\n",
            "500\n",
            "510\n",
            "word shit num_sent 100\n",
            "PROBLEM!\n",
            "decisive, idgaf, ignoring the words of shit tests, and being mysterious spin her hamster wheel while seeking her input, catering to her desires, and always being available lead to fear and servant status.\n",
            "PROBLEM!\n",
            "those that made the cut include the anthemic single “don’t take that shit from anyone,” the brassy and brash “point of no return,” and two songs about tina fey (three others didn’t make the cut).\n",
            "PROBLEM!\n",
            "how delightful to find some unknown reader commenting in pencil on a victorian love poem: “shit,” or coming across this inscription in a beautiful edition of one of the french classics:\n",
            "PROBLEM!\n",
            "he titled it \"beautiful who'd have thought my guts would spill so gracefully\", though \"mommy, look what my teacher helped me shit out in art class today!\"\n",
            "PROBLEM!\n",
            "the posts came in on our facebook page, and we decided, “you can’t make this shit up,” so we let you, the longboard community and the people, share your ideas, but then, we decided to bring your words to the streets of new york.\n",
            "PROBLEM!\n",
            "you've seen the onion’s hopeful headline, ‘nation’s dogs vow to keep their shit together during 4th of july fireworks.’\n",
            "PROBLEM!\n",
            "the jews were camped at shittim and the people started fooling around with the moabite girls\n",
            "PROBLEM!\n",
            "their new ep noise in your head is a well-balanced meal of good tunes, serving up a song like \"the shitt\" comes barreling out from the start, screaming and jumping all the way.\n",
            "PROBLEM!\n",
            "secret-diary-of-an-fa: steverson-horse-and-phone: pretentiousfuckwads: secret diary of a fat admirer: my fuck-you revenge post against anonymouslayabout (shit, i enjoyed this) anonymouslayabout: so i have a policy of being very open with my followers when i have failed.\n",
            "PROBLEM!\n",
            "needless to say that if we find there is truth to this story, and they do not expeditiously cooperate in correcting the problem, fucking their shit up will ensue on a scale that will make the university of toronto breathe a sigh of relief.\n",
            "PROBLEM!\n",
            "sdsu students hold a “shit in” to advocate for gender neutral bathrooms\n",
            "PROBLEM!\n",
            "i can’t live up to the hilarity of my colleague’s “anyone can legally say ‘eat shit, bob’” blog, but i can promise good news.\n",
            "PROBLEM!\n",
            "i was first exposed to white people shit through her family, and i had my first jarring experience with it because of them.\n",
            "PROBLEM!\n",
            "on friday, i wrote a post about bernie sanders telling a crowd in arizona that the washington redskins were a “very good football team” entitled “this is the most wrong-ass shit bernie sanders has ever said.”\n",
            "PROBLEM!\n",
            "shit changes: turns in the rotation don’t line up, batters get hot or cold, dudes go on or come off the disabled list, and so forth.\n",
            "PROBLEM!\n",
            "how sustainable can cities be when they can't even deal with their own shit?\n",
            "PROBLEM!\n",
            "members of shit & shine, butthole surfers and marriage come together for one of the noisiest records you'll hear this year\n",
            "PROBLEM!\n",
            "and for anyone thinking, “this sounds like crap, who cares?”, you clearly haven’t heard a one-bit square wave on a soundsystem. shit destroys. instant haircut! shears those follicles right off. get busy here.\n",
            "PROBLEM!\n",
            "when i first wrote a bio for this site i called myself a sahm—a stay at home mom, or, shit ass ho motherfucker.\n",
            "PROBLEM!\n",
            "“shit, nobody drink that, it’s piss,” said a flustered ravasi, moments after discovering he had transubstantiated the brimming contents of a eucharist goblet into the holy messiah’s urine in front of more than 100 cardinals.\n",
            "PROBLEM!\n",
            "before shit my dad says became a household name, the hilariously frank and outrageously funny tweets stood on their own.\n",
            "PROBLEM!\n",
            "\"advertising shits in your head concisely describes, through unique first-hand accounts, the range of concerns adressed by today's subvertising community.\n",
            "PROBLEM!\n",
            "evil' and arranging for a staff member to dress up in a squirrel costume and deliver the message 'eat shit, bob!'\n",
            "PROBLEM!\n",
            "so, in honour of international women’s day, here is a non-exhaustive list of shit white feminists need to stop doing:\n",
            "PROBLEM!\n",
            "anything stereotypically ufo-like in the history of nasa inventions has been shat on and cooked alive by the underside exhaust flames of nasa's latest \"shit, is that a real ufo?\"\n",
            "PROBLEM!\n",
            "top ufc welterweight, matt brown put his foot in his mouth recently while debuting as a podcast host on his new show called real man shit.\n",
            "PROBLEM!\n",
            "shit, was a papua new guinean businessman and former celebrated political aspirant.[\n",
            "PROBLEM!\n",
            "america the shitlib feminist shrike has effectively neutered white men, and unmasked them for romantically unappealing doormats to single white women.\n",
            "PROBLEM!\n",
            "last month, i ordered a quart of elephant poop online from shitsenders.com, a gag site that specializes in the anonymous mail delivery of three varities of poop: cow dung, gorilla shit, and elephant crap.\n",
            "PROBLEM!\n",
            "you are now leaving the highway and entering the \"shitpost about women\" zone.\n",
            "PROBLEM!\n",
            "the vignettes were spotted by one londoner and uploaded to the shit london facebook page, where they were immediately branded \"sick,\" \"offensive\" and \"vile.\"\n",
            "PROBLEM!\n",
            "shit i bought welcome to shit i bought, a column where we recap the life-changing beauty and fashion purchases of various staffers—and also just stuff we bought on a whim.\n",
            "PROBLEM!\n",
            "shit i bought welcome to shit i bought, a column where we recap the life-changing beauty and fashion purchases of various staffers—and also just stuff we bought on a whim.\n",
            "PROBLEM!\n",
            "shit, they got the dumplings and fried rolls, cold noodle and bok choy salads, fish and meat cooked and uncooked, cooks ready to cook for you, tempura milieu, ice cream, a bar of baked goods, sake, crab legs, shrimp, etc, etc.\n",
            "PROBLEM!\n",
            "another called me the king of crap, the prince of poo and the sultan of shit,\" he explained.\n",
            "PROBLEM!\n",
            "imagine if the “global day of prayer” and the “world day of prayer” were replaced with the “global day of actually doing shit” and the “world day of actually doing shit.”\n",
            "PROBLEM!\n",
            "imagine if the “global day of prayer” and the “world day of prayer” were replaced with the “global day of actually doing shit” and the “world day of actually doing shit.”\n",
            "PROBLEM!\n",
            "he recently released his video series shit bitcoin fanatics say.\n",
            "PROBLEM!\n",
            "then there was comedian patton oswalt, who launched this tweet upon hearing the news that palin was endorsing trump: “breaking: who-gives-a-shit alaskan grifter endorses won't-win turd clown for president”\n",
            "PROBLEM!\n",
            "shit, kermanshah, a village in kermanshah province, iran, also known as shit-e kamarzard\n",
            "PROBLEM!\n",
            "shit, kermanshah, a village in kermanshah province, iran, also known as shit-e kamarzard\n",
            "PROBLEM!\n",
            "shit canned is a beer shotgun kit that turns any standard beer can into a gravity pipe / waterfall pipe.\n",
            "PROBLEM!\n",
            "shit ass the cat lived at jacob’s house(you know which jacob i’m talking about).\n",
            "PROBLEM!\n",
            "orange is the new black s2 e10 \"little mustachioed shit\" is about:\n",
            "PROBLEM!\n",
            "as scaramucci once told new york magazine, “my middle name could be shit-stirrer, except then my initials on my shirt would be a.s.s., and i can’t have that.”\n",
            "PROBLEM!\n",
            "i think after this mixtape [ ignorant shit ] and the vibes that i caught with this, i kinda want to start over again.\n",
            "PROBLEM!\n",
            "shit, anything that will zap your brains with some endorphins is big with musicians.”\n",
            "PROBLEM!\n",
            "watch the video below via pit full of shit, and just imagine what a great sleep red shirt dude probably gets at night when there isn’t an extremely loud metal band playing right behind him.\n",
            "PROBLEM!\n",
            "shit sandwiches are on the menu today at rupert murdoch's news empire, but if you're dumb enough to leak something to it, you've really earned yours.\n",
            "PROBLEM!\n",
            "a timeline of bernie sanders foreshadowing the future american trashfire like he’s fucking doc brown or some shit\n",
            "PROBLEM!\n",
            "shit, the crazy irony to me about this whole thing is that in another time and place george zimmerman himself could be the “suspicious” brown man in a neighborhood in which “he does not belong.”\n",
            "PROBLEM!\n",
            "soylent dick was erected by nicole he, katherine pan, and chino kim during the stupid shit no one needs & terrible ideas hackathon on february 6th, 2016.\n",
            "PROBLEM!\n",
            "jon stewart rips john mccain for hypocrisy: 'you do not get to pull this shit' (video)\n",
            "PROBLEM!\n",
            "if you're working for wages, brothers and sisters, he couldn't give shit one about you. — stephen king (@stephenking) september 28, 2017\n",
            "PROBLEM!\n",
            "and that reason is still just as true today as it was 17 years ago: perl is the language that gets shit done.\n",
            "PROBLEM!\n",
            "shit, here’s a perfect teaser in which the hand of kayako comes out of the infamous well belonging to sadako.\n",
            "PROBLEM!\n",
            "shit, they have israel now - just ship them there & let them fight with the muslims for more land.\n",
            "PROBLEM!\n",
            "this revelation is surprising given how personal doris is and how many of the same issues carry over to i don’t like shit.\n",
            "PROBLEM!\n",
            "these tricks won't turn you into andy bolton over night, but they could, to steal a line from dave tate, take you from \"shit to suck\" – which is still pretty good.\n",
            "PROBLEM!\n",
            "the entire state of alabama lost its governor and took another hit to its already-tattered reputation in the same month a hit podcast named one of its municipalities “shit town.”\n",
            "PROBLEM!\n",
            "apple relents and approves \"eucalyptus\" iphone app, despite all the freaky sex shit\n",
            "PROBLEM!\n",
            "the new channel, to be based in glasgow, will feature programmes including shit off in the toss attic and bollocks under the fucking hammer wank.\n",
            "PROBLEM!\n",
            "you know: really honor the birth of christ and all that by sacking the holy shit out of the holy city.\n",
            "PROBLEM!\n",
            "evil’ and arranging for a staff member to dress up in a squirrel costume and deliver the message ‘eat shit, bob!’\n",
            "PROBLEM!\n",
            "shit, i suppose marc okubo could even try multi-tasking with some vox (probably not the case).\n",
            "PROBLEM!\n",
            "last year i went 3-1 with nfc east win totals using a simple strategy: shit on all the teams except the eagles.\n",
            "PROBLEM!\n",
            "a year and a half after doris and an f-rated roll-out later, earl sweatshirt released i don’t like shit, i don’t go outside on monday.\n",
            "PROBLEM!\n",
            "i tried these recipes from the anarchist cookbook and they tasted like shit\n",
            "PROBLEM!\n",
            "2. bar scene one: tucker max has a way with women and dudes better not give him any shit bro:\n",
            "PROBLEM!\n",
            "the first known video on this particular channel was uploaded in 2011, and was titled ‘filthy shit.’\n",
            "PROBLEM!\n",
            "shit brook (also called shyte brook)[1] is a culverted small stream in much wenlock, shropshire, england.[\n",
            "PROBLEM!\n",
            "shit went down at sxsw with mark zuckerberg and sarah lacy in 2008.\n",
            "PROBLEM!\n",
            "after he was injected with the drugs, lockett raised himself on the gurney and said, “shit is fucking with me.”\n",
            "PROBLEM!\n",
            "i'm a piece of shit follows 2015's who's gonna get fucked first?\n",
            "PROBLEM!\n",
            "dudebro — my shit is fucked up so i got to shoot/slice you ii: it's straight-up dawg time, commonly shortened as dudebro ii, is a 2d sidescrolling shooting/slicing action game under development by members of the neogaf community.[\n",
            "PROBLEM!\n",
            "the orange piece of shit looked like everyone's drunk senile old uncle singing the anthem at arlington.\n",
            "PROBLEM!\n",
            "check out this gamer exploding in fury at the rumor that google — \"the king midas of shit!\" — might buy the hugely popular streaming gamer site twitch tv.\n",
            "PROBLEM!\n",
            "from mitt romney's robotic pandering to newt's condescending paternalism to rick santorum's thinly veiled references to black women as out of control unmarried sex machines, there's a lot of shit being said.\n",
            "PROBLEM!\n",
            "sounds: this week’s music comes from listener froid and his band oh shit.\n",
            "PROBLEM!\n",
            "take this short film called eat my shit, directed by eduardo casanova and featured in the jameson notodo filmfest in spain, about a girl whose very face is censored from social media because it is so taboo and bizarre.\n",
            "PROBLEM!\n",
            "\"shit\" (song), the third single from the album honest by american rapper future\n",
            "PROBLEM!\n",
            "shit, maybe that’s relevant to my fear of making mistakes, too.)\n",
            "PROBLEM!\n",
            "over the last few years, the city has seen more and more human waste crowding its sidewalks, so much so that one medium writer dubbed the city “shitty san francisco.”\n",
            "PROBLEM!\n",
            "shit my students write is a place for decontextualized (and hilariously misguided) attempts at intellectual insight.\n",
            "PROBLEM!\n",
            "but what no one knew was that shit ass the cat was a magical cat.\n",
            "PROBLEM!\n",
            "“evolutionary psychology” is a load of fucking shit february 18, 2009\n",
            "PROBLEM!\n",
            "touring phnom penh's 'shit canal' by drone from citylab by thomas cristofoletti / ruom on vimeo.\n",
            "PROBLEM!\n",
            "i’ve scaled buildings to find useless eagle feathers in assassin’s creed ii, and i’ve endeavored to avoid covering myself with feces in don’t shit your pants.\n",
            "PROBLEM!\n",
            "shit just got too real and this alleged mma fan on twitter is making every other fan look bad.\n",
            "PROBLEM!\n",
            "i'm afraid to listen to parts of it now, because it is, like, ‘shit, i've got to stop.\n",
            "PROBLEM!\n",
            "shit, if you are serious at all about getting fit, they don’t want your money.\n",
            "PROBLEM!\n",
            "shit has hit the fan at ultimate velocity and the fan is on full speed.\n",
            "PROBLEM!\n",
            "“we hope that by lowering hydro bills to the holy shit level, our re-election prospects will rise from a snowball’s chance in hell, to not fucking likely,” stated premier wynne at a news conference.\n",
            "PROBLEM!\n",
            "shit got extremely real on the doug and wolf arizona sports radio show this morning.\n",
            "PROBLEM!\n",
            "shit, truth be told, living single’s whole look got snatched by white media to make friends, amiright?\n",
            "PROBLEM!\n",
            "a thought occurred while listening to dr dre’s landmark album the chronic, which starts out like the most fantastic party but somehow devolves into a grim trudge towards the reprehensible final track bitches ain’t shit.\n",
            "PROBLEM!\n",
            "so, in honour of international women's day, here is a non-exhaustive list of shit white feminists need to stop doing:\n",
            "PROBLEM!\n",
            "fuck this is why you’re fat and shit my dad says and texts from last night and dealbreakers… let’s talk about someone giving me a book deal for my sad, pathetic memoirs entitled “some fucking bullshit ass online dating shit: a book” to be created from http://blog.kiamatthews.com/tagged/online_dating\n",
            "PROBLEM!\n",
            "fuck this is why you’re fat and shit my dad says and texts from last night and dealbreakers… let’s talk about someone giving me a book deal for my sad, pathetic memoirs entitled “some fucking bullshit ass online dating shit: a book” to be created from http://blog.kiamatthews.com/tagged/online_dating\n",
            "PROBLEM!\n",
            "raging bull-shit is his modest attempt to scrub away the lathers of soft soap peddled by political and business leaders and their loyal mainstream media.\n",
            "word oplasty num_sent 7\n",
            "word actually num_sent 7\n",
            "PROBLEM!\n",
            "…actually, people have called us racist, sexist, anti-semitic, fascist, ageist, homophobic, self-loathing, glenn beck supporters, coasties and other negative words people commonly mistake with communism.\n",
            "PROBLEM!\n",
            "“actually, i was only kidding, you can get that fucking baby out of here, pronto,” he said moments later.\n",
            "PROBLEM!\n",
            "lean forward, sweating like a giant asshole, wink, and say, “actually, all spicy food is from the west.\n",
            "PROBLEM!\n",
            "remember that time your uncle said that fucked-up stuff about “illegal” mexican immigrants and you were all, “actually, uncle, california ismexico, so you need to read your history cuz that’s hella racist!”\n",
            "PROBLEM!\n",
            "\"actually one type of pornography was associated with higher rates of condom use -- men who viewed more pornography containing condom use engaged in fewer condomless anal sex encounters.\n",
            "PROBLEM!\n",
            "(actually i positively recommend wordfiltering ‘fuck’ to 'rumpy pumpy’, i feel it will make your entire internet experience measurably more hilarious.)\n",
            "PROBLEM!\n",
            "“actually we’re gonna give you a short trial before we hang your nigger ass.”\n",
            "word ggi num_sent 6\n",
            "520\n",
            "word alli num_sent 6\n",
            "PROBLEM!\n",
            "<rane_livinstahk> can't really be that mad <yaolan> zarvox is cool wtf <perseus_kallistratos> be toxic <perseus_kallistratos> be <perseus_kallistratos> toxic <krios42> fuck you <yaolan> fuck you <ramand> personal army go!\n",
            "PROBLEM!\n",
            "<rane_livinstahk> can't really be that mad <yaolan> zarvox is cool wtf <perseus_kallistratos> be toxic <perseus_kallistratos> be <perseus_kallistratos> toxic <krios42> fuck you <yaolan> fuck you <ramand> personal army go!\n",
            "PROBLEM!\n",
            "<rane_livinstahk> can't really be that mad <yaolan> zarvox is cool wtf <perseus_kallistratos> be toxic <perseus_kallistratos> be <perseus_kallistratos> toxic <krios42> fuck you <yaolan> fuck you <ramand> personal army go!\n",
            "528\n"
          ],
          "name": "stdout"
        }
      ]
    },
    {
      "cell_type": "code",
      "metadata": {
        "id": "zt6NSgw8OQMA",
        "outputId": "010f2518-7419-4e51-98ba-9eb494fa1101",
        "colab": {
          "base_uri": "https://localhost:8080/",
          "height": 877
        }
      },
      "source": [
        "ev = [e/count*100 for e in ev]\n",
        "ev1 = ev\n",
        "\n",
        "first_pcs = [f[0] for f in ev1]\n",
        "print('First PCs', first_pcs)\n",
        "plotVariance(first_pcs, title='Debiased XLNet - First PC contributions')\n",
        "\n",
        "second_pcs = [f[1] for f in ev1]\n",
        "print('Second PCs', second_pcs)\n",
        "plotVariance(second_pcs, title='Debiased XLNet - Second PC contributions')\n",
        "\n",
        "third_pcs = [f[2] for f in ev1]\n",
        "print('Third PCs', third_pcs)\n",
        "plotVariance(third_pcs, title='Debiased XLNet - Third PC contributions')"
      ],
      "execution_count": 92,
      "outputs": [
        {
          "output_type": "stream",
          "text": [
            "First PCs [100.0, 13.6851, 4.9145465, 3.3007185, 4.407901, 8.538939, 3.2882466, 8.104864, 8.077431, 11.225111, 26.054054, 45.78858, 60.615498]\n"
          ],
          "name": "stdout"
        },
        {
          "output_type": "display_data",
          "data": {
            "image/png": "[encoded data removed]",
            "text/plain": [
              "<Figure size 432x288 with 1 Axes>"
            ]
          },
          "metadata": {
            "tags": [],
            "needs_background": "light"
          }
        },
        {
          "output_type": "stream",
          "text": [
            "Second PCs [3.8494942e-13, 3.8045845, 2.6910374, 1.898405, 2.6809204, 4.694309, 2.1553912, 4.0532956, 2.5520136, 3.2662983, 3.6650686, 3.8357391, 2.6611526]\n"
          ],
          "name": "stdout"
        },
        {
          "output_type": "display_data",
          "data": {
            "image/png": "[encoded data removed]",
            "text/plain": [
              "<Figure size 432x288 with 1 Axes>"
            ]
          },
          "metadata": {
            "tags": [],
            "needs_background": "light"
          }
        },
        {
          "output_type": "stream",
          "text": [
            "Third PCs [3.5527137e-13, 1.2484424, 2.1247184, 1.659945, 2.1662836, 3.1667411, 1.8365303, 2.4700315, 1.9003289, 2.2703848, 2.1750402, 1.894578, 1.7393897]\n"
          ],
          "name": "stdout"
        },
        {
          "output_type": "display_data",
          "data": {
            "image/png": "[encoded data removed]",
            "text/plain": [
              "<Figure size 432x288 with 1 Axes>"
            ]
          },
          "metadata": {
            "tags": [],
            "needs_background": "light"
          }
        },
        {
          "output_type": "display_data",
          "data": {
            "text/plain": [
              "<Figure size 432x288 with 0 Axes>"
            ]
          },
          "metadata": {
            "tags": []
          }
        }
      ]
    },
    {
      "cell_type": "markdown",
      "metadata": {
        "id": "gHJpMDGBgAAc"
      },
      "source": [
        "**Normal XLNet**"
      ]
    },
    {
      "cell_type": "code",
      "metadata": {
        "id": "STSyuXNiOQlm",
        "outputId": "b31b3959-66c0-44ef-d188-2519ae878ca9",
        "colab": {
          "base_uri": "https://localhost:8080/"
        }
      },
      "source": [
        "\n",
        "toxic_words = ht['Word'][:num_words]\n",
        "ev = [0]*13\n",
        "count = 0\n",
        "# find toxic words and their sentences\n",
        "for word in toxic_words:\n",
        "  \n",
        "  sents = wsentTox[word][:num_sents]\n",
        "  print('word', word, 'num_sent', len(sents))\n",
        "  sflag = False\n",
        "  for sent in sents:\n",
        "    if count % 10 == 0: print(count)\n",
        "    # encoded_text = tokenizer(sent)\n",
        "    encoded_text = tokenizer.encode_plus(\n",
        "        sent, add_special_tokens=True, truncation=True,\n",
        "        max_length=256, padding='max_length',\n",
        "        return_attention_mask=True,\n",
        "        return_tensors='pt')\n",
        "    tox, attn_masks = encoded_text['input_ids'], encoded_text['attention_mask']\n",
        "    ntox = tox.clone()\n",
        "    tokens = list([tokenizer.convert_ids_to_tokens(i) for i in ntox][0])\n",
        "    tokens = [tok[1:] if tok[0] == '_' else tok for tok in tokens]\n",
        "    try:\n",
        "      idx = tokens.index(word)\n",
        "    except:\n",
        "      print('PROBLEM!')\n",
        "      # print(tokens)\n",
        "      print(sent)\n",
        "      continue\n",
        "      # sflag = True\n",
        "      # break\n",
        "\n",
        "    ntox[0][idx] = 0\n",
        "\n",
        "    encoded_T = {\n",
        "        \"input_ids\": tox,\n",
        "        \"attention_mask\": attn_masks\n",
        "    }\n",
        "    encoded_NT = {\n",
        "        \"input_ids\": ntox,\n",
        "        \"attention_mask\": attn_masks\n",
        "    }\n",
        "    principal_components, exp_variance = run_xlnet_algorithm(encoded_T, encoded_NT, layerXlnet, debias=False)\n",
        "\n",
        "    for i in range(13):\n",
        "      ev[i] += exp_variance[i]\n",
        "    count += 1\n",
        "\n",
        "  if sflag:\n",
        "    break\n",
        "print(count)\n",
        "# print('ev[0]', ev[0])\n",
        "# todo: Use BERTForSentenceClassification then check the classifier hidden output\n",
        "\n",
        "# a = num_sent x 768\n",
        "# b = 2 x 768 PCs\n",
        "# inner = a . bT -> num_sent x 2\n",
        "# inner . b -> num_sent x 768\n",
        "\n",
        "\n"
      ],
      "execution_count": 93,
      "outputs": [
        {
          "output_type": "stream",
          "text": [
            "word fuck num_sent 100\n",
            "0\n",
            "PROBLEM!\n",
            "“removing anonymity may make some youtube commentors (often held up as one of the most trustworthy examples of the internet fuckwad theory at work) think twice about spewing bilious nonsense all over youtube videos,” youtuber jim younkin wrote.\n",
            "PROBLEM!\n",
            "v6: ride the lightning at pawtuckaway, 21 votes, fuck the method at pawtuckaway, 5 votes\n",
            "PROBLEM!\n",
            "i wasn’t a fan of the south park movie (139 fucks), i thought jay and silent bob was pretty middle of the road (248 fucks)…it just isn’t a major selling point for me.\n",
            "PROBLEM!\n",
            "i wasn’t a fan of the south park movie (139 fucks), i thought jay and silent bob was pretty middle of the road (248 fucks)…it just isn’t a major selling point for me.\n",
            "PROBLEM!\n",
            "on their collaborative new album who the fuck is chris spencer??, underground chicago rappers vic spencer and chris crack appear wholly ignorant of all recent trends, as if they've emerged untouched from a late-'90s time capsule.\n",
            "PROBLEM!\n",
            "the latest to capture the imagination was the humble coconut, which was the center of user coconutthrowaway69’s story in the collection of embarrassing personal stories that comprise the today i fucked up forum.\n",
            "PROBLEM!\n",
            "last month we received a bumper postbag for the first in our occasional series on living well for less, live like a king on fuck all, and so we return to the subject in this post, incorporating some of your thoughts on the subject.\n",
            "10\n",
            "PROBLEM!\n",
            "the hashtag used by the professor in his first post appeared to be connected to a medium.com article entitled “let them fucking die” that he shared on facebook two days before.\n",
            "PROBLEM!\n",
            "audio 20 mf us cuties lindsey cruz & veronica valentine fucking live feb 26 5pm\n",
            "PROBLEM!\n",
            "police removed several works from an exhibition by artist paul yore called everything's fucked which allegedly features images of sexual acts with children's faced superimposed.\n",
            "PROBLEM!\n",
            "he’d lost grove press to bad business decisions (one of his nicknames was \"the worst, most fucked up businessman in america\"), had married five times—he’d grown old.\n",
            "PROBLEM!\n",
            "both the local authorities in fucking [2] and the european union's trade marks and designs registration office initially objected to the name.\n",
            "PROBLEM!\n",
            "after a drink or two, or maybe even bottle of water, you wonder, “which of these cute girls is dtf (down to fuck) tonight?”\n",
            "20\n",
            "PROBLEM!\n",
            "legendaryactivity: 1302merit: 1002core dev leaves me neg feedback #abuse #political re: fuck: segwit, ln, blockstream, core, adam back, and gmazwell march 25, 2017, 04:48:38 pm\n",
            "PROBLEM!\n",
            "at least they are according to an instagram post from …and you will know us by our really fucking long band name bassist autry fulbright.\n",
            "30\n",
            "PROBLEM!\n",
            "but it's his work with gonzales on his record ivory tower and his stellar production on spank rock's everything is boring and everyone is a fucking liar that perfectly showcases his versatility and talent across the musical spectrum.\n",
            "PROBLEM!\n",
            "fucking tyler (if he even exists, which i'm starting to doubt) is the worst kind of mmqb - the know-it-all wannabe warrior.\n",
            "40\n",
            "PROBLEM!\n",
            "the good, the bad, and the fucking nuts here are the bills that we hope will pass in olympia this year, the bills that we hope will die, and the bills that make us worry about the sanity of our lawmakers.\n",
            "40\n",
            "PROBLEM!\n",
            "i've noticed a trend in recent online editorial writing that disturbs me: the trend of the \"it's okay that i'm a fuck-up\" essay.\n",
            "40\n",
            "PROBLEM!\n",
            "gallery from: feed her fuck her\n",
            "40\n",
            "50\n",
            "PROBLEM!\n",
            "needless to say that if we find there is truth to this story, and they do not expeditiously cooperate in correcting the problem, fucking their shit up will ensue on a scale that will make the university of toronto breathe a sigh of relief.\n",
            "PROBLEM!\n",
            "fucking you tonight gabrielle georgia on my mind get a little taste of you gimme some lovin' girl give up the funk (tear the roof off the...\n",
            "PROBLEM!\n",
            "mcmorris rodgers watch: why you should give a fuck about the eastern wa republican holding a fundraiser in bellevue tonight\n",
            "PROBLEM!\n",
            "fucking, austria hell, norway two examples of unusual place names unusual place names are names for cities, towns, and other regions which are considered non-ordinary in some manner.\n",
            "PROBLEM!\n",
            "molko and the ‘god of fuck’ became friends in the ’90s when they both enjoyed a rapid rise to fame.\n",
            "60\n",
            "70\n",
            "PROBLEM!\n",
            "when i am fired as the editor of cracked and run out of ideas for penis-based horror novels, i want to write this up as a self-help book, probably titled fuck the karate kid: why life is so much harder than we think, by dr.\n",
            "PROBLEM!\n",
            "“huge congrats to russell westbrook on mvp, that boy went out there and was a created player on 2k all year, fuckin balled out.\n",
            "word ussy num_sent 100\n",
            "80\n",
            "90\n",
            "100\n",
            "110\n",
            "120\n",
            "130\n",
            "140\n",
            "150\n",
            "160\n",
            "170\n",
            "word dick num_sent 100\n",
            "180\n",
            "190\n",
            "200\n",
            "210\n",
            "220\n",
            "230\n",
            "240\n",
            "250\n",
            "260\n",
            "270\n",
            "word hole num_sent 100\n",
            "280\n",
            "290\n",
            "300\n",
            "310\n",
            "320\n",
            "330\n",
            "340\n",
            "350\n",
            "360\n",
            "370\n",
            "word aca num_sent 9\n",
            "PROBLEM!\n",
            "“i shot and killed donald trump purposely, intentionally and very proudly,” barkley said at the hearing, according to the ithaca voice.\n",
            "PROBLEM!\n",
            "and those dicks will be on their best behaviour if there is a chance i am actually a woman in real life, and not what the movie gattaca might call “a borrowed ladder.”\n",
            "word ndi num_sent 9\n",
            "380\n",
            "PROBLEM!\n",
            "martin luther king jr. cheated on his wife, ghandi had a thing for little girls and hated black africans, and mother teresa, despite being the go-to metaphor for goodness, was a complete asshole.\n",
            "word bourg num_sent 8\n",
            "390\n",
            "word cutter num_sent 8\n",
            "400\n",
            "word ssian num_sent 8\n",
            "410\n",
            "word nig num_sent 100\n",
            "420\n",
            "430\n",
            "440\n",
            "450\n",
            "460\n",
            "470\n",
            "480\n",
            "490\n",
            "500\n",
            "510\n",
            "word shit num_sent 100\n",
            "PROBLEM!\n",
            "decisive, idgaf, ignoring the words of shit tests, and being mysterious spin her hamster wheel while seeking her input, catering to her desires, and always being available lead to fear and servant status.\n",
            "PROBLEM!\n",
            "those that made the cut include the anthemic single “don’t take that shit from anyone,” the brassy and brash “point of no return,” and two songs about tina fey (three others didn’t make the cut).\n",
            "PROBLEM!\n",
            "how delightful to find some unknown reader commenting in pencil on a victorian love poem: “shit,” or coming across this inscription in a beautiful edition of one of the french classics:\n",
            "PROBLEM!\n",
            "he titled it \"beautiful who'd have thought my guts would spill so gracefully\", though \"mommy, look what my teacher helped me shit out in art class today!\"\n",
            "PROBLEM!\n",
            "the posts came in on our facebook page, and we decided, “you can’t make this shit up,” so we let you, the longboard community and the people, share your ideas, but then, we decided to bring your words to the streets of new york.\n",
            "PROBLEM!\n",
            "you've seen the onion’s hopeful headline, ‘nation’s dogs vow to keep their shit together during 4th of july fireworks.’\n",
            "PROBLEM!\n",
            "the jews were camped at shittim and the people started fooling around with the moabite girls\n",
            "PROBLEM!\n",
            "their new ep noise in your head is a well-balanced meal of good tunes, serving up a song like \"the shitt\" comes barreling out from the start, screaming and jumping all the way.\n",
            "PROBLEM!\n",
            "secret-diary-of-an-fa: steverson-horse-and-phone: pretentiousfuckwads: secret diary of a fat admirer: my fuck-you revenge post against anonymouslayabout (shit, i enjoyed this) anonymouslayabout: so i have a policy of being very open with my followers when i have failed.\n",
            "PROBLEM!\n",
            "needless to say that if we find there is truth to this story, and they do not expeditiously cooperate in correcting the problem, fucking their shit up will ensue on a scale that will make the university of toronto breathe a sigh of relief.\n",
            "PROBLEM!\n",
            "sdsu students hold a “shit in” to advocate for gender neutral bathrooms\n",
            "PROBLEM!\n",
            "i can’t live up to the hilarity of my colleague’s “anyone can legally say ‘eat shit, bob’” blog, but i can promise good news.\n",
            "PROBLEM!\n",
            "i was first exposed to white people shit through her family, and i had my first jarring experience with it because of them.\n",
            "PROBLEM!\n",
            "on friday, i wrote a post about bernie sanders telling a crowd in arizona that the washington redskins were a “very good football team” entitled “this is the most wrong-ass shit bernie sanders has ever said.”\n",
            "PROBLEM!\n",
            "shit changes: turns in the rotation don’t line up, batters get hot or cold, dudes go on or come off the disabled list, and so forth.\n",
            "PROBLEM!\n",
            "how sustainable can cities be when they can't even deal with their own shit?\n",
            "PROBLEM!\n",
            "members of shit & shine, butthole surfers and marriage come together for one of the noisiest records you'll hear this year\n",
            "PROBLEM!\n",
            "and for anyone thinking, “this sounds like crap, who cares?”, you clearly haven’t heard a one-bit square wave on a soundsystem. shit destroys. instant haircut! shears those follicles right off. get busy here.\n",
            "PROBLEM!\n",
            "when i first wrote a bio for this site i called myself a sahm—a stay at home mom, or, shit ass ho motherfucker.\n",
            "PROBLEM!\n",
            "“shit, nobody drink that, it’s piss,” said a flustered ravasi, moments after discovering he had transubstantiated the brimming contents of a eucharist goblet into the holy messiah’s urine in front of more than 100 cardinals.\n",
            "PROBLEM!\n",
            "before shit my dad says became a household name, the hilariously frank and outrageously funny tweets stood on their own.\n",
            "PROBLEM!\n",
            "\"advertising shits in your head concisely describes, through unique first-hand accounts, the range of concerns adressed by today's subvertising community.\n",
            "PROBLEM!\n",
            "evil' and arranging for a staff member to dress up in a squirrel costume and deliver the message 'eat shit, bob!'\n",
            "PROBLEM!\n",
            "so, in honour of international women’s day, here is a non-exhaustive list of shit white feminists need to stop doing:\n",
            "PROBLEM!\n",
            "anything stereotypically ufo-like in the history of nasa inventions has been shat on and cooked alive by the underside exhaust flames of nasa's latest \"shit, is that a real ufo?\"\n",
            "PROBLEM!\n",
            "top ufc welterweight, matt brown put his foot in his mouth recently while debuting as a podcast host on his new show called real man shit.\n",
            "PROBLEM!\n",
            "shit, was a papua new guinean businessman and former celebrated political aspirant.[\n",
            "PROBLEM!\n",
            "america the shitlib feminist shrike has effectively neutered white men, and unmasked them for romantically unappealing doormats to single white women.\n",
            "PROBLEM!\n",
            "last month, i ordered a quart of elephant poop online from shitsenders.com, a gag site that specializes in the anonymous mail delivery of three varities of poop: cow dung, gorilla shit, and elephant crap.\n",
            "PROBLEM!\n",
            "you are now leaving the highway and entering the \"shitpost about women\" zone.\n",
            "PROBLEM!\n",
            "the vignettes were spotted by one londoner and uploaded to the shit london facebook page, where they were immediately branded \"sick,\" \"offensive\" and \"vile.\"\n",
            "PROBLEM!\n",
            "shit i bought welcome to shit i bought, a column where we recap the life-changing beauty and fashion purchases of various staffers—and also just stuff we bought on a whim.\n",
            "PROBLEM!\n",
            "shit i bought welcome to shit i bought, a column where we recap the life-changing beauty and fashion purchases of various staffers—and also just stuff we bought on a whim.\n",
            "PROBLEM!\n",
            "shit, they got the dumplings and fried rolls, cold noodle and bok choy salads, fish and meat cooked and uncooked, cooks ready to cook for you, tempura milieu, ice cream, a bar of baked goods, sake, crab legs, shrimp, etc, etc.\n",
            "PROBLEM!\n",
            "another called me the king of crap, the prince of poo and the sultan of shit,\" he explained.\n",
            "PROBLEM!\n",
            "imagine if the “global day of prayer” and the “world day of prayer” were replaced with the “global day of actually doing shit” and the “world day of actually doing shit.”\n",
            "PROBLEM!\n",
            "imagine if the “global day of prayer” and the “world day of prayer” were replaced with the “global day of actually doing shit” and the “world day of actually doing shit.”\n",
            "PROBLEM!\n",
            "he recently released his video series shit bitcoin fanatics say.\n",
            "PROBLEM!\n",
            "then there was comedian patton oswalt, who launched this tweet upon hearing the news that palin was endorsing trump: “breaking: who-gives-a-shit alaskan grifter endorses won't-win turd clown for president”\n",
            "PROBLEM!\n",
            "shit, kermanshah, a village in kermanshah province, iran, also known as shit-e kamarzard\n",
            "PROBLEM!\n",
            "shit, kermanshah, a village in kermanshah province, iran, also known as shit-e kamarzard\n",
            "PROBLEM!\n",
            "shit canned is a beer shotgun kit that turns any standard beer can into a gravity pipe / waterfall pipe.\n",
            "PROBLEM!\n",
            "shit ass the cat lived at jacob’s house(you know which jacob i’m talking about).\n",
            "PROBLEM!\n",
            "orange is the new black s2 e10 \"little mustachioed shit\" is about:\n",
            "PROBLEM!\n",
            "as scaramucci once told new york magazine, “my middle name could be shit-stirrer, except then my initials on my shirt would be a.s.s., and i can’t have that.”\n",
            "PROBLEM!\n",
            "i think after this mixtape [ ignorant shit ] and the vibes that i caught with this, i kinda want to start over again.\n",
            "PROBLEM!\n",
            "shit, anything that will zap your brains with some endorphins is big with musicians.”\n",
            "PROBLEM!\n",
            "watch the video below via pit full of shit, and just imagine what a great sleep red shirt dude probably gets at night when there isn’t an extremely loud metal band playing right behind him.\n",
            "PROBLEM!\n",
            "shit sandwiches are on the menu today at rupert murdoch's news empire, but if you're dumb enough to leak something to it, you've really earned yours.\n",
            "PROBLEM!\n",
            "a timeline of bernie sanders foreshadowing the future american trashfire like he’s fucking doc brown or some shit\n",
            "PROBLEM!\n",
            "shit, the crazy irony to me about this whole thing is that in another time and place george zimmerman himself could be the “suspicious” brown man in a neighborhood in which “he does not belong.”\n",
            "PROBLEM!\n",
            "soylent dick was erected by nicole he, katherine pan, and chino kim during the stupid shit no one needs & terrible ideas hackathon on february 6th, 2016.\n",
            "PROBLEM!\n",
            "jon stewart rips john mccain for hypocrisy: 'you do not get to pull this shit' (video)\n",
            "PROBLEM!\n",
            "if you're working for wages, brothers and sisters, he couldn't give shit one about you. — stephen king (@stephenking) september 28, 2017\n",
            "PROBLEM!\n",
            "and that reason is still just as true today as it was 17 years ago: perl is the language that gets shit done.\n",
            "PROBLEM!\n",
            "shit, here’s a perfect teaser in which the hand of kayako comes out of the infamous well belonging to sadako.\n",
            "PROBLEM!\n",
            "shit, they have israel now - just ship them there & let them fight with the muslims for more land.\n",
            "PROBLEM!\n",
            "this revelation is surprising given how personal doris is and how many of the same issues carry over to i don’t like shit.\n",
            "PROBLEM!\n",
            "these tricks won't turn you into andy bolton over night, but they could, to steal a line from dave tate, take you from \"shit to suck\" – which is still pretty good.\n",
            "PROBLEM!\n",
            "the entire state of alabama lost its governor and took another hit to its already-tattered reputation in the same month a hit podcast named one of its municipalities “shit town.”\n",
            "PROBLEM!\n",
            "apple relents and approves \"eucalyptus\" iphone app, despite all the freaky sex shit\n",
            "PROBLEM!\n",
            "the new channel, to be based in glasgow, will feature programmes including shit off in the toss attic and bollocks under the fucking hammer wank.\n",
            "PROBLEM!\n",
            "you know: really honor the birth of christ and all that by sacking the holy shit out of the holy city.\n",
            "PROBLEM!\n",
            "evil’ and arranging for a staff member to dress up in a squirrel costume and deliver the message ‘eat shit, bob!’\n",
            "PROBLEM!\n",
            "shit, i suppose marc okubo could even try multi-tasking with some vox (probably not the case).\n",
            "PROBLEM!\n",
            "last year i went 3-1 with nfc east win totals using a simple strategy: shit on all the teams except the eagles.\n",
            "PROBLEM!\n",
            "a year and a half after doris and an f-rated roll-out later, earl sweatshirt released i don’t like shit, i don’t go outside on monday.\n",
            "PROBLEM!\n",
            "i tried these recipes from the anarchist cookbook and they tasted like shit\n",
            "PROBLEM!\n",
            "2. bar scene one: tucker max has a way with women and dudes better not give him any shit bro:\n",
            "PROBLEM!\n",
            "the first known video on this particular channel was uploaded in 2011, and was titled ‘filthy shit.’\n",
            "PROBLEM!\n",
            "shit brook (also called shyte brook)[1] is a culverted small stream in much wenlock, shropshire, england.[\n",
            "PROBLEM!\n",
            "shit went down at sxsw with mark zuckerberg and sarah lacy in 2008.\n",
            "PROBLEM!\n",
            "after he was injected with the drugs, lockett raised himself on the gurney and said, “shit is fucking with me.”\n",
            "PROBLEM!\n",
            "i'm a piece of shit follows 2015's who's gonna get fucked first?\n",
            "PROBLEM!\n",
            "dudebro — my shit is fucked up so i got to shoot/slice you ii: it's straight-up dawg time, commonly shortened as dudebro ii, is a 2d sidescrolling shooting/slicing action game under development by members of the neogaf community.[\n",
            "PROBLEM!\n",
            "the orange piece of shit looked like everyone's drunk senile old uncle singing the anthem at arlington.\n",
            "PROBLEM!\n",
            "check out this gamer exploding in fury at the rumor that google — \"the king midas of shit!\" — might buy the hugely popular streaming gamer site twitch tv.\n",
            "PROBLEM!\n",
            "from mitt romney's robotic pandering to newt's condescending paternalism to rick santorum's thinly veiled references to black women as out of control unmarried sex machines, there's a lot of shit being said.\n",
            "PROBLEM!\n",
            "sounds: this week’s music comes from listener froid and his band oh shit.\n",
            "PROBLEM!\n",
            "take this short film called eat my shit, directed by eduardo casanova and featured in the jameson notodo filmfest in spain, about a girl whose very face is censored from social media because it is so taboo and bizarre.\n",
            "PROBLEM!\n",
            "\"shit\" (song), the third single from the album honest by american rapper future\n",
            "PROBLEM!\n",
            "shit, maybe that’s relevant to my fear of making mistakes, too.)\n",
            "PROBLEM!\n",
            "over the last few years, the city has seen more and more human waste crowding its sidewalks, so much so that one medium writer dubbed the city “shitty san francisco.”\n",
            "PROBLEM!\n",
            "shit my students write is a place for decontextualized (and hilariously misguided) attempts at intellectual insight.\n",
            "PROBLEM!\n",
            "but what no one knew was that shit ass the cat was a magical cat.\n",
            "PROBLEM!\n",
            "“evolutionary psychology” is a load of fucking shit february 18, 2009\n",
            "PROBLEM!\n",
            "touring phnom penh's 'shit canal' by drone from citylab by thomas cristofoletti / ruom on vimeo.\n",
            "PROBLEM!\n",
            "i’ve scaled buildings to find useless eagle feathers in assassin’s creed ii, and i’ve endeavored to avoid covering myself with feces in don’t shit your pants.\n",
            "PROBLEM!\n",
            "shit just got too real and this alleged mma fan on twitter is making every other fan look bad.\n",
            "PROBLEM!\n",
            "i'm afraid to listen to parts of it now, because it is, like, ‘shit, i've got to stop.\n",
            "PROBLEM!\n",
            "shit, if you are serious at all about getting fit, they don’t want your money.\n",
            "PROBLEM!\n",
            "shit has hit the fan at ultimate velocity and the fan is on full speed.\n",
            "PROBLEM!\n",
            "“we hope that by lowering hydro bills to the holy shit level, our re-election prospects will rise from a snowball’s chance in hell, to not fucking likely,” stated premier wynne at a news conference.\n",
            "PROBLEM!\n",
            "shit got extremely real on the doug and wolf arizona sports radio show this morning.\n",
            "PROBLEM!\n",
            "shit, truth be told, living single’s whole look got snatched by white media to make friends, amiright?\n",
            "PROBLEM!\n",
            "a thought occurred while listening to dr dre’s landmark album the chronic, which starts out like the most fantastic party but somehow devolves into a grim trudge towards the reprehensible final track bitches ain’t shit.\n",
            "PROBLEM!\n",
            "so, in honour of international women's day, here is a non-exhaustive list of shit white feminists need to stop doing:\n",
            "PROBLEM!\n",
            "fuck this is why you’re fat and shit my dad says and texts from last night and dealbreakers… let’s talk about someone giving me a book deal for my sad, pathetic memoirs entitled “some fucking bullshit ass online dating shit: a book” to be created from http://blog.kiamatthews.com/tagged/online_dating\n",
            "PROBLEM!\n",
            "fuck this is why you’re fat and shit my dad says and texts from last night and dealbreakers… let’s talk about someone giving me a book deal for my sad, pathetic memoirs entitled “some fucking bullshit ass online dating shit: a book” to be created from http://blog.kiamatthews.com/tagged/online_dating\n",
            "PROBLEM!\n",
            "raging bull-shit is his modest attempt to scrub away the lathers of soft soap peddled by political and business leaders and their loyal mainstream media.\n",
            "word oplasty num_sent 7\n",
            "word actually num_sent 7\n",
            "PROBLEM!\n",
            "…actually, people have called us racist, sexist, anti-semitic, fascist, ageist, homophobic, self-loathing, glenn beck supporters, coasties and other negative words people commonly mistake with communism.\n",
            "PROBLEM!\n",
            "“actually, i was only kidding, you can get that fucking baby out of here, pronto,” he said moments later.\n",
            "PROBLEM!\n",
            "lean forward, sweating like a giant asshole, wink, and say, “actually, all spicy food is from the west.\n",
            "PROBLEM!\n",
            "remember that time your uncle said that fucked-up stuff about “illegal” mexican immigrants and you were all, “actually, uncle, california ismexico, so you need to read your history cuz that’s hella racist!”\n",
            "PROBLEM!\n",
            "\"actually one type of pornography was associated with higher rates of condom use -- men who viewed more pornography containing condom use engaged in fewer condomless anal sex encounters.\n",
            "PROBLEM!\n",
            "(actually i positively recommend wordfiltering ‘fuck’ to 'rumpy pumpy’, i feel it will make your entire internet experience measurably more hilarious.)\n",
            "PROBLEM!\n",
            "“actually we’re gonna give you a short trial before we hang your nigger ass.”\n",
            "word ggi num_sent 6\n",
            "520\n",
            "word alli num_sent 6\n",
            "PROBLEM!\n",
            "<rane_livinstahk> can't really be that mad <yaolan> zarvox is cool wtf <perseus_kallistratos> be toxic <perseus_kallistratos> be <perseus_kallistratos> toxic <krios42> fuck you <yaolan> fuck you <ramand> personal army go!\n",
            "PROBLEM!\n",
            "<rane_livinstahk> can't really be that mad <yaolan> zarvox is cool wtf <perseus_kallistratos> be toxic <perseus_kallistratos> be <perseus_kallistratos> toxic <krios42> fuck you <yaolan> fuck you <ramand> personal army go!\n",
            "PROBLEM!\n",
            "<rane_livinstahk> can't really be that mad <yaolan> zarvox is cool wtf <perseus_kallistratos> be toxic <perseus_kallistratos> be <perseus_kallistratos> toxic <krios42> fuck you <yaolan> fuck you <ramand> personal army go!\n",
            "528\n"
          ],
          "name": "stdout"
        }
      ]
    },
    {
      "cell_type": "code",
      "metadata": {
        "id": "uclPuC_PgHQy",
        "outputId": "70830d38-b326-4d70-a19c-b1a39fae32cf",
        "colab": {
          "base_uri": "https://localhost:8080/",
          "height": 877
        }
      },
      "source": [
        "ev = [e/count*100 for e in ev]\n",
        "ev4 = ev\n",
        "\n",
        "first_pcs = [f[0] for f in ev4]\n",
        "print('First PCs', first_pcs)\n",
        "plotVariance(first_pcs, title='Normal XLNet - First PC contributions')\n",
        "\n",
        "second_pcs = [f[1] for f in ev4]\n",
        "print('Second PCs', second_pcs)\n",
        "plotVariance(second_pcs, title='Normal XLNet - Second PC contributions')\n",
        "\n",
        "third_pcs = [f[2] for f in ev4]\n",
        "print('Third PCs', third_pcs)\n",
        "plotVariance(third_pcs, title='Normal XLNet - Third PC contributions')"
      ],
      "execution_count": 94,
      "outputs": [
        {
          "output_type": "stream",
          "text": [
            "First PCs [100.0, 86.80566, 66.03752, 58.87875, 56.688995, 50.193233, 44.668217, 40.5964, 37.576912, 34.580822, 32.72497, 33.28773, 62.039238]\n"
          ],
          "name": "stdout"
        },
        {
          "output_type": "display_data",
          "data": {
            "image/png": "[encoded data removed]",
            "text/plain": [
              "<Figure size 432x288 with 1 Axes>"
            ]
          },
          "metadata": {
            "tags": [],
            "needs_background": "light"
          }
        },
        {
          "output_type": "stream",
          "text": [
            "Second PCs [3.8494942e-13, 5.328777, 17.233482, 18.425451, 17.33984, 16.240606, 16.220846, 16.11729, 15.718942, 15.533943, 15.565009, 15.918593, 11.919217]\n"
          ],
          "name": "stdout"
        },
        {
          "output_type": "display_data",
          "data": {
            "image/png": "[encoded data removed]",
            "text/plain": [
              "<Figure size 432x288 with 1 Axes>"
            ]
          },
          "metadata": {
            "tags": [],
            "needs_background": "light"
          }
        },
        {
          "output_type": "stream",
          "text": [
            "Third PCs [3.5527137e-13, 3.1013432, 7.0144253, 7.546834, 7.862984, 8.598994, 9.140711, 9.657316, 9.9085045, 9.857621, 9.731135, 9.916559, 5.938262]\n"
          ],
          "name": "stdout"
        },
        {
          "output_type": "display_data",
          "data": {
            "image/png": "[encoded data removed]",
            "text/plain": [
              "<Figure size 432x288 with 1 Axes>"
            ]
          },
          "metadata": {
            "tags": [],
            "needs_background": "light"
          }
        },
        {
          "output_type": "display_data",
          "data": {
            "text/plain": [
              "<Figure size 432x288 with 0 Axes>"
            ]
          },
          "metadata": {
            "tags": []
          }
        }
      ]
    },
    {
      "cell_type": "code",
      "metadata": {
        "id": "s9p6Fy21gOI8",
        "outputId": "db46e9ca-9859-47d0-89c3-a9d5c9b24407",
        "colab": {
          "base_uri": "https://localhost:8080/",
          "height": 545
        }
      },
      "source": [
        "first_pcs = [f[0] for f in ev1]\n",
        "second_pcs = [f[1] for f in ev1]\n",
        "third_pcs = [f[2] for f in ev1]\n",
        "\n",
        "x = range(len(first_pcs))\n",
        "plt.plot(x, first_pcs)\n",
        "plt.plot(x, second_pcs)\n",
        "plt.plot(x, third_pcs)\n",
        "plt.title(\"Debiased XLNet\")\n",
        "plt.legend(['First PCs', 'Second PCs', 'Third PCs'])\n",
        "plt.show()\n",
        "\n",
        "first_pcs = [f[0] for f in ev4]\n",
        "second_pcs = [f[1] for f in ev4]\n",
        "third_pcs = [f[2] for f in ev4]\n",
        "\n",
        "x = range(len(first_pcs))\n",
        "plt.plot(x, first_pcs)\n",
        "plt.plot(x, second_pcs)\n",
        "plt.plot(x, third_pcs)\n",
        "plt.title(\"Normal XLNet\")\n",
        "plt.legend(['First PCs', 'Second PCs', 'Third PCs'])\n",
        "plt.show()"
      ],
      "execution_count": 95,
      "outputs": [
        {
          "output_type": "display_data",
          "data": {
            "image/png": "[encoded data removed]",
            "text/plain": [
              "<Figure size 432x288 with 1 Axes>"
            ]
          },
          "metadata": {
            "tags": [],
            "needs_background": "light"
          }
        },
        {
          "output_type": "display_data",
          "data": {
            "image/png": "[encoded data removed]",
            "text/plain": [
              "<Figure size 432x288 with 1 Axes>"
            ]
          },
          "metadata": {
            "tags": [],
            "needs_background": "light"
          }
        }
      ]
    },
    {
      "cell_type": "code",
      "metadata": {
        "id": "425X1VJEiL9G"
      },
      "source": [
        ""
      ],
      "execution_count": 95,
      "outputs": []
    }
  ]
}