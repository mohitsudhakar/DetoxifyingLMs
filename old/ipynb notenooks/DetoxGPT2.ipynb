{
  "nbformat": 4,
  "nbformat_minor": 0,
  "metadata": {
    "kernelspec": {
      "display_name": "Python 3",
      "language": "python",
      "name": "python3"
    },
    "language_info": {
      "codemirror_mode": {
        "name": "ipython",
        "version": 3
      },
      "file_extension": ".py",
      "mimetype": "text/x-python",
      "name": "python",
      "nbconvert_exporter": "python",
      "pygments_lexer": "ipython3",
      "version": "3.7.6"
    },
    "colab": {
      "name": "DetoxGPT2.ipynb",
      "provenance": [],
      "collapsed_sections": []
    },
    "accelerator": "GPU"
  },
  "cells": [
    {
      "cell_type": "code",
      "metadata": {
        "id": "F56UFd7s8Do_",
        "outputId": "681a95c6-154d-47af-bd13-bdcd608e71ab",
        "colab": {
          "base_uri": "https://localhost:8080/"
        }
      },
      "source": [
        "!pip install transformers\n",
        "import collections\n",
        "import numpy as np\n",
        "import pandas as pd\n",
        "import nltk\n",
        "nltk.download('stopwords')\n",
        "nltk.download('punkt')\n",
        "from nltk.tokenize import word_tokenize\n",
        "from nltk.corpus import stopwords\n",
        "stop_words = set(stopwords.words('english'))\n",
        "import string\n",
        "puncs = string.punctuation.replace('*', '').replace('#', '')\n",
        "table = str.maketrans('', '', puncs)\n",
        "import re\n",
        "# from nltk.stem.porter import PorterStemmer\n",
        "# porter = PorterStemmer()\n",
        "\n",
        "import torch\n",
        "import torch.nn as nn"
      ],
      "execution_count": 5,
      "outputs": [
        {
          "output_type": "stream",
          "text": [
            "Requirement already satisfied: transformers in /usr/local/lib/python3.6/dist-packages (3.4.0)\n",
            "Requirement already satisfied: filelock in /usr/local/lib/python3.6/dist-packages (from transformers) (3.0.12)\n",
            "Requirement already satisfied: sentencepiece!=0.1.92 in /usr/local/lib/python3.6/dist-packages (from transformers) (0.1.94)\n",
            "Requirement already satisfied: requests in /usr/local/lib/python3.6/dist-packages (from transformers) (2.23.0)\n",
            "Requirement already satisfied: regex!=2019.12.17 in /usr/local/lib/python3.6/dist-packages (from transformers) (2019.12.20)\n",
            "Requirement already satisfied: dataclasses; python_version < \"3.7\" in /usr/local/lib/python3.6/dist-packages (from transformers) (0.7)\n",
            "Requirement already satisfied: packaging in /usr/local/lib/python3.6/dist-packages (from transformers) (20.4)\n",
            "Requirement already satisfied: numpy in /usr/local/lib/python3.6/dist-packages (from transformers) (1.18.5)\n",
            "Requirement already satisfied: tokenizers==0.9.2 in /usr/local/lib/python3.6/dist-packages (from transformers) (0.9.2)\n",
            "Requirement already satisfied: tqdm>=4.27 in /usr/local/lib/python3.6/dist-packages (from transformers) (4.41.1)\n",
            "Requirement already satisfied: protobuf in /usr/local/lib/python3.6/dist-packages (from transformers) (3.12.4)\n",
            "Requirement already satisfied: sacremoses in /usr/local/lib/python3.6/dist-packages (from transformers) (0.0.43)\n",
            "Requirement already satisfied: chardet<4,>=3.0.2 in /usr/local/lib/python3.6/dist-packages (from requests->transformers) (3.0.4)\n",
            "Requirement already satisfied: certifi>=2017.4.17 in /usr/local/lib/python3.6/dist-packages (from requests->transformers) (2020.6.20)\n",
            "Requirement already satisfied: idna<3,>=2.5 in /usr/local/lib/python3.6/dist-packages (from requests->transformers) (2.10)\n",
            "Requirement already satisfied: urllib3!=1.25.0,!=1.25.1,<1.26,>=1.21.1 in /usr/local/lib/python3.6/dist-packages (from requests->transformers) (1.24.3)\n",
            "Requirement already satisfied: six in /usr/local/lib/python3.6/dist-packages (from packaging->transformers) (1.15.0)\n",
            "Requirement already satisfied: pyparsing>=2.0.2 in /usr/local/lib/python3.6/dist-packages (from packaging->transformers) (2.4.7)\n",
            "Requirement already satisfied: setuptools in /usr/local/lib/python3.6/dist-packages (from protobuf->transformers) (50.3.2)\n",
            "Requirement already satisfied: click in /usr/local/lib/python3.6/dist-packages (from sacremoses->transformers) (7.1.2)\n",
            "Requirement already satisfied: joblib in /usr/local/lib/python3.6/dist-packages (from sacremoses->transformers) (0.17.0)\n",
            "[nltk_data] Downloading package stopwords to /root/nltk_data...\n",
            "[nltk_data]   Package stopwords is already up-to-date!\n",
            "[nltk_data] Downloading package punkt to /root/nltk_data...\n",
            "[nltk_data]   Package punkt is already up-to-date!\n"
          ],
          "name": "stdout"
        }
      ]
    },
    {
      "cell_type": "code",
      "metadata": {
        "id": "jP5R6XFsbamg",
        "outputId": "4864f00c-8611-486c-8d15-468b257557de",
        "colab": {
          "base_uri": "https://localhost:8080/"
        }
      },
      "source": [
        "from transformers import GPT2Tokenizer, GPT2Model, GPT2Config\n",
        "tokenizer = GPT2Tokenizer.from_pretrained('gpt2', add_prefix_space=True)\n",
        "tokenizer.add_special_tokens({'pad_token': '[PAD]'})\n",
        "gpt2_config = GPT2Config(vocab_size=tokenizer.vocab_size)\n",
        "gpt2_model = GPT2Model.from_pretrained('gpt2', config=gpt2_config)\n",
        "gpt2_model.resize_token_embeddings(len(tokenizer))"
      ],
      "execution_count": 6,
      "outputs": [
        {
          "output_type": "stream",
          "text": [
            "Some weights of GPT2Model were not initialized from the model checkpoint at gpt2 and are newly initialized: ['h.0.attn.masked_bias', 'h.1.attn.masked_bias', 'h.2.attn.masked_bias', 'h.3.attn.masked_bias', 'h.4.attn.masked_bias', 'h.5.attn.masked_bias', 'h.6.attn.masked_bias', 'h.7.attn.masked_bias', 'h.8.attn.masked_bias', 'h.9.attn.masked_bias', 'h.10.attn.masked_bias', 'h.11.attn.masked_bias']\n",
            "You should probably TRAIN this model on a down-stream task to be able to use it for predictions and inference.\n"
          ],
          "name": "stderr"
        },
        {
          "output_type": "execute_result",
          "data": {
            "text/plain": [
              "Embedding(50258, 768)"
            ]
          },
          "metadata": {
            "tags": []
          },
          "execution_count": 6
        }
      ]
    },
    {
      "cell_type": "code",
      "metadata": {
        "id": "KezvOf-zYbkQ",
        "outputId": "19c2906f-3adf-483a-a07d-63aa2cab4928",
        "colab": {
          "base_uri": "https://localhost:8080/"
        }
      },
      "source": [
        "print(tokenizer.vocab_size)\n",
        "print(tokenizer.pad_token)\n",
        "# tokenizer.vocab_size += 1\n",
        "# gpt2_model.config.vocab_size += 1\n",
        "print(gpt2_model.config.vocab_size)\n"
      ],
      "execution_count": 7,
      "outputs": [
        {
          "output_type": "stream",
          "text": [
            "50257\n",
            "[PAD]\n",
            "50258\n"
          ],
          "name": "stdout"
        }
      ]
    },
    {
      "cell_type": "code",
      "metadata": {
        "id": "hCX2Br2I8DpH"
      },
      "source": [
        "def checks(w):\n",
        "    if w in stop_words: return False\n",
        "    if re.search('[a-zA-Z]', w) and '*' in w: return True\n",
        "    if not w.isalpha(): return False\n",
        "    if len(w) == 1 and w not in ['a', 'i', 'o', 'u']: return False\n",
        "    return True"
      ],
      "execution_count": 8,
      "outputs": []
    },
    {
      "cell_type": "code",
      "metadata": {
        "id": "R5OL2mpL8DpK"
      },
      "source": [
        "def getWordCounts(texts, scores, word_tokens):\n",
        "  l = len(texts)\n",
        "  wordCounts = {}\n",
        "  for i in range(l):\n",
        "    if i % 10000 == 0: print(i)\n",
        "    text, score = texts[i], scores[i]\n",
        "    wtoks = word_tokens[i]\n",
        "    for w in wtoks:\n",
        "      w = w.strip()\n",
        "      if w[0] == 'Ġ': w = w[1:]\n",
        "      w = w.lower()\n",
        "      w = w.translate(table)\n",
        "      if not checks(w): continue\n",
        "      wordCounts[w] = wordCounts.get(w, 0) + 1\n",
        "  return wordCounts"
      ],
      "execution_count": 9,
      "outputs": []
    },
    {
      "cell_type": "code",
      "metadata": {
        "id": "Kx49BEXe8DpO"
      },
      "source": [
        "def getWordSentences(texts, word_tokens):\n",
        "    l = len(texts)\n",
        "    wordSentences = collections.defaultdict(list)\n",
        "    for i in range(l):\n",
        "        if i % 10000 == 0: print(i)\n",
        "        text = texts[i]\n",
        "        text = text.lower()\n",
        "        wtoks = word_tokens[i]\n",
        "        for w in wtoks:\n",
        "            w = w.strip()\n",
        "            if w[0] == 'Ġ': w = w[1:]\n",
        "            w = w.lower()\n",
        "            w = w.translate(table)\n",
        "            # w = porter.stem(w)\n",
        "            if not checks(w): continue\n",
        "            wordSentences[w].append(text)\n",
        "    return wordSentences"
      ],
      "execution_count": 10,
      "outputs": []
    },
    {
      "cell_type": "code",
      "metadata": {
        "id": "cf_mS0Pu8DpR"
      },
      "source": [
        "def getSortedWordScores(wordCounts, asc=False):\n",
        "    rows_list = []\n",
        "    for i,w in enumerate(wordCounts):\n",
        "        dic = {'Word': w, 'Count': wordCounts[w]}\n",
        "        rows_list.append(dic)\n",
        "        \n",
        "    wordScores = pd.DataFrame(rows_list, columns=['Word', 'Count'])\n",
        "    \n",
        "    return wordScores"
      ],
      "execution_count": 11,
      "outputs": []
    },
    {
      "cell_type": "code",
      "metadata": {
        "id": "FVA7LGEQ9Fgv",
        "outputId": "7d03bb2c-3466-4fcc-b0fe-857f992afb6e",
        "colab": {
          "base_uri": "https://localhost:8080/"
        }
      },
      "source": [
        "from google.colab import drive\n",
        "drive.mount('/content/drive', force_remount=True)\n",
        "path = '/content/drive/My Drive/DetoxBert/'"
      ],
      "execution_count": 12,
      "outputs": [
        {
          "output_type": "stream",
          "text": [
            "Mounted at /content/drive\n"
          ],
          "name": "stdout"
        }
      ]
    },
    {
      "cell_type": "code",
      "metadata": {
        "id": "G6Iw1AOtiRrR"
      },
      "source": [
        "rows = []\n",
        "with open(path+'toxic.tsv', 'r') as f:\n",
        "  lines = f.readlines()\n",
        "  columns = lines[0].split('\\t')\n",
        "  num_cols = len(columns)\n",
        "  lines = lines[1:]\n",
        "  for line in lines:\n",
        "    fields = line.split('\\t')\n",
        "    if len(fields) > num_cols:\n",
        "      fields = [' '.join(fields[:-num_cols])] + fields[-num_cols:]\n",
        "    elif len(fields) < num_cols:      \n",
        "      for i in range(num_cols - len(fields)):\n",
        "        fields.append('0')\n",
        "    rows.append(fields)\n",
        "\n",
        "df = pd.DataFrame(np.array(rows), columns=columns)\n"
      ],
      "execution_count": 13,
      "outputs": []
    },
    {
      "cell_type": "code",
      "metadata": {
        "id": "aQD_lIH68DpU",
        "outputId": "f0d8745a-388a-404d-88b2-505758073513",
        "colab": {
          "base_uri": "https://localhost:8080/"
        }
      },
      "source": [
        "\n",
        "# df = pd.read_csv(path+'toxic_fixed.tsv', sep='\\t', encoding='utf-8')\n",
        "print('done: read file')\n",
        "# only check toxicity values, todo: check others as well\n",
        "\n",
        "# df = df[['Text', 'Tox']]\n",
        "df = df[['Text', 'Sev_Tox']]\n",
        "\n",
        "df.columns = ['Text', 'Score']\n",
        "df.Score = df.Score.astype(float)\n",
        "df = df.fillna(0)\n",
        "toxic_df = df[df['Score'] >= 0.5]\n",
        "nontox_df = df[df['Score'] < 0.5]\n",
        "print('done: got toxic data >=0.5')"
      ],
      "execution_count": 14,
      "outputs": [
        {
          "output_type": "stream",
          "text": [
            "done: read file\n",
            "done: got toxic data >=0.5\n"
          ],
          "name": "stdout"
        }
      ]
    },
    {
      "cell_type": "code",
      "metadata": {
        "id": "rE5bBSMs8Dpm",
        "outputId": "ff5f9063-2287-454e-f128-fae0da2bfb67",
        "colab": {
          "base_uri": "https://localhost:8080/"
        }
      },
      "source": [
        "toxic_df[:3]['Text'].to_numpy()"
      ],
      "execution_count": 15,
      "outputs": [
        {
          "output_type": "execute_result",
          "data": {
            "text/plain": [
              "array(['That violence is both promoted by the government—one parliamentarian has said if he had a lesbian daughter, he would hang her—and carried out by private citizens with government complicity.',\n",
              "       'In the latest incident, a car bomb exploded at a petrol station in the government-held Damascus suburb of Barzeh, killing 11 people, including civilians, and injuring 40 more, according to both government and opposition reports.',\n",
              "       'Sebastopol’s local newspaper reports that seven of the 26 people murdered in Sonoma County since 2013 died during marijuana deals.'],\n",
              "      dtype=object)"
            ]
          },
          "metadata": {
            "tags": []
          },
          "execution_count": 15
        }
      ]
    },
    {
      "cell_type": "code",
      "metadata": {
        "id": "zm932vk5d3OY",
        "outputId": "ba8e095f-5f8a-4cff-b743-8f14c5e22267",
        "colab": {
          "base_uri": "https://localhost:8080/"
        }
      },
      "source": [
        "# df = pd.read_csv(path+'toxic.tsv', sep='\\t+', encoding='utf-8')\n",
        "\n",
        "pd.set_option('display.max_colwidth', None)\n",
        "te = toxic_df[toxic_df['Text'].str.contains('If I fought Rafael dos Anjos')]['Text']\n",
        "te"
      ],
      "execution_count": 16,
      "outputs": [
        {
          "output_type": "execute_result",
          "data": {
            "text/plain": [
              "56112    \"If I fought Rafael dos Anjos, if he didn't pussy out of that last one and showed up, the shots I cracked Nate with in the first eight minutes of that [fight] would've KO'd Rafael dos Anjos stiff.\n",
              "Name: Text, dtype: object"
            ]
          },
          "metadata": {
            "tags": []
          },
          "execution_count": 16
        }
      ]
    },
    {
      "cell_type": "code",
      "metadata": {
        "id": "IooCNcLQ8Dpz",
        "outputId": "3c5fb00b-b551-4451-f7d6-3aeb2a278df4",
        "colab": {
          "base_uri": "https://localhost:8080/"
        }
      },
      "source": [
        "texts = df['Text'].to_numpy()\n",
        "scores = df['Score'].to_numpy()\n",
        "# word_tokens = list(map(word_tokenize, texts))\n",
        "word_tokens = list(map(tokenizer.tokenize, texts))\n",
        "\n",
        "wcAll = getWordCounts(texts, scores, word_tokens)\n",
        "wsentAll = getWordSentences(texts, word_tokens)"
      ],
      "execution_count": 17,
      "outputs": [
        {
          "output_type": "stream",
          "text": [
            "0\n",
            "10000\n",
            "20000\n",
            "30000\n",
            "40000\n",
            "50000\n",
            "60000\n",
            "70000\n",
            "80000\n",
            "90000\n",
            "100000\n",
            "0\n",
            "10000\n",
            "20000\n",
            "30000\n",
            "40000\n",
            "50000\n",
            "60000\n",
            "70000\n",
            "80000\n",
            "90000\n",
            "100000\n"
          ],
          "name": "stdout"
        }
      ]
    },
    {
      "cell_type": "code",
      "metadata": {
        "id": "ktcRPuXKPQUd",
        "outputId": "224f77bc-f192-4015-914d-196cc3d13c83",
        "colab": {
          "base_uri": "https://localhost:8080/"
        }
      },
      "source": [
        "# t = \"An impatient commuter probably regretted telling a man to 'f**k himself' on a busy train.\"\n",
        "# print(t)\n",
        "# print(encoded_texts[0])\n",
        "print(tokenizer.encode(word_tokens[0]))\n",
        "print(len(wsentAll['pussy']))"
      ],
      "execution_count": 18,
      "outputs": [
        {
          "output_type": "stream",
          "text": [
            "[37626, 7411, 262, 17736, 318, 262, 4039, 26581, 329, 262, 3770, 447, 247, 82, 2761, 11, 1864, 284, 257, 2274, 989, 422, 262, 6093, 24625, 3611, 329, 8037, 45060, 960, 64, 369, 32383, 453, 12, 22249, 515, 26856, 4086, 13]\n",
            "178\n"
          ],
          "name": "stdout"
        }
      ]
    },
    {
      "cell_type": "code",
      "metadata": {
        "id": "EACjq7dD8Dp3",
        "outputId": "97b9ba39-54b5-44d5-a7c7-948174dc9648",
        "colab": {
          "base_uri": "https://localhost:8080/"
        }
      },
      "source": [
        "texts = toxic_df['Text'].to_numpy()\n",
        "scores = toxic_df['Score'].to_numpy()\n",
        "# word_tokens = list(map(word_tokenize, texts))\n",
        "word_tokens = list(map(tokenizer.tokenize, texts))\n",
        "\n",
        "wcTox = getWordCounts(texts, scores, word_tokens)\n",
        "wsentTox = getWordSentences(texts, word_tokens)"
      ],
      "execution_count": 19,
      "outputs": [
        {
          "output_type": "stream",
          "text": [
            "0\n",
            "10000\n",
            "20000\n",
            "30000\n",
            "0\n",
            "10000\n",
            "20000\n",
            "30000\n"
          ],
          "name": "stdout"
        }
      ]
    },
    {
      "cell_type": "code",
      "metadata": {
        "id": "aizIgW1n8Dp9",
        "outputId": "9854787e-9a1e-4c6e-c0c3-2cb5ab615308",
        "colab": {
          "base_uri": "https://localhost:8080/"
        }
      },
      "source": [
        "texts = nontox_df['Text'].to_numpy()\n",
        "scores = nontox_df['Score'].to_numpy()\n",
        "# word_tokens = list(map(word_tokenize, texts))\n",
        "word_tokens = list(map(tokenizer.tokenize, texts))\n",
        "\n",
        "wcNT = getWordCounts(texts, scores, word_tokens)\n",
        "wsentNT = getWordSentences(texts, word_tokens)"
      ],
      "execution_count": 20,
      "outputs": [
        {
          "output_type": "stream",
          "text": [
            "0\n",
            "10000\n",
            "20000\n",
            "30000\n",
            "40000\n",
            "50000\n",
            "60000\n",
            "0\n",
            "10000\n",
            "20000\n",
            "30000\n",
            "40000\n",
            "50000\n",
            "60000\n"
          ],
          "name": "stdout"
        }
      ]
    },
    {
      "cell_type": "code",
      "metadata": {
        "id": "OEAIK9xn8Dqh",
        "outputId": "dce2f045-c454-45ed-b2dd-752e181e31a8",
        "colab": {
          "base_uri": "https://localhost:8080/"
        }
      },
      "source": [
        "print(len(wcAll))\n",
        "print(len(wcTox))\n",
        "print(len(wcNT))"
      ],
      "execution_count": 21,
      "outputs": [
        {
          "output_type": "stream",
          "text": [
            "28559\n",
            "24218\n",
            "27763\n"
          ],
          "name": "stdout"
        }
      ]
    },
    {
      "cell_type": "code",
      "metadata": {
        "id": "fUIVLiya8Dqr"
      },
      "source": [
        "wordScoresAll = getSortedWordScores(wcAll)"
      ],
      "execution_count": 22,
      "outputs": []
    },
    {
      "cell_type": "code",
      "metadata": {
        "id": "f7rup_IE8Dq0"
      },
      "source": [
        "wordScoresTox = getSortedWordScores(wcTox)"
      ],
      "execution_count": 23,
      "outputs": []
    },
    {
      "cell_type": "code",
      "metadata": {
        "id": "-IIJcMEH8DrG"
      },
      "source": [
        "wordScoresNT = getSortedWordScores(wcNT, asc=True)"
      ],
      "execution_count": 24,
      "outputs": []
    },
    {
      "cell_type": "code",
      "metadata": {
        "id": "HVblcO1D8DrS",
        "outputId": "6dc6d68f-ae16-46eb-db5e-ddde23845e89",
        "colab": {
          "base_uri": "https://localhost:8080/"
        }
      },
      "source": [
        "print('All\\n', wordScoresAll.head())\n",
        "print('Toxic\\n', wordScoresTox.head())\n",
        "print('NonToxic\\n', wordScoresNT.head())"
      ],
      "execution_count": 25,
      "outputs": [
        {
          "output_type": "stream",
          "text": [
            "All\n",
            "           Word  Count\n",
            "0   corruption    119\n",
            "1    involving     83\n",
            "2  contractors     13\n",
            "3        chief    342\n",
            "4      culprit     25\n",
            "Toxic\n",
            "          Word  Count\n",
            "0    violence    126\n",
            "1    promoted     13\n",
            "2  government    234\n",
            "3         âģķ   1473\n",
            "4         one   2540\n",
            "NonToxic\n",
            "           Word  Count\n",
            "0   corruption    104\n",
            "1    involving     67\n",
            "2  contractors     11\n",
            "3        chief    275\n",
            "4      culprit     22\n"
          ],
          "name": "stdout"
        }
      ]
    },
    {
      "cell_type": "code",
      "metadata": {
        "id": "6AAazDp68Drc"
      },
      "source": [
        "sAll, sTox, sNT = wordScoresAll, wordScoresTox, wordScoresNT"
      ],
      "execution_count": 26,
      "outputs": []
    },
    {
      "cell_type": "code",
      "metadata": {
        "id": "IqdOJ6ze8Dsq",
        "outputId": "a479d548-ff66-4a10-99b0-519255243a5a",
        "colab": {
          "base_uri": "https://localhost:8080/"
        }
      },
      "source": [
        "sAll[sAll['Word'] == 'like'], sTox[sTox['Word'] == 'like'], sNT[sNT['Word'] == 'like']"
      ],
      "execution_count": 27,
      "outputs": [
        {
          "output_type": "execute_result",
          "data": {
            "text/plain": [
              "(     Word  Count\n",
              " 113  like   5747,      Word  Count\n",
              " 571  like   2714,      Word  Count\n",
              " 113  like   3033)"
            ]
          },
          "metadata": {
            "tags": []
          },
          "execution_count": 27
        }
      ]
    },
    {
      "cell_type": "code",
      "metadata": {
        "id": "sSvuwP2i8DtN"
      },
      "source": [
        "from functools import reduce\n",
        "\n",
        "dfs = [sAll, sTox, sNT]\n",
        "df_merged = reduce(lambda left,right: pd.merge(left,right,on='Word'), dfs)"
      ],
      "execution_count": 28,
      "outputs": []
    },
    {
      "cell_type": "code",
      "metadata": {
        "id": "_S3BHI1p8DtQ",
        "outputId": "2c9e75f4-1321-4886-c9ac-ccff08d85c90",
        "colab": {
          "base_uri": "https://localhost:8080/",
          "height": 204
        }
      },
      "source": [
        "df_merged.columns = ['Word', 'Count_All', 'Count_Tox', 'Count_NT']\n",
        "df_merged.head()"
      ],
      "execution_count": 29,
      "outputs": [
        {
          "output_type": "execute_result",
          "data": {
            "text/html": [
              "<div>\n",
              "<style scoped>\n",
              "    .dataframe tbody tr th:only-of-type {\n",
              "        vertical-align: middle;\n",
              "    }\n",
              "\n",
              "    .dataframe tbody tr th {\n",
              "        vertical-align: top;\n",
              "    }\n",
              "\n",
              "    .dataframe thead th {\n",
              "        text-align: right;\n",
              "    }\n",
              "</style>\n",
              "<table border=\"1\" class=\"dataframe\">\n",
              "  <thead>\n",
              "    <tr style=\"text-align: right;\">\n",
              "      <th></th>\n",
              "      <th>Word</th>\n",
              "      <th>Count_All</th>\n",
              "      <th>Count_Tox</th>\n",
              "      <th>Count_NT</th>\n",
              "    </tr>\n",
              "  </thead>\n",
              "  <tbody>\n",
              "    <tr>\n",
              "      <th>0</th>\n",
              "      <td>corruption</td>\n",
              "      <td>119</td>\n",
              "      <td>15</td>\n",
              "      <td>104</td>\n",
              "    </tr>\n",
              "    <tr>\n",
              "      <th>1</th>\n",
              "      <td>involving</td>\n",
              "      <td>83</td>\n",
              "      <td>16</td>\n",
              "      <td>67</td>\n",
              "    </tr>\n",
              "    <tr>\n",
              "      <th>2</th>\n",
              "      <td>contractors</td>\n",
              "      <td>13</td>\n",
              "      <td>2</td>\n",
              "      <td>11</td>\n",
              "    </tr>\n",
              "    <tr>\n",
              "      <th>3</th>\n",
              "      <td>chief</td>\n",
              "      <td>342</td>\n",
              "      <td>67</td>\n",
              "      <td>275</td>\n",
              "    </tr>\n",
              "    <tr>\n",
              "      <th>4</th>\n",
              "      <td>culprit</td>\n",
              "      <td>25</td>\n",
              "      <td>3</td>\n",
              "      <td>22</td>\n",
              "    </tr>\n",
              "  </tbody>\n",
              "</table>\n",
              "</div>"
            ],
            "text/plain": [
              "          Word  Count_All  Count_Tox  Count_NT\n",
              "0   corruption        119         15       104\n",
              "1    involving         83         16        67\n",
              "2  contractors         13          2        11\n",
              "3        chief        342         67       275\n",
              "4      culprit         25          3        22"
            ]
          },
          "metadata": {
            "tags": []
          },
          "execution_count": 29
        }
      ]
    },
    {
      "cell_type": "code",
      "metadata": {
        "id": "8rF848YDCEDY"
      },
      "source": [
        "df_merged['Tox_percent'] = df_merged.apply (lambda row: row['Count_Tox']/(row['Count_All']), axis=1)"
      ],
      "execution_count": 30,
      "outputs": []
    },
    {
      "cell_type": "code",
      "metadata": {
        "id": "antrEBVUEuKD",
        "outputId": "624d68ff-5524-4496-a19f-4f93089c56f6",
        "colab": {
          "base_uri": "https://localhost:8080/",
          "height": 80
        }
      },
      "source": [
        "df_merged[df_merged['Word'] == 'fuck']"
      ],
      "execution_count": 31,
      "outputs": [
        {
          "output_type": "execute_result",
          "data": {
            "text/html": [
              "<div>\n",
              "<style scoped>\n",
              "    .dataframe tbody tr th:only-of-type {\n",
              "        vertical-align: middle;\n",
              "    }\n",
              "\n",
              "    .dataframe tbody tr th {\n",
              "        vertical-align: top;\n",
              "    }\n",
              "\n",
              "    .dataframe thead th {\n",
              "        text-align: right;\n",
              "    }\n",
              "</style>\n",
              "<table border=\"1\" class=\"dataframe\">\n",
              "  <thead>\n",
              "    <tr style=\"text-align: right;\">\n",
              "      <th></th>\n",
              "      <th>Word</th>\n",
              "      <th>Count_All</th>\n",
              "      <th>Count_Tox</th>\n",
              "      <th>Count_NT</th>\n",
              "      <th>Tox_percent</th>\n",
              "    </tr>\n",
              "  </thead>\n",
              "  <tbody>\n",
              "    <tr>\n",
              "      <th>21983</th>\n",
              "      <td>fuck</td>\n",
              "      <td>1709</td>\n",
              "      <td>1667</td>\n",
              "      <td>42</td>\n",
              "      <td>0.975424</td>\n",
              "    </tr>\n",
              "  </tbody>\n",
              "</table>\n",
              "</div>"
            ],
            "text/plain": [
              "       Word  Count_All  Count_Tox  Count_NT  Tox_percent\n",
              "21983  fuck       1709       1667        42     0.975424"
            ]
          },
          "metadata": {
            "tags": []
          },
          "execution_count": 31
        }
      ]
    },
    {
      "cell_type": "code",
      "metadata": {
        "id": "D0aQa0dKCVdK"
      },
      "source": [
        "MINFREQ = 3\n",
        "df_merged_minfreq = df_merged[(df_merged['Count_All'] > MINFREQ)]"
      ],
      "execution_count": 32,
      "outputs": []
    },
    {
      "cell_type": "code",
      "metadata": {
        "id": "8ItuhWEIeO36"
      },
      "source": [
        "# highTox = df_merged_minfreq.sort_values([\"Count_All\", \"Tox_percent\"], ascending = [False, False])"
      ],
      "execution_count": 33,
      "outputs": []
    },
    {
      "cell_type": "code",
      "metadata": {
        "id": "3x22NBQyaY-j",
        "outputId": "3946edb2-c3da-433a-e9c5-a4b4ca376e1c",
        "colab": {
          "base_uri": "https://localhost:8080/"
        }
      },
      "source": [
        "# highTox = df_merged_minfreq.sort_values([\"Count_NT\", \"Count_Tox\"], ascending = [True, False])\n",
        "highTox = df_merged_minfreq.sort_values(\"Tox_percent\", ascending = False)\n",
        "len(highTox)"
      ],
      "execution_count": 34,
      "outputs": [
        {
          "output_type": "execute_result",
          "data": {
            "text/plain": [
              "21752"
            ]
          },
          "metadata": {
            "tags": []
          },
          "execution_count": 34
        }
      ]
    },
    {
      "cell_type": "code",
      "metadata": {
        "id": "fgzB3q3LFlZT",
        "outputId": "559ce291-9a68-40fa-892b-fe093f97e477",
        "colab": {
          "base_uri": "https://localhost:8080/",
          "height": 669
        }
      },
      "source": [
        "highTox[:20]"
      ],
      "execution_count": 35,
      "outputs": [
        {
          "output_type": "execute_result",
          "data": {
            "text/html": [
              "<div>\n",
              "<style scoped>\n",
              "    .dataframe tbody tr th:only-of-type {\n",
              "        vertical-align: middle;\n",
              "    }\n",
              "\n",
              "    .dataframe tbody tr th {\n",
              "        vertical-align: top;\n",
              "    }\n",
              "\n",
              "    .dataframe thead th {\n",
              "        text-align: right;\n",
              "    }\n",
              "</style>\n",
              "<table border=\"1\" class=\"dataframe\">\n",
              "  <thead>\n",
              "    <tr style=\"text-align: right;\">\n",
              "      <th></th>\n",
              "      <th>Word</th>\n",
              "      <th>Count_All</th>\n",
              "      <th>Count_Tox</th>\n",
              "      <th>Count_NT</th>\n",
              "      <th>Tox_percent</th>\n",
              "    </tr>\n",
              "  </thead>\n",
              "  <tbody>\n",
              "    <tr>\n",
              "      <th>23120</th>\n",
              "      <td>pussy</td>\n",
              "      <td>178</td>\n",
              "      <td>177</td>\n",
              "      <td>1</td>\n",
              "      <td>0.994382</td>\n",
              "    </tr>\n",
              "    <tr>\n",
              "      <th>23171</th>\n",
              "      <td>whore</td>\n",
              "      <td>149</td>\n",
              "      <td>148</td>\n",
              "      <td>1</td>\n",
              "      <td>0.993289</td>\n",
              "    </tr>\n",
              "    <tr>\n",
              "      <th>23056</th>\n",
              "      <td>bitch</td>\n",
              "      <td>562</td>\n",
              "      <td>551</td>\n",
              "      <td>11</td>\n",
              "      <td>0.980427</td>\n",
              "    </tr>\n",
              "    <tr>\n",
              "      <th>21983</th>\n",
              "      <td>fuck</td>\n",
              "      <td>1709</td>\n",
              "      <td>1667</td>\n",
              "      <td>42</td>\n",
              "      <td>0.975424</td>\n",
              "    </tr>\n",
              "    <tr>\n",
              "      <th>23193</th>\n",
              "      <td>asshole</td>\n",
              "      <td>296</td>\n",
              "      <td>288</td>\n",
              "      <td>8</td>\n",
              "      <td>0.972973</td>\n",
              "    </tr>\n",
              "    <tr>\n",
              "      <th>23122</th>\n",
              "      <td>slut</td>\n",
              "      <td>135</td>\n",
              "      <td>131</td>\n",
              "      <td>4</td>\n",
              "      <td>0.970370</td>\n",
              "    </tr>\n",
              "    <tr>\n",
              "      <th>22641</th>\n",
              "      <td>fucking</td>\n",
              "      <td>1291</td>\n",
              "      <td>1243</td>\n",
              "      <td>48</td>\n",
              "      <td>0.962820</td>\n",
              "    </tr>\n",
              "    <tr>\n",
              "      <th>14849</th>\n",
              "      <td>cking</td>\n",
              "      <td>99</td>\n",
              "      <td>95</td>\n",
              "      <td>4</td>\n",
              "      <td>0.959596</td>\n",
              "    </tr>\n",
              "    <tr>\n",
              "      <th>23078</th>\n",
              "      <td>fucked</td>\n",
              "      <td>268</td>\n",
              "      <td>257</td>\n",
              "      <td>11</td>\n",
              "      <td>0.958955</td>\n",
              "    </tr>\n",
              "    <tr>\n",
              "      <th>21368</th>\n",
              "      <td>igger</td>\n",
              "      <td>66</td>\n",
              "      <td>63</td>\n",
              "      <td>3</td>\n",
              "      <td>0.954545</td>\n",
              "    </tr>\n",
              "    <tr>\n",
              "      <th>23086</th>\n",
              "      <td>fuckin</td>\n",
              "      <td>60</td>\n",
              "      <td>57</td>\n",
              "      <td>3</td>\n",
              "      <td>0.950000</td>\n",
              "    </tr>\n",
              "    <tr>\n",
              "      <th>22092</th>\n",
              "      <td>penis</td>\n",
              "      <td>1327</td>\n",
              "      <td>1260</td>\n",
              "      <td>67</td>\n",
              "      <td>0.949510</td>\n",
              "    </tr>\n",
              "    <tr>\n",
              "      <th>16036</th>\n",
              "      <td>anal</td>\n",
              "      <td>241</td>\n",
              "      <td>228</td>\n",
              "      <td>13</td>\n",
              "      <td>0.946058</td>\n",
              "    </tr>\n",
              "    <tr>\n",
              "      <th>6349</th>\n",
              "      <td>ucker</td>\n",
              "      <td>131</td>\n",
              "      <td>123</td>\n",
              "      <td>8</td>\n",
              "      <td>0.938931</td>\n",
              "    </tr>\n",
              "    <tr>\n",
              "      <th>23156</th>\n",
              "      <td>scissors</td>\n",
              "      <td>16</td>\n",
              "      <td>15</td>\n",
              "      <td>1</td>\n",
              "      <td>0.937500</td>\n",
              "    </tr>\n",
              "    <tr>\n",
              "      <th>11844</th>\n",
              "      <td>nig</td>\n",
              "      <td>107</td>\n",
              "      <td>100</td>\n",
              "      <td>7</td>\n",
              "      <td>0.934579</td>\n",
              "    </tr>\n",
              "    <tr>\n",
              "      <th>23282</th>\n",
              "      <td>protr</td>\n",
              "      <td>15</td>\n",
              "      <td>14</td>\n",
              "      <td>1</td>\n",
              "      <td>0.933333</td>\n",
              "    </tr>\n",
              "    <tr>\n",
              "      <th>7529</th>\n",
              "      <td>ussy</td>\n",
              "      <td>142</td>\n",
              "      <td>131</td>\n",
              "      <td>11</td>\n",
              "      <td>0.922535</td>\n",
              "    </tr>\n",
              "    <tr>\n",
              "      <th>5847</th>\n",
              "      <td>anus</td>\n",
              "      <td>109</td>\n",
              "      <td>100</td>\n",
              "      <td>9</td>\n",
              "      <td>0.917431</td>\n",
              "    </tr>\n",
              "    <tr>\n",
              "      <th>22293</th>\n",
              "      <td>dise</td>\n",
              "      <td>12</td>\n",
              "      <td>11</td>\n",
              "      <td>1</td>\n",
              "      <td>0.916667</td>\n",
              "    </tr>\n",
              "  </tbody>\n",
              "</table>\n",
              "</div>"
            ],
            "text/plain": [
              "           Word  Count_All  Count_Tox  Count_NT  Tox_percent\n",
              "23120     pussy        178        177         1     0.994382\n",
              "23171     whore        149        148         1     0.993289\n",
              "23056     bitch        562        551        11     0.980427\n",
              "21983      fuck       1709       1667        42     0.975424\n",
              "23193   asshole        296        288         8     0.972973\n",
              "23122      slut        135        131         4     0.970370\n",
              "22641   fucking       1291       1243        48     0.962820\n",
              "14849     cking         99         95         4     0.959596\n",
              "23078    fucked        268        257        11     0.958955\n",
              "21368     igger         66         63         3     0.954545\n",
              "23086    fuckin         60         57         3     0.950000\n",
              "22092     penis       1327       1260        67     0.949510\n",
              "16036      anal        241        228        13     0.946058\n",
              "6349      ucker        131        123         8     0.938931\n",
              "23156  scissors         16         15         1     0.937500\n",
              "11844       nig        107        100         7     0.934579\n",
              "23282     protr         15         14         1     0.933333\n",
              "7529       ussy        142        131        11     0.922535\n",
              "5847       anus        109        100         9     0.917431\n",
              "22293      dise         12         11         1     0.916667"
            ]
          },
          "metadata": {
            "tags": []
          },
          "execution_count": 35
        }
      ]
    },
    {
      "cell_type": "code",
      "metadata": {
        "id": "BFN97YpUefu6"
      },
      "source": [
        "# highTox[:20]"
      ],
      "execution_count": 36,
      "outputs": []
    },
    {
      "cell_type": "code",
      "metadata": {
        "id": "UN92fIBG8Dtf"
      },
      "source": [
        "ht = highTox[:]"
      ],
      "execution_count": 37,
      "outputs": []
    },
    {
      "cell_type": "code",
      "metadata": {
        "id": "dIADd6Ve8DuQ",
        "outputId": "882cb828-f95f-4857-e5aa-704a1d5f4601",
        "colab": {
          "base_uri": "https://localhost:8080/",
          "height": 80
        }
      },
      "source": [
        "ht[ht['Word'] == 'damn']"
      ],
      "execution_count": 38,
      "outputs": [
        {
          "output_type": "execute_result",
          "data": {
            "text/html": [
              "<div>\n",
              "<style scoped>\n",
              "    .dataframe tbody tr th:only-of-type {\n",
              "        vertical-align: middle;\n",
              "    }\n",
              "\n",
              "    .dataframe tbody tr th {\n",
              "        vertical-align: top;\n",
              "    }\n",
              "\n",
              "    .dataframe thead th {\n",
              "        text-align: right;\n",
              "    }\n",
              "</style>\n",
              "<table border=\"1\" class=\"dataframe\">\n",
              "  <thead>\n",
              "    <tr style=\"text-align: right;\">\n",
              "      <th></th>\n",
              "      <th>Word</th>\n",
              "      <th>Count_All</th>\n",
              "      <th>Count_Tox</th>\n",
              "      <th>Count_NT</th>\n",
              "      <th>Tox_percent</th>\n",
              "    </tr>\n",
              "  </thead>\n",
              "  <tbody>\n",
              "    <tr>\n",
              "      <th>17786</th>\n",
              "      <td>damn</td>\n",
              "      <td>648</td>\n",
              "      <td>406</td>\n",
              "      <td>242</td>\n",
              "      <td>0.626543</td>\n",
              "    </tr>\n",
              "  </tbody>\n",
              "</table>\n",
              "</div>"
            ],
            "text/plain": [
              "       Word  Count_All  Count_Tox  Count_NT  Tox_percent\n",
              "17786  damn        648        406       242     0.626543"
            ]
          },
          "metadata": {
            "tags": []
          },
          "execution_count": 38
        }
      ]
    },
    {
      "cell_type": "code",
      "metadata": {
        "id": "BLwldnV-hjzJ"
      },
      "source": [
        "toxword = ht['Word'][:1]\n",
        "toxsents = wsentTox['pussy'][:20]\n",
        "for i, s in enumerate(toxsents):\n",
        "  if '\\t' in s:\n",
        "    print(i)\n",
        "    print(s)\n",
        "    print()"
      ],
      "execution_count": 39,
      "outputs": []
    },
    {
      "cell_type": "code",
      "metadata": {
        "id": "44TR_9eT8DvC"
      },
      "source": [
        "# todo: Compute PMI"
      ],
      "execution_count": 40,
      "outputs": []
    },
    {
      "cell_type": "code",
      "metadata": {
        "id": "oqH_kvBaF8ip",
        "outputId": "d0437744-3e28-4ed3-c559-af4b0b602981",
        "colab": {
          "base_uri": "https://localhost:8080/"
        }
      },
      "source": [
        "gpt2_model.wte"
      ],
      "execution_count": 42,
      "outputs": [
        {
          "output_type": "execute_result",
          "data": {
            "text/plain": [
              "Embedding(50258, 768)"
            ]
          },
          "metadata": {
            "tags": []
          },
          "execution_count": 42
        }
      ]
    },
    {
      "cell_type": "code",
      "metadata": {
        "id": "q1HtyL4LF8e_",
        "outputId": "390d1d8a-e1f9-4286-eaae-45841f5c5745",
        "colab": {
          "base_uri": "https://localhost:8080/"
        }
      },
      "source": [
        "gpt2_model.wpe"
      ],
      "execution_count": 43,
      "outputs": [
        {
          "output_type": "execute_result",
          "data": {
            "text/plain": [
              "Embedding(1024, 768)"
            ]
          },
          "metadata": {
            "tags": []
          },
          "execution_count": 43
        }
      ]
    },
    {
      "cell_type": "code",
      "metadata": {
        "id": "HoRa65yyGeAA",
        "outputId": "eaffc2f0-25c9-4118-bdee-adbe76447774",
        "colab": {
          "base_uri": "https://localhost:8080/"
        }
      },
      "source": [
        "gpt2_model.h[0]"
      ],
      "execution_count": 44,
      "outputs": [
        {
          "output_type": "execute_result",
          "data": {
            "text/plain": [
              "Block(\n",
              "  (ln_1): LayerNorm((768,), eps=1e-05, elementwise_affine=True)\n",
              "  (attn): Attention(\n",
              "    (c_attn): Conv1D()\n",
              "    (c_proj): Conv1D()\n",
              "    (attn_dropout): Dropout(p=0.1, inplace=False)\n",
              "    (resid_dropout): Dropout(p=0.1, inplace=False)\n",
              "  )\n",
              "  (ln_2): LayerNorm((768,), eps=1e-05, elementwise_affine=True)\n",
              "  (mlp): MLP(\n",
              "    (c_fc): Conv1D()\n",
              "    (c_proj): Conv1D()\n",
              "    (dropout): Dropout(p=0.1, inplace=False)\n",
              "  )\n",
              ")"
            ]
          },
          "metadata": {
            "tags": []
          },
          "execution_count": 44
        }
      ]
    },
    {
      "cell_type": "code",
      "metadata": {
        "id": "bAxH9J4QpOWB"
      },
      "source": [
        "import sklearn as sl\n",
        "from sklearn.preprocessing import StandardScaler as ss\n",
        "from sklearn.decomposition import PCA\n",
        "import matplotlib.pyplot as plt\n",
        "\n",
        "def plotVariance(y, title=\"\"):\n",
        "  x = range(len(y))\n",
        "  plt.plot(x, y)\n",
        "  plt.title(title)\n",
        "  plt.show()\n",
        "  plt.savefig(title)\n",
        "\n",
        "\n",
        "# Computes PCs of difference vector\n",
        "def getPrincipalComponents(D, num_comp=None):\n",
        "  pca = PCA(n_components=num_comp, svd_solver=\"auto\")\n",
        "  X = D[0].cpu().detach().numpy()\n",
        "  pca.fit(X)\n",
        "  exp_var = pca.explained_variance_ratio_\n",
        "  return torch.Tensor(np.array(pca.components_)), exp_var"
      ],
      "execution_count": 45,
      "outputs": []
    },
    {
      "cell_type": "code",
      "metadata": {
        "id": "ROT6ZTYJtCsE"
      },
      "source": [
        "def projection(a, b):\n",
        "  inner = torch.mm(a, b.T)\n",
        "  res = a - torch.mm(inner, b)\n",
        "  return res"
      ],
      "execution_count": 46,
      "outputs": []
    },
    {
      "cell_type": "markdown",
      "metadata": {
        "id": "FjiYHAoV37Za"
      },
      "source": [
        "**Debiasing GPT2**"
      ]
    },
    {
      "cell_type": "code",
      "metadata": {
        "id": "fV5WCtls5Tj7",
        "outputId": "3717a270-b29f-4f92-fcbd-b5a4fb9f4a5a",
        "colab": {
          "base_uri": "https://localhost:8080/"
        }
      },
      "source": [
        "num_words = 10\n",
        "num_sents = 10\n",
        "tokenizer.pad_token\n",
        "gpt2_model.config.vocab_size"
      ],
      "execution_count": 47,
      "outputs": [
        {
          "output_type": "execute_result",
          "data": {
            "text/plain": [
              "50258"
            ]
          },
          "metadata": {
            "tags": []
          },
          "execution_count": 47
        }
      ]
    },
    {
      "cell_type": "code",
      "metadata": {
        "id": "W_YKG-1EBSBL"
      },
      "source": [
        "class LayerGPT2(nn.Module):\n",
        "\n",
        "  def __init__(self):\n",
        "    super(LayerGPT2, self).__init__()\n",
        "    # self.gpt2 = gpt2_model\n",
        "    self.wte = gpt2_model.wte\n",
        "    self.wpe = gpt2_model.wpe\n",
        "    self.drop = gpt2_model.drop\n",
        "\n",
        "    self.blocks = gpt2_model.h\n",
        "\n",
        "    self.dtype = gpt2_model.dtype\n",
        "\n",
        "  def forward(self, layer_num, inp, attention_mask):\n",
        "    \n",
        "    if layer_num == 0:\n",
        "      input_ids = inp\n",
        "      input_shape = input_ids.size()\n",
        "      input_ids = input_ids.view(-1, input_shape[-1])\n",
        "      batch_size = input_ids.shape[0]\n",
        "    \n",
        "      device = input_ids.device\n",
        "      # print('device', device)\n",
        "      position_ids = torch.arange(0, input_shape[-1], dtype=torch.long, device=device)\n",
        "      position_ids = position_ids.unsqueeze(0).view(-1, input_shape[-1])\n",
        "\n",
        "      # Attention mask.\n",
        "      if attention_mask is not None:\n",
        "        assert batch_size > 0, \"batch_size has to be defined and > 0\"\n",
        "        attention_mask = attention_mask.view(batch_size, -1)\n",
        "        attention_mask = attention_mask[:, None, None, :]\n",
        "        attention_mask = attention_mask.to(dtype=self.dtype)  # fp16 compatibility\n",
        "        attention_mask = (1.0 - attention_mask) * -10000.0\n",
        "\n",
        "      # print('input_ids' , input_ids.shape)\n",
        "      inputs_embeds = self.wte(input_ids)\n",
        "      position_embeds = self.wpe(position_ids)\n",
        "      hidden_states = inputs_embeds + position_embeds\n",
        "      hidden_states = self.drop(hidden_states)\n",
        "\n",
        "      return hidden_states, attention_mask\n",
        "\n",
        "    else:\n",
        "      block = self.blocks[layer_num-1]\n",
        "      outputs = block(inp, attention_mask=attention_mask)\n",
        "      hidden_states = outputs[0]\n",
        "      return hidden_states, attention_mask\n",
        "\n",
        "    # hidden_states = self.ln_f(hidden_states)\n",
        "    # output_shape = input_shape + (hidden_states.size(-1),)\n",
        "    # hidden_states = hidden_states.view(*output_shape)\n",
        "\n",
        "\n",
        "\n",
        "layerGpt2 = LayerGPT2()\n",
        "layerGpt2 = layerGpt2.cuda()\n",
        "# device = torch.device('cpu')\n",
        "# layerGpt2 = layerGpt2.to(device)\n"
      ],
      "execution_count": 53,
      "outputs": []
    },
    {
      "cell_type": "code",
      "metadata": {
        "id": "MXAZDrONOBPI"
      },
      "source": [
        "# this algorithm takes in toxic sentence and corresponsing nontoxic sentence\n",
        "# and returns layer wise PC set {P_0, ..., P_12}\n",
        "def run_gpt2_algorithm(S_t, S_nt, model, debias=True):\n",
        "    # inputs are encoded sentences\n",
        "    W_t, W_nt = S_t, S_nt\n",
        "\n",
        "    inp_ids_t, attn_masks_t = W_t['input_ids'], W_t['attention_mask']\n",
        "    inp_ids_nt, attn_masks_nt = W_nt['input_ids'], W_nt['attention_mask']\n",
        "\n",
        "    u, v, D, PCs, ev = [None] * 13, [None] * 13, [None] * 13, [None] * 13, [None] * 13\n",
        "    \n",
        "    inp_t = inp_ids_t.cuda()\n",
        "    atn_t = attn_masks_t.cuda()\n",
        "    # inp_t = inp_ids_t\n",
        "    # atn_t = attn_masks_t\n",
        "    \n",
        "    # print('inp_t', inp_t.shape, 'atn_t', atn_t.shape)\n",
        "    u[0], atn_t = model(0, inp_t, atn_t)\n",
        "    # print('u[0]', u[0].shape)\n",
        "\n",
        "    inp_nt = inp_ids_nt.cuda()\n",
        "    atn_nt = attn_masks_nt.cuda()\n",
        "    # inp_nt = inp_ids_nt\n",
        "    # atn_nt = attn_masks_nt\n",
        "    \n",
        "    v[0], atn_nt = model(0, inp_nt, atn_nt)\n",
        "    \n",
        "    D[0] = u[0] - v[0]  # todo: check dim, torch. ?\n",
        "    # print('D[0]', D[0].shape)\n",
        "    PCs[0], ev[0] = getPrincipalComponents(D[0])\n",
        "    \n",
        "    PCs[0] = PCs[0].cuda()\n",
        "    # print('PC[0]', PCs[0].shape, 'ev[0]', ev[0].shape)\n",
        "\n",
        "    for j in range(1, 13):\n",
        "        # print(\"BERT Layer j =\", j)\n",
        "        if debias:\n",
        "          uproj = projection(u[j - 1][0], PCs[j - 1])\n",
        "          vproj = projection(v[j - 1][0], PCs[j - 1])\n",
        "        else:\n",
        "          uproj = u[j-1][0]\n",
        "          vproj = v[j-1][0]\n",
        "\n",
        "        uproj = uproj.unsqueeze(dim=0).cuda()\n",
        "        vproj = vproj.unsqueeze(dim=0).cuda()\n",
        "        u[j], atn_t = model(j, uproj, atn_t)\n",
        "        v[j], atn_nt = model(j, vproj, atn_nt)\n",
        "        \n",
        "        D[j] = u[j] - v[j]  # todo: check dim, torch. ?\n",
        "        PCs[j], ev[j] = getPrincipalComponents(D[j])\n",
        "        PCs[j] = PCs[j].cuda()\n",
        "\n",
        "        # print('PCs[j]', PCs[j].shape)\n",
        "\n",
        "    return PCs, ev\n"
      ],
      "execution_count": 54,
      "outputs": []
    },
    {
      "cell_type": "markdown",
      "metadata": {
        "id": "9L9fzW_yf4aL"
      },
      "source": [
        "**Debiased GPT2**"
      ]
    },
    {
      "cell_type": "code",
      "metadata": {
        "id": "av8eN2ITOO4U",
        "outputId": "e92b7082-d702-4f77-9dd3-de8d8ac9e966",
        "colab": {
          "base_uri": "https://localhost:8080/"
        }
      },
      "source": [
        "\n",
        "toxic_words = ht['Word'][:num_words]\n",
        "ev = [0]*13\n",
        "count = 0\n",
        "# find toxic words and their sentences\n",
        "for word in toxic_words:\n",
        "  \n",
        "  sents = wsentTox[word][:num_sents]\n",
        "  print('word', word, 'num_sent', len(sents))\n",
        "  sflag = False\n",
        "  for sent in sents:\n",
        "    if count % 10 == 0: print(count)\n",
        "    # encoded_text = tokenizer(sent)\n",
        "    encoded_text = tokenizer.encode_plus(\n",
        "        sent, add_special_tokens=True, truncation=True,\n",
        "        max_length=256, padding='max_length',\n",
        "        return_attention_mask=True,\n",
        "        return_tensors='pt')\n",
        "    tox, attn_masks = encoded_text['input_ids'], encoded_text['attention_mask']\n",
        "    ntox = tox.clone()\n",
        "    tokens = list([tokenizer.convert_ids_to_tokens(i) for i in ntox][0])\n",
        "    tokens = [tok[1:] if tok[0] == 'Ġ' else tok for tok in tokens]\n",
        "    try:\n",
        "      idx = tokens.index(word)\n",
        "    except:\n",
        "      print('PROBLEM!')\n",
        "      # print(tokens)\n",
        "      print(sent)\n",
        "      continue\n",
        "      # sflag = True\n",
        "      # break\n",
        "\n",
        "    ntox[0][idx] = 0\n",
        "\n",
        "    encoded_T = {\n",
        "        \"input_ids\": tox,\n",
        "        \"attention_mask\": attn_masks\n",
        "    }\n",
        "    encoded_NT = {\n",
        "        \"input_ids\": ntox,\n",
        "        \"attention_mask\": attn_masks\n",
        "    }\n",
        "    principal_components, exp_variance = run_gpt2_algorithm(encoded_T, encoded_NT, layerGpt2, debias=True)\n",
        "\n",
        "    for i in range(13):\n",
        "      ev[i] += exp_variance[i]\n",
        "    count += 1\n",
        "\n",
        "  if sflag:\n",
        "    break\n",
        "print(count)\n",
        "# print('ev[0]', ev[0])\n",
        "# todo: Use BERTForSentenceClassification then check the classifier hidden output\n",
        "\n",
        "# a = num_sent x 768\n",
        "# b = 2 x 768 PCs\n",
        "# inner = a . bT -> num_sent x 2\n",
        "# inner . b -> num_sent x 768\n",
        "\n",
        "\n"
      ],
      "execution_count": 55,
      "outputs": [
        {
          "output_type": "stream",
          "text": [
            "word pussy num_sent 10\n",
            "0\n",
            "word whore num_sent 10\n",
            "10\n",
            "word bitch num_sent 10\n",
            "20\n",
            "word fuck num_sent 10\n",
            "30\n",
            "word asshole num_sent 10\n",
            "40\n",
            "word slut num_sent 10\n",
            "50\n",
            "word fucking num_sent 10\n",
            "60\n",
            "word cking num_sent 10\n",
            "70\n",
            "word fucked num_sent 10\n",
            "80\n",
            "word igger num_sent 10\n",
            "90\n",
            "100\n"
          ],
          "name": "stdout"
        }
      ]
    },
    {
      "cell_type": "code",
      "metadata": {
        "id": "zt6NSgw8OQMA",
        "outputId": "bf6aa342-3c75-4cca-8da7-18efb4bfa337",
        "colab": {
          "base_uri": "https://localhost:8080/",
          "height": 877
        }
      },
      "source": [
        "ev = [e/count*100 for e in ev]\n",
        "ev3 = ev\n",
        "\n",
        "first_pcs = [f[0] for f in ev3]\n",
        "print('First PCs', first_pcs)\n",
        "plotVariance(first_pcs, title='Debiased GPT2 - First PC contributions')\n",
        "\n",
        "second_pcs = [f[1] for f in ev3]\n",
        "print('Second PCs', second_pcs)\n",
        "plotVariance(second_pcs, title='Debiased GPT2 - Second PC contributions')\n",
        "\n",
        "third_pcs = [f[2] for f in ev3]\n",
        "print('Third PCs', third_pcs)\n",
        "plotVariance(third_pcs, title='Debiased GPT2 - Third PC contributions')"
      ],
      "execution_count": 56,
      "outputs": [
        {
          "output_type": "stream",
          "text": [
            "First PCs [100.0, 5.5695686, 12.697895, 36.629787, 21.045809, 17.293182, 10.257323, 7.6212754, 6.797771, 4.94317, 5.6913123, 5.4339094, 13.555585]\n"
          ],
          "name": "stdout"
        },
        {
          "output_type": "display_data",
          "data": {
            "image/png": "[encoded data removed]",
            "text/plain": [
              "<Figure size 432x288 with 1 Axes>"
            ]
          },
          "metadata": {
            "tags": [],
            "needs_background": "light"
          }
        },
        {
          "output_type": "stream",
          "text": [
            "Second PCs [8.195296e-13, 4.258931, 6.079664, 8.500664, 7.6632037, 7.608705, 5.784653, 4.347113, 4.1528354, 3.2562428, 3.5082984, 3.1522706, 4.4442253]\n"
          ],
          "name": "stdout"
        },
        {
          "output_type": "display_data",
          "data": {
            "image/png": "[encoded data removed]",
            "text/plain": [
              "<Figure size 432x288 with 1 Axes>"
            ]
          },
          "metadata": {
            "tags": [],
            "needs_background": "light"
          }
        },
        {
          "output_type": "stream",
          "text": [
            "Third PCs [3.5527137e-13, 3.6544151, 4.3040395, 4.3287153, 4.6384354, 4.745661, 3.80763, 3.2814593, 3.0708625, 2.5096312, 2.6420105, 2.3025894, 3.1859198]\n"
          ],
          "name": "stdout"
        },
        {
          "output_type": "display_data",
          "data": {
            "image/png": "[encoded data removed]",
            "text/plain": [
              "<Figure size 432x288 with 1 Axes>"
            ]
          },
          "metadata": {
            "tags": [],
            "needs_background": "light"
          }
        },
        {
          "output_type": "display_data",
          "data": {
            "text/plain": [
              "<Figure size 432x288 with 0 Axes>"
            ]
          },
          "metadata": {
            "tags": []
          }
        }
      ]
    },
    {
      "cell_type": "markdown",
      "metadata": {
        "id": "gHJpMDGBgAAc"
      },
      "source": [
        "**Normal GPT2**"
      ]
    },
    {
      "cell_type": "code",
      "metadata": {
        "id": "STSyuXNiOQlm",
        "outputId": "8f1a98d0-cea6-4d79-a6fb-b30231cd6374",
        "colab": {
          "base_uri": "https://localhost:8080/"
        }
      },
      "source": [
        "\n",
        "toxic_words = ht['Word'][:num_words]\n",
        "ev = [0]*13\n",
        "count = 0\n",
        "# find toxic words and their sentences\n",
        "for word in toxic_words:\n",
        "  \n",
        "  sents = wsentTox[word][:num_sents]\n",
        "  print('word', word, 'num_sent', len(sents))\n",
        "  sflag = False\n",
        "  for sent in sents:\n",
        "    if count % 10 == 0: print(count)\n",
        "    # encoded_text = tokenizer(sent)\n",
        "    encoded_text = tokenizer.encode_plus(\n",
        "        sent, add_special_tokens=True, truncation=True,\n",
        "        max_length=256, padding='max_length',\n",
        "        return_attention_mask=True,\n",
        "        return_tensors='pt')\n",
        "    tox, attn_masks = encoded_text['input_ids'], encoded_text['attention_mask']\n",
        "    ntox = tox.clone()\n",
        "    tokens = list([tokenizer.convert_ids_to_tokens(i) for i in ntox][0])\n",
        "    tokens = [tok[1:] if tok[0] == 'Ġ' else tok for tok in tokens]\n",
        "    try:\n",
        "      idx = tokens.index(word)\n",
        "    except:\n",
        "      print('PROBLEM!')\n",
        "      # print(tokens)\n",
        "      print(sent)\n",
        "      continue\n",
        "      # sflag = True\n",
        "      # break\n",
        "\n",
        "    ntox[0][idx] = 0\n",
        "\n",
        "    encoded_T = {\n",
        "        \"input_ids\": tox,\n",
        "        \"attention_mask\": attn_masks\n",
        "    }\n",
        "    encoded_NT = {\n",
        "        \"input_ids\": ntox,\n",
        "        \"attention_mask\": attn_masks\n",
        "    }\n",
        "    principal_components, exp_variance = run_gpt2_algorithm(encoded_T, encoded_NT, layerGpt2, debias=False)\n",
        "\n",
        "    for i in range(13):\n",
        "      ev[i] += exp_variance[i]\n",
        "    count += 1\n",
        "\n",
        "  if sflag:\n",
        "    break\n",
        "print(count)\n",
        "# print('ev[0]', ev[0])\n",
        "# todo: Use BERTForSentenceClassification then check the classifier hidden output\n",
        "\n",
        "# a = num_sent x 768\n",
        "# b = 2 x 768 PCs\n",
        "# inner = a . bT -> num_sent x 2\n",
        "# inner . b -> num_sent x 768\n",
        "\n",
        "\n"
      ],
      "execution_count": 57,
      "outputs": [
        {
          "output_type": "stream",
          "text": [
            "word pussy num_sent 10\n",
            "0\n",
            "word whore num_sent 10\n",
            "10\n",
            "word bitch num_sent 10\n",
            "20\n",
            "word fuck num_sent 10\n",
            "30\n",
            "word asshole num_sent 10\n",
            "40\n",
            "word slut num_sent 10\n",
            "50\n",
            "word fucking num_sent 10\n",
            "60\n",
            "word cking num_sent 10\n",
            "70\n",
            "word fucked num_sent 10\n",
            "80\n",
            "word igger num_sent 10\n",
            "90\n",
            "100\n"
          ],
          "name": "stdout"
        }
      ]
    },
    {
      "cell_type": "code",
      "metadata": {
        "id": "uclPuC_PgHQy",
        "outputId": "e89abc8d-dc4d-496d-a45a-7f6d500280ac",
        "colab": {
          "base_uri": "https://localhost:8080/",
          "height": 877
        }
      },
      "source": [
        "ev = [e/count*100 for e in ev]\n",
        "ev4 = ev\n",
        "\n",
        "first_pcs = [f[0] for f in ev4]\n",
        "print('First PCs', first_pcs)\n",
        "plotVariance(first_pcs, title='Normal GPT2 - First PC contributions')\n",
        "\n",
        "second_pcs = [f[1] for f in ev4]\n",
        "print('Second PCs', second_pcs)\n",
        "plotVariance(second_pcs, title='Normal GPT2 - Second PC contributions')\n",
        "\n",
        "third_pcs = [f[2] for f in ev4]\n",
        "print('Third PCs', third_pcs)\n",
        "plotVariance(third_pcs, title='Normal GPT2 - Third PC contributions')"
      ],
      "execution_count": 58,
      "outputs": [
        {
          "output_type": "stream",
          "text": [
            "First PCs [100.0, 86.20554, 70.905396, 54.297234, 49.09643, 43.148182, 40.955147, 39.11568, 37.457188, 35.641056, 34.34874, 35.0805, 49.209286]\n"
          ],
          "name": "stdout"
        },
        {
          "output_type": "display_data",
          "data": {
            "image/png": "[encoded data removed]",
            "text/plain": [
              "<Figure size 432x288 with 1 Axes>"
            ]
          },
          "metadata": {
            "tags": [],
            "needs_background": "light"
          }
        },
        {
          "output_type": "stream",
          "text": [
            "Second PCs [8.195296e-13, 7.8989835, 13.26383, 19.802603, 18.298786, 19.05163, 18.556013, 18.719439, 18.90347, 19.009811, 18.856026, 18.25159, 15.846679]\n"
          ],
          "name": "stdout"
        },
        {
          "output_type": "display_data",
          "data": {
            "image/png": "[encoded data removed]",
            "text/plain": [
              "<Figure size 432x288 with 1 Axes>"
            ]
          },
          "metadata": {
            "tags": [],
            "needs_background": "light"
          }
        },
        {
          "output_type": "stream",
          "text": [
            "Third PCs [3.5527137e-13, 1.9536314, 6.0224476, 9.073983, 10.402219, 11.298372, 11.472561, 11.540216, 11.567588, 11.477645, 11.636531, 11.611438, 9.291172]\n"
          ],
          "name": "stdout"
        },
        {
          "output_type": "display_data",
          "data": {
            "image/png": "[encoded data removed]",
            "text/plain": [
              "<Figure size 432x288 with 1 Axes>"
            ]
          },
          "metadata": {
            "tags": [],
            "needs_background": "light"
          }
        },
        {
          "output_type": "display_data",
          "data": {
            "text/plain": [
              "<Figure size 432x288 with 0 Axes>"
            ]
          },
          "metadata": {
            "tags": []
          }
        }
      ]
    },
    {
      "cell_type": "code",
      "metadata": {
        "id": "s9p6Fy21gOI8"
      },
      "source": [
        ""
      ],
      "execution_count": null,
      "outputs": []
    }
  ]
}