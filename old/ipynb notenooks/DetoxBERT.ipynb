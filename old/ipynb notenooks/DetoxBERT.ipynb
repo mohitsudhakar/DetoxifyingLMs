{
  "nbformat": 4,
  "nbformat_minor": 0,
  "metadata": {
    "kernelspec": {
      "display_name": "Python 3",
      "language": "python",
      "name": "python3"
    },
    "language_info": {
      "codemirror_mode": {
        "name": "ipython",
        "version": 3
      },
      "file_extension": ".py",
      "mimetype": "text/x-python",
      "name": "python",
      "nbconvert_exporter": "python",
      "pygments_lexer": "ipython3",
      "version": "3.7.6"
    },
    "colab": {
      "name": "DetoxBERT.ipynb",
      "provenance": [],
      "collapsed_sections": []
    },
    "accelerator": "GPU",
    "widgets": {
      "application/vnd.jupyter.widget-state+json": {
        "bef02b7a5b8b4e338690fe60d23e2342": {
          "model_module": "@jupyter-widgets/controls",
          "model_name": "HBoxModel",
          "state": {
            "_view_name": "HBoxView",
            "_dom_classes": [],
            "_model_name": "HBoxModel",
            "_view_module": "@jupyter-widgets/controls",
            "_model_module_version": "1.5.0",
            "_view_count": null,
            "_view_module_version": "1.5.0",
            "box_style": "",
            "layout": "IPY_MODEL_3eb84190cad54a79bd614e332aa67dc8",
            "_model_module": "@jupyter-widgets/controls",
            "children": [
              "IPY_MODEL_da7742c014d2429c929d8a0f755c5b4c",
              "IPY_MODEL_c88d77bc1a1e4c8eb4e637c2dafedbd3"
            ]
          }
        },
        "3eb84190cad54a79bd614e332aa67dc8": {
          "model_module": "@jupyter-widgets/base",
          "model_name": "LayoutModel",
          "state": {
            "_view_name": "LayoutView",
            "grid_template_rows": null,
            "right": null,
            "justify_content": null,
            "_view_module": "@jupyter-widgets/base",
            "overflow": null,
            "_model_module_version": "1.2.0",
            "_view_count": null,
            "flex_flow": null,
            "width": null,
            "min_width": null,
            "border": null,
            "align_items": null,
            "bottom": null,
            "_model_module": "@jupyter-widgets/base",
            "top": null,
            "grid_column": null,
            "overflow_y": null,
            "overflow_x": null,
            "grid_auto_flow": null,
            "grid_area": null,
            "grid_template_columns": null,
            "flex": null,
            "_model_name": "LayoutModel",
            "justify_items": null,
            "grid_row": null,
            "max_height": null,
            "align_content": null,
            "visibility": null,
            "align_self": null,
            "height": null,
            "min_height": null,
            "padding": null,
            "grid_auto_rows": null,
            "grid_gap": null,
            "max_width": null,
            "order": null,
            "_view_module_version": "1.2.0",
            "grid_template_areas": null,
            "object_position": null,
            "object_fit": null,
            "grid_auto_columns": null,
            "margin": null,
            "display": null,
            "left": null
          }
        },
        "da7742c014d2429c929d8a0f755c5b4c": {
          "model_module": "@jupyter-widgets/controls",
          "model_name": "FloatProgressModel",
          "state": {
            "_view_name": "ProgressView",
            "style": "IPY_MODEL_bcc88b3fa82346dd9b0a4a6a51c19917",
            "_dom_classes": [],
            "description": "Downloading: 100%",
            "_model_name": "FloatProgressModel",
            "bar_style": "success",
            "max": 231508,
            "_view_module": "@jupyter-widgets/controls",
            "_model_module_version": "1.5.0",
            "value": 231508,
            "_view_count": null,
            "_view_module_version": "1.5.0",
            "orientation": "horizontal",
            "min": 0,
            "description_tooltip": null,
            "_model_module": "@jupyter-widgets/controls",
            "layout": "IPY_MODEL_fb0c9cce221d47aaa4069b86e05c010b"
          }
        },
        "c88d77bc1a1e4c8eb4e637c2dafedbd3": {
          "model_module": "@jupyter-widgets/controls",
          "model_name": "HTMLModel",
          "state": {
            "_view_name": "HTMLView",
            "style": "IPY_MODEL_4701a1db7b0645b2b92c2dda0d92dfce",
            "_dom_classes": [],
            "description": "",
            "_model_name": "HTMLModel",
            "placeholder": "​",
            "_view_module": "@jupyter-widgets/controls",
            "_model_module_version": "1.5.0",
            "value": " 232k/232k [01:02&lt;00:00, 3.72kB/s]",
            "_view_count": null,
            "_view_module_version": "1.5.0",
            "description_tooltip": null,
            "_model_module": "@jupyter-widgets/controls",
            "layout": "IPY_MODEL_7bd7f501d19d4c18bff9c5abff093b6d"
          }
        },
        "bcc88b3fa82346dd9b0a4a6a51c19917": {
          "model_module": "@jupyter-widgets/controls",
          "model_name": "ProgressStyleModel",
          "state": {
            "_view_name": "StyleView",
            "_model_name": "ProgressStyleModel",
            "description_width": "initial",
            "_view_module": "@jupyter-widgets/base",
            "_model_module_version": "1.5.0",
            "_view_count": null,
            "_view_module_version": "1.2.0",
            "bar_color": null,
            "_model_module": "@jupyter-widgets/controls"
          }
        },
        "fb0c9cce221d47aaa4069b86e05c010b": {
          "model_module": "@jupyter-widgets/base",
          "model_name": "LayoutModel",
          "state": {
            "_view_name": "LayoutView",
            "grid_template_rows": null,
            "right": null,
            "justify_content": null,
            "_view_module": "@jupyter-widgets/base",
            "overflow": null,
            "_model_module_version": "1.2.0",
            "_view_count": null,
            "flex_flow": null,
            "width": null,
            "min_width": null,
            "border": null,
            "align_items": null,
            "bottom": null,
            "_model_module": "@jupyter-widgets/base",
            "top": null,
            "grid_column": null,
            "overflow_y": null,
            "overflow_x": null,
            "grid_auto_flow": null,
            "grid_area": null,
            "grid_template_columns": null,
            "flex": null,
            "_model_name": "LayoutModel",
            "justify_items": null,
            "grid_row": null,
            "max_height": null,
            "align_content": null,
            "visibility": null,
            "align_self": null,
            "height": null,
            "min_height": null,
            "padding": null,
            "grid_auto_rows": null,
            "grid_gap": null,
            "max_width": null,
            "order": null,
            "_view_module_version": "1.2.0",
            "grid_template_areas": null,
            "object_position": null,
            "object_fit": null,
            "grid_auto_columns": null,
            "margin": null,
            "display": null,
            "left": null
          }
        },
        "4701a1db7b0645b2b92c2dda0d92dfce": {
          "model_module": "@jupyter-widgets/controls",
          "model_name": "DescriptionStyleModel",
          "state": {
            "_view_name": "StyleView",
            "_model_name": "DescriptionStyleModel",
            "description_width": "",
            "_view_module": "@jupyter-widgets/base",
            "_model_module_version": "1.5.0",
            "_view_count": null,
            "_view_module_version": "1.2.0",
            "_model_module": "@jupyter-widgets/controls"
          }
        },
        "7bd7f501d19d4c18bff9c5abff093b6d": {
          "model_module": "@jupyter-widgets/base",
          "model_name": "LayoutModel",
          "state": {
            "_view_name": "LayoutView",
            "grid_template_rows": null,
            "right": null,
            "justify_content": null,
            "_view_module": "@jupyter-widgets/base",
            "overflow": null,
            "_model_module_version": "1.2.0",
            "_view_count": null,
            "flex_flow": null,
            "width": null,
            "min_width": null,
            "border": null,
            "align_items": null,
            "bottom": null,
            "_model_module": "@jupyter-widgets/base",
            "top": null,
            "grid_column": null,
            "overflow_y": null,
            "overflow_x": null,
            "grid_auto_flow": null,
            "grid_area": null,
            "grid_template_columns": null,
            "flex": null,
            "_model_name": "LayoutModel",
            "justify_items": null,
            "grid_row": null,
            "max_height": null,
            "align_content": null,
            "visibility": null,
            "align_self": null,
            "height": null,
            "min_height": null,
            "padding": null,
            "grid_auto_rows": null,
            "grid_gap": null,
            "max_width": null,
            "order": null,
            "_view_module_version": "1.2.0",
            "grid_template_areas": null,
            "object_position": null,
            "object_fit": null,
            "grid_auto_columns": null,
            "margin": null,
            "display": null,
            "left": null
          }
        },
        "f55d395bbfb44e268b92d132578cc697": {
          "model_module": "@jupyter-widgets/controls",
          "model_name": "HBoxModel",
          "state": {
            "_view_name": "HBoxView",
            "_dom_classes": [],
            "_model_name": "HBoxModel",
            "_view_module": "@jupyter-widgets/controls",
            "_model_module_version": "1.5.0",
            "_view_count": null,
            "_view_module_version": "1.5.0",
            "box_style": "",
            "layout": "IPY_MODEL_588019f14b1b4a099ea71f5458de3bd0",
            "_model_module": "@jupyter-widgets/controls",
            "children": [
              "IPY_MODEL_4144a2dc00d242c193819599753613e1",
              "IPY_MODEL_2706d4c8599c4a52b58be7aa6c715c9a"
            ]
          }
        },
        "588019f14b1b4a099ea71f5458de3bd0": {
          "model_module": "@jupyter-widgets/base",
          "model_name": "LayoutModel",
          "state": {
            "_view_name": "LayoutView",
            "grid_template_rows": null,
            "right": null,
            "justify_content": null,
            "_view_module": "@jupyter-widgets/base",
            "overflow": null,
            "_model_module_version": "1.2.0",
            "_view_count": null,
            "flex_flow": null,
            "width": null,
            "min_width": null,
            "border": null,
            "align_items": null,
            "bottom": null,
            "_model_module": "@jupyter-widgets/base",
            "top": null,
            "grid_column": null,
            "overflow_y": null,
            "overflow_x": null,
            "grid_auto_flow": null,
            "grid_area": null,
            "grid_template_columns": null,
            "flex": null,
            "_model_name": "LayoutModel",
            "justify_items": null,
            "grid_row": null,
            "max_height": null,
            "align_content": null,
            "visibility": null,
            "align_self": null,
            "height": null,
            "min_height": null,
            "padding": null,
            "grid_auto_rows": null,
            "grid_gap": null,
            "max_width": null,
            "order": null,
            "_view_module_version": "1.2.0",
            "grid_template_areas": null,
            "object_position": null,
            "object_fit": null,
            "grid_auto_columns": null,
            "margin": null,
            "display": null,
            "left": null
          }
        },
        "4144a2dc00d242c193819599753613e1": {
          "model_module": "@jupyter-widgets/controls",
          "model_name": "FloatProgressModel",
          "state": {
            "_view_name": "ProgressView",
            "style": "IPY_MODEL_4254c579131a40838defb09fdba3bd9e",
            "_dom_classes": [],
            "description": "Downloading: 100%",
            "_model_name": "FloatProgressModel",
            "bar_style": "success",
            "max": 433,
            "_view_module": "@jupyter-widgets/controls",
            "_model_module_version": "1.5.0",
            "value": 433,
            "_view_count": null,
            "_view_module_version": "1.5.0",
            "orientation": "horizontal",
            "min": 0,
            "description_tooltip": null,
            "_model_module": "@jupyter-widgets/controls",
            "layout": "IPY_MODEL_6ada88a0e764416d9d1019ad16285bdd"
          }
        },
        "2706d4c8599c4a52b58be7aa6c715c9a": {
          "model_module": "@jupyter-widgets/controls",
          "model_name": "HTMLModel",
          "state": {
            "_view_name": "HTMLView",
            "style": "IPY_MODEL_d57dca08453e4a90a47204f1e5753f60",
            "_dom_classes": [],
            "description": "",
            "_model_name": "HTMLModel",
            "placeholder": "​",
            "_view_module": "@jupyter-widgets/controls",
            "_model_module_version": "1.5.0",
            "value": " 433/433 [00:00&lt;00:00, 558B/s]",
            "_view_count": null,
            "_view_module_version": "1.5.0",
            "description_tooltip": null,
            "_model_module": "@jupyter-widgets/controls",
            "layout": "IPY_MODEL_b9504a816ee4436eb06389257916aaa5"
          }
        },
        "4254c579131a40838defb09fdba3bd9e": {
          "model_module": "@jupyter-widgets/controls",
          "model_name": "ProgressStyleModel",
          "state": {
            "_view_name": "StyleView",
            "_model_name": "ProgressStyleModel",
            "description_width": "initial",
            "_view_module": "@jupyter-widgets/base",
            "_model_module_version": "1.5.0",
            "_view_count": null,
            "_view_module_version": "1.2.0",
            "bar_color": null,
            "_model_module": "@jupyter-widgets/controls"
          }
        },
        "6ada88a0e764416d9d1019ad16285bdd": {
          "model_module": "@jupyter-widgets/base",
          "model_name": "LayoutModel",
          "state": {
            "_view_name": "LayoutView",
            "grid_template_rows": null,
            "right": null,
            "justify_content": null,
            "_view_module": "@jupyter-widgets/base",
            "overflow": null,
            "_model_module_version": "1.2.0",
            "_view_count": null,
            "flex_flow": null,
            "width": null,
            "min_width": null,
            "border": null,
            "align_items": null,
            "bottom": null,
            "_model_module": "@jupyter-widgets/base",
            "top": null,
            "grid_column": null,
            "overflow_y": null,
            "overflow_x": null,
            "grid_auto_flow": null,
            "grid_area": null,
            "grid_template_columns": null,
            "flex": null,
            "_model_name": "LayoutModel",
            "justify_items": null,
            "grid_row": null,
            "max_height": null,
            "align_content": null,
            "visibility": null,
            "align_self": null,
            "height": null,
            "min_height": null,
            "padding": null,
            "grid_auto_rows": null,
            "grid_gap": null,
            "max_width": null,
            "order": null,
            "_view_module_version": "1.2.0",
            "grid_template_areas": null,
            "object_position": null,
            "object_fit": null,
            "grid_auto_columns": null,
            "margin": null,
            "display": null,
            "left": null
          }
        },
        "d57dca08453e4a90a47204f1e5753f60": {
          "model_module": "@jupyter-widgets/controls",
          "model_name": "DescriptionStyleModel",
          "state": {
            "_view_name": "StyleView",
            "_model_name": "DescriptionStyleModel",
            "description_width": "",
            "_view_module": "@jupyter-widgets/base",
            "_model_module_version": "1.5.0",
            "_view_count": null,
            "_view_module_version": "1.2.0",
            "_model_module": "@jupyter-widgets/controls"
          }
        },
        "b9504a816ee4436eb06389257916aaa5": {
          "model_module": "@jupyter-widgets/base",
          "model_name": "LayoutModel",
          "state": {
            "_view_name": "LayoutView",
            "grid_template_rows": null,
            "right": null,
            "justify_content": null,
            "_view_module": "@jupyter-widgets/base",
            "overflow": null,
            "_model_module_version": "1.2.0",
            "_view_count": null,
            "flex_flow": null,
            "width": null,
            "min_width": null,
            "border": null,
            "align_items": null,
            "bottom": null,
            "_model_module": "@jupyter-widgets/base",
            "top": null,
            "grid_column": null,
            "overflow_y": null,
            "overflow_x": null,
            "grid_auto_flow": null,
            "grid_area": null,
            "grid_template_columns": null,
            "flex": null,
            "_model_name": "LayoutModel",
            "justify_items": null,
            "grid_row": null,
            "max_height": null,
            "align_content": null,
            "visibility": null,
            "align_self": null,
            "height": null,
            "min_height": null,
            "padding": null,
            "grid_auto_rows": null,
            "grid_gap": null,
            "max_width": null,
            "order": null,
            "_view_module_version": "1.2.0",
            "grid_template_areas": null,
            "object_position": null,
            "object_fit": null,
            "grid_auto_columns": null,
            "margin": null,
            "display": null,
            "left": null
          }
        },
        "e91aeceb31104fd984dc80ada46a5c58": {
          "model_module": "@jupyter-widgets/controls",
          "model_name": "HBoxModel",
          "state": {
            "_view_name": "HBoxView",
            "_dom_classes": [],
            "_model_name": "HBoxModel",
            "_view_module": "@jupyter-widgets/controls",
            "_model_module_version": "1.5.0",
            "_view_count": null,
            "_view_module_version": "1.5.0",
            "box_style": "",
            "layout": "IPY_MODEL_cc662b054d3547778cfa388b50ca4fc2",
            "_model_module": "@jupyter-widgets/controls",
            "children": [
              "IPY_MODEL_88e56282484d45248d84706fb8a86cda",
              "IPY_MODEL_a2d7fc107b27487ab5a90523790fd141"
            ]
          }
        },
        "cc662b054d3547778cfa388b50ca4fc2": {
          "model_module": "@jupyter-widgets/base",
          "model_name": "LayoutModel",
          "state": {
            "_view_name": "LayoutView",
            "grid_template_rows": null,
            "right": null,
            "justify_content": null,
            "_view_module": "@jupyter-widgets/base",
            "overflow": null,
            "_model_module_version": "1.2.0",
            "_view_count": null,
            "flex_flow": null,
            "width": null,
            "min_width": null,
            "border": null,
            "align_items": null,
            "bottom": null,
            "_model_module": "@jupyter-widgets/base",
            "top": null,
            "grid_column": null,
            "overflow_y": null,
            "overflow_x": null,
            "grid_auto_flow": null,
            "grid_area": null,
            "grid_template_columns": null,
            "flex": null,
            "_model_name": "LayoutModel",
            "justify_items": null,
            "grid_row": null,
            "max_height": null,
            "align_content": null,
            "visibility": null,
            "align_self": null,
            "height": null,
            "min_height": null,
            "padding": null,
            "grid_auto_rows": null,
            "grid_gap": null,
            "max_width": null,
            "order": null,
            "_view_module_version": "1.2.0",
            "grid_template_areas": null,
            "object_position": null,
            "object_fit": null,
            "grid_auto_columns": null,
            "margin": null,
            "display": null,
            "left": null
          }
        },
        "88e56282484d45248d84706fb8a86cda": {
          "model_module": "@jupyter-widgets/controls",
          "model_name": "FloatProgressModel",
          "state": {
            "_view_name": "ProgressView",
            "style": "IPY_MODEL_946ce06e6f664cc99fa2d961d852564a",
            "_dom_classes": [],
            "description": "Downloading: 100%",
            "_model_name": "FloatProgressModel",
            "bar_style": "success",
            "max": 440473133,
            "_view_module": "@jupyter-widgets/controls",
            "_model_module_version": "1.5.0",
            "value": 440473133,
            "_view_count": null,
            "_view_module_version": "1.5.0",
            "orientation": "horizontal",
            "min": 0,
            "description_tooltip": null,
            "_model_module": "@jupyter-widgets/controls",
            "layout": "IPY_MODEL_3c309ea309ff433980a3459e71122bad"
          }
        },
        "a2d7fc107b27487ab5a90523790fd141": {
          "model_module": "@jupyter-widgets/controls",
          "model_name": "HTMLModel",
          "state": {
            "_view_name": "HTMLView",
            "style": "IPY_MODEL_54189420a9d848b996ca5edb1fd46c1d",
            "_dom_classes": [],
            "description": "",
            "_model_name": "HTMLModel",
            "placeholder": "​",
            "_view_module": "@jupyter-widgets/controls",
            "_model_module_version": "1.5.0",
            "value": " 440M/440M [00:08&lt;00:00, 52.5MB/s]",
            "_view_count": null,
            "_view_module_version": "1.5.0",
            "description_tooltip": null,
            "_model_module": "@jupyter-widgets/controls",
            "layout": "IPY_MODEL_bd46a356bf9d469a8a72e03546ba9a11"
          }
        },
        "946ce06e6f664cc99fa2d961d852564a": {
          "model_module": "@jupyter-widgets/controls",
          "model_name": "ProgressStyleModel",
          "state": {
            "_view_name": "StyleView",
            "_model_name": "ProgressStyleModel",
            "description_width": "initial",
            "_view_module": "@jupyter-widgets/base",
            "_model_module_version": "1.5.0",
            "_view_count": null,
            "_view_module_version": "1.2.0",
            "bar_color": null,
            "_model_module": "@jupyter-widgets/controls"
          }
        },
        "3c309ea309ff433980a3459e71122bad": {
          "model_module": "@jupyter-widgets/base",
          "model_name": "LayoutModel",
          "state": {
            "_view_name": "LayoutView",
            "grid_template_rows": null,
            "right": null,
            "justify_content": null,
            "_view_module": "@jupyter-widgets/base",
            "overflow": null,
            "_model_module_version": "1.2.0",
            "_view_count": null,
            "flex_flow": null,
            "width": null,
            "min_width": null,
            "border": null,
            "align_items": null,
            "bottom": null,
            "_model_module": "@jupyter-widgets/base",
            "top": null,
            "grid_column": null,
            "overflow_y": null,
            "overflow_x": null,
            "grid_auto_flow": null,
            "grid_area": null,
            "grid_template_columns": null,
            "flex": null,
            "_model_name": "LayoutModel",
            "justify_items": null,
            "grid_row": null,
            "max_height": null,
            "align_content": null,
            "visibility": null,
            "align_self": null,
            "height": null,
            "min_height": null,
            "padding": null,
            "grid_auto_rows": null,
            "grid_gap": null,
            "max_width": null,
            "order": null,
            "_view_module_version": "1.2.0",
            "grid_template_areas": null,
            "object_position": null,
            "object_fit": null,
            "grid_auto_columns": null,
            "margin": null,
            "display": null,
            "left": null
          }
        },
        "54189420a9d848b996ca5edb1fd46c1d": {
          "model_module": "@jupyter-widgets/controls",
          "model_name": "DescriptionStyleModel",
          "state": {
            "_view_name": "StyleView",
            "_model_name": "DescriptionStyleModel",
            "description_width": "",
            "_view_module": "@jupyter-widgets/base",
            "_model_module_version": "1.5.0",
            "_view_count": null,
            "_view_module_version": "1.2.0",
            "_model_module": "@jupyter-widgets/controls"
          }
        },
        "bd46a356bf9d469a8a72e03546ba9a11": {
          "model_module": "@jupyter-widgets/base",
          "model_name": "LayoutModel",
          "state": {
            "_view_name": "LayoutView",
            "grid_template_rows": null,
            "right": null,
            "justify_content": null,
            "_view_module": "@jupyter-widgets/base",
            "overflow": null,
            "_model_module_version": "1.2.0",
            "_view_count": null,
            "flex_flow": null,
            "width": null,
            "min_width": null,
            "border": null,
            "align_items": null,
            "bottom": null,
            "_model_module": "@jupyter-widgets/base",
            "top": null,
            "grid_column": null,
            "overflow_y": null,
            "overflow_x": null,
            "grid_auto_flow": null,
            "grid_area": null,
            "grid_template_columns": null,
            "flex": null,
            "_model_name": "LayoutModel",
            "justify_items": null,
            "grid_row": null,
            "max_height": null,
            "align_content": null,
            "visibility": null,
            "align_self": null,
            "height": null,
            "min_height": null,
            "padding": null,
            "grid_auto_rows": null,
            "grid_gap": null,
            "max_width": null,
            "order": null,
            "_view_module_version": "1.2.0",
            "grid_template_areas": null,
            "object_position": null,
            "object_fit": null,
            "grid_auto_columns": null,
            "margin": null,
            "display": null,
            "left": null
          }
        }
      }
    }
  },
  "cells": [
    {
      "cell_type": "code",
      "metadata": {
        "id": "F56UFd7s8Do_",
        "outputId": "995bcf8b-cc7e-464c-9e02-b52b41d2012a",
        "colab": {
          "base_uri": "https://localhost:8080/",
          "height": 949,
          "referenced_widgets": [
            "bef02b7a5b8b4e338690fe60d23e2342",
            "3eb84190cad54a79bd614e332aa67dc8",
            "da7742c014d2429c929d8a0f755c5b4c",
            "c88d77bc1a1e4c8eb4e637c2dafedbd3",
            "bcc88b3fa82346dd9b0a4a6a51c19917",
            "fb0c9cce221d47aaa4069b86e05c010b",
            "4701a1db7b0645b2b92c2dda0d92dfce",
            "7bd7f501d19d4c18bff9c5abff093b6d",
            "f55d395bbfb44e268b92d132578cc697",
            "588019f14b1b4a099ea71f5458de3bd0",
            "4144a2dc00d242c193819599753613e1",
            "2706d4c8599c4a52b58be7aa6c715c9a",
            "4254c579131a40838defb09fdba3bd9e",
            "6ada88a0e764416d9d1019ad16285bdd",
            "d57dca08453e4a90a47204f1e5753f60",
            "b9504a816ee4436eb06389257916aaa5",
            "e91aeceb31104fd984dc80ada46a5c58",
            "cc662b054d3547778cfa388b50ca4fc2",
            "88e56282484d45248d84706fb8a86cda",
            "a2d7fc107b27487ab5a90523790fd141",
            "946ce06e6f664cc99fa2d961d852564a",
            "3c309ea309ff433980a3459e71122bad",
            "54189420a9d848b996ca5edb1fd46c1d",
            "bd46a356bf9d469a8a72e03546ba9a11"
          ]
        }
      },
      "source": [
        "import collections\n",
        "import numpy as np\n",
        "import pandas as pd\n",
        "import nltk\n",
        "nltk.download('stopwords')\n",
        "nltk.download('punkt')\n",
        "from nltk.tokenize import word_tokenize\n",
        "from nltk.corpus import stopwords\n",
        "stop_words = set(stopwords.words('english'))\n",
        "import string\n",
        "puncs = string.punctuation.replace('*', '').replace('#', '')\n",
        "table = str.maketrans('', '', puncs)\n",
        "import re\n",
        "# from nltk.stem.porter import PorterStemmer\n",
        "# porter = PorterStemmer()\n",
        "\n",
        "import torch\n",
        "import torch.nn as nn\n",
        "!pip install transformers\n",
        "from transformers import BertTokenizer, BertModel\n",
        "tokenizer = BertTokenizer.from_pretrained('bert-base-uncased')\n",
        "bert_model = BertModel.from_pretrained('bert-base-uncased')\n",
        "from transformers import BertForSequenceClassification\n",
        "bertseq = BertForSequenceClassification.from_pretrained('bert-base-uncased')"
      ],
      "execution_count": 1,
      "outputs": [
        {
          "output_type": "stream",
          "text": [
            "[nltk_data] Downloading package stopwords to /root/nltk_data...\n",
            "[nltk_data]   Unzipping corpora/stopwords.zip.\n",
            "[nltk_data] Downloading package punkt to /root/nltk_data...\n",
            "[nltk_data]   Unzipping tokenizers/punkt.zip.\n",
            "Collecting transformers\n",
            "\u001b[?25l  Downloading https://files.pythonhosted.org/packages/2c/4e/4f1ede0fd7a36278844a277f8d53c21f88f37f3754abf76a5d6224f76d4a/transformers-3.4.0-py3-none-any.whl (1.3MB)\n",
            "\u001b[K     |████████████████████████████████| 1.3MB 10.7MB/s \n",
            "\u001b[?25hRequirement already satisfied: filelock in /usr/local/lib/python3.6/dist-packages (from transformers) (3.0.12)\n",
            "Collecting tokenizers==0.9.2\n",
            "\u001b[?25l  Downloading https://files.pythonhosted.org/packages/7c/a5/78be1a55b2ac8d6a956f0a211d372726e2b1dd2666bb537fea9b03abd62c/tokenizers-0.9.2-cp36-cp36m-manylinux1_x86_64.whl (2.9MB)\n",
            "\u001b[K     |████████████████████████████████| 2.9MB 22.2MB/s \n",
            "\u001b[?25hRequirement already satisfied: protobuf in /usr/local/lib/python3.6/dist-packages (from transformers) (3.12.4)\n",
            "Requirement already satisfied: dataclasses; python_version < \"3.7\" in /usr/local/lib/python3.6/dist-packages (from transformers) (0.7)\n",
            "Requirement already satisfied: packaging in /usr/local/lib/python3.6/dist-packages (from transformers) (20.4)\n",
            "Requirement already satisfied: tqdm>=4.27 in /usr/local/lib/python3.6/dist-packages (from transformers) (4.41.1)\n",
            "Requirement already satisfied: numpy in /usr/local/lib/python3.6/dist-packages (from transformers) (1.18.5)\n",
            "Requirement already satisfied: requests in /usr/local/lib/python3.6/dist-packages (from transformers) (2.23.0)\n",
            "Requirement already satisfied: regex!=2019.12.17 in /usr/local/lib/python3.6/dist-packages (from transformers) (2019.12.20)\n",
            "Collecting sentencepiece!=0.1.92\n",
            "\u001b[?25l  Downloading https://files.pythonhosted.org/packages/e5/2d/6d4ca4bef9a67070fa1cac508606328329152b1df10bdf31fb6e4e727894/sentencepiece-0.1.94-cp36-cp36m-manylinux2014_x86_64.whl (1.1MB)\n",
            "\u001b[K     |████████████████████████████████| 1.1MB 44.9MB/s \n",
            "\u001b[?25hCollecting sacremoses\n",
            "\u001b[?25l  Downloading https://files.pythonhosted.org/packages/7d/34/09d19aff26edcc8eb2a01bed8e98f13a1537005d31e95233fd48216eed10/sacremoses-0.0.43.tar.gz (883kB)\n",
            "\u001b[K     |████████████████████████████████| 890kB 46.7MB/s \n",
            "\u001b[?25hRequirement already satisfied: six>=1.9 in /usr/local/lib/python3.6/dist-packages (from protobuf->transformers) (1.15.0)\n",
            "Requirement already satisfied: setuptools in /usr/local/lib/python3.6/dist-packages (from protobuf->transformers) (50.3.2)\n",
            "Requirement already satisfied: pyparsing>=2.0.2 in /usr/local/lib/python3.6/dist-packages (from packaging->transformers) (2.4.7)\n",
            "Requirement already satisfied: chardet<4,>=3.0.2 in /usr/local/lib/python3.6/dist-packages (from requests->transformers) (3.0.4)\n",
            "Requirement already satisfied: urllib3!=1.25.0,!=1.25.1,<1.26,>=1.21.1 in /usr/local/lib/python3.6/dist-packages (from requests->transformers) (1.24.3)\n",
            "Requirement already satisfied: certifi>=2017.4.17 in /usr/local/lib/python3.6/dist-packages (from requests->transformers) (2020.6.20)\n",
            "Requirement already satisfied: idna<3,>=2.5 in /usr/local/lib/python3.6/dist-packages (from requests->transformers) (2.10)\n",
            "Requirement already satisfied: click in /usr/local/lib/python3.6/dist-packages (from sacremoses->transformers) (7.1.2)\n",
            "Requirement already satisfied: joblib in /usr/local/lib/python3.6/dist-packages (from sacremoses->transformers) (0.17.0)\n",
            "Building wheels for collected packages: sacremoses\n",
            "  Building wheel for sacremoses (setup.py) ... \u001b[?25l\u001b[?25hdone\n",
            "  Created wheel for sacremoses: filename=sacremoses-0.0.43-cp36-none-any.whl size=893257 sha256=3de9319e286ab97055bc9ce2d71d8a07391b5bb9490fdf05f8a13c4c75e64545\n",
            "  Stored in directory: /root/.cache/pip/wheels/29/3c/fd/7ce5c3f0666dab31a50123635e6fb5e19ceb42ce38d4e58f45\n",
            "Successfully built sacremoses\n",
            "Installing collected packages: tokenizers, sentencepiece, sacremoses, transformers\n",
            "Successfully installed sacremoses-0.0.43 sentencepiece-0.1.94 tokenizers-0.9.2 transformers-3.4.0\n"
          ],
          "name": "stdout"
        },
        {
          "output_type": "display_data",
          "data": {
            "application/vnd.jupyter.widget-view+json": {
              "model_id": "bef02b7a5b8b4e338690fe60d23e2342",
              "version_minor": 0,
              "version_major": 2
            },
            "text/plain": [
              "HBox(children=(FloatProgress(value=0.0, description='Downloading', max=231508.0, style=ProgressStyle(descripti…"
            ]
          },
          "metadata": {
            "tags": []
          }
        },
        {
          "output_type": "stream",
          "text": [
            "\n"
          ],
          "name": "stdout"
        },
        {
          "output_type": "display_data",
          "data": {
            "application/vnd.jupyter.widget-view+json": {
              "model_id": "f55d395bbfb44e268b92d132578cc697",
              "version_minor": 0,
              "version_major": 2
            },
            "text/plain": [
              "HBox(children=(FloatProgress(value=0.0, description='Downloading', max=433.0, style=ProgressStyle(description_…"
            ]
          },
          "metadata": {
            "tags": []
          }
        },
        {
          "output_type": "stream",
          "text": [
            "\n"
          ],
          "name": "stdout"
        },
        {
          "output_type": "display_data",
          "data": {
            "application/vnd.jupyter.widget-view+json": {
              "model_id": "e91aeceb31104fd984dc80ada46a5c58",
              "version_minor": 0,
              "version_major": 2
            },
            "text/plain": [
              "HBox(children=(FloatProgress(value=0.0, description='Downloading', max=440473133.0, style=ProgressStyle(descri…"
            ]
          },
          "metadata": {
            "tags": []
          }
        },
        {
          "output_type": "stream",
          "text": [
            "\n"
          ],
          "name": "stdout"
        },
        {
          "output_type": "stream",
          "text": [
            "Some weights of the model checkpoint at bert-base-uncased were not used when initializing BertForSequenceClassification: ['cls.predictions.bias', 'cls.predictions.transform.dense.weight', 'cls.predictions.transform.dense.bias', 'cls.predictions.decoder.weight', 'cls.seq_relationship.weight', 'cls.seq_relationship.bias', 'cls.predictions.transform.LayerNorm.weight', 'cls.predictions.transform.LayerNorm.bias']\n",
            "- This IS expected if you are initializing BertForSequenceClassification from the checkpoint of a model trained on another task or with another architecture (e.g. initializing a BertForSequenceClassification model from a BertForPretraining model).\n",
            "- This IS NOT expected if you are initializing BertForSequenceClassification from the checkpoint of a model that you expect to be exactly identical (initializing a BertForSequenceClassification model from a BertForSequenceClassification model).\n",
            "Some weights of BertForSequenceClassification were not initialized from the model checkpoint at bert-base-uncased and are newly initialized: ['classifier.weight', 'classifier.bias']\n",
            "You should probably TRAIN this model on a down-stream task to be able to use it for predictions and inference.\n"
          ],
          "name": "stderr"
        }
      ]
    },
    {
      "cell_type": "code",
      "metadata": {
        "id": "CWPZaKoOL1U8"
      },
      "source": [
        "# string.punctuation.replace('*', '')"
      ],
      "execution_count": 2,
      "outputs": []
    },
    {
      "cell_type": "code",
      "metadata": {
        "id": "hCX2Br2I8DpH"
      },
      "source": [
        "def checks(w):\n",
        "    if w in stop_words: return False\n",
        "    if re.search('[a-zA-Z]', w) and '*' in w: return True\n",
        "    if not w.isalpha(): return False\n",
        "    if len(w) == 1 and w not in ['a', 'i', 'o', 'u']: return False\n",
        "    return True"
      ],
      "execution_count": 3,
      "outputs": []
    },
    {
      "cell_type": "code",
      "metadata": {
        "id": "R5OL2mpL8DpK"
      },
      "source": [
        "def getWordCounts(texts, scores, word_tokens):\n",
        "    l = len(texts)\n",
        "    wordCounts = {}\n",
        "    for i in range(l):\n",
        "        if i % 10000 == 0: print(i)\n",
        "        text, score = texts[i], scores[i]\n",
        "        wtoks = word_tokens[i]\n",
        "        for w in wtoks:\n",
        "            w = w.lower()\n",
        "            w = w.translate(table)\n",
        "            if not checks(w): continue\n",
        "            wordCounts[w] = wordCounts.get(w, 0) + 1\n",
        "    return wordCounts"
      ],
      "execution_count": 4,
      "outputs": []
    },
    {
      "cell_type": "code",
      "metadata": {
        "id": "Kx49BEXe8DpO"
      },
      "source": [
        "def getWordSentences(texts, word_tokens):\n",
        "    l = len(texts)\n",
        "    wordSentences = collections.defaultdict(list)\n",
        "    for i in range(l):\n",
        "        if i % 10000 == 0: print(i)\n",
        "        text = texts[i]\n",
        "        text = text.lower()\n",
        "        wtoks = word_tokens[i]\n",
        "        for w in wtoks:\n",
        "            w = w.lower()\n",
        "            w = w.translate(table)\n",
        "            # w = porter.stem(w)\n",
        "            if not checks(w): continue\n",
        "            wordSentences[w].append(text)\n",
        "    return wordSentences"
      ],
      "execution_count": 5,
      "outputs": []
    },
    {
      "cell_type": "code",
      "metadata": {
        "id": "cf_mS0Pu8DpR"
      },
      "source": [
        "def getSortedWordScores(wordCounts, asc=False):\n",
        "    rows_list = []\n",
        "    for i,w in enumerate(wordCounts):\n",
        "        dic = {'Word': w, 'Count': wordCounts[w]}\n",
        "        rows_list.append(dic)\n",
        "        \n",
        "    wordScores = pd.DataFrame(rows_list, columns=['Word', 'Count'])\n",
        "    \n",
        "    return wordScores"
      ],
      "execution_count": 6,
      "outputs": []
    },
    {
      "cell_type": "code",
      "metadata": {
        "id": "FVA7LGEQ9Fgv",
        "outputId": "89aa80ff-daa2-4469-aed3-ffe91fad93ee",
        "colab": {
          "base_uri": "https://localhost:8080/",
          "height": 34
        }
      },
      "source": [
        "from google.colab import drive\n",
        "drive.mount('/content/drive', force_remount=True)\n",
        "path = '/content/drive/My Drive/DetoxBert/'"
      ],
      "execution_count": 7,
      "outputs": [
        {
          "output_type": "stream",
          "text": [
            "Mounted at /content/drive\n"
          ],
          "name": "stdout"
        }
      ]
    },
    {
      "cell_type": "code",
      "metadata": {
        "id": "G6Iw1AOtiRrR"
      },
      "source": [
        "rows = []\n",
        "with open(path+'toxic.tsv', 'r') as f:\n",
        "  lines = f.readlines()\n",
        "  columns = lines[0].split('\\t')\n",
        "  num_cols = len(columns)\n",
        "  lines = lines[1:]\n",
        "  for line in lines:\n",
        "    fields = line.split('\\t')\n",
        "    if len(fields) > num_cols:\n",
        "      fields = [' '.join(fields[:-num_cols])] + fields[-num_cols:]\n",
        "    elif len(fields) < num_cols:      \n",
        "      for i in range(num_cols - len(fields)):\n",
        "        fields.append('0')\n",
        "    rows.append(fields)\n",
        "\n",
        "df = pd.DataFrame(np.array(rows), columns=columns)\n"
      ],
      "execution_count": 8,
      "outputs": []
    },
    {
      "cell_type": "code",
      "metadata": {
        "id": "aQD_lIH68DpU",
        "outputId": "0445f351-feba-4021-a0d2-c33aeaccf544",
        "colab": {
          "base_uri": "https://localhost:8080/",
          "height": 51
        }
      },
      "source": [
        "\n",
        "# df = pd.read_csv(path+'toxic_fixed.tsv', sep='\\t', encoding='utf-8')\n",
        "print('done: read file')\n",
        "# only check toxicity values, todo: check others as well\n",
        "\n",
        "# df = df[['Text', 'Tox']]\n",
        "df = df[['Text', 'Sev_Tox']]\n",
        "\n",
        "df.columns = ['Text', 'Score']\n",
        "df.Score = df.Score.astype(float)\n",
        "df = df.fillna(0)\n",
        "toxic_df = df[df['Score'] >= 0.5]\n",
        "nontox_df = df[df['Score'] < 0.5]\n",
        "print('done: got toxic data >=0.5')"
      ],
      "execution_count": 9,
      "outputs": [
        {
          "output_type": "stream",
          "text": [
            "done: read file\n",
            "done: got toxic data >=0.5\n"
          ],
          "name": "stdout"
        }
      ]
    },
    {
      "cell_type": "code",
      "metadata": {
        "id": "rE5bBSMs8Dpm",
        "outputId": "5fbcda1a-2af2-48ef-a7ac-909671221865",
        "colab": {
          "base_uri": "https://localhost:8080/",
          "height": 105
        }
      },
      "source": [
        "toxic_df[:3]['Text'].to_numpy()"
      ],
      "execution_count": 10,
      "outputs": [
        {
          "output_type": "execute_result",
          "data": {
            "text/plain": [
              "array(['That violence is both promoted by the government—one parliamentarian has said if he had a lesbian daughter, he would hang her—and carried out by private citizens with government complicity.',\n",
              "       'In the latest incident, a car bomb exploded at a petrol station in the government-held Damascus suburb of Barzeh, killing 11 people, including civilians, and injuring 40 more, according to both government and opposition reports.',\n",
              "       'Sebastopol’s local newspaper reports that seven of the 26 people murdered in Sonoma County since 2013 died during marijuana deals.'],\n",
              "      dtype=object)"
            ]
          },
          "metadata": {
            "tags": []
          },
          "execution_count": 10
        }
      ]
    },
    {
      "cell_type": "code",
      "metadata": {
        "id": "zm932vk5d3OY",
        "outputId": "e946ad92-905a-41f9-8aca-2e279507279c",
        "colab": {
          "base_uri": "https://localhost:8080/",
          "height": 71
        }
      },
      "source": [
        "# df = pd.read_csv(path+'toxic.tsv', sep='\\t+', encoding='utf-8')\n",
        "\n",
        "pd.set_option('display.max_colwidth', None)\n",
        "te = toxic_df[toxic_df['Text'].str.contains('If I fought Rafael dos Anjos')]['Text']\n",
        "te"
      ],
      "execution_count": 11,
      "outputs": [
        {
          "output_type": "execute_result",
          "data": {
            "text/plain": [
              "56112    \"If I fought Rafael dos Anjos, if he didn't pussy out of that last one and showed up, the shots I cracked Nate with in the first eight minutes of that [fight] would've KO'd Rafael dos Anjos stiff.\n",
              "Name: Text, dtype: object"
            ]
          },
          "metadata": {
            "tags": []
          },
          "execution_count": 11
        }
      ]
    },
    {
      "cell_type": "code",
      "metadata": {
        "id": "IooCNcLQ8Dpz",
        "outputId": "4a998711-cf14-4251-bdb9-203750dccfba",
        "colab": {
          "base_uri": "https://localhost:8080/",
          "height": 391
        }
      },
      "source": [
        "texts = df['Text'].to_numpy()\n",
        "scores = df['Score'].to_numpy()\n",
        "# word_tokens = list(map(word_tokenize, texts))\n",
        "encoded_texts = list(map(tokenizer.encode, texts))\n",
        "word_tokens = [list([tokenizer.convert_ids_to_tokens(i) for i in encoded_text[1:-1]]) for encoded_text in encoded_texts]\n",
        "\n",
        "wcAll = getWordCounts(texts, scores, word_tokens)\n",
        "wsentAll = getWordSentences(texts, word_tokens)"
      ],
      "execution_count": 12,
      "outputs": [
        {
          "output_type": "stream",
          "text": [
            "0\n",
            "10000\n",
            "20000\n",
            "30000\n",
            "40000\n",
            "50000\n",
            "60000\n",
            "70000\n",
            "80000\n",
            "90000\n",
            "100000\n",
            "0\n",
            "10000\n",
            "20000\n",
            "30000\n",
            "40000\n",
            "50000\n",
            "60000\n",
            "70000\n",
            "80000\n",
            "90000\n",
            "100000\n"
          ],
          "name": "stdout"
        }
      ]
    },
    {
      "cell_type": "code",
      "metadata": {
        "id": "ktcRPuXKPQUd",
        "outputId": "3520f5b0-a1e3-44ba-93d8-8daae71afa13",
        "colab": {
          "base_uri": "https://localhost:8080/",
          "height": 71
        }
      },
      "source": [
        "# t = \"An impatient commuter probably regretted telling a man to 'f**k himself' on a busy train.\"\n",
        "# print(t)\n",
        "print(encoded_texts[0])\n",
        "print(word_tokens[0])"
      ],
      "execution_count": 13,
      "outputs": [
        {
          "output_type": "stream",
          "text": [
            "[101, 7897, 5994, 1996, 16728, 2003, 1996, 2708, 12731, 14277, 14778, 2005, 1996, 3827, 1521, 1055, 3471, 1010, 2429, 2000, 1037, 3522, 3189, 2013, 1996, 2569, 7742, 2236, 2005, 7041, 8735, 1517, 1037, 7740, 2135, 1011, 16714, 3422, 16168, 4034, 1012, 102]\n",
            "['corruption', 'involving', 'the', 'contractors', 'is', 'the', 'chief', 'cu', '##lp', '##rit', 'for', 'the', 'prison', '’', 's', 'problems', ',', 'according', 'to', 'a', 'recent', 'report', 'from', 'the', 'special', 'inspector', 'general', 'for', 'afghanistan', 'reconstruction', '—', 'a', 'congressional', '##ly', '-', 'mandated', 'watch', '##dog', 'agency', '.']\n"
          ],
          "name": "stdout"
        }
      ]
    },
    {
      "cell_type": "code",
      "metadata": {
        "id": "EACjq7dD8Dp3",
        "outputId": "c819ad8d-9b20-4d93-b371-5bb7500e9f93",
        "colab": {
          "base_uri": "https://localhost:8080/",
          "height": 153
        }
      },
      "source": [
        "texts = toxic_df['Text'].to_numpy()\n",
        "scores = toxic_df['Score'].to_numpy()\n",
        "# word_tokens = list(map(word_tokenize, texts))\n",
        "encoded_texts = list(map(tokenizer.encode, texts))\n",
        "word_tokens = [list([tokenizer.convert_ids_to_tokens(i) for i in encoded_text[1:-1]]) for encoded_text in encoded_texts]\n",
        "\n",
        "wcTox = getWordCounts(texts, scores, word_tokens)\n",
        "wsentTox = getWordSentences(texts, word_tokens)"
      ],
      "execution_count": 14,
      "outputs": [
        {
          "output_type": "stream",
          "text": [
            "0\n",
            "10000\n",
            "20000\n",
            "30000\n",
            "0\n",
            "10000\n",
            "20000\n",
            "30000\n"
          ],
          "name": "stdout"
        }
      ]
    },
    {
      "cell_type": "code",
      "metadata": {
        "id": "aizIgW1n8Dp9",
        "outputId": "02cfae38-5752-4331-e436-b2bd17ca3da0",
        "colab": {
          "base_uri": "https://localhost:8080/",
          "height": 255
        }
      },
      "source": [
        "texts = nontox_df['Text'].to_numpy()\n",
        "scores = nontox_df['Score'].to_numpy()\n",
        "# word_tokens = list(map(word_tokenize, texts))\n",
        "encoded_texts = list(map(tokenizer.encode, texts))\n",
        "word_tokens = [list([tokenizer.convert_ids_to_tokens(i) for i in encoded_text[1:-1]]) for encoded_text in encoded_texts]\n",
        "\n",
        "wcNT = getWordCounts(texts, scores, word_tokens)\n",
        "wsentNT = getWordSentences(texts, word_tokens)"
      ],
      "execution_count": 15,
      "outputs": [
        {
          "output_type": "stream",
          "text": [
            "0\n",
            "10000\n",
            "20000\n",
            "30000\n",
            "40000\n",
            "50000\n",
            "60000\n",
            "0\n",
            "10000\n",
            "20000\n",
            "30000\n",
            "40000\n",
            "50000\n",
            "60000\n"
          ],
          "name": "stdout"
        }
      ]
    },
    {
      "cell_type": "code",
      "metadata": {
        "id": "cgbaoglz8DqE"
      },
      "source": [
        "# wcAll, wcTox, wcNT = wcAll_, wcTox_, wcNT_\n",
        "# wcAll, wcTox, wcNT = {}, {}, {}"
      ],
      "execution_count": 16,
      "outputs": []
    },
    {
      "cell_type": "code",
      "metadata": {
        "id": "OEAIK9xn8Dqh",
        "outputId": "c2a3bdeb-3975-4f25-90d6-fe7aa7d83314",
        "colab": {
          "base_uri": "https://localhost:8080/",
          "height": 68
        }
      },
      "source": [
        "print(len(wcAll))\n",
        "print(len(wcTox))\n",
        "print(len(wcNT))"
      ],
      "execution_count": 17,
      "outputs": [
        {
          "output_type": "stream",
          "text": [
            "20642\n",
            "17961\n",
            "20163\n"
          ],
          "name": "stdout"
        }
      ]
    },
    {
      "cell_type": "code",
      "metadata": {
        "id": "fUIVLiya8Dqr"
      },
      "source": [
        "wordScoresAll = getSortedWordScores(wcAll)"
      ],
      "execution_count": 18,
      "outputs": []
    },
    {
      "cell_type": "code",
      "metadata": {
        "id": "f7rup_IE8Dq0"
      },
      "source": [
        "wordScoresTox = getSortedWordScores(wcTox)"
      ],
      "execution_count": 19,
      "outputs": []
    },
    {
      "cell_type": "code",
      "metadata": {
        "id": "-IIJcMEH8DrG"
      },
      "source": [
        "wordScoresNT = getSortedWordScores(wcNT, asc=True)"
      ],
      "execution_count": 20,
      "outputs": []
    },
    {
      "cell_type": "code",
      "metadata": {
        "id": "HVblcO1D8DrS",
        "outputId": "bfcdbe58-0986-425a-a89b-ba19bd76aa2b",
        "colab": {
          "base_uri": "https://localhost:8080/",
          "height": 374
        }
      },
      "source": [
        "print('All\\n', wordScoresAll.head())\n",
        "print('Toxic\\n', wordScoresTox.head())\n",
        "print('NonToxic\\n', wordScoresNT.head())"
      ],
      "execution_count": 21,
      "outputs": [
        {
          "output_type": "stream",
          "text": [
            "All\n",
            "           Word  Count\n",
            "0   corruption    121\n",
            "1    involving     85\n",
            "2  contractors     15\n",
            "3        chief    332\n",
            "4           cu    413\n",
            "Toxic\n",
            "          Word  Count\n",
            "0    violence    129\n",
            "1    promoted     13\n",
            "2  government    234\n",
            "3         one   2486\n",
            "4  parliament     21\n",
            "NonToxic\n",
            "           Word  Count\n",
            "0   corruption    106\n",
            "1    involving     69\n",
            "2  contractors     13\n",
            "3        chief    266\n",
            "4           cu    174\n"
          ],
          "name": "stdout"
        }
      ]
    },
    {
      "cell_type": "code",
      "metadata": {
        "id": "6AAazDp68Drc"
      },
      "source": [
        "sAll, sTox, sNT = wordScoresAll, wordScoresTox, wordScoresNT"
      ],
      "execution_count": 22,
      "outputs": []
    },
    {
      "cell_type": "code",
      "metadata": {
        "id": "IqdOJ6ze8Dsq",
        "outputId": "172beaa6-1288-43d3-bdcb-8421ba08237a",
        "colab": {
          "base_uri": "https://localhost:8080/",
          "height": 85
        }
      },
      "source": [
        "sAll[sAll['Word'] == 'like'], sTox[sTox['Word'] == 'like'], sNT[sNT['Word'] == 'like']"
      ],
      "execution_count": 23,
      "outputs": [
        {
          "output_type": "execute_result",
          "data": {
            "text/plain": [
              "(     Word  Count\n",
              " 100  like   5731,      Word  Count\n",
              " 494  like   2712,      Word  Count\n",
              " 100  like   3019)"
            ]
          },
          "metadata": {
            "tags": []
          },
          "execution_count": 23
        }
      ]
    },
    {
      "cell_type": "code",
      "metadata": {
        "id": "sSvuwP2i8DtN"
      },
      "source": [
        "from functools import reduce\n",
        "\n",
        "dfs = [sAll, sTox, sNT]\n",
        "df_merged = reduce(lambda left,right: pd.merge(left,right,on='Word'), dfs)"
      ],
      "execution_count": 24,
      "outputs": []
    },
    {
      "cell_type": "code",
      "metadata": {
        "id": "_S3BHI1p8DtQ",
        "outputId": "e7c735c0-df76-4ca7-846d-fee8e3db85a4",
        "colab": {
          "base_uri": "https://localhost:8080/",
          "height": 204
        }
      },
      "source": [
        "df_merged.columns = ['Word', 'Count_All', 'Count_Tox', 'Count_NT']\n",
        "df_merged.head()"
      ],
      "execution_count": 25,
      "outputs": [
        {
          "output_type": "execute_result",
          "data": {
            "text/html": [
              "<div>\n",
              "<style scoped>\n",
              "    .dataframe tbody tr th:only-of-type {\n",
              "        vertical-align: middle;\n",
              "    }\n",
              "\n",
              "    .dataframe tbody tr th {\n",
              "        vertical-align: top;\n",
              "    }\n",
              "\n",
              "    .dataframe thead th {\n",
              "        text-align: right;\n",
              "    }\n",
              "</style>\n",
              "<table border=\"1\" class=\"dataframe\">\n",
              "  <thead>\n",
              "    <tr style=\"text-align: right;\">\n",
              "      <th></th>\n",
              "      <th>Word</th>\n",
              "      <th>Count_All</th>\n",
              "      <th>Count_Tox</th>\n",
              "      <th>Count_NT</th>\n",
              "    </tr>\n",
              "  </thead>\n",
              "  <tbody>\n",
              "    <tr>\n",
              "      <th>0</th>\n",
              "      <td>corruption</td>\n",
              "      <td>121</td>\n",
              "      <td>15</td>\n",
              "      <td>106</td>\n",
              "    </tr>\n",
              "    <tr>\n",
              "      <th>1</th>\n",
              "      <td>involving</td>\n",
              "      <td>85</td>\n",
              "      <td>16</td>\n",
              "      <td>69</td>\n",
              "    </tr>\n",
              "    <tr>\n",
              "      <th>2</th>\n",
              "      <td>contractors</td>\n",
              "      <td>15</td>\n",
              "      <td>2</td>\n",
              "      <td>13</td>\n",
              "    </tr>\n",
              "    <tr>\n",
              "      <th>3</th>\n",
              "      <td>chief</td>\n",
              "      <td>332</td>\n",
              "      <td>66</td>\n",
              "      <td>266</td>\n",
              "    </tr>\n",
              "    <tr>\n",
              "      <th>4</th>\n",
              "      <td>cu</td>\n",
              "      <td>413</td>\n",
              "      <td>239</td>\n",
              "      <td>174</td>\n",
              "    </tr>\n",
              "  </tbody>\n",
              "</table>\n",
              "</div>"
            ],
            "text/plain": [
              "          Word  Count_All  Count_Tox  Count_NT\n",
              "0   corruption        121         15       106\n",
              "1    involving         85         16        69\n",
              "2  contractors         15          2        13\n",
              "3        chief        332         66       266\n",
              "4           cu        413        239       174"
            ]
          },
          "metadata": {
            "tags": []
          },
          "execution_count": 25
        }
      ]
    },
    {
      "cell_type": "code",
      "metadata": {
        "id": "8rF848YDCEDY"
      },
      "source": [
        "df_merged['Tox_percent'] = df_merged.apply (lambda row: row['Count_Tox']/(row['Count_All']), axis=1)"
      ],
      "execution_count": 26,
      "outputs": []
    },
    {
      "cell_type": "code",
      "metadata": {
        "id": "antrEBVUEuKD",
        "outputId": "9a46c427-452f-4b34-afe0-b1402033a361",
        "colab": {
          "base_uri": "https://localhost:8080/",
          "height": 80
        }
      },
      "source": [
        "df_merged[df_merged['Word'] == 'fuck']"
      ],
      "execution_count": 27,
      "outputs": [
        {
          "output_type": "execute_result",
          "data": {
            "text/html": [
              "<div>\n",
              "<style scoped>\n",
              "    .dataframe tbody tr th:only-of-type {\n",
              "        vertical-align: middle;\n",
              "    }\n",
              "\n",
              "    .dataframe tbody tr th {\n",
              "        vertical-align: top;\n",
              "    }\n",
              "\n",
              "    .dataframe thead th {\n",
              "        text-align: right;\n",
              "    }\n",
              "</style>\n",
              "<table border=\"1\" class=\"dataframe\">\n",
              "  <thead>\n",
              "    <tr style=\"text-align: right;\">\n",
              "      <th></th>\n",
              "      <th>Word</th>\n",
              "      <th>Count_All</th>\n",
              "      <th>Count_Tox</th>\n",
              "      <th>Count_NT</th>\n",
              "      <th>Tox_percent</th>\n",
              "    </tr>\n",
              "  </thead>\n",
              "  <tbody>\n",
              "    <tr>\n",
              "      <th>16828</th>\n",
              "      <td>fuck</td>\n",
              "      <td>1738</td>\n",
              "      <td>1693</td>\n",
              "      <td>45</td>\n",
              "      <td>0.974108</td>\n",
              "    </tr>\n",
              "  </tbody>\n",
              "</table>\n",
              "</div>"
            ],
            "text/plain": [
              "       Word  Count_All  Count_Tox  Count_NT  Tox_percent\n",
              "16828  fuck       1738       1693        45     0.974108"
            ]
          },
          "metadata": {
            "tags": []
          },
          "execution_count": 27
        }
      ]
    },
    {
      "cell_type": "code",
      "metadata": {
        "id": "D0aQa0dKCVdK"
      },
      "source": [
        "MINFREQ = 3\n",
        "df_merged_minfreq = df_merged[(df_merged['Count_All'] > MINFREQ)]"
      ],
      "execution_count": 28,
      "outputs": []
    },
    {
      "cell_type": "code",
      "metadata": {
        "id": "8ItuhWEIeO36"
      },
      "source": [
        "# highTox = df_merged_minfreq.sort_values([\"Count_All\", \"Tox_percent\"], ascending = [False, False])"
      ],
      "execution_count": 29,
      "outputs": []
    },
    {
      "cell_type": "code",
      "metadata": {
        "id": "3x22NBQyaY-j",
        "outputId": "a5eb9699-daf0-4fdf-90b3-4aea0e9c382d",
        "colab": {
          "base_uri": "https://localhost:8080/",
          "height": 34
        }
      },
      "source": [
        "# highTox = df_merged_minfreq.sort_values([\"Count_NT\", \"Count_Tox\"], ascending = [True, False])\n",
        "highTox = df_merged_minfreq.sort_values(\"Tox_percent\", ascending = False)\n",
        "len(highTox)"
      ],
      "execution_count": 30,
      "outputs": [
        {
          "output_type": "execute_result",
          "data": {
            "text/plain": [
              "16514"
            ]
          },
          "metadata": {
            "tags": []
          },
          "execution_count": 30
        }
      ]
    },
    {
      "cell_type": "code",
      "metadata": {
        "id": "BFN97YpUefu6",
        "outputId": "4cf9033a-9f2d-49f4-8368-997b807ee075",
        "colab": {
          "base_uri": "https://localhost:8080/",
          "height": 669
        }
      },
      "source": [
        "highTox[:20]"
      ],
      "execution_count": 31,
      "outputs": [
        {
          "output_type": "execute_result",
          "data": {
            "text/html": [
              "<div>\n",
              "<style scoped>\n",
              "    .dataframe tbody tr th:only-of-type {\n",
              "        vertical-align: middle;\n",
              "    }\n",
              "\n",
              "    .dataframe tbody tr th {\n",
              "        vertical-align: top;\n",
              "    }\n",
              "\n",
              "    .dataframe thead th {\n",
              "        text-align: right;\n",
              "    }\n",
              "</style>\n",
              "<table border=\"1\" class=\"dataframe\">\n",
              "  <thead>\n",
              "    <tr style=\"text-align: right;\">\n",
              "      <th></th>\n",
              "      <th>Word</th>\n",
              "      <th>Count_All</th>\n",
              "      <th>Count_Tox</th>\n",
              "      <th>Count_NT</th>\n",
              "      <th>Tox_percent</th>\n",
              "    </tr>\n",
              "  </thead>\n",
              "  <tbody>\n",
              "    <tr>\n",
              "      <th>16215</th>\n",
              "      <td>whore</td>\n",
              "      <td>256</td>\n",
              "      <td>252</td>\n",
              "      <td>4</td>\n",
              "      <td>0.984375</td>\n",
              "    </tr>\n",
              "    <tr>\n",
              "      <th>10602</th>\n",
              "      <td>ck</td>\n",
              "      <td>300</td>\n",
              "      <td>295</td>\n",
              "      <td>5</td>\n",
              "      <td>0.983333</td>\n",
              "    </tr>\n",
              "    <tr>\n",
              "      <th>6559</th>\n",
              "      <td>pussy</td>\n",
              "      <td>315</td>\n",
              "      <td>307</td>\n",
              "      <td>8</td>\n",
              "      <td>0.974603</td>\n",
              "    </tr>\n",
              "    <tr>\n",
              "      <th>16828</th>\n",
              "      <td>fuck</td>\n",
              "      <td>1738</td>\n",
              "      <td>1693</td>\n",
              "      <td>45</td>\n",
              "      <td>0.974108</td>\n",
              "    </tr>\n",
              "    <tr>\n",
              "      <th>17357</th>\n",
              "      <td>asshole</td>\n",
              "      <td>514</td>\n",
              "      <td>498</td>\n",
              "      <td>16</td>\n",
              "      <td>0.968872</td>\n",
              "    </tr>\n",
              "    <tr>\n",
              "      <th>17244</th>\n",
              "      <td>bitch</td>\n",
              "      <td>920</td>\n",
              "      <td>889</td>\n",
              "      <td>31</td>\n",
              "      <td>0.966304</td>\n",
              "    </tr>\n",
              "    <tr>\n",
              "      <th>17044</th>\n",
              "      <td>fucking</td>\n",
              "      <td>1524</td>\n",
              "      <td>1471</td>\n",
              "      <td>53</td>\n",
              "      <td>0.965223</td>\n",
              "    </tr>\n",
              "    <tr>\n",
              "      <th>16219</th>\n",
              "      <td>fucked</td>\n",
              "      <td>300</td>\n",
              "      <td>289</td>\n",
              "      <td>11</td>\n",
              "      <td>0.963333</td>\n",
              "    </tr>\n",
              "    <tr>\n",
              "      <th>16714</th>\n",
              "      <td>penis</td>\n",
              "      <td>1534</td>\n",
              "      <td>1438</td>\n",
              "      <td>96</td>\n",
              "      <td>0.937419</td>\n",
              "    </tr>\n",
              "    <tr>\n",
              "      <th>17414</th>\n",
              "      <td>protruding</td>\n",
              "      <td>11</td>\n",
              "      <td>10</td>\n",
              "      <td>1</td>\n",
              "      <td>0.909091</td>\n",
              "    </tr>\n",
              "    <tr>\n",
              "      <th>15811</th>\n",
              "      <td>outta</td>\n",
              "      <td>21</td>\n",
              "      <td>19</td>\n",
              "      <td>2</td>\n",
              "      <td>0.904762</td>\n",
              "    </tr>\n",
              "    <tr>\n",
              "      <th>1836</th>\n",
              "      <td>anal</td>\n",
              "      <td>299</td>\n",
              "      <td>270</td>\n",
              "      <td>29</td>\n",
              "      <td>0.903010</td>\n",
              "    </tr>\n",
              "    <tr>\n",
              "      <th>17189</th>\n",
              "      <td>tits</td>\n",
              "      <td>134</td>\n",
              "      <td>121</td>\n",
              "      <td>13</td>\n",
              "      <td>0.902985</td>\n",
              "    </tr>\n",
              "    <tr>\n",
              "      <th>17018</th>\n",
              "      <td>cutter</td>\n",
              "      <td>10</td>\n",
              "      <td>9</td>\n",
              "      <td>1</td>\n",
              "      <td>0.900000</td>\n",
              "    </tr>\n",
              "    <tr>\n",
              "      <th>16368</th>\n",
              "      <td>niger</td>\n",
              "      <td>69</td>\n",
              "      <td>62</td>\n",
              "      <td>7</td>\n",
              "      <td>0.898551</td>\n",
              "    </tr>\n",
              "    <tr>\n",
              "      <th>14148</th>\n",
              "      <td>writhing</td>\n",
              "      <td>9</td>\n",
              "      <td>8</td>\n",
              "      <td>1</td>\n",
              "      <td>0.888889</td>\n",
              "    </tr>\n",
              "    <tr>\n",
              "      <th>16685</th>\n",
              "      <td>inspect</td>\n",
              "      <td>9</td>\n",
              "      <td>8</td>\n",
              "      <td>1</td>\n",
              "      <td>0.888889</td>\n",
              "    </tr>\n",
              "    <tr>\n",
              "      <th>14366</th>\n",
              "      <td>pierced</td>\n",
              "      <td>9</td>\n",
              "      <td>8</td>\n",
              "      <td>1</td>\n",
              "      <td>0.888889</td>\n",
              "    </tr>\n",
              "    <tr>\n",
              "      <th>14747</th>\n",
              "      <td>coated</td>\n",
              "      <td>9</td>\n",
              "      <td>8</td>\n",
              "      <td>1</td>\n",
              "      <td>0.888889</td>\n",
              "    </tr>\n",
              "    <tr>\n",
              "      <th>16328</th>\n",
              "      <td>secluded</td>\n",
              "      <td>9</td>\n",
              "      <td>8</td>\n",
              "      <td>1</td>\n",
              "      <td>0.888889</td>\n",
              "    </tr>\n",
              "  </tbody>\n",
              "</table>\n",
              "</div>"
            ],
            "text/plain": [
              "             Word  Count_All  Count_Tox  Count_NT  Tox_percent\n",
              "16215       whore        256        252         4     0.984375\n",
              "10602          ck        300        295         5     0.983333\n",
              "6559        pussy        315        307         8     0.974603\n",
              "16828        fuck       1738       1693        45     0.974108\n",
              "17357     asshole        514        498        16     0.968872\n",
              "17244       bitch        920        889        31     0.966304\n",
              "17044     fucking       1524       1471        53     0.965223\n",
              "16219      fucked        300        289        11     0.963333\n",
              "16714       penis       1534       1438        96     0.937419\n",
              "17414  protruding         11         10         1     0.909091\n",
              "15811       outta         21         19         2     0.904762\n",
              "1836         anal        299        270        29     0.903010\n",
              "17189        tits        134        121        13     0.902985\n",
              "17018      cutter         10          9         1     0.900000\n",
              "16368       niger         69         62         7     0.898551\n",
              "14148    writhing          9          8         1     0.888889\n",
              "16685     inspect          9          8         1     0.888889\n",
              "14366     pierced          9          8         1     0.888889\n",
              "14747      coated          9          8         1     0.888889\n",
              "16328    secluded          9          8         1     0.888889"
            ]
          },
          "metadata": {
            "tags": []
          },
          "execution_count": 31
        }
      ]
    },
    {
      "cell_type": "code",
      "metadata": {
        "id": "UN92fIBG8Dtf"
      },
      "source": [
        "ht = highTox[:]"
      ],
      "execution_count": 32,
      "outputs": []
    },
    {
      "cell_type": "code",
      "metadata": {
        "id": "dIADd6Ve8DuQ",
        "outputId": "92c655f6-bb3d-4183-cf73-dfa8df9841a3",
        "colab": {
          "base_uri": "https://localhost:8080/",
          "height": 80
        }
      },
      "source": [
        "ht[ht['Word'] == 'damn']"
      ],
      "execution_count": 33,
      "outputs": [
        {
          "output_type": "execute_result",
          "data": {
            "text/html": [
              "<div>\n",
              "<style scoped>\n",
              "    .dataframe tbody tr th:only-of-type {\n",
              "        vertical-align: middle;\n",
              "    }\n",
              "\n",
              "    .dataframe tbody tr th {\n",
              "        vertical-align: top;\n",
              "    }\n",
              "\n",
              "    .dataframe thead th {\n",
              "        text-align: right;\n",
              "    }\n",
              "</style>\n",
              "<table border=\"1\" class=\"dataframe\">\n",
              "  <thead>\n",
              "    <tr style=\"text-align: right;\">\n",
              "      <th></th>\n",
              "      <th>Word</th>\n",
              "      <th>Count_All</th>\n",
              "      <th>Count_Tox</th>\n",
              "      <th>Count_NT</th>\n",
              "      <th>Tox_percent</th>\n",
              "    </tr>\n",
              "  </thead>\n",
              "  <tbody>\n",
              "    <tr>\n",
              "      <th>9051</th>\n",
              "      <td>damn</td>\n",
              "      <td>763</td>\n",
              "      <td>464</td>\n",
              "      <td>299</td>\n",
              "      <td>0.608126</td>\n",
              "    </tr>\n",
              "  </tbody>\n",
              "</table>\n",
              "</div>"
            ],
            "text/plain": [
              "      Word  Count_All  Count_Tox  Count_NT  Tox_percent\n",
              "9051  damn        763        464       299     0.608126"
            ]
          },
          "metadata": {
            "tags": []
          },
          "execution_count": 33
        }
      ]
    },
    {
      "cell_type": "code",
      "metadata": {
        "id": "BLwldnV-hjzJ"
      },
      "source": [
        "toxword = ht['Word'][:1]\n",
        "toxsents = wsentTox['pussy'][:20]\n",
        "for i, s in enumerate(toxsents):\n",
        "  if '\\t' in s:\n",
        "    print(i)\n",
        "    print(s)\n",
        "    print()"
      ],
      "execution_count": 34,
      "outputs": []
    },
    {
      "cell_type": "code",
      "metadata": {
        "id": "44TR_9eT8DvC"
      },
      "source": [
        "# todo: Compute PMI"
      ],
      "execution_count": 35,
      "outputs": []
    },
    {
      "cell_type": "code",
      "metadata": {
        "id": "_58UnjnLsmMK"
      },
      "source": [
        "# bertseq"
      ],
      "execution_count": 36,
      "outputs": []
    },
    {
      "cell_type": "code",
      "metadata": {
        "id": "HoRa65yyGeAA",
        "outputId": "7bada06f-0331-48d4-dc3f-913d0a80c202",
        "colab": {
          "base_uri": "https://localhost:8080/",
          "height": 136
        }
      },
      "source": [
        "bert_model.embeddings"
      ],
      "execution_count": 37,
      "outputs": [
        {
          "output_type": "execute_result",
          "data": {
            "text/plain": [
              "BertEmbeddings(\n",
              "  (word_embeddings): Embedding(30522, 768, padding_idx=0)\n",
              "  (position_embeddings): Embedding(512, 768)\n",
              "  (token_type_embeddings): Embedding(2, 768)\n",
              "  (LayerNorm): LayerNorm((768,), eps=1e-12, elementwise_affine=True)\n",
              "  (dropout): Dropout(p=0.1, inplace=False)\n",
              ")"
            ]
          },
          "metadata": {
            "tags": []
          },
          "execution_count": 37
        }
      ]
    },
    {
      "cell_type": "code",
      "metadata": {
        "id": "wZ5mDO6bGeJW",
        "outputId": "61909e1e-6246-4276-91af-6f2c033f5c39",
        "colab": {
          "base_uri": "https://localhost:8080/",
          "height": 408
        }
      },
      "source": [
        "bert_model.encoder.layer[0]"
      ],
      "execution_count": 38,
      "outputs": [
        {
          "output_type": "execute_result",
          "data": {
            "text/plain": [
              "BertLayer(\n",
              "  (attention): BertAttention(\n",
              "    (self): BertSelfAttention(\n",
              "      (query): Linear(in_features=768, out_features=768, bias=True)\n",
              "      (key): Linear(in_features=768, out_features=768, bias=True)\n",
              "      (value): Linear(in_features=768, out_features=768, bias=True)\n",
              "      (dropout): Dropout(p=0.1, inplace=False)\n",
              "    )\n",
              "    (output): BertSelfOutput(\n",
              "      (dense): Linear(in_features=768, out_features=768, bias=True)\n",
              "      (LayerNorm): LayerNorm((768,), eps=1e-12, elementwise_affine=True)\n",
              "      (dropout): Dropout(p=0.1, inplace=False)\n",
              "    )\n",
              "  )\n",
              "  (intermediate): BertIntermediate(\n",
              "    (dense): Linear(in_features=768, out_features=3072, bias=True)\n",
              "  )\n",
              "  (output): BertOutput(\n",
              "    (dense): Linear(in_features=3072, out_features=768, bias=True)\n",
              "    (LayerNorm): LayerNorm((768,), eps=1e-12, elementwise_affine=True)\n",
              "    (dropout): Dropout(p=0.1, inplace=False)\n",
              "  )\n",
              ")"
            ]
          },
          "metadata": {
            "tags": []
          },
          "execution_count": 38
        }
      ]
    },
    {
      "cell_type": "code",
      "metadata": {
        "id": "bAxH9J4QpOWB"
      },
      "source": [
        "import sklearn as sl\n",
        "from sklearn.preprocessing import StandardScaler as ss\n",
        "from sklearn.decomposition import PCA\n",
        "import matplotlib.pyplot as plt\n",
        "\n",
        "def plotVariance(y, title=\"\"):\n",
        "  x = range(len(y))\n",
        "  plt.plot(x, y)\n",
        "  plt.title(title)\n",
        "  plt.show()\n",
        "  plt.savefig(title)\n",
        "\n",
        "\n",
        "# Computes PCs of difference vector\n",
        "def getPrincipalComponents(D, num_comp=None):\n",
        "  print(D.shape)\n",
        "  pca = PCA(n_components=num_comp, svd_solver=\"auto\")\n",
        "  X = D[0].cpu().detach().numpy()\n",
        "  pca.fit(X)\n",
        "  exp_var = pca.explained_variance_ratio_\n",
        "  return torch.Tensor(np.array(pca.components_)), exp_var"
      ],
      "execution_count": 56,
      "outputs": []
    },
    {
      "cell_type": "code",
      "metadata": {
        "id": "eCBuBU5Y8DvX"
      },
      "source": [
        "class LayerBERT(nn.Module):\n",
        "\n",
        "    def __init__(self):\n",
        "        super(LayerBERT, self).__init__()\n",
        "        self.bert_layer0 = bert_model.embeddings\n",
        "        self.bert_layers = bert_model.encoder.layer\n",
        "\n",
        "    def forward(self, layer_num, inp_ids, attn_masks=None):\n",
        "        if layer_num == 0:\n",
        "            return self.bert_layer0(inp_ids, attn_masks)  # both are batch_size x seq_len\n",
        "        elif 1 <= layer_num <= 12:\n",
        "            return self.bert_layers[layer_num - 1](inp_ids)\n",
        "\n",
        "layerBert = LayerBERT()\n",
        "layerBert = layerBert.cuda()\n"
      ],
      "execution_count": 40,
      "outputs": []
    },
    {
      "cell_type": "markdown",
      "metadata": {
        "id": "m2SzhlymtD43"
      },
      "source": [
        "![Screen Shot 2020-10-13 at 12.03.42 PM.png](data:image/png;base64,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)"
      ]
    },
    {
      "cell_type": "code",
      "metadata": {
        "id": "ROT6ZTYJtCsE"
      },
      "source": [
        "def projection(a, b):\n",
        "  inner = torch.mm(a, b.T)\n",
        "  res = a - torch.mm(inner, b)\n",
        "  return res"
      ],
      "execution_count": 41,
      "outputs": []
    },
    {
      "cell_type": "markdown",
      "metadata": {
        "id": "jMAaJqhOS_W_"
      },
      "source": [
        "![Screen Shot 2020-10-13 at 10.14.32 AM.png](data:image/png;base64,iVBORw0KGgoAAAANSUhEUgAAAawAAAG0CAYAAABuTRNaAAABRWlDQ1BJQ0MgUHJvZmlsZQAAKJFjYGASSSwoyGFhYGDIzSspCnJ3UoiIjFJgf8LAxcAJxAoMTInJxQWOAQE+QCUMMBoVfLvGwAiiL+uCzDrk37S2e2umlM2+wzsqA+pFMdWjAK6U1OJkIP0HiNOSC4pKGBgYU4Bs5fKSAhC7A8gWKQI6CsieA2KnQ9gbQOwkCPsIWE1IkDOQfQPIFkjOSASawfgCyNZJQhJPR2JD7QUBHqfUvEAF93AjEwsDAs4lHZSkVpSAaOf8gsqizPSMEgVHYCilKnjmJevpKBgZGAGtBIU5RPXnIHBYMortQ4jlL2FgsPjGwMA8ESGWNIWBYXsbA4PELYSYyjwGBv4WBoZthwoSixLhDmD8xlKcZmwEYfPYMzCw3v3//7MGAwP7RAaGvxP///+9+P//v4uB5t9mYDhQCQCrcGCwleQ49AAAAFZlWElmTU0AKgAAAAgAAYdpAAQAAAABAAAAGgAAAAAAA5KGAAcAAAASAAAARKACAAQAAAABAAABrKADAAQAAAABAAABtAAAAABBU0NJSQAAAFNjcmVlbnNob3Sq4WjZAAAB1mlUWHRYTUw6Y29tLmFkb2JlLnhtcAAAAAAAPHg6eG1wbWV0YSB4bWxuczp4PSJhZG9iZTpuczptZXRhLyIgeDp4bXB0az0iWE1QIENvcmUgNS40LjAiPgogICA8cmRmOlJERiB4bWxuczpyZGY9Imh0dHA6Ly93d3cudzMub3JnLzE5OTkvMDIvMjItcmRmLXN5bnRheC1ucyMiPgogICAgICA8cmRmOkRlc2NyaXB0aW9uIHJkZjphYm91dD0iIgogICAgICAgICAgICB4bWxuczpleGlmPSJodHRwOi8vbnMuYWRvYmUuY29tL2V4aWYvMS4wLyI+CiAgICAgICAgIDxleGlmOlBpeGVsWERpbWVuc2lvbj40Mjg8L2V4aWY6UGl4ZWxYRGltZW5zaW9uPgogICAgICAgICA8ZXhpZjpVc2VyQ29tbWVudD5TY3JlZW5zaG90PC9leGlmOlVzZXJDb21tZW50PgogICAgICAgICA8ZXhpZjpQaXhlbFlEaW1lbnNpb24+NDM2PC9leGlmOlBpeGVsWURpbWVuc2lvbj4KICAgICAgPC9yZGY6RGVzY3JpcHRpb24+CiAgIDwvcmRmOlJERj4KPC94OnhtcG1ldGE+Ch8xcb8AAEAASURBVHgB7F0FQFVJF/7ee3RIIwiIq4id2Kyta+tit2uttXb+dq6N3bV2YCN2gWKgayEqq6igpJTkgxfnn/sCHinY7t7ZxTf33plzznwzd86dOTNzBMQC+MAjwCPAI8AjwCPwnSMg/M7l48XjEeAR4BHgEeARUCDAKyy+IfAI8AjwCPAI/BAI8Arrh6gmXkgeAR4BHgEeAV5h8W2AR4BHgEeAR+CHQIBXWD9ENfFC8gjwCPAI8AjwCotvAzwCPAI8AjwCPwQCvML6IaqJF5JHgEeAR4BHgFdYfBvgEeAR4BHgEfghEOAV1g9RTbyQPAI8AjwCPAK8wuLbAI8AjwCPAI/AD4EAr7B+iGriheQR4BHgEeAR4BUW3wZ4BHgEeAR4BH4IBHiF9UNUEy8kjwCPAI8AjwCvsPg2wCPAI8AjwCPwQyDAK6wfopp4IXkEeAR4BHgEeIXFtwEeAR4BHgEegR8CAV5h/RDVxAvJI8AjwCPAI8ArLL4N8AjwCPAI8Aj8EAjwCuuHqCZeSB4BHgEeAR4BXmHxbYBHgEeAR4BH4IdAgFdYP0Q18ULyCPAI8AjwCPAKi28DPAI8AjwCPAI/BAJanyKlWCyGTCb7FBJ8Xh4BHgEeAR6BHxABgUAAAwODryq5gFj4WI7NmzfHxYsXPzY7n49HgEeAR4BH4AdFwNraGpGRkV9V+k9SWP7+/oiLi/uqAvPMeAR4BHgEeAS+PQI6OjqoU6fOVxXkkxTWV5WUZ8YjwCPAI8Aj8J9GgF908Z+ufr7wPAI8AjwCPw4Cn7ToojDFTLu/AzN33EMKjFBr8Dz0qaTBWvYaxxeuxKUoISr3WYTBNXXyIS1FmO9BHDh3Cw8ehyDF2B7O1Vug74D2KGucPVsaXl3ahX3n7uLx8ygIizqjQs1W6N2nEYpnsJDh9fGFWHkpElmWjwiE0Clii/JNuqN3kxLQ5UjHXMbK+ccQhNLoPKMLUrYuxuk3WXJpCCCAXrV+mFH+LmbvfQx5sRYYP6ktHESqJOJb2Dh1LwLktmg+djLam9/EupkH8UzKngtNUHfIbPQsr8RIHnUBK/48idccK6E5GoyYiS7OakIaLDOickT5e+NhUnHUrVuKIV6AII/Dnd3u2HrhH8SlEwQibehqczwIMkk6pDKC0KY1Zrr/hnIaVVcAyl8pSRLOjq6DoY/74eS5iaj82WWU4vXlTdiy5zTO+dnif3e3opPeVyraZ2aTdHY06gx9jH4nz2Hi5weqkNJ+7nr7nPT+PXVeyEr5fpNziy6+fEgir0H2xLo/tsBDi0qNvEJiTaZpN2liOS3WS+qT2+5kzSdZ42lBdHRCA7LRFnALRTT+BKRr35ZWPUzNTJ/6hHb/7kLmomxpBVpkWfsPOvg8TZU2jW5OLEesf9OglxkXiCyp9YYXJGWpZUFLyVWbPdNpQCuC/GmOi3aueZSyCci4ywEK296WmLIj7UrT6K4kUzyK20ZtdBktrQo05baEZBHrqbmOmq82uS5R8uRyJB/rQ1ZC1TNRCRpxKQt6GkSVUWnwAepZXETa1WfRI02eOVJmvyGhBzOrkbagCLntic98KEulcL811NF1FF3On3VmHlbDMTGJGtdfICqOoUwWEnq6bzL9sfAChcu+AC8FyWS6PaUSaRl3oQP5NNMvxf1z0ZU83UeT/1hIF74cUIUQ9XPX2+em9++o80JUyHed9OtMCSZdxCGvMMjZMkiBgH21eHrguriwSjwNdxZ0RZ/lPojUcUaX+Xtx/tYd+HpuwJhGtpCHemFSz5kqumLcmNsDg7f8jThdNhqatxcXbt7A+T1z0NFJGzG312FAj4W4m6YpgwA6rpNx1NMTnuzv6O6VGN/MHiJ5NM6vWI9b6ZppWVyrBHquPK5I6+l5DHNamEHI/rNuuxDHVDQOTW6AQn+Es5GdUCjF45u3kKhgKUWA333EE3dfkE0Izct0+B+chylD3FCrVl/sD8lr5KeZJ3tcCCsrM1ZHWjA0UIwplQmEerCp+Tumj6wHi/wGdhnk5Ig5MwEDlj9CdtgyknxqRB6DMxMGYPkjNQctlO2xCGumNIPNF2vVDAdrc+RXC59arK+RX6tsDyxaMwXNvhxQhSjG5663z03v31HnhaiQ7zrpZ584ya208WcP4UwkG5jU7II20UdxNPgUPK4tR9PmhejOY49h2fr7SBaYotXyczgwxJGpBy7UQL2GTtBpMxonY/3h+1SKevaHsXyTP8QsbUsu7dASUPSzdeqiSV0LtKo+EhfurYP7yVHY18UwQ2SRdUW0aNsW6p0FrW0D4XFlA97GRSNanpFMFTGC08+t4aS4Ytr3KDfHyKYB7WugVdtmyilEduf9I1Xygv6IHFG6RChe3L+Je2m90EQ7CnfuvIDc1gklE1/gRUpehNLgf3wDtpxnWljGlFtuvWrKLWyedRBPyR4tx49FC9ucPXtu2QA53v39EMadusFJi8UDrsM/QqIY8glNSqG8aTgCglNAbLrSuV4VGN5dhC591uGfJmVw+ZIQpWvVQSljKWIDfPHCqC5Kp3jj4ouiaNKmMiyEYrzxOw/vx3HQK1ETjRuVZ/c0yiiLwROfq7gbLEFRl6ZoWskKWvJY+C7qgj7r/kGTMpdxSVgateqUgrH0HR7fCIaJaw3V1KsY4fev4bVZY1TX9ceFK0+Air+gdWUrVdvh+EgR+fAirjyIhWGp6qhTqyysMqaLNeTIJyp+44fz3o8Rp1cCNRs3QnmuAOJg3L35Au+5diPQgW0VV3Y/Fa/v+CEoATAtXRcuxZXtP/n1LVy+8Q9SLKqgYeMqsFHxl8YGwPeFEeqWToH3xRco2qQNKmcBh9GWR+CRdwCi2JStQNsWlWoWQcitQMQr+OrCrqoryplG4iFLEy0oiqaNK7FMUrx7fAPBJq6ooZ6jTgvFnXM++EdihdJOP6F42VKwUX+zJL/Grcs38E+KBao0bIwqagFzYJKOqEfX8cq0AcrLbuPSjRDoVmyCplWKQlmkPNqA/GPqTYaYJz64ejcYkqIuaNq0EqzUvVmOdvAhuVhBxG/gd94bj+P0UKJmYzQqb6HRRnIUNJcb+cjDPtvePbkF33uvkGZVHnVda6K4xjx9epQ/fAJ1UN+1GEJvnMetSBvUbeGKn4xkiA+6jau3XkO/Wms0L2+qkqkA5fkAz1wK8EPc0uwavpDAsThz8CyiSQc1Os3EyPY/QUsWCq9DV5g9q+BBfOsirsXKIbRqjyG91cpKld+4GRb7BODp4zOYXE0LYt/zuMbeWGFRNwzvo1JWqqSikn0xtK0lhKzT82Z2sCyDLA1xpHH/4NKZO4iSC2BUrTaqFrIT0yCliMpCz2DB4AEYMED1N3IX/HMbBDEl61KrDIShd3DrJUsgvgO/RxIYVquJCuoXMjtxxbUxeu4PQ0xMDMIO/wa73Go27TGOr1mJlav343ZMDg2cK1XFzeQn2LVoB/w5+xp7ZSyKF0XYriFo9ctQHEu2gqXxM6yfsAnP9G1hpStBvFQLxiKCXJKCpKQUpEbcwKZBNVGikhvmr1+AEb8Pw4DOo7En5Dl29nBBPy9LNGntguQdnVDv92MMc6Uo0peHMLb7JHgmOMKlzFusbFIeTRbeRZokHlItY4hIDklKEpJSUvD60gr0rVYClbuux0MJyy8OxLGJv6CiS0dMW7oQk+ZuxemjS9C7diNMuaZueYnwndcKPTbGoERVc/w982fYWZRBk279sPxaXi1DKZvyXxmCdvaASz8vWDZpDZfkHehU73cc4wqgZwnj5+vQq3lLTL9hhuJmXIUYMiXgg7kzLkNShGtQSbizZgQmeQRDz1oPT5a1RpUmc3D9fRRubRqEmiUqwW3+eiwY8TuGDeiM0XtC2adDtiBkhttbs9GheVesC7aAuZ45TEO24DfGd6qPPmxMGV+RCXRuzcO449GQhVzBir7VUKJyV6xXAMXopT/Akk5/4Kx5Q7Rnc94nRw3HLpVtNunOGoyY5IFgPWvoPVmG1lWaYM515dhfUxJ5zE2s71MdP1XphClzR6PfyKXYtmYi3KpXQsuld5ASdSuXNjAKazyWF77epC9xaGx3TPJMgKNLGbxd2YTZmrkZExlCrmRtBx+Si5vokQXtRA+XfvCybILWLsnY0akefj8WlRNrzQJrxvOUhyWS/oN9Q9piyMFYlHCpCL2b09GgSmssvh7PPcTLs3PRsXoVtBqzGO6z5mCd5w0cndkC1drOYPhNw6x1nrjhtRTd63XEqmcyFKQ8+fPUFPwHjH/pCUtZ5F/0q6mQBLqutDhQSmKfMVRaCySyG0CeSSruBbBhxWxuqbQFadpl0m7Rit4dqH379sq/Dr1o+c1UCl3dmKlHZjeqs5CeccanLEFC/nNcSJs9122xiaIo04YlEIpIS0tL8ScSMtuXQJtsXMfS4ZdKQ1AWG1awJtFU8uxflE3aiaj40AtZ7HPxKhsWaxq527uy27C0a9CMVf2pmMiI2u+IobQ706iStjbVm+tO3c2EhALYsMQXhlJxESu/JlacuEk+5D64P/UfOJtOvM3N0COjsDVNSEegQ8XrtFVi2rYJVbM3Im3znnREw0RIid40rrwu2XbbQgcndaOpVxMyAUnzoVElheQ01pehqwySR7OompYO1Zzrz+5JKCY8mtKid5KbaTEa6KU0jCXvcSMDMxUf6TNyb+xEPQ5Gk1LSRLo8pR5V7n+AItiNNJ9RVFLoRGN9MzjQvWkVSbtof/JUyxm9iVpoa1GdBU+VdaKQS5tKj1PKJQ1yp4ZGZWnCDSUN8dVRVErHicb4qGlmFkkZk1Gwe0PSzrBhRdNON1MqNtBLST95D7kZmFFPNVCS+zSzmg6ZtNlMSrgZvlt6UM/tEYoySe7NpJqNl1KQqo2m+Y4jZy0D+mVDKMkkj2hWNS3SqTmX/Jk4kphwis5LrPhj1KeoNlWecZ8hy4LEn2ZXZ223vycpXzFmQx7Zi1apGEnuTaOK2kWpvwooacBccrFsR1tDVUif3UjbnzKhJPdoZs3GtDRTQBrnrEUGv2wgVdIsAEn8Z1N1ESf/W2Wdyd7S3i42JDBuQRuCZZRrG2ASF67epPTMvTE59ThI0aomnHh5CtWr3J8OcA0jF3ofkit6pxuZFhtIymaYTHvcDMis5xFSNqPsdZ6lyOwiP3nS6fmqJmRWbSY9zLAlR9O+zmYkcvqDLipemVQ61seCtCpMIT+VfThhXycqIixBv59V2ZGTj1M/K22qv+yVst3ki3NBeGYvw49zne83+6frXzkiTx7C5fdsOrBee/xaSgRdx45o89NarAw6g8MXk9C2g8bYOB+G2rq6imkuWUoyktSfmWw65P45T5x8p7rBpqSK9AP6sbTc1BalpULMqYlsQZzGfT0LIGQb3zQHTgJjO5RxKMKeyJESEYRXMemIe/0Er+O5ocWnQaXlNABbtw2Ak9oGlHYeU1vNhY+6LBoyalWrg2p6u/D3TT+Ep/rhORXH73WKIVojzUdFDetj7Ob6H84qMEID9lW92001ZcumbA4MX6DANCOzUQPMXj8cZ5oPxaT+J+HfMMcSzYykXESgrw9dRtepIpu+ZVia21iwu31xKKI7hLqE0JsHcPTya0iSHRT1Kws8jP1+xdF3D2cb5IIRGi/0xUNFnA0KVL+ZPwLosnrPEkQiNhUsgJWdg3KKVmQBSzMgIS5W+fUcHYXotDi8i+LqVwe6VaqyFZBH2Kgwl0aThbD6wgJ9D0Wgu5Ctngm9iQNHL+O1JBkO6gaqVRnDRrfGmsFrsfF+f8yrFo7jVw3w69qirEzMTnniFALflcCayROUU9ZMqpZDB8LUIgkk0Ie+LhvdO1WEE2ukWuY2sJC/R8jTUKjFE7DRlX1ZBxibtMLArg5otm8nbk6rivrM+pki10KM5z6ciW+LzvJTOClugbkllI1PwHDSRErkUAu1TOZhZP0OCF62DJPdhqA/K6L00QmcCnyHEmsmY4Kq3cpbDsVAU4sMGdRIcL8CkRZ7Rw1ga6eaThPaodPvHTD58H5cvZ2OwdVyawOywtWbLBCH9/uheN89UAxaGV+jxgvhq24Y7Lswezv4kFxD+x5CRHchdCkUNw8cxeXXEiQ7JBVshJWfPLIXWLTPGxKnIWwqXY2UBdp1+wXGhw9hn88yNG3DBsAiIQTGpjBTpdExN2czFCawsVGZK7QsYFYErJ1GslbDZozyw/nmP4j/AM/GP0ciMJS1MYVIrB9kK63LOuT//qql/9a/uU0cfT6Z5KE4dsgbiQwZyZ25qGVhCtOibbGZW58tj8TZwxdUCws+zFK/fAVFpcteXsF5ZqdSBL2mWHjtMQIC7mBFK07RKINxhfJwZJUv/ecavLMvPpC9hve1IFbxWnCqXIlN0qgD6/CaLIAfO73D3z8AQeEvse1XM0hCL2Hz3nu5dJDqfAX7FbDpsor1XOHqqvqrXQqmaoGzkRCY1EHtckJE3b2Gw7f8ITGqhjrfcvmx0AptJ49CXU3tzmQ2dmmPFqWEeOO1F2cictG82cqV81KO9/e3YMygyTgQWQVdm5YEG/kqgjQkGGHMLiMvqO7ISfyDd3SqdEX/BkKc37YHQaxJvWf1Hlm+N/r+rNmd509G/v4+towZhMkHIlGla1OUVBdAkU0Im27j0O+np9i22hOxwcdxy6IzWptyD2UIC2UdUPE2mMmUxDLF3wqsWrMac7o4qxRYNt7xhzG0WgVUqKD6qz0OpxWzm7pwHdgbFUM8sPNyEt4d347wngvQTn4Ge05GIvjQOei0d4N1Xm+7cQusvnwMY4rfwZ8dq6Fa9414wGb9ZGGhiJQWR5uZavmWYcWqNVg9pwvy3VWhIbZWiRKwE8lZPX5M+9AgpI5KQxAcJgN9YsPIIhf7ELi/ZQwGTT6ASNYmmmatRDXn3H/zk0f2DjFxcqSzj2zNDyw9B0fYCBIRl5CbTYCxyc0AzfoKuSxvDDPKI4v6IM/4w0NRTd2G2G/tcacLZZ7JHYivczevJvxZuMuCj+LwdfZGiQxhUZSNfooUYX8msLA2g56AGe/PeeAsN5VbgKBVtSs6VmY9Zvp9rJ3gjjvvuUxGKFamDCwi2dc4m1dX9206NVnasqznSPaB+9R9eJFhjhDj2V+TsfJGKqBbGZ27Vsl73KRlyRY/MFsX+86KZudl5d1UCiB8YZOISqFuTbby8fEBbPaOhqgiU2BGeWi3wtCWJyHy9Su8eh3G7EyFyciQ/qkkbLi9Yxt9oFzg+R7eC7fAeNF29MQhjJ94FJE5QFLXSO68pI+XoF3LLTAduQzjfy0HY40iiooWhYXsHrxOBGvsj2OrD//2wz+asufPInfG6ru61TB2x3J00rqOdXPnYo1fTWw+/yfqF/RjU/oYS9q1xBbTkVg2/leU0yyAmodePYwc8TMSjqzE/DX3YNe1seojSQRzCxNI/E7jdBbg3sPvjDfCc2DJCJoPxGk2ZcAmcBR/8vce6KZaIaRVsR/61ovFiR1rsfaEMfoMG4wBboa4tHMR3K/Zovsvec9kyKOe4h+dVvjzYgBubekBfa8/0GnGNcjMLWAi8cPp01nb/3u/M/DOVUB1oTN/ZdGxeK9dCS5VCv4RkJk7l5ioKIpayHDP6wSCNfp7eczf8MvSMHLJq3ErUy4RHi9ph5ZbTDFy2Xj8Ws4448NXI3ne0fzkeenA+hAdpD/0w12NVdGyxAQkapVBpQrZvgDz5vLBJxnlqeb8QZ7mA0+zmSd1O2IfjR7dMhaafZDRN07wBRUWM0gf9sANVlE6dWfixqsQhISo/oIOYxCbnpDHnMeRcxpnEVIaLk+rhUqVKmn8uWDIIZZGqwrGLBuDqkaE6Iv/Q9PqDdBp4O/o174WXFovhb+oSOY0h05NjFs0CM66cvZ1OQB1XFqg5+BB6NG8OlyHHMNbuT4qjViCUR8YtbBV+CwQ0pJTNDrNr1FjunCp6wJDyUv8Ewy2aqk27NVTiZ/C/v0B9C9bEiWd22O1YodyTmJp6Zw2kCPHx5w8HGemjsWpNEc2eSZH7LnZWCVn04EdemKpe1fQgXGYeEzVsQn1YchmE9+zcybZ5CriYtlHi5x9ZXN0NTqZ5Du+uJeUjtQU9v0pi8PDh0FIZ20gNZUtmKnUHb1qy3BpVl9MPfQAYTEhuOsxC1NOJcOWjZ6F+oZsy8B7dpYl69lT4hCbwjY4c0KzvwwWcmak5oqoPt+ZZAr+XIevCCk3MKffYZScvQzzZs7E9PHdUFU9z6RMkeNfOSsHN+xTUEhm2yruJSE9NYV9QcsQ9/Ahgtim67TUVK64qiBCyQH/Qx+r61h7pTi61lZ33Fqo2rkTKiSwkU2v+TgbGIvkqMfwWjga26Mc2WiIocWx0gRMTTK3XxHbZvFbc0iOLYB3tSFoYmSEZr91gY33evhV6I3aGn0jMZocSgweRZC/OYz1h15DxqZMawzagLUDSyI9KRmiqp3RqUICjo3phflnAxGbHIXHXgsxensUHPMcrklZ/am/KNLwwPMCUrtMwuAyrAHn0ga496tQ9aZVCd171Ybs0iz0nXoID8JiEHLXA7OmnEIy1zByo6coZV5yiXHH9x6S0lOhbIYP8TAoXWFOSFVVYpY6V0KW+W9+8tjZo8fkwSgdcQx/ecWo8rCp4Ks3IeoyDSMqKucA5dxoUd0muVSsDTNUIFPDyK4UjzXTsDmiXHEuZ1cgnpkF+MFiX8zcJg2g+bV0SCDQZZtgnys23mbySqWLwxzZRmIhmXfeyyzoqo3DXGvL8afDjLiRqqwyivVbRz0rmJBIoErLNgKbuwylfWdmU00dc+p9VG1xl1KE91Lq5GxITO+o6ApIaFyOuq/0JbYMWBXUiy4EpO+2mzL3g8ooZP0vZMj4iOx60iFm0P2URRc5Ng4n7aT2uW0cZosu5j6WkjRwEdXlNikLzajbQbYBN/UI9fzURRexW6gVx1Pbheb4Z1iBlTjIYuj2jqnUsbwRw0tIZs4NqHWnXtSvXy/q6taCapUoQlra1WnWoyR64TmdmtlVoCGn2OIAljvx8VpqZ8Xomtal0fseUTxD8erYMqQttKTqnafSQZ8rtGloLTKFgOxbTaUt3iGK9iB9tYM627HN1/r2VL3NCNqwbTRV0tEhu/psoctrKaU+3UtDalqyjczMpKNlSS4Dt9MjdQUlX6WxZbRJaFmdOk/dR+dOrqKB1dnXjKgkuS04SgExQXRqZnOyFQjJ8deF5BUYQfd3DqZqhiCtMj1pw40IophTNKpiEbZYhsnO0mnrGpG5Q1VqP/sCRWa0D3U7kVLI1Q00oq4Zq5MS9Ot8D3rwLoh2dLZjC3j0yb56GxqxYRuNrqRDOnb1aezh1+qM7FdCflOqUYPFgdnegwS6s7YLleWWVDJstEzLU+fl1ylWEk6+m4ZSLVNWbvtWNHWLN4XkWDykQV4dTfCiwfUG0PFY1Q22+GJ+UzfapLHARvziLK0aWJ2M2AKhkm4L6GhAIknuTqdaTr/QhM0nyevgchrSaTDtDFS2j4Q7a6lLWWPFpn+BlimV77ycrsfmAEfBUPpkPtXQ0qMyLfrS0CkLaP74btSu3zq6w9YOyMJ9c2kDYnpx9iPqLfUp7R1Skyy5AwS4gwBcBtJ2RcPIhR57dfKTi1s08WpHZ7Jj75q+fXVqM2IDbRtdiXR07Kj+2IM56zy3sucpDwdLEj3eM4xcKzemoYs30rr5w6j38M10V7GegpN3GXUtLSKBVVOaeug+Rb66TCt7lVW0qaoD1tHV4Ld0feMAqqIHMnQZTn/dDqf0fHBW1nx+PJUpftR/f9DDb9liiJcP4BcQC5PytVC9lDn76pchXczWM2vrQUdzNCJPQdRzfzx8FgGBbTlUqewEK70vOLD8wT5Yvpy4YkS9iYehnQ0M84NbHIXgGF3Y25ko7Dbid+FIZkdiWagHIqxek8Lf4L2BPexMlF+kGTKzvG/iDWHHjNP5schIny0iDfHE4m0JaDesEQxjohD1LgLhb0Pg7+kD/dm7MKmcZkPKljnjkpUzOAa69nYw4ZKL3yE8uQhsMwvAbr7Dnv5jkDp/Nwbntt9A+h5vQhJgbO8AU42RUAaLQkTEKWLoGWTubxQnJUGLjbayIZeVIvuUlwq0IE8Mw9tYEYo6Fs1WZ1K8fxOCBGacd8hHQNnTBczWuhIVjrzCmhrRSCriAFujgmCYVZyCXsmSwvHmvYGi7eRXvoLIJY4KRowu18YUlYh34ckoYmuROWtTAKHyl4f1WW/CIbVyZP1PAYjlk6Qg5VFm/3w88xHnqz7Kr56/qiCFY6YDs5K10KKkZi4RdPRyeTmEBrAuUxvNy2im5eNfHgE9WDvYfJgN29/jaJeZTM/KNtvpICIY2ZbI/TxElrcgLDKpa8RkQVj72yDc7v0E07gVizZ2KKV4nAInNgX8wkLDoKaRLWeUlTNrAWCrXlyZFIN4LWavfbweRw17YGduyoojqGUCh5ImOUl/xB1NZcVl12PK6oOBrTpTdAQmxZC7GFowcSiJAkvIlJ9xsRIoqCnwg/LlkUBkZIsSBSheRvZ85NKzdkRmM9SDlboSMzJ/OJK/PKzPYostPmvIpzxKPl+A52ctQOGJ/aAKq/AF5XPwCGRBQGAMx5+McHFiA7S41BAu5YrDMD0a75INUOHXkRiYp40mC5W8L5hCdG9VDhNv67OOqgVWXZnxxTvwvIX5Ok+ksbFIYDMaMdHJjOEnDiM+o8jfq1wfW8R/W3kKg8MPOiVYmCLyaXkE8kCALWcOvHQcp/1eI4VNOTpXroMmjSoU8LzEPGhm3GZ7EP32Y++VBFTqMgDNS2bMcWak+DdF5OE+2Lb9IkLYghluVXCxul0xsGUpNlX/bcP3KtfHovJvK09hceAVVmER49PzCPAI8AjwCHwTBD7GVv1NBOWZ8gjwCPAI8Aj8txHgFdZ/u/750vMI8AjwCPwwCPy7F12898TwuqMRMuIsTozI47ibAlZVeshFbF53ED6Pg5Goy86kMzJAEfvSKMlOtwurvgXLOxdmudKHmMoQenUjVm07gnPhTbHr7DRU+VY1JQ/D1U2rsO3wOcS22o+TE8oplp9/qAT8cx4BHgEegc+NwA8/whKz0xTUziJygKNfCvXatkPTypaFO24lC6E0PN03DPVr98Mh2S+Yc+Aszhzdj907FqJXsUfYuvIYHkUV8KDMLHTzuxDBrkFP1KHHeBwpVp7WkF/yL/lMWAwNulZjHijYOXup3P5rPvAI8AjwCHwbBL7Vd/tnKa38nSfGj3iIIfumI9dTlnTKo/eSVZ/EK8lnOroO3A7BqCu4vLhe5mG5ImvU++MveCRFYAI7iuezd+VCQ1iaG32Cov2kYmfJLDSyhJlBQfclZcnKX/AI8AjwCHw2BESzWfhs1HIhJA69C2/meMzR7D3ueJ3Ctbc6KM4OldXT7P8SX8L3rBeu+kdD26Y4rAxUAz9xKO56P4PM0Qzv73jh1LW30CleApYsszz2OhZ06YYlzyzhUt4EMuZt1c40p/5Nj3qEG8+JbTBVdf750MwhvjwE24cOws63rpi5awpcTTSF5lKLYF2FHb4rsIYT28Gofpr40hdnva7CP1obNsWtkFmcD2ORFvkIV0+dxa0oXYie7sf+15Xx+9AmUDsHzos2mJdV/+sMK1tdBJ87jYdyB5SyzLmUWhxyC6e8fPD0XRokAm1YFZHgn5u+eBD4ClFkDXvzVMX1/cCXeP1eDw62xhDKXuLU6r0IcxmKvuUimXwXEZBsAnt75hhQDZo4BLdOecHn6TvmYFEAbStTsGOtgLQI/M3kEhTTR7jvaZy5FQatYmy3v37m4D75tS9Oe16E38tEGBZzYE4I1Uiy/FJ2ft1lL5y59gRx+vZwtNTLwBnsrP+XvmfhddUf0do2KG5l8FEnXqiLwP/yCPAIfOcIfLkzpVLp2ZGxVJc5b7RsMYpmjhhKg3s1IAc9Y2qwNCDjTLWEWyto2Eh38rhwnnaPq0fWDm1o7aM0Sn12hMbWNWVnxbWgUTNH0NDBvaiBgx4ZN1hKAexctdQXV+jPNpYEx260yuMYeQeqvUGqSiR9TZeW9aLy+kIq8cdVhSPBD9HMgUXsX9TBWMAcIc6mR9mO3suRVnEjgW6tGEYj3T3owvndNK6eNTm0WUuP0gqCBTur7vhoauU2g47de0r3jkynX+y1SVBxOt1T8M6Ltowib26g/pUNSWjXmab+rzPVLq5PRTrvVznvy5RUfGc+Ox9wMd2KSKBgz5FUo+NWimOnASY8WU2tigiowtS77NQ7CcU9P02jK7MzFJtuYA4uWRBfoCH2WlS6RRdqXLsRNa3tQAYwpurjTivP3BPfofmtO9HiWxGUEOxJI2t0pK1xMoq+sYZ6ltUjWDej3wd1oDYdWlIVK+Yk07Ez7XjBHY4noWdbOlL55vPpVmgo3VnVjn6qMpGuqKoyLXAvjewymNy97pH/5Zn0s6kdddisOo8vgTnvHDaS3D0u0Pnd46ietQO1Wfsow2FkZqn5GI8Aj8C/BQF2CvAXDMzj6KrG2qTbaDkFKTrdJDrS24K06y+jV9z5mZI7NL1Gc1rFvJEqQvIpGmArIqvex1hnK6O3qxqzA0kb0XJlZko60psstOvTMkXmNLoy3IGElWZoePPMVpa02zSprHaGwmJHcH6AZtb80sdzqQY7FFO35SaKzvqIxKxTXz35N/q1TWtq03EQzT78hBLvTKcazVdRZnEGkK3IinofYz3wB7CQRe6jrva1acET9SmnqXSqvxUJVQpLkh9t1vHfn16JtAwa04rnLL84iiJi1XTUgkvo4cxqZNN5j+pg12g6tPmAMq7wxCtSKSwufTLt6qCdTWGJyK7fMYpRkIulK2MqkJaoHE1k3nolD2dSNZvOtEd1Ymz0oc10QBFXyiUydaNdqmdpT92psRGo2IBTlCiLpG1tTclx+EWFx17Z25XUkPP4e4251pU+oaUNnan/iThlAWTRdHyYC9WYcJFJJ6E702tQ81XBrEa5kEynBtiSyKo3cVDzgUeAR+DfiUDOObTPOiJkHl/Z7I6WRTHYKDixKSjmAwiP3iOebYiXBnjC60UUSq2chBDFDBHBuPMw9HA0VHidFSkzo5gyM5tmYv558AjvucwFCczNhV62E2Lyp5k5TaUgzzyzclNexDwUizmWGo91nVph5MS3OGM/FDfb78OBTqURNMsLL6JKYeWkEGVSMkbnYT3gaMgtysgPC+ZOY99GHBO6YGhJ9XmIQhizc+CUk2NSBHjmR1sPunrMy7K5Myo6sPy6ViiaYzZQC8VrukD3zyGo3/U1Viwdjy6DuxUERVUa5oywlLPqPDkzNBjN3LasnYTLF54z+15NuOj+iSH1u+L1iqUY32UwlJRZqZnXXwE7zNbeRAmeTtn+GNh8Jvrc8EGAtA0GHItAb+axVxrsjUP7fZkfqGQ4MY+fssAjOHSvFH53VXg7ZNhboMP6u+jASSN9CE+vF4gqtRKTlA0HZNwZw3o4wpDz9pvvabuFKDKflEeAR+C7QuALK6zcypppn5CFhyFKWgJj5yxDnxwnZcoRkUv2zNy5PPzIW3nRFNlXQjlrEW7/w7wQM5dNdtmUH/RNUYTZW3QM9NnhoTKEh0VBWmIs5izrk/PcOHl+pZHi5QvmqFBURaHgcxbjA7QZ74IE07brcNXDFL0Gz0SbKgcxcL0H1vYu81GnvgltnNhBqQI8kEpApm2x7qoHTHsNxsw2VXBw4Hp4rO2NMtnxUghpgOLFi0IUwHnHYq5/Yv2wfs4OBDszhdOlPuxmXlekkjLfaWFSpU+oHGWThSOMubUvMXYOluVsODmS8zd4BHgE/h0IaIwZvn6BBJxH07Sb8Dr9TmPpNlNUV8/AL6ng8nz2FXpq1nqN0b+HM4QRp7DrZJSGjOoEzItRRlSg8CCbdtMLp99pjACZorp6xg/5F0cIE1MjyEOf4HG0Rt7PQltNhJ1t9zQIBu2Xsr1k17CqTRr2DuiFJY8zvMSpEyp/PwSqLAUpEgtUdXGCMPIpggzaY6nPY1xb1QZpeweg15LHzMVcbkHOnC6+h1HF6igrfIiFbdtgT9HxWDa6NZxU3nO5XCIra1hI78DLM1QDdxne3L2LN3JzWJik4abXaWSF+irOFKbh5CYef49HgEfgu0XgCyss9oWcpeNjUz1S1o0xz5ncbZ2qndCxfBw8xvyGZVdeIj4pDPc9ZmCClxxObB+uwhOnBnTE+e1hOdWON/XYyIbiYxDLPHQmxsYxr6/Zg1ThVVXOXKuqxfgQzawU9OA6cxtm15fh8NjeWHA5POtYRpKGtIzBjQ6qduqI8nEeGPPbMlx5GY+ksPvwmDEBXnIn5h4jPyy0UMGtE6rKr2D1/AuI4nSWPBavQuIgS4lHgvRDtBmkHNCsnLkrCa5UUuZ9eQOOvGHTdEXrYdSOZehhLUZKCmMmMoO5CSHs2VPEsEtZhA9uv2BeT9NSwJ1lmhHUwLMb7y9fwJOaUzC1rRGbzjuEDUfeQM7chdcbtQPLelhDnJKSoWgojfFRV0DiJZy8boshE91gluCH6w+SmR+zFEiYfO/u+SNEJoaYuYHXqtIdPWqk4fS0vph9/DHC373CjZ2T8aevNorqV0WnjuUR5zEGvy27gpfxSQi774EZE7wg5xpOyiPsmjEdO+7n/5mQUS4+wiPAI/BjIPDlTHNpFOQ5lZpYMy+/pbqQ+6WXFH5jPXV3Zh5mjWvRHwf8KYExj7u9kjqWZivcWJ8r0GYeavttoQfMq2xakCdNbWJNAmEp6uJ+iV6G36D13Z2ZJ05jqvXHAfJnmZMujiQnkYhsavak2SdfMVO8RhA/pzMr+1NVA5B2me601Ot5gWhqUMiMpj6nE3N7kmv5SuTarjcN/98smjFmIHVpVp+aD1xExwIU7kNZ+ji6vbIjlTYUsu6ZrS5k3nD7bXnAlgQUBItEureuKzkb6JBF2XrUvNNwGtGmBIs3pcErvSlClhdtGYX7bqLfazCNw7ztdpi9k26GqxaxZJaAxdLo1hQXcm4zhbZ6nqJ9CwdS5zFHSOmMVkrPt3Ukey1mCmIed5sOWU/uvRzIolxbmng4kNJkYXRiXEMqV60NDZu1lJYtGE+DhruTj3ohxa0p5OLchqZs9aRT+xbSwM5j6IiCsIQezapKIqMK1LrfcJq2YA794daOhu99Sgq/0NIXtKUDWywBA3Ko2YHG71hH/exFpF+yFS24EkfJATuZF2EzpcdhnWJUf9xReqmu5LjbtLJjaWLmKuZ1Vpssq/ejLVzDYUHiP4eqMy/F5afdVVzz//AI8Aj8OxD4Tk5r5zxjhiLV1AHFjAtjVpMjJfItEo2Lo6jGdNKX/FSQJYbiWWAUtOyd4cQ83aqXSGThmR6HN6GpMHUohkIVhyMijUdomAQWbP8WEhMhNDbO3OvEPf8E2rL0dAjYKpKE0LeI5/YtWWfdt5Qex+xGEkvF/fRE5qnWOLunWlZPIeGQWDvAWtNrsywd6UrCeBvP7T2zVu09k8J/dk1U31EP554sQBm298uM2a/U+9K44oD5T4pknokN7BlWDEx5chQiJeawzdhTJ0Ni2Js8vdemx71BaKopHIoZa3jVlSM5KhqwtObXXyhA5v/hEfh3IPCdKKx/B5h8KbIjkKmwzv+zDo1zrFzMnp6/5hHgEeARyBuBL2zDypsx/+S/gICMLbBIhCyBefIV/xfKy5eRR4BH4EsiwI+wviS6/2nacoT7bMO2C8GKhRtaxo5o1HMAGhfPdRL1P40UX3geAR6BgiHAK6yC4cSn4hHgEeAR4BH4xgjwU4LfuAJ49jwCPAI8AjwCBUOgMEvyclB8/vw5EhISctznb/AI8AjwCPAI/LsR0NbWRuXKlb9qIT9pSrB58+a4ePHiVxWYZ8YjwCPAI8Aj8O0RsLa2RmRk5FcV5JMUVnx8PNLYwbB84BHgEeAR4BH4byHAHWxtaWn5VQv9SQrrq0rKM+MR4BHgEeAR+E8jwC+6+E9X/7+48NI4vAp4itBE5WGP4vfv8SXnAqRxrxDwNBRKdmK8f/8luf2L640vGo9APgh8U4Ul9t+Haf1aom7NGqhRoyZc2w3CrIOPv2jHoomFPDlR4XdL8953FX//CHun9kSHLv0xfNQULFo7D7O2BeRzwG1W6eVvdqNfnY5Y9yTjhN6sCb6LKzne7O6HOh3XodBiSkNxebcnnmme+Mtcj1xZNQkTlxzG38Ev4bN9NqYtnIY+Yw8hTvMg389Udln4FayaNBFLDv+N4Jc+2D57GhZO64Oxh+IyDv/NyYp5JPDeif1343I++qQ77CT8v/dh3tAOaDXtUq7vUYHahDwOf++bh6EdWmHapUIq3rQX8Fo+Ft2b9sTaQNbu5G+wu18ddFz3ROPg6HQEHV8Nd/cxaPtze8w6FwN5ehCOr3aH+5i2+Ln9LJzjTmH+miH9JS6um4b+bZpgwpnC73IvEK5fszz/Vl7f+khEWegaaqLDHWBqSL/uVB8i+xWkSvajeY070YaI3A6K/Qr8P8RCFk4HezhS1bFXKIo78DX+AW3u5sy8/p5UHhzL5U8Lp7DofORPvE2bZ6wm7/zSfEiOr/A88fZmmrHamwolZtoT2jpqDO0KZN6JM4KYHiztSL22vqRMf8sSujfDherMC9C4l5Hh0yLiB7S0Yy/a+jKTG0nu0QyXOjQvQONeblxkUXTlz9G04mZibk8//p40ina0MyaLvscz24kmtQK2CWnUDmpnbEF9jyuOKdak8MG4+P50qiSqQrP8OQwS6fbmGbTaO1rlHZodTvxgNtX+ZSU7eDmNAvbOYgdjR9C92bXpl5VvSZYWQHtnudOlQjWGD4pUsAQxu8mtiDF1PVj4MlMBcS2YIHyqvBBgrjq+cYjdQq10OYVlwhqK8rTtLy6R5DUd+s2ZdHSb0/rvVWGlHqc+lobUcnNExotOiRdp7PBtFM0BJIuh86Ob0x9nxV8cru+PQTLdnNaEuu4IzcSGEzL5BPV1aEvbYrNKnLBrDE3y1lRsWZ9/7FXyib7k0HYbZWWXQLvGTKICsUu6QmOaD6YTUfl8dBRauFQ61tuCLPNSWAWll3qMeltYfpTCkr1aSnW11QorO0MpBS2uQ/ottzLfBqogDaLFdfSp5daMO+onX/dX7EUDihb5OIX1dSX9z3ITzWbhm44exfewd7knXsj0UKEzc9te6gn+Gj8WszfuhkeANmyDN2PMqOlYdTIIFrWboJxZOh79NR5jZm/Ebo/H7JTw61g4YhLcD9xGomNd1HaU4taaURi7cCv2eYbBsVVR3Js/CdNXbVNet6uKl9ObouuGZxBTCqKe30NokUZoUNpAwxljARFJf4Jdo37DhD1hKNG0Lhz1M905FpBCPslYOT02YIfXA2hVbQbXn4wh1HFE5bLmMDTXwUP3zug07yYSBemISDZDTfsYnNu2Dt7pdojYOxur7hqjxk/vcH7rVtzRdUUV21SE3DiGreu9IatIuPznXKw+Ggij6rVR0lg1Myx+Ac+163Dw7Dmcv/mS2WOkSE7VgrmVEWSvzmLbXxcR8OQmLtxJhkO1n6Dyeq8qQxoi/j6BrRt9IS0WicMLF2GT5xMInGuhrDnb7sdNMx3YjP1XbuDCiauIta+JcpbcNkCW7+5JbN16B7quVWBLsXh8ehvWeafDLmIvZq+6C2NXhq2G92J5yGb8NjwcPTcMQmXNA3VTbmPnwt14YuaKpi72MFKfAmXkiNIVbGCuvs4H9cI8Srm9Ewt3P4GZa1O42BtlnNxv5FgaFWzMM67zpKljD/NH/8PIm7UwuLldPunTEXj4TyzYdAw3Q01R3u4t9i9Zjl0nruMfQQlUd9LH8yNLsPhgKOxdyyLmpDs80QZu+ueweNEmHH+qi8p1SivqKy3iLk5mtAllvYtfncP2bcdw7vQp+ERZo3L5otCTPcMxd0+gjRv0zy3Gok3H8VS3MuqUNkGudgRxIDw3bsOxs+dx/dVbPDz/FmWHDkEjkyjcPbkVW+/owrWKCe7tXojVB87h7ptUyKMDEcRWGQfs24qD55hjTuZ8LTowCIJy1VHCIA73D23Cll17cdQ3FjZVK8NWT4bYx6exbZ030u0isHf2Ktw1dkVdzcahADsFzzy3YrfXRZw+fhGBIidU+4nJnRyCG8e2Yr23DBXpMv6cuxpHA41QvXZJKF4B2XOcXHkE6a0moovjcxxZuRw7jl9DoNgaZUpbAwynjSv3wl+/EqrbZ3UPkRXXArxreTYK/kG+CHxzVZ3LCCv5SE8yZ36OtBx/oUmbjtOBUdVIRyCkov1OMN9SLLDRR18r5nNKZEvNZnnR02e7qZudiISmrWjjKynJXrtTAzbNKDTrSUfY6F4Wsooaa1xT6hHqacby63zaCEv6Ygm5arPRociehpz/3CMdGcVcnUmu5kxO7WLUaPwBCtCcPUreTb/qFaNB3AhLFk339g2hKtraVLnnn7Ri8SjqPmY9Hd3Ql8oILajfSQZCcjBdm9eUigidyW3OVjp14QCNq1NEgWkSh6kskg73Lkftt4YzP5kvaf0vxiQq04MW7btNMelPaGHD1rSW87PFnm36YxZdzzZgkUXfo31Dq5C2qAy5TXOnnQe20Lj6ZiS0708n4mT0dktLMq2zmF4yEonHe5FNhf/RHTbVKQn2oU19y5DQoh+dTJVR9L19NKSKNmlX7kl/rlhMo7qPI48wzRGIjEJX1Set2kvoteZtVRmOD3YmpttIx7IMuXYaQ2svvabPXTMcKy7IIo/TYGc95vtMhyzLuFKnMWvp0uvCcUs+0o1Miv9BPtnwVHLI/FcWupla6GpRqx0xHGcK3dqS9LTa0E7VoER8aRS5zfVn057cCMuc9Ct3o3nbz9LlQxOorok5dTnAxoGSYPLZpNEmGKWkG3OoTWd3esQagSx4LTUzsqY+R5mzOW6EZa5PlbvNo+1nL9OhCXXJxLwLcWRyBMljWtmyIY2+FMMkS6Wna1pQEXAjLDEF+2yivmWEZJExlZ1GvuNKk06zjRSlJpTmS+NK61Czjao7rD17jetFs3yZiUAWwabG7ci0sTs9iWRtbAhrY9qVqeefK2jxqO40ziNMTUX1m0q359SnnydeI87AIH21j7o5WlOrDc8pIfgazWtahITObjRn6ym6cGAc1SlSlPqdULwBRNlGWAmnB5GjTnWa/UjlhC3tOk3uPo8eqn2yqTlnx/VD75o6H/9baAS+yynB1ON9yYopLJ0G7opOKdWzPxXlrhuuUHZSqadogC3XkbvSkhfcPHkC7eloTALmyK/WgieU/nZ1FgUli1hPzb+AwiJmh7i5dSb9b+lpevmBDqfQNaPKIH59hua7OZMhc0ho4NybdjxRza9rKiwurfg0DbTRozY7NOyAyYeoSxFLpcJiSdJujCdnnaa0LpLLIKUXi+qQbo359JSDkCnxHqZFaYCXssON296WDEqPJV+uXGnXaLSTGdWbep5C2HXi82cUkouJJvVkX7I06Ej7VTO70pcrqKG2LrXaFk3x19bRrF3+zI0kq63TA8lO3y0jXfKhLlTEklNY7CFTL6cH2pBemx2KDoe7kzWI6cwASxK22kGqbibrY5Yr8OJftHBMT2pW1oxE2s405soXnGqOD6SLfy2kMT2bUVkzEWk7j6Gc7FLJb/kw+n1AJxp5RDGhmyFz2rWR5ID6tCqLUs54rBFJpOO9zEinxVbmzJPdjlxPjWFEnQ9yGiuNrk0fTuuDuQdKhWXRR2XDkoWQe30dqjjtntLBqWabYM/WtShF/U+q8UmmAM995M0531QoLAvqo7JhyULcqb5ORZp2L3tvTRSzvwtZ11pAz1RtQvZyCdXRUk8JJtOhLkXIshAKSxq0jBo5NKbhs+fS3LlzaXrncmz6vj4tDZKyZj6QbPTakGYz1wCJZKEb6RfjqjT7sbqBSunp/Brsg6g3HUtMoxvjmSmg6TpSvgIvaFEdXaox/6nSvplNYZE0gP6sY0hOI68oPpTFPv+jgauClGk1mXJxTVzZZb7vWva8/HWBEch1dJ/vkOxbPBQIlNMQGi7as4qhA3MzNmVGbPXV29ACr6LLSuMjroRWqDNwDv6c0Ao/MceIuQX5P4tRV0cAASuDgDk5rDkvILdked7TdWyJaUfv4e7u/igeshfD+i7FQ81VcZo5BSLo6Gpn3mG1y9jmEQTQ0uI8JkqVeGk5oKR9PPxusGlWlkOkr4+i5SvhJ27WTqcexrsPgGz9LyhfrQe2v7OGXV7Ta0JhxtSqyK42apSQISosCiY/D8HQkn5YNmchdtyJBWTyjFVjXI6sYgog0tGFRkk0ykBISkyGNpMviwjp4QiL4laWmcC5aT9MWbEXFx7exBLXKFy98vyzt4n08DAo2Tmjab8pWLH3Ah7eXALXqKu48jxbBSXuwZjlYnRwa4jKDoYaZQGEhkYwQCJbBs8GavkGI7Qc3BPWF//CgTdSBB/2Y9ViitM7jyPq/XkcjXdF1+Lq15lra2piOtBhQErS05SrFjXbRPo93H6gDQsrrpK5YIDybXuggZ2KDtdmlQ9YG9Bh9SFBelr21XtpuHP5OuIsi2W2CUVbV2fUZKi+l/+v5NFDPLVuhOHTZ2DGjBmY5/EEaWIfTCiprHGBSAeazVyTmuTJPQQki8A1bWUQ4afqVWAZ+xQBb7OtlhVoKdLJpdnqKyNrWQwa3RoJ+1bhcEQKbp6NR51OJbK2O3XafIuZ7V1T5+F/C42AqmUWOt93loEgZnPhxNSauZVl7g3qC0ksiw3Cs9C8l8EK7bvA/aQXvLy4vxNY1bNEgSRJ9lyBdf7qF8kQZXttxP6JlSF9eBXX32XvNApEMv9EWjUx23MzKp6djAmLlmDZY1ds29gPtlwLkSfCqP5ieP/tyTqNW5jQrAX+vK+WLT+yxDpJfdg7WiNwkxsaLhCjx/T/YWgzR+hm9IT55c/tmZDtrjdHGvPGrIl62g1mJ7nLqVqNoFMC5Z2s4VDcRvnBkx6Gv6/54x0TPfHlDVzm7HQMyrSIh/C+9hSxBSmSgnwabjA7UE525eHEvDEXt9F4reKCcHPPftzUZbZHp274raaGMY7Rkie8R5LADJYWGT2sRgGyRnVdB6Ff6RvYteMQtvxdDkvXD4DTpb+waYsX0LIDLLImL8AV67AFb/Ho/juNJfhSxMa8L0DezCRyuRzS8Dd4k00fZKYoZEzEFGjQA/zNvmsygjQMr4I1azzjSZaIyMwCxvIQBAVJMu/rMqWtawUbqw9jnJmJiwlh5TYWfa3OY836v3A29Wd0ULwQWVPxV18PAY036+sxzcJJKle9LOxXox9Wfm8SU0IssH/U35/qXwUNisO7KNbLpD/FPf8EEDMKd3CrCB0DIxhpsTk0SSpS2DYSSVQU4jgaJOM+7FkQQsSVnJKR+J7t2zl7FykKgoX7Rx65F93LlUF55waY9yCP3s6gJOq2bI3Wrbm/VqhXKusXdl4ctc3eYs+UjXiS0QdzMrO/4hVQwYwTnn3xaqcgJYX1EuwLUcGdjTDZ/5lBzhSG4k91K8sIVflMcYsDVR6Lq5uvo9Zfp7F6yiTMmT8ajdUdr+QmNm26CZRsi1nHz2FOxX9wPzCP/TlyGaSqSpK9uoY7gu4Y2u49jm/3RIJdKdiyPiMlIhLvZRJIVLLKmdCKvwzJmWxZCpLxgEV0UPXnmjAOD9HoIKX4x+cCbgez/TwaSeXhJ3AorBMmdSvKajwd11etxtV9brCrMwqb78kg8GyHUvXHwf3CO4gCRqJy52OZSjD9FS7u2IUrr3PpJKX/wOfCbQRn2SvE/H+dOISwTpPQjc1fq4M8LRbPz/uCStkjOioxx0hPEhGOhLJ1UMeMNeNXF7Fj1xXkxlJBT6sSfutfA/cWTMbb5v1RqeJv6Fv9OmZvNUTH5pnZwDhHAABAAElEQVTtijg8Wb0rA4cta+rqa0V74OqePdWrizbNi+DKwpHY+Hc8ZLJ4PNkzD5vvcpqHvXsskTobl4F7GzOuVdTBxl21mjeA+YM92HgtXnFXHhfP6jcdkjRFw1LQ4WipA6fgwNpJZhVz8nK3GH2WSKd2U9TXOoWZo//CsyT2LCkIR2evwBWZcszNlSWTmpqq8lerSk/0rZ2IMx4X2LiVCzK8vfcYut2HwY1p9KyvAFc+ZR+jRIvFOaw0qevWwvARdRC4fAmi67cBM1XkHjRx5VJkZaSoD8UtJaPcafB3P4xAgScPv0DC1Ef7aGrXKmTK7FNMiZBV7X40c/dhWt/JibSZvhFaNaZ53ndpfx9nxbXIpiktuMaMzmobllZJatavN7nVL0mGesWpzbJbSruHLJQO9itJesymZebckLoNd6MKbEGCsV1N6rmGpZEF01+dijGaQjJxakt/Xtew+xSinLKog9TLTpuERX6mRWrDbCHy55dUFraO2jtVp+Y9xtPiDVtpw9w+VLdaW1roo7J6s6XA65ubkF6JpjRsmQed2NiPlRFUvN08OnyfGb+TA+k025NUEiIq03steQcF0skxtchA4Ehu7t4U/OosTWtkTjBtRNPOv2YGeX9a0cSMbS/QoSLm1mRXvCzV6zyR9j1mNi3xKfq94s/0x+ZTdPbQn9S/5zy6xuzy2YPChqXlRK3/mEaLVy+iP7r2paW+sQpDvO/sOqyeDalUg240celIqs1sW06/utPl+6fZXqaSbOFKGeq99grdv7aZ+lXQJhRvR/MO36cYziyTPSSepUFOzBbHLQLhgiyMNnZrRv3HjKSp64+T74N75HPYncYNnk4Hn6lsfsw29iLwBXn/ZkI24+8zqw9buDDnJ0L7E4pl6Yk7GpJZlzMZCzSkTxdTPX32DcTsqMx0kiXIwjZSt2b9aczIqbT+uC89uOdDh93H0eDpBymDXUYOMZ3soE8//5WbxU1MF4eUoroLnzG7CLO1LK5H+tClBu5BGbmzR2ThO6hjvUl0izMGsjKEb+tMzedxiy2U1zF+W6mXs5CEpbvRBt9QCjozi5pbM/tnjZF03N8/a5t4yxYovfWkifWLkja0SN+iDLVbdI1iJTHkt7UXOQuFVLrbBvINDaIzs5qTNQyoxsjj9ELBW8FQ+Q9biHNoSFUyMXKkem170O+jf6VypqXol3F/kdfRpdSxJNgCnt601vs1BV1eRwOq6BCsm9KU7VfpdfJrurxuAFVhNmbrplNo+9XXrG4k9GLfIKpqyi2MKkJWpRrTZM9QkkTcoM39KjBZi1O7eYfpfq6Ng9mPnh+kPxrUpA5T19OO9dPp92Er6SZLK35xksbUMiCBoxu5ewfTq7PTqJE5yLTRNDr/4gVdWt2TyohAzj3W0GVNo3TsfupW5Xc6k1sVcggU9l3TgI6PFg4B9iHwAwa1wlIsukim6JeBFJKQrVdhZtLwpw/paUQyySSxFBaexF5vjSBLoNAXwRSXPZtGkgJFk9jm3U8mkgsnWSxFRXMGbhklhT2lh0/eUo4ipsVSeBQrXy7ZC3tLFutLa2dvpduhb+m5/x26fsmTDmyZRt0ncMZ7CUmYKJLECHodEss6lNyDQmEZdaYDCfEUFpYznTg2KqMMabGRFJcXodzJa9xlHbXHQLYq7r5yIYEsnoKDOcUoo4RXfnTR8xRdeRRGydmBkT2n/zn+RNOCuAeJtL2BGXVV7GNLoN1NTKi1xwu6eeN5Bh9JzBmaPnm/ct9bxl1WI/HBFBzLaLA29MrvInmeukKPwvKoB7awYYaDNY15ml0Ylj1sD/VuPpV8MzpCCcWcmU6T92ddmKHBWhEVp2qsRJSJSfzROKopyyg5MpSicgCmfl6wX2lCGIXGMmGkyZSkIWLBcueSSpJAYSGRlPSR76g45i2FJ35kZg1xpM/daeD0G3m2e42kfPQLI6C2tn54KPZdpVCM25lEUkgkurAo65zL/L0BbMpWho1CbgPYKiOZpRAao1gp48zrj40Z2sD2Y/Pml09oBiuVUcLQtiwq58ZEx4zNy+dHpKDP0nHnz8FYmeCOu8XsYML+nFjW5KLxeKvvzCZ9tMCZFWBUFI5GH6DJzXuITGCbi7y6ZlZQb5vSMbNmk3sfG4Sw6bwCk9fNw7ILNpjU3AbFiytpGZeoiaYl8qCbchm+1BJL7dm8TvodNt1XC24/M4nkbxESawO9h2vgazEfdbjs8jBcP/YWjYb/lqNtCU2KQ8nOGCVqNkVe7BRSpN+CX3w1DCyRbS4p+QH+cn+GdpvmoJ5qNk8edh3H3rLFBr+pKl5BIOc/unpqFNkzoS6YieYTgxAG1sXYkotPCyJjWxRTkNCBYWHNRbmx1jKGrcPHv6O65naq9z834h+6l45QP288F+nh2eqHqDpj1Ce01w/x4p8XGIEvrBC/APlkur+1O1Uw1iNdPTOq1otNK31wSfAXEONfRjLeZz61KVuMrB0rUt2GDci1cUcau/EGFfgQhoRA8hrvQlooT7/v9aWXmnvGvhhWqRR44TIF5lxpnQfHNBKL1SMdNkWUZWiSSklsH9jnCxJ65XOVAu6PoUqNdmQ7DUNGEX7e9PDjZqI/n4g8pbwRYFPkC2qxPXZatuzIqAcZU8V5Z+CffA0EePciBVbt/42Eae9eI1zIRiwWemyhQiFCUjgCQ2KVCy7YcmFzxzKwzVwHUAhC/5Kk8tdwb9Ialx3qov6oDZhc85OHQf8SYH6gYqTHICxeHzbWBoV7F36gIv5oovIK60erMV5eHgEeAR6B/ygChfqI/o9ixBebR4BHgEeAR+A7QIBXWN9BJRROhDS88FqOsd2boufawIzTIgpH41ukzsPvVeIDdvixO7asm4VeLVpjyI6C+/v6mqVIe+GF5WO7o2nPteDcPPGBR4BH4OsjwCusr4/5J3LUhVOzpjB64o0n0Rq7+T+R6pfPLoRZmZ/xS+NKKKo+5YI599va9w88rDccg0fMwpr/NYQgKjpz8+6XF6rAHHSdmqGp0RN4P4lmBxTxgUeAR+BbIPCDLmv/FlB9Rzy1TWFi9ON9axjVGoy5tTJxlIcewe5LFhi4W3lckXmjydjYKPP59xXThqmJEW98/74qhZfmP4YAr7C+UIWLX3hi4/77iE9Ng+5PNVG3sgOKOlZAORs9dgrSfXjs8sTfQTEwqP0bxvSuBlPOV88pD3hG18LoGi+wepsP3jv3wvSxzRTHGYGNOwKZj5/jAbFIZs4b3qVqnvEiR+x9D+zy/BtBMQao/dsY9K5mClnsY5zZ54Hwqr1Q7NoanNbrigVj68M0W5nTmK+rv46/hl4RCaKkFdBtUBMUffc3Th04gdgavWDntxlHHqXByW0MxnVwUu6lYkc53ffYBc+/gxBjUBu/jekNxlIROP9Ku448QnR8LKhiD4zoWhmmQs7vlRcOnE5Cw6l9UTnEE8sWHMAjcSJOzpuGJ3IxxKkJiJdVx8g1w+CiaJli5oJoF+MdjfhYQsUeI9C1smkWpZEeeBiLN15DTJFK6D68HXCS+fN6nADDkq0wYFgLFHt5BO7bHqFk/2noXl4HKc88sfPMc0YvEuJiLTBocBM4aHF+ls5gn0c4qvYqhmtrTkOv6wKMrW8KcaAnth4PQGwyoci7VO5IFlVIw6uzf+H4az0UkURBWqEbBjUp/lXPsVRLwv/yCPxnEPgaa+f/azxkkYepd7n2tJUdHSR9uZ65O2DHI/VYRPtusyOTor1oXK9ZpHT1c5B62JlSY/dnH/DVI6HHK1tSw9GXFEcVpT5dQy2KgKrM4o7kYT6kvMZRr1m+7Fgqtr/nYA+yM21M7k8ic/rIGudBObasSXPxdZXK+dcayvxrMbndppH7zgO0ZVx9MhPaU/8TzJ1FHv6KOPcSeflXyur3StkixOcHk51hR9rHebf4P3vXARfF8YU/ioBgRcGCHYNdMSpiA2wBe+9GVCyxl8TeNbFExV5i7zX2qPztir2X2GIFBUQBkV7u7v3fXuGO444mKOgOv2N3p7x5883szM7M7vskEfRiUUMyKeJBx+VWEiLo8owW1NHzPtOISMlneRPKZf0zCVRNiRyb4VrjakrGTDciZ4ryW0duZsbUQk0URcPbzSSBrT362gxqUH8MeSuIkmhHl5Jk3WwVPdXDsxT/72Jycx5BpwUTQNGPaZlrHkK1aXJZkkdzyLn5chKsQ0le/kVDp10ULSEkqhjxQkQg4xHInqaZMh6HDJUYva8b5SvUlxTUUh9pQ0tz+mHUJe7QmB58gQsVbziYpjPPz8yZk6ljBRMybTCf7dUlw9UTvJM6WTvQH2rCIfrT0VgxYLFNwQUuxanh4Oly7qCZkztSBRNTajD/hW6OLO2S6uO6ij5MvQqaU3s1uRUtcs5Bps3WU6A+vqJnr/TzK3G+iXmvWD3NAUsI39GeLGz6k8CFKfVdQa62fUhN1fSQjuw4TwJVk7YTCCHzm7jSOgVRFK1sCMrVcbecgj3WezINXulDUh7YVjMppf30f5V293igefw71WSCy54HwnXwLAXTzk7WzK8m2PkTnJRe/ulIxsoBK9Z7BJXNX5cmnvDleg2nZ098E+Rq6ydeiwiICGQMAtlvIyQbzH2Ni5dBsdDruPyvYGrdCDlzFkLFKqXZwFE87t97DGuXwZjMPD9TpszC3kexiLnwG5RUP+rSaXD1xN44g4sfC6JoAgmVwHekfHMh/j7uPbZmE0KT5dxBU2btxaPYGFz4rYxCliZHluw/zKtjIk8rpDepNYtNYyfHdWUIQ9ULEkY2qF2zFKTv/eF/Rw9fUbF7yfIrJeW9UhdX+yzu9jXczVEAaqqmimjZzQkqqibN+Lnc+qO79Sls2vUGEp+/cZ3LlO/YZhx8/wkn9oeiXucSMIx/hNsPI9nElNpmkFHpH1GtYAgeP3wrF5eIZyn2Bs5c/IiCbKZKlULOaabM2KTur/DsK8XKnyqiercN+GCtjqepm3guIiAikHEIiANWxmGZIMm41nQcWVMZXuN+w9w/F+Dfeuux2r2IfO9FQfVzC4mpfl4hWaof5l6QSQLwRifhEJPV4QXuJiYPgv8rnwR9Ek4Mi6GT52ElN9dRHFrSnW3mpZ7rSqCDyFmsJAqb8AaTTr4iWYbwK8n1NTaGwdv7uKPJ/SUJQfAnHcQSpvXQz/0HXN6yEXvW3kKF+SvRt+xpbPprLY7CDW0E03xG+VEgtwy+L15ovOVnyryEprDSaZBRoLyQIODNG52fDsjCc6HBvPO4dYQfNq7+hiaus5EqirCEyhBPRAREBNKKgDhgpRWxVMSXhZzDmosO2HRsKcaPnYHfRzSEglrKBLUbN4DxP1MxYtMTRPBAFPFiP6YvOguB6icxhY6aq8fYoSmcLO9iG79cIGcckn1E6Ccp4uKZtNKkNho3MMY/U0dg05MI7mQj8GL/dCw6q/xYiEcZYaBROHOUqeOm5OZqjmZ1bZksLDmuK2YFVpNbwfuGAbr+0hbW+viKctRPhl+Jx0ZWJBHvFXMI8UKB+kUG4ZzjCJqb1WmBpnnOYs6w1bgVyjxmoY+wbdYa3JTqarLGqNK7D2re/gPj3jZFnyqV0bvXj7g4fR0s2jeF3EKUcTV071Ub4cf34mS4Ag3p29v417QrBglESewS8SzlcEBTJ0vc3bYaCponGT6GfoI0Lh4CzVP8lb+goAibhoP/m4HK/92BQBEW8fAwthz9L138agqtxP8iAiICehHImJVFUYomAvEPFlGj/CAD5vKxtLahEuXrUscxO0iglqL457Sjn72cA8wkjxXZNhxHR/xS4Op5HUsv9wwk+7y5qGTdltRtwAhqWyEf2f40mnY+jGSRO6iffT4yBHNZWdlSw3FHyC/+HV1eo8WRpamk6lwf15V8D8uYyjYfSpPmLaW5QztTr/mXSGDV4ELo5CsSgnTyK3FA5FNN3qvz5PvhDm3rV4WN5Zamjkv42vcCLetsy8ZGK1LvTTf55RIpvT0yhhoUYm4s45xUoFwrmustUIjocdIA2ti+Lo1VEEWRNGA9dWw6S/6CREKK2Ge0e6gT1WrDPFYbV9LkAYNo8ZVgvTxLkpd7aKB9XspVsi617DaARrStQPlsf6LROx8yRdgAqlx/KK35x4v2zO5D3Wd5UxibSD01wIZQajid/2zKjwStxRMRAREBJQKiLUG9Q3l6A/hJ/PIqLH1cC/3dLBESEIj3797i5dWDeFprI+a3UXxzJAkPQEB0HhS1tkjYI0kxR2k4AgIlKFA0DySREphbaNBMMNVKeEAAovMUhXWauB2YrVjCS3wxgfD7aMJ0DvkVNAoxR+BevDuilvtjnRPP3AoUQX5t+60S1icgGnmKWmvRScgQ9f4dInMVhpW5rhlRiiVVR5BFMX6RyMXLdimK4r27WFMzJYWJDLGxEpjq4t5gFmChrIUL50oF9lLGNRCSAkWRRxIJibmFQr7A8iyHzQ8fTYqguAocSSi/Ap8blnlVO1/qoohnIgIiAp+HAN9yostQBJhnaXb/xQjzvMkvSeTlX1kWH4lCoW+R005B8S3kZ8zcQWmm+jFifiAF4RBMkgxKxshdpDjSzh5kDN4u0sN1JSzXGSGvLnIrRSH08BVlDL+SkAUMzWFdNJVMTQmDlTyh7sFKCDK1hI02P5rgr9MZMa4JoKsHOAZNAVtJJKIIM87Hg5VOQaKniICIwGciIA5YnwlgkuQm5dG6ezkM6GuHUpa2/OM37Qo6oMtvE9C/QnZ56g7Hf2fO42FoJKLPHMRlh9aoWzpRt5yk2KKHiICIgIhAZiMgLglmGsKx+PA6AIaFS6CA2Wcui2WajvoERyDgqS9C5C9cGMDYsiTKfdfkVvpwEv1FBEQEviQC4oD1JdEW8xIREBEQERARSDcC4pJguqH7Ugml8D08FwtPBKi/B+KPis0LlED15j3R2cFava/ypVQS8xEREBEQEfgKCGSRGdYn3N82B3P2vUKuUiWRT/oBL33iUbHnZIzvVF7xHU1qwZFFIjwqJ3JnpDXzzJCZ2vLwl1db2hVHv1tV0Kq2jfzjY1m0P/69cgP/hZXE4GM3saKp/l1+WcgN7Fi+Hd5v+E0/QwvY1OyIAR4NUDRbrVIKXFp90OmAAzbsHYKKX3orkGlQtvbphAMOG7B3SMV0PyDI3mxFn04H4LBhL4aktxBxL3Fq7XpsP3YFBYYew4JmirdOU92cxIgiAtkZga/+gn/0PVrR3pbMc9hS731+yu9s4unZmtZU2DgPVfLYwXb2UqtlJF2f1ZA6rHqn/3ud1IpKiJcZMhOEp3wSe46GlspBlSfd5K+fNFzwXupRyJhKDzuXstHVsD3UJb8h5eu4kw3kZk8Xfm0NTVl6noL0foiVmeUKp2trptDS80Gf167Cr9GaKUvp/OcWIngrtcuTmzrvjs7MQmcj2bEU4P+ZdaNZ2tgA8v/cOtKUJ55nGAJf+Tk7Djfn9MWvB15C4jAQk9oUVVJHGKOs+3j0tI3Cw42D8cuqF+rlML1PBxL48NN3z1mXEabmgNAbO3UBmSEzdTmrYknfXsdtv7yoXrOC/DVqlT8sLJHX1ABm5jkT0W0khGuemORHPp5xWuTLh+z6PC7n0hrmhAJfpcXmgkP/mRjmVCBlrDVx1z7P5YD+M4fB6XMLwXWfP6fKyKN2Jt/bNVPrnByLXrNvapjc+gwMmDbn5NhemH1TpOn8DBQzLenX3cOKOYu1G+8ihozwg0MdlNBc6jGphjo188LwaTDOrduMS9WssG3JaQRKLOA0bi3avp+HOVvv4YP8eiMGxU1Bqz5b8CzOAOEbf0HPwP6Y3/Y9/px3EK+jjFC5fReYHFuJo75mqNp5EuaMaACTa8swZmHaZC6b2lzdacY9wpZRY7A1xAVTVv4Kp/wZ35tG37iJRwbM9VRLc6j5hFvL5mLPux/g0dY+8UCW3qbC5p5u7d6Ccx+kiHgXiyruo9C+nASP963E5qsfYFqiATr/3BKVzF7jf1wfV3M2w9A+jijAVhGT8mLp55dSqxeHp3/Pw2rvYOSp0hUKKqvd+DfMAmWa9cUg16J4uc8T6++XQZ9J7WB5X82lVZ1brS4OL6H96OQaU2cqP4t9lwzXlzQE/x7fgb0B9uhR1BvLjpmh89RuyHlpF45FOGNir+owTgV3mS4er/h3N3F01zFEOE9ELy5EsnqAP0C/tRtbzn2ANOIdYqu4Y1T7cql74Ih5hf9t2Yf7QfwRM1VGtyGdUTWfom3q5gOLgf/1Y9h76BXsBrdA3LaVOPIyD1x+GYeu1rewftVuXH1vg/aTxqNVyZT0FiCOwpMjm3H8GecfGIOirv3Qv1HxVOCmm9ct0vcy/tl7BEEOI1Dz+VKsv/AJdj0mY1STIoi5sQhdeizBlRIhmDXzAzqMY142ze/poY+3TFdeOXBjURf0WHIFJUJmYeaHDhjHXHWJxGm1JfHyCyOQYXO1dAiSPJlNtXMIpuRyUL0/n2vRM8TSlTHl2XQPmzgybU7rgl6Tp5MJwTA/dd/HSyFSX1rSUOOaomlf9/xy80RNV6qWBKPpYC8r9jOiIk2m0dHHT2hrFxsyMsxHzVa/Iok0PTLVBZU8/5PqCfobFaOBAidGhjsF5YiRaSmq36YdtWvHv9auVLdiYTIztqaGv1+m0NhLNM25PNnZ2en4VSL3be+Zx+MkDSxuTDb9jrPxIF2OzSCtdaN8jvPoJS+5CXQdhStNoBvCGmTYMepX0oR+nH5fuSQZSxfHdaVZ9zhQDy/WIz38Uto5S/3WkKupMTXbKGeyIr91blyuFqSmshpO7WY+oBifC/RXr3JkWMCdDgurYLo4vNgUkj6usUQryqyzfq6vYAq6vYMGVstBOap2p9mL5tHwriNp5f5V1KucIRVwP8ytjM1M+XjTrMZ5yNCuHc1Y9w+d3DWaHPMUIvdDERyqh8crxIcu/NWLyjGdibtQiGT1+MgmrtaSWz5HmqeoEOpRuBJNkFcIZxFzlPoWyqN7STDiMs1o0ZE877MuUh9a3iQXWf+8n81G6ecDexblR9eWdyQbwxLUcuoG+ufqJdrhUZ5MyrjR6Pm76OK9a7S2kw1ZdtjBJrOSw4+50hihazMaUP0x3vLlZ8mrHdSlpDU1W/UsBc43PbxuT8LIx3sWNc5jSHbtZtC6f07SrtGOlKeQO8nhpkja2taMivbz0tm2dfOW6cuLW0rkVmprVpT6eem+U7iAovuKCHzVGRbFxSqn8fytT44cSLzIYch+bLGbB3CiODazw9eaMzA2IMTBKTpjuRkHQ5T56We4lrdFVKvaMN9zAKc27MB/fd3TJVOVqVHp3liwKgKHPzqiv3MmPIfJPuDGbWYCtmuF6qWKKZaj+A3BCg4tMbpFd7Szt4Sh5CkqOv8E14+61kGNUa6k5sxMpbn20RC5yrfCiMEK+o5YEzMYvXyC58yOUjP3Txg18Ed+UWAtLo5ZChejazgaVAf9KhlD+noT5u/1R8U8SzHrNNgYbx5EXT6AoxHDMaxNTYze/A5NB49Ebz3vhBgW7YZBHceh864DCOzlgaKtWqNOv7E4ciIUvTqb48ZZCZr2r8izO0P0bFkVY44p9ZYG453fFRxZdhqtpzVF9xHd8NFIiteb5mOvf0XkWToLpxGH+DxRuHzgCHyGl1PTtxgWQPV2zVFt+BZEdJ6IUV3ZiobUARG3ymH86oOYf6wH2tQcjc3vmmLwyN5QqB6FgjvHQZW9eQkHNLYvjFlogl88WsBaWh63Fq/A3w/eIL76GczYYo0h96vIXxay6LMEOy2DUD1vCdj0bImqqkIkq8d+zN9ZHq1GDIaTwKcSawIzo5d4Iq+Q5Bo9v5yyeQa2WA/B/SqCyV8L9FmyE5ZB1WEh88faKQsQ3uQK6sgLVQqdp/eHZ6XJmPG/ntjU3AElf32FWp17oUUlI8SGOWPMNmZgHtwF9Riiyq5VMHThPTyXdYODXvz2Y17NeExZEI4mV+oosCvVGdP7e6LS5Bk43XO9XtykLUywaf5e+FfMg6WKxoQ8UZdx4MgHjBreGPaFZwFNfoFHC2tIy9/C4hV/4wGzF7Qur92WE19Lg9/B78oRLDvdGtOadseIbh9hJH2tJy8fjBqcOL14lbUQSK71Z7qmxsXKoqS5AW5/IoR/+sSLIGyJJyFXKT6Fhsv9jKzLwJaX2/5LCEv/iYllfuQ2JESxfT8/SfrlyFMaWsHRYwYckxEj+28e6lUej6vyJfEcqDnzDm5MqZRMCo2gmOu4cZ9JbsfPx6LfSut+O824HDrPWILOGsmSnLIV8ZRc3voD8YvBZiyYcQS5DJj8RKqwmi7weZXvNwLNFw/Fkr8nwqGEF0IdB6MUPzzE3VfwYi2fPAXcx7Gbwp24wsU+BTT5pfTh4Na/O6wbb8KuN+5oe/Q603Plw7HNB/HetSD2h9bDJB6sBJeIS8tEweHVqddPqHiwK/5YtxJDy8bjsJxrbDlzjVVSYMV8Y/qdDq6vc/54LzdybwAjph1RG9JiHVT8Y7oEanCXKXi8rLV4vJSJdIrRo0euvhj4iwE2L5iBI7kMeOFVCpnSAL8uFRR+cbh97S5yWFslLBObV2yJbkJg7CkFH5iTvKLk0VV8YHeZD8zAPvHjogE/DRpreOUQng5johCdYPlft97+PGg/jDSCOhsjlP6xGgqG3MXDt1IUUiiq+K+BG+KfKHjdljOvm6IxIaH64gI1U8GAH0KNuGdgc44pOgVvWSf0Yt6yg13/wLqVQ1E2/rD+vHiQFF3WRUA9PnwNHfP+hM6uVtwZSfHq0SO2uKfhZO/x6PE7bpbGKNWmC+pn0ASGYmLl9BCGllYoqL53NTJO26k05AWe+MXoTWRYrBM8Dx9VclAdwpLupfTG1Q6QPL6Ju2HFUMMhGXLAuFMYVIpnotyhJv2ZosmKd9piE11LX1/AeX5yf/pXOzj/EYNukyfglyYlwe9zJDhDq3YY1csKJ5atxCavaNRvo+D2YjZEPbxYSfHQh4NpvX5w/+Eytmzcg7W3KmD+yr4oe3oT/lp7FHBrw3tkOpweDq90cY0pxQsULALXV5HPbRPcmaaax0tH0VR6WD//C+2c/0BMt8mY8EsTlNSsEB3pVF7GPMq8vX8HiWnEgvHJIK18YCqJqTuq9LYpWAC5Zb548ULjpQU2QGxiaoXCVsmBmwZet9SpJI+lm7csc/JKg1pi1HQi8HUHLENrdJw9B22YSffTqW3Y46N+hIx9uAU7eVpiWq4PFk52gQUbQc2VizsDikd0FE8Z4t/jvbAMxhxKUp4NCM7QSCgOITL8EwLOeuFmlNxb7vfxw3u2Zx6Hx7cf8FuEpqjaph0qm3yOTN7gD9yOrhXKoaKdE2bd1fO4Z14GddyaKzmomqGurZydSaVYMkcZgm/ewnNTe9Sqqm0mXSOZcQV0m7kMy5cv1/FbghEueTgyWxZXQ6tOHP4Aq8ZuxHNzXxzccARhNrbyDjvqXSA+SeMRn/A0bQqHwUPg+HQh/gxqgBZWimZjoo8XSyD3YpeIX0ofDsZV0LtPTdz+YxzeNu2DKpV7o9ePFzF9nQXaN1VjlYhLSyeHFyXLNaYutOpMN9dXPnkwyXm7VDG5prksip/KTx93mWlyPF7M/yWT/1RShKMuPVrh08ENOBJmA1thBI16h0DmP4tPqBCBN0xo6QkVpBRohjotmiLP2TkYtvoWQqVShD7ahllrbkLKLzElxwfG2xKaSsnlC0RqKm/5UXUhj6lL77YoWK07etUOx/G9J6GgHZPi7e1/Ydp1EATasUQiWL6MPYSck+d1U8RRKSivC4VCci8T3k6Iiorix16BeUAVS3HUyVtGyXHI8VZDjiiWxzeMYJE/sTjx6msj8BX3zxKyjvc7Q/M6VaFiNX6muVsP0v71U6ldxWJUy2M1XQtWfXgjJb/d7lTGzIBy5Lcj5y6DqV0l3hzPbUO1ui+jq6FS8tnUgYrmMCDDvGWp5eyLvOkbTf/0LcIvXRhTmSbu1LNdAypjYUYlWizg+EL26ZGZoDZJ3++mHjY5yDBPfZp7P9FXUupI6T6LoaMehSlHrd/pcaK3BtImUBp8g7ZObkGljUHGNrWpg3s/GjjAg3q0a0o1bHKSSb359FwSTZemOzJHlwXZOnWhMfOH8cswplS2rSddFt4jkLsQ2tmlGg04nuDBvrp5seLfXaY17pUoB0pQq1l/052EOlSK0jpIAzZS+7pjSUFlJaWA9R2p6awHCS/haHNpvY38hwZUrk9D1/xDXntmU5/us8hbeKtAD9eYVnb8XsBh6lVQF9eXlN5dXkPu3K5QohXN+vsOv2QQSU+Pzaf2ZUBG5XrS8vNvKfL5YRrpYE4GJduR53kfeuU1iVwsQflcJtGJ13G6ebwin9Kx+e2pDL8AVK7ncjr/litVrx4cdGk6OeYzJAtbJ+oyZj4Nq52DTMu2Jc8LD+n00u5Uzghk120ZnXmpRbwlfUtHxjSgQvwykHHOAlSu1VzyVpCYEenhA5NGPqOj05qSlYEVuc44Tk/97tDOQT/yY10JajP3JL14fYGWdCzN/G41aPj+f5PVW8A69tluGupUi9pMXEkbV06mAYMW0xVuAzHJ4ibRzesmjaHnh0eSg7kBlWznSed9XpHXJBeyRD5ymXSCXksk9GJlU8prVooaD/KkUwKuGk43b5nQVHRwyAldjeQFrWyal8xKNaZBnqdIS5yGZPH0ayDATzxZx0kjAujR5dN05vozeq/nJZ3IgMd07/E7ipTGU4h/AEWoxjN5MaQU5vecfD6qGq1qwFK8hRgZ9JKe+oYldISqkqdNpiqV8sg6+yfkpxWWzS5jQt5TmBK62JBA+qjZF0qekafHZLqs6acqX3wY+fsGUoQKdpV/Go4x0RoVzp1UjK58EuTFUzw/H8SHv6PXviFJPpyOD/Mn38CIJPWckFw+UOSijrvCKNTfn0KSzSshVdpOeKAL9HvP7TSZZCnpERNC79UVQoGJKiQZuRwkjQwkv/eRuj90jgmmtwHh+vFJXrRywEoZv5jgtxQQntZGEU9h/r4UmKbGFEshAXqw5oYi/IW/e02+SSpaT16xIRSgD7uUsBHDMxWBr/rShfbs0tCiMCrU4Z92gMa1eeHyqFpY4WFeRHmSEG6I3EVtE3FCqRYTJPG8vFigPOx0bIqkVWZCdsIJ61wkkUf2vTDNb5XwzYlJfms5kWOc33Wcf2YEsydLcc9+CobrWp00Zp6uNJN7JcbJ1Exjk9LQFLp4F9UpkuPwSi3XmNAykuH6UmeWvrNU83glo4dpflipYOGPv611Ya9HO0Nza+ilEUsTH5ieDBi9lPAztbSB9h2qT5raPz28bibIzwSfOh3vKQqdXK5CWrxl8sh68mKs9YnTmYfo+cUQ+Lp7WJlczKi727H9WiRv+Brhv79/x9KzAUlW/TNZhWwuXoL/Ng9D64aO6HLgR4zqX1bx9l22LpWa6+uxwPX1KuIrlSar6JHW4mdXvdNaTjF+VkQgixi/zYrQiDopEIhDsH8ocha2TpmiPltAllW4vrKKHmmttOyqd1rLKcbPigiIA1ZWrBVRJxEBEQERARGBJAh800uCSUr7xT341fRLyzDEnQ37LjqGV7peLf/iOmXlDGXwP70MEwf1Rv9ZR+Er4pWVK0vUTUTgiyMgzrAyEXKZ30o4F1sM53uP8HtVrfdbpM9xeOEKrNu6E7fMnNGjeUU2pBOFoLdv4BdTDB3HT0X3KrkyUbuMEC3F88MLsWLdVuy8ZQbnHs1RkT+digp6izf8MXWxjuMxtXsVpLkUspdY7GiLNa2e4MGUct/AvllGYC3KEBEQERAHrExsA5Jrw1G8QQD+CtuL1rpM+kluYWJVR5xxf4JL42yVHbMMPksbo/yCcjj8ZDWash23rO0kuDWxKhzPuOPJpXGwVRozkPksRePyC1Du8BOsTnMhJLgyqDCcQzYjbHeL1Fkoz9ogidqJCIgIZAAC4pJgBoCYnAgDoxx6Zwgyvwvwfl4a9Z2La8QxhGX+3JC9uYPbAdlgTUzmhwvez1G6vjOKa1jeMRRsNsre4M7tgOTg0RtmoLRaojeCGCAiICLw3SEgDlhfscrDvM/jTr66cLbX/MAmBF7HrsK8YQ+0LqUxAnxFPZPNOswb5+/kQ11ne/l3W6q4IV7HcNW8IXq0LqXyEo8iAiICIgKfhYA4YH0WfCkkZltuUrZyrdtuaSyunLsGmYML6smXC+MQ+uo6dk/1wMrYkdi/dygqZIPxKvbKOVyTOcBFUQjEhb7C9d1T4bEyFiP378XQdBbCmGdYwsfeohMREBEQEVAhoPUmgMpbPH42AtI3OLzqCAzbr0ItlbUCTaGSf+F9KRDW5V5hw8KFMGDjqkb5SqJSx1U4ObMwf53PjKi3/saeywEw+cEVXdzs5PxKmiK+/rkE/3pfQqB1ObzasBALDdiYqVE+lKzUEatOzkRheev6hAf7TyLCpSPqWKo0joMf82YdvhGEPNWao4NLaa19KmNU7tgdJdqtxsYHDTGwSj4N2hmVDPEoIiAi8N0hkKmGn75T4dKAYzTByZry1ZpM54J0G5OTvlpI9YyL0+Azug3ZhXkNJBePw/SODdM+WdKWXOc8yHpoSl/RwnrGVHzwmST2/ARlpQEXafvy2dTcsiiNvKOyKSelV1vG0MQ9T+lj2HPa07cKVRvrraNsYXRjYWMqZFmTPLY+Sb/dOx2SRS8RARGB7ImAuCSYCY8ohoWbYfZ5f1zrdByuLZbhtTYLBOcZdpH3r8zrwLmW5v6VSpkoeC0/hIKtm6KQkRnK9XRC8Mp1qsCscwy7yPtX5qjjXCvR/pVKQcPC9dB9SG/U13wbgwkbfB7cRIhpUeTLbYt2/ZsgfN9+VZKE48ed3VB3aVUcfnMD63qKr7YnACOeiAh8xwiIA1amVb4RyjSog/wPbuAxU80ndor9q/gaTmig67V1WSAePI6ARR4li6JZfuR6cz9BhPTVIcyatAF3EjFecrD0FQ7OmIDND5gvTMtJXx3EjAmbkTSIyTMPzsCEzQ+QJBXLOzRrEjYkyUghXL5/FV8DTjoLoaVAwqUJnP88g1Wtha+zYnD3nwswad46IVRxIsGzyzcAh0aoqolPxEMc3nIU/yXwnGklEy9FBEQEvmkExAErM6tXYAHmvSnNCZb0+WH8OX4w5nh9hHnoZaxafzERO6xCHWZENRLI/lTKMZEe04mrXPS9vVg0+1csPKbVc8fcwc65c7H+QpAqasIx5s5OzJ27HheCEoQqw2JwZ+dczF1/AUmCou9h76LZ+HXhsQQ58hPho+c/x2PwHC98NA/F5VXrcVGT4jZxbD1XErzYOQ6LZdPwP0+XJHEEYj9osB4LEWKvLcVg96FYcTPJE0CS9KKHiICIwLeHgLoX/PbKliVLZFS2NcbOFX7r9etnWAgONfPgaqDiOywZW44I/qF2Qvxcbbfhw8NlWPI0wUtxYtEeu6MTM8eqYli03w3dQczsuztazvqqiptwzNUW2z48xDLtjIzKovXYufJfMqVIEJP0JBL3d3jieM7h2DC7GK7t2IMS3TsnjablY9p4Bf4NjkRuS13LqFqRxUsRARGBbw4BcYaVmVVqZAQDpppP++e/pmg64Tfk3DMbf58/g/UzL6P270M0NJXg8bloFFe+Sq4RkOGnksfnEF28XrrkykKuYNOs2Tjy9A1OLZmJVaf9WI4E9xe4ol6PP/CHe3UUtMiNZnu0FyOliIsRZlFaUyx+dzKfZV6Nj6zTpZaYSERARCCbIiCaZsrMios4it6leyF82V3s6appzSKVmUa+wf37ATC1tUc5DfY+2fsz2HWtNLq0Kp25nbfsPc7suobSXVqh9Bf8JkwWfBID7dvB//f/cMS9qPhKeyqbixhNROBbR0AcsDK5hmXvr2Pn+kN4ZNYAA0a4oaQ4p00GccG6/UYsOeQLm5YD4OFkI2eLTSaBGCQiICLwHSEgDljfUWWLRRUREBEQEcjOCIjP+9m59kTdRQREBEQEviMExAHrO6pssagiAiICIgLZGQFxwMrOtSfqLiIgIiAi8B0hIA5Y31Fli0UVERAREBHIzgiIA1Z2rj1RdxEBEQERge8IAXHA+o4qWyyqiICIgIhAdkZAHLCyc+2JuosIiAiICHxHCIgD1ndU2VmxqJKPr/DwsR/C5farYvDpk7aZpqyotaiTiICIwNdA4OsOWLKPuLJ2JNrUKItyju0xfNEp+LMxcelrL3gOdEVl2wpw7j4W665+kmMjC/HG0l4NUK5SI/RdeBqB2obHvwaC2TlPWRxiYtNu6TBtRZbA78xWHHkiSZRMGnAWS8aOwZ9/34LPywvYMH0S5kz6GaP2fExk3T5RItk7nN+8Ezc/JvIVL0QERAS+EwSygKWLEPz1U2FMK3EIPuuaQcUmL7k3FT/W3IdWV+7hj5oqo/JsumffDCwxH4zpzQplHRtzoa9x/3Uw4rX7fiNjWJasgtL5U/FcEHEB836Zg/9ZD8I/nq2hSQOVWW0xZpcrLNe7I+hk90zKLw6P14/BGpMhmPeznZrkMfYeFnSfj/wLNsNDZaRQcgdTHQfDZMtFTK6o33Ch7MM5zPvjLhr+PhKOAqWW6EQERAS+GwRS0ZNmNhbmsCpogU/BwWzHW+WkeH39DgIkHxEYpDEKRF3Dbr8GGJ3hg1Usnp7zho9GVipNUnOM2t8PzYeuwcaNG7FudFM0GaE8H9EMfXdrcVbpE5jLCePW9EdR/0D9Mwx9adPpn6PKz5jUq0rCQ0I6xehNFnV1JoaeqI4xPTQGK44d9T9PLI1rhPaqwUqQYFwWPzRwglNZ/YOVEM3QygXD2/pg6ujDOnjEhBiiSwsCOxcDPmlJ8L3F5VWcL7aQ8yXzSkU9ZsW2oZq6pEL9VEThJZut/WYh57IV6GiRivjyKIYoWDA/pHc+IIQrzIKHUNm7IzgSXwv1zU8iOEgYxoR5lwSPdl9BoY4jkS+1olMbj62qz1/6EhMaNEhtikTxDAuUR9tRC7C8gxmiNryCb/xCLB+YCzGHjTA2PjHE0ohXuHbuIWQVG6BOmWSoMmQSxMTEQmZoCjMz48SzybgPeHL9NvxMyqFmzVLIq/nYIY1FFOdpbibB+4c38TS6OKrXLAHtyYg0NgrRJdtjVFlTnRbfZZIY+XKhml3LAEamZjAz1swMiPvwBNdv+8GkXE3ULJVXrafMFxsnrUe+fv+haOIkiA/9hNBbB7DpagsMcSyknHmZoO6AASieCqori/rdUG1wHyy46YZ5DqlIkKi2xAsVAnHeQPfVQPRIlU8aj7zdeHgd8Jwf9Br1Bey5Ko6sBZ7xLduwE/DvJuBlPD9k8DOI9Y+cV3MgdwpZyN4AKzmd5nOqITfezqxj+cS3kloS9xv7xwG7ivBvNOenDvnsszsegEdd4Hb/zxaFJ3eBYvZIci+qJGdkXiqZ6T1+dttIb8YppMuwuo29sgjdXBzRf+NzhKbpkcQIVtaWQEiQck/qE87t8YND13oobMlLgEEh8icc2Zv98DJohjbavV8KBUw5OAY3PbfBqKd7uik0zNoslw9W2nmZtV6CpTyIKVwIjg4sCeNCbpi8YSOmNSsGk+L9cPiDdirhWoY3W9vCKp892v2yAGcT9mwkeLK2K6rZt8fU7V44sLQfGlRww5wbkUohUTg/1xXFKjTDwE7tMWKtF/63/hfUbzgD12M08ok6jz97dUXXTtVh47YJSeeAsTjZrxpqdHaHu7vw+xnNbC1gP+uhWojkCdZ2rQb79lOx3esAlvZrgApuc6BSRfbuIHZfKAnHukmfXHK79UHX3Kcwuk4J2JSvj46jVuAMP+bbVrBVLxuqc0p6ZlwZdar6YdfWa0nDRJ9UI7C6G9BhD6BqoalOqIrIz5HvLwEm/JxXWngi4gHrR2fgPldLwcJAjQjgPPs3c+U8LgCuvTm+Kq2eY9xt4Fg00JLTXOI0TVpyB38GOKvZfrXTci/Wnge0fDrvJe3IabuuMBvYlzK3aKqEbv6dB3f1MlKSNBmZVxLhafT47LaRxvxSHZ0yyEnD3tLTh3+Th11zWhuWNqHBq5tQjiIedDyGKPr6KvI8GkTS+Hs0tWoOqjTxJsVTCHktXklXI1MnN/r6Qho0oC91GLYv+QQxPnRiVlfqOP0sBUmTj5ra0Mj1zan56vAk0UO2OJJpva30XiMkeJcLmTlsoGCVX+Q+6tHlL3r/eBP1b+lB6x8mLnD83QlUs+6f9DhelYBI6reVmlXxoPOxSr+YM+ResgbNf6TykNCjiS7U9XC0OpHqLHwNNW++jhLnIgTG071lc2lfiCJi8MlR1KTzenouUSWMp7sTalLdPx9zTJWTkt/WZlTF4zwJOccc70sFDZvRxghVuNYx9Cmd2jSHRnZvQuXzG1EOu5F0VluR6Ou0cNAA6tthGO0L0kwfS97DihMaLNH0FM/TgIDkAZFxEaKP2mm4Qtet5frT9tdzfWkE0Qq+359MI7Lpx+m4mY1gP6G1ha8k6nZAnXBzD6Jd2nWsDlachRK9DORTFvBzN5YhnPoRBSrvz9Ms24r1LmZDZNediIMU7i1R//HccrnNDq1N1GEuca+hDDpI1K4ZUfuuRN37EHkr+6e3e4h+6ks0mMN+akjUlNOr0ggpz7KMDk2IRh5TClIeYvjarS1Rr17860jkMFiN1/MtRG1ac37tiDoOYVxUev9BVABEzh3YvzPRjOOJZerLS6igEdWJihRjfAuw/qyz4KRc3n4/EY3jvBvxsW5TIi9N5RXR9P6Pv0u09oLuYL1tQ3f0L+qrb5Kd6gFPFdEwtw3s7GyQL4fKJ/VHcysrmH8MRlDMU+w+nw/tRhWAoUE8rHji9fF9ECKuXsOT8t0wItGbCFI8mlwR/ayu4PIIjpjgwrFt5ELETPoLzv6FEnyTnoTj/Mz2aDfbF+VbxWNg5+VJo2j5GBhaovHElfjFPq2wReLv2S/gfqQbrDRkWnbZhL4jfsKuyD4YrJyISJ78heZNzNDx9AX0LcdrKQlOBr9d23AzvC5+790zwZffqUToCy9suLkSTnUVy2PGFV3Rwk5xDl7wK26TE+FpmvYao+rQcajKucTcX4Deiwtg9p6+sFWpI+PZzbabCK/7OxKrEooXXhtwc6UTfowIR2SOnMipSqPUOC7AH6GFisI6rx0au4+X/+Y99YSr41ac5bUkl2pqbMO3jcTCmEn4y9kfhRJN1AxhkYsbQ7ji7VENMMTTVCKwn2cN9XbwrEQj/sPDwCsb4L9nwNOTfMwPdKypEUHHqS3HP/SSlwYDgVY8C7oZyov3PGUTalGYTETx6oD/K8B7M7CaCaQPJLqHdQjMy7M1wVtjRmVWVDELDF3NMy+eiQf6K5YW7w4Fak8A3sxRyuGVnd3TARrOS4PdFTrI/gPc1wGb/wFseCYWd4eXK92Bo/v5ugUQOwro9ARw4ZngSZ5xLnsHTC2skOfCy4yOdkDft0r5qkNOoB3nM6ASsKQLzyqHKDYthGDbn4GD/BNc4CxgDM8St7jwkulEoD/PHrvs4qVTdRMXosmdvrxWO/Eeoydj2ISjxQFDWbcJXCdzGKQ6scCFTsBpF4aL66vTMp7FTlXI0/ufK+XwNi474/wsnMvMdZe/A1CTy69yutqGKuxrH3VA9+VVMixYEPmlt/Fo62HYuo1CKXknlwcFC+RASCATIF4qx8tGfPeoXNw7PL77AGt2+KHgVB/4RliihBzwj3hxZRd2XjFFdYuy6NK7vCqFjmNuOP9xDc8b8osBG60xbcMQVOEljkxzfLPy/aTlDHk4kfGQo3YGBVth/ZYimDvqN/yzYSFaFua7TO4MYZYrP+xcB+O3HnnUCYSzMdNgXVY1QCUO+pwrme8O/PKbL37Zvhi1NDsaQzPkym8H18G/Iakq1hBUEerUMvY5wmNYA+7AFC4Wl9etQ9SYqWie4McrSaUqoqx1cZRIKCs/qLy4gl07r8C0ugXKdumN8hrxBSTDPkXAIH9BlWDxmBYE3gB93gKPXRInKufIgxR3jkv/BD5V5Y6bO8uUXN4SQBgPApHcAQ63Bjad5hTsJ+9YuMFf3wzMuAEUrwf8Mx3QfLRMSbZ2+JH53OFfVu+D2fNARRU4lnLAur+GO/D6PBgtVObPQVFe3KE/APq1UEvj97sgfGXBxYWNCx+VnXWJIoBXpDqevjNTTjOAy7Z7AO+1jQBmVVTGZL+Do4FpZ3nPrhTr+YQHbXt9UlLhHwPMfw9cbqKMy/fVnOFAha18nAoY8MNCC6EQ7ExK8P6/l6KPUfUYihCt/1wxjtUBz0HAnzxgVV0POGkMVtDTNrSkfLXLZMv2pbQyKmiFAtJ7OPGhDrpWljd1zpr3tniKFXPJG7Jm7eVPRwn6yKIR/GoP9r+qipoWAQiJ4pYiOFksQp6dwCWyRbGg9wjnRpm8M0LhJtOwrNUdzFr+ONHAkXy6tIZaoOPEH7C190580EgasrsX1hQbh64Wak+jgjYoU3UgNi2sgO3uI3A4QFk2jmLVexjKnN6DsB/sYW+v/pXNzZhl9GD78QzGDzgKl9WL0NyKm4n0ARbP3K5U1Aq9h5XB6T1h+EFDD3v7slCpYmJfH7VyB8D3jcZwLPkPF05eg0+wukzCLRZwaA/8O4xFl0Kq5ihDbMgznLhEsC0WhPdJKjIe7wLCUN5Rebeq4RPPUoHAuR5AqY08iGjFNS4A+HJnvu8Uzzxe8uCSijZlWIonujwomTQFfmgNvF3NHSn7yR1Xp8tI4K+VwGTO83MGK0Fe9R+BizxTUrm4G0BoCdUVd76/8IDFA8hID/VekZkDzyQb8czuOHBc+XtynTttVTejTp6ms4vTeV/NjQdjJx7kr/LeHDdpCevDRcWdezxzOcSzte7ybb0EuULr1rgbEvz1nuTg2VsMD/Q8a1W5G2f4eaCW6ip9xwJGQDBjcqozvxTDemtWs762kb6cMiFVhi5Axl+hXyulfQ+LglbRT6V/pgOJNpJ4H2VqDary60Udeyy8ZuzVmSydNpD2dlnM4TaUs/4m0rd1orO8sVdofPtJdJ3X79PrpL67aHizxuRSCoSSztTYbTBtf6W5MRZM/wwoQchlR006dqQmdrkINh506L0yx/DzNLebA9m4/SVft+fNKdrdoxChYG3qOPWocg1fSoHHx5JT+erk5j6cRv/SjVrULU+29afQeWGxX/KcNvevTuYoSM4Tj8nX46U+O2lQWZBBhZG0/52gTyxd9+xMTRo1okYuJYm7LnIRzpt0Js/rsUplImlfuxxkUq4JtWjRQvFrXouKOExThvNBGkjHxzpR+epu5D58NP3SrQXVLW9L9aecV+jP/736laXGKwJIhYLUfzV1adKHRg6bSCsPXqK7ty/Q356jqf/k3fRE2PTQdDGHqU3O+rRJV0XGnKKBtnVozpOETTXNlOJ5cgjwnkgRY6KHeqALVd5QYbyXlCrHe4vVeG/mb6H+eOPLw5xo9CM+5/2UKeWJDCrz3lF/ortpuLfiHxMNasNpWW5Ld6KrqrbBx968j1OoNu8t8Z6ToSnRFuH+4Qa2bySR42/yU7rJ57Aj+usOh7E7M4nDWhCNn8L6teXzQYq9u5ueHI+/RF3xL0fipj+d98VspsuTkPQl7x215/wrcpzSvC/Fe1Kr7inCQrezXy6izrwn1pV/FTmvk8Kt846oJ+v2yxiivhzftSTHq0N0TXlbnR1F1JD3zMYPJHJqTLTbJ+W8or0Ue1+1WV7DEkSmLUm+Dx57k6gG4+O8Qthx5jxYb7D+qrwUkvX8574iTKh/xk1V3/KYKbQNPdK+qDcXOQs4aQA9e6499HD793lKr1SNNZGaEvp3VDGqMNuPYl9dJO+XqrtPSr5TipP1yMcJnWSiZMlcRAcFpW2QS0ZWckGS0Gd04dBBuvAslFRaUUp/pQAAQABJREFUJxdfZ5g0gt7eOUOnrrygUNVooDNi5ntKI97SnTOn6MqL0CSYSwP2kke7mXRHuKPYSUN9yCeEFZaG0avrp+jIP2fpvn9kknTyuL5TqLj1SHqcpHxS8t/Wk5pOvPRF6kuu+Df0L3gWUa1V2btA73ngOHZV8WJHaksi5c742kUeU5SDR2rTpSfeSx5MXgsPkDpcbADr8YB0PoTriK7w4o7i3kkeuP30xsiQgOzQNvj5gkfmbOficGNcbQz71B1NLS3RcboHqvH6rrBTu9fNGus93sOrU6JNj2xXwm9F4fBrKzDrrB1Gj20KjS2qFIsXs9cN1us98N6rk3oLjFNF3t2A6ftyYfC0zij9mcs6KSohRhAREBHIUghk0wFLgWFMVBRMzM3lHwpKXnvjUlRuHOw6CtXOn0VvjXc0shTi36EyMf+dwhW4oKFdKkYYyWt4X4pC7oNdMaraeZzVrEhZIG5cDISdU1XwHr/oRAREBL4zBLL1gKWuKxleezZC8zPFUafBcKwaVyt1H6CqBYhnWQQB2WtPNGp+BsXrNMDwVeNQSz5zziLKiWqICIgIfFUEvpEB66tiKGYuIiAiICIgIvAFEBDetBSdiMBXQ0Dkw/pq0IsZiwhkOwS+7oAl8mF93QaT3fiwtNCSvTuPzTtv4qOWv3gpIiAi8G0ikAWWBEU+LHnTEvmwUsWHlfg2lOHDuXn4425D/D7SUa8V7MRpxCsRARGB7IrA151hyVET+bDkMIh8WKniw0p8oxnCymU42vpMxWg2e88f7YsujQhkRc6jNBYhc6Nzo/pi7epL5pUK1LJi20jFe8apKBlHkb45jCnD5uHY8wjkdxyKRUv7w948NWlFPiydKIl8WDphSeppgfrdqmFwnwW46TYPIj1WUoT0+Xw25xEbXxX5sPShm9Rf5MNKiklafTJmhiV7j00DB+O260ZcvXoAQ+IXYMCiJ6nUReTDSgqUyIeVFBP9PsaV66Cq3y5svcbmrEWXagQ+m/OIjdCJfFiphhsiH1bqsdIbM0Nsekh96dDsZXRebn9MSgErGlLZwedTLTqj+bBSnbHIh5W1+bBSW5Gx3jSsOKjBEv/Upvju4+nlPGIzWiIflqJ56OOoEvmwvt7tkzFLgobF0XrCUB4Uw/Fw+xj0WZEHY/6uq3eQ1A7IWD4sben6rkU+LH3ICOQMWYEPS79+WiGGFlDQY33iAOaIEF2KCOjiPBL5sEQ+LKHh6GobKTaoLxQhYwYsVlb24Qx+/3kEjhTohXknV6BRUbZhn0qXIXxYJv64dS0YJepUgZnvZdwILIxatcvA5P09XH1mgip1KsAyUWlFPqyUqufr8GHFwf/WNQSXqIMqZr64fCMQhWvVRhmT97h39RlMqtRBhcQVyY0vDJ8iDJC/IPNjiC5lBN6IfFgiH9b3zIfFe1jb+w/CjQ4HcIlnWGkZrIS76/P5sGJwcclSnNvRDjaOw7HmthQGR1rBtsFoeJ78AKOHw1C14wFNElPlTS3yYent3b4SH1bcxSVYem4H2tk4Yvia25AaHEEr2wYY7XkSH4weYljVjjjAHEGJXPw7BISVh6OjaEAyES56LvRxHol8WHoA0+F9cbrIh6UDlsz3ypDVyOi91NEMZFGoMBUuLPxsqPakS6kX/dl8WDH0/OlzOt87LxX+9Q5T20jJb0ZpQutDck6o8I3OlL/TcYGuR7cT+bCyDB9WzPOn9Px8b8pb+Fe6w1QQUr8ZVBqt6RDzK1H4RnLO34mOa1VkzKmBZFtnDon0WLqbdyLfFDiPVPxIIh+WyIeVqN1kkYtvhw9L+owmlCxNk14IBErhtMEpP3X2Enq2MNraKC813/ucrlx+phd2kQ9LLzTJBmQ8H5aUnk0oSaUnvZDzZIVvcKL8nb3kDxthWxtR3uZ76fmVy/RMybFFUn/a1rMpTbyki+kxWdW/y8DswHmUUsWIfFgpIZS+8OzQNrKApYv0zCJ18GHFrYFzpbuY/2wlHHAWvX6Yh+aPvNA15wvMrtECt1q6oW6j3/Frw1zpyVBMk04E0s6HFYE1zpVwd/4zrGR687O9fsC85o/g1TUnXsyugRa3WsKtbiP8/mtDtmwRibsbpmNfrsGY1rk0vyoiOhEBEYFvGYFsOmApqkSTDwuIQ2ysMUxNhU/LZHwu4XMVN0UMImNMYGGWMZ+dfcsNIjPKliY+LFYgLjYWxqamcp4zGZ9L+DyhJiNjYGJhpggLvIGLgXZwqiqyY2VGvYkyRQSyGgLZesDKamCK+ogIiAiICIgIZB4C4pQj87AVJYsIiAiICIgIZCAC4oCVgWCKokQERAREBEQEMg8BccDKPGyzgGQJ/M5sxRH+SlL28QrWjmyDGmXLwbH9cCw65c87fVK89vLEQNfKsK3gjO5j1+GqYCyCQ0K8l6JXg3Ko1KgvFp4OTLXFapGjKgtUu6iCiMA3ioC4h5WoYj/B98ErfIiTyn2NzKxgW6kEcieKk10u4vB4/RisMRmCeT/bKV5aCPkLPxWehhKHfLCuGVsulTsJ7k39ETX3tcKVe3+gpupVO1kw9s1YAvPB09GsUFqea0SOquzSQkQ9RQSyGwJp6YmyRdlin56Dt49iwEmzwhGPcGzzBqwZ3gRNf12HDZtO4qm2VYU0C/06CaKuzsTQE9UxpodysBLUMLdCQYtPCA6WqJWSvsb1OwGQfAxEkAZsUdd2w48thaRtsBLEfj8cVR92Aht91FCKZ0kRkH0xMqmkeX8rPiKG6prMsAEr6t5a9Gv0I6pUrYU2Ew7DV6PzU2en4yzGD5f37cbpFxHqwLgAvHwTqb5O9VkEjs5fimsa/XGqkwoRc9XBLwuWYuHPdVGn90Isne+Bmmb6JMTA/+45nL7yAh+1bkppbBSiomIQp+EvjRH8YnkRTtPF4cOTi/jf6et4/UkjsjKKLC6G00QhVplI9skf/qFJ42lKlJ/LfLFx0nrka9sBRTVr2LAgCuaXIuhDiHKJT4Z3R44gvlZ9mIcEI0iFm+QRdl8phI6N8iURnToPBUfVxQnMUfWtMn5wubp052eAQqlDJLlYl1YD7t2AqTuAf28BwclFTimM9br7IKVIaQj/DHmSO4B1TSAqDdmposbdAzrZA1vSk1glJAOOGaLHV8IwLcWPYzaoBxpdcFrSfsm4mt1Z+vOVvcG6UYtg8JsX7nivh+PlUZh5itndUnKcbp/nDkSW9cHEeiNxhiuWqSDxYIYLak721mH7L3mBMTc9sc2oJ9xLp97wbvISdYXKELhnCJzrNseQZfux17M3HKt74MB7ZVzpU2zuVgIWpZtj8kFhn4jdp9OY3bUaChTrgI2PFaOP5MladK1mj/ZTt8PrwFL0a1ABbnNu8KewSsf2GY//4Y4uNWzRbvsDbB/SDE36/IahbXlQ3fdRFUvnUfbuIHZfKAnHuhaJw42sYG0JhAQp96Q+ncMePwd0rVcYlrwEGBQiaMtcXPu9YNCsTeLBLrGkFK++dY6qcB5kvDsAbJIs/Y7hXtseWB4P/L4QsH8BOHAHf/FzZvXvWNYKQPXskX7llCk/Q55xBeDSPh7U06GESTVgKGMRkvgJLx2SPi9JhujxlTBMS8nfbQZWPE9Liq8TV7Vj8Zm558CPAz3h5mrN1gZiYZkT+I9vwpSc9OE/8KnUHwNfD8SjPLawEsYZ7qhPn34O+34OUPQF/ALArf3YczkAJj+4ooubHbS6YU4UC9+T8zFuDWH46rawyphhWI/6hijUeQXOd1YHf1zqgk6HItGuP2tmVA59d+zB1Sa74Na8qPwDV+TlcIfK8Om3Ff0qcCEl9zD1502osfs+dpVXVoHMH9vYGseIejexzok/kzW0RosZu+FiXR+5fhuOypt34lSzwgp5qqxlIbi1fw8uB5jgB9cucLNTIBN//x4eyyzRt6AWEEaFYMX2YT8GBvFjQQzu7LyHsl1HII/fCVjCGx/ecw+a6zT2B9dD/wqpaRoxuOE5Gusevodpi7+wtL2GtXRja1jn8cXdO8FAg2+M8oM70QG/AvM/cHWr6kJ55KrFpjDwA4hWgI7LuAvAjhLA6WHCQipQfApwpjxgpfxK+sxIoOseQPgW3tyZrX5sB4pyPL+9QF8voGwA8JwHN6oN7J4D5OcXZmYPB/ad5HQMuxFvU/ZZCrjxQ4rg/A4Bw/4CDPg7azO+RwctAernZlIgbx54pwG9V/OskSfVU3sBYYMAbtbJypML1fMv/BwwZDnwtjhwbBHnp4ynV3cOl3HHPo3L/B83vRxskKZmtFq4zA8Yxzg9NwBys7DKrN/Y+sANzmM0Y96R/S+FAvGcxmUqMKKWIBA4NA74izvivFzOnJWBJWM5PfvvHQh4cXMNuAHEMIa1Oc0cV0V+yemhD0O95UqhTtQlTHqWVgwtuCw9RgO1OgJXL3H9cx9s4cIPRCP4tv7I2PIDVsxMYB7jdozLO/UpM0bv5jhngOFrgZNXeHZvxe2tCtc9hyubTVLFvqZP+qxO6U4Vf3MuNSwAyuE4h+5pGSjVnULwDad9Hc3JduxdkpuHC99OLXNUoz9eCjYB2RKg10By8ThM7yTR9GRJW3Kd80Dur/kv7NxEqmEBsqrRijp06JDyr2Mn6r/qjqaIROfhq5pT842RGn4x9OLhM9ZU4cLubqXR7ZyoTp365NKkGbWqkpNqeKpChThSer24GTVb6iO3h0cRR2lA21n0WKJIL309noqjCnXp0YN6aPy61jGnfO6X2Hiv2kUsb0ZuG+XMmGpP+VkYeQ10IY/D70gS/YSWtHWlOQ8UGUTv7UQ5TdvTrmitJBRN+7rlJbO2Wyn0ySaav/MVCSmkAcvIJUdR6uf1ka6sWExegqFZTSd5SJPs6tDiYE1PPg9bS3WL9qGjR5bS2utamcXfpgnlQPYzH2slyv6X0XuI4EyJ6klovIc2Et3cTzR2M9GJTUQ3NJuEjmKHexK15fi63MdVRDnbCpYwFe7OEKJi45UX3DSdbYjOKuWf6Eo0I0AZ5kPUYSAp7iWll3CQPiVq3JLoreK2otjbRHXbEbEtXLm7Np/I4y+i53uJfp5GFKT0Jz3yhOAljYmM2BopD5mKXw6iqfdUCfnITaJnN+EO13D6dGe9FrE+6zg/wUn9iNxY7nwBAA6bznmtfysPkgM/vi7RdkF5zqMpx5v1UBnG8oe7MP6xRE+nE7VcL08uD7zN+LXbrogXyf427krdWEZXxkYOYTJ6JIuhvnIJ2SWDoUKbZP6nBUMWc6gpUYlZ6rZ5eTjX6wmF/PAlRO3/VubF5RzWnugZHwXnw9gM1N8lKiJlgf+peYxO9XhqXGMczrzri9PDndD3zza4OaVCymljLuHQKSu0PVVJbgsu7uopXC7cEJNtQvHuvSG8lx9Cwf6LUcjIDIV6OiHYfh0wfnEiubmd/8C15w0xc+hGWE/bgCFV+NEyI530Odb8tgQtDq5BvdeeaN39Jtx3H8L8yvn4yZhngCud0F6+nKnK1BAlB/6G4q5zcbH/chRbvQFS9/Uor3wcNzTLhfx2rhj8Ww/kUSWRH8dgmnXZBDNEci8DNjdlliNRLPlFlBeWHyqI/osLwcisEHo6BcN+3X2GpjoEfjHL2OcI5yfHhEdbeSJDFCyYH9Lbj7D1sC3cRpVSzBDyFESBHCEIvL4Tl8p1xKj86uzi3j3mPZE12OFXEFN9fBFhWYJt+LH7+AJXdu3EFdPqsCjbBb3Lq56hlWm/YY6qiX2AXx8jcT3xneRYHfDkJ/8/w4Gq6wGnlMxWCs1UYxahRE5+ODKfZzuXeTag9LSfw8OCcDvxUXA2LpyfUn4JnsB6Rcq99f7j5oLTD3jm10IdJTgYkPNCse4Ov/Fsg1cNyoYA/icAnnyk6Lp6AuV45iNTxeSZYNWKqgv9R526Mw7enH5rCUU6Q55K9m8L+AiXvI918DTPPPvxzEgpNp51j34CdLfnGUFDYKAqX15/7F0W2PYGKHmQ92V4xtAiIRHPIAS8u/OPZ2QujIUcQp7RFrEAIoWCJKNHshhyUp3lYv/McHrz4jbVe6C6bdbqDczdxho0zQwtvrxMbqoZ4GL2oVuVfeh0ewfa5y6A0iXyIT48UQ+uPxOJL3xDf4BLOUGVKNw8dALhNZeg4sN1WPzUFfGPI2CRh1uX4MzyI9ebI4pzrf9GhZtg2rIgDBixHI93/gph5S0zXNztU4jvvBa95IMV5xD3GieO30V4I63czFwwsf1CDFu1C8UuV8XokbwOo3JWvTGsTCvsCZuO5U58p6hcxEs8D+MWlwonC3yAxxEWUEOTC2+OcI+E6jCxr49aub3h+0YK5NMEwggFrQpAeu8EPsw9j8qq2ue9LSvLGOzxlmHuBBv58pRKBVl0MF7t2Y9XVfvBIiAEUdV4wOKORRYbgmcnLoFsWyHofTgk5YXlYA33jXJUxZ0DFpXifq24RlmVpwUY6mBuB6e4Ci9z55dSTZq34iUsHuD8unJnx5gK7sUpblIuXIs/AjP/YQ8PwZf9bgChys5c4aPnv3CrcLVrOzMHoB7rdmCD1jOMMuKjNbysyHle5Wb66wJeRhurHCz1yBOSWVcFXPmXIY6fyQpEAS8lvNwnNCTG7/J1oLAgnJ+FatUDeh3gJUyt5yJe2UbsWX5b8wUvEdpyXL7e9gxobMNLWrWARr2ADfUFIal0yeiRLIbJdXfJYJhKrVIfLZbLv5GX/7j+hCZ1exsvFTdWJuf2Saq2wTh/4GVClTPgyFJVmMozKx4zZpYXRpdm1KeSdg2pXQsHKmPXiTa8UK5/pZSB5AWta+tAnT230do5E2nqkJ+ofNMx9PvoP+nMJx+aYWdBP5+OUUjhebyzAc959bpYujK+PU26ruKe0BtRd0DYSZraujE5lwChtAs1atRI+atJViU96AIvM1DIEepf1Y6cug2hYb1bklPtZjSs+w+Egk40bI9qXUYpPvo0eRTNR132hCTJTxp4nMY6lafqbu40fPQv1K1FXSpvW5+mnFcuoHz0oqntXKlRmRxkUr4J/fTTT+TacghtUy6VSn1mkJ3Fz6SGxpkMmirXO3gRxqtfWWq8IkCxJKmRe9Cqn6j0zwcoSLkUIA+Kv0dTa1ShXy/yukYSF0NenS3JaYNqcUoVIYYOt8lJ9TfppvX4VjmqFhYh6q5aflJBoTpy1YXJ11iJVLxSqiB9R1+uMidewho8gZdueFmq4a/KZTpeCupdgKhQbV7ia0hkaEq05b1Cyk1PXoIzIFrxL19zm5zOy4M2vPwld3w9ypmo7xhe4mnDy4CDeblHWddnJhE5tiAaP4Xz4uVGx0GKvG7P4eVHa6LNz3j5LJBoUEmi0qyH3CUjTxkj6YHz2zGCqA2XxwBEzVmP/qsUy5TJ6R50iMvPt/c4LsvAbkRdqhCVm0DEKlH4GS6LI+vNS1djPIga8Pm+jxzAOHXhMk3vyct9vKToxkuHv3srVeL6mMTXLTj+FMajbQMu2z4O4zJ51mDdnIn+5a4i9hrjx3pO56PgktNDH4bJlUvIT1+dKHLU8T+dGB7uwhgxfi0ZizZuvAT4u3pZOf4BLyUzpkOHETVz5jrnMk+5qsg79iyHcTsbw/i2ceL2uFu9lKpDu6/mxSpnlJNSdMBDunHzCQXGpFWmlML9fSmQK1ZwEf6vKEDed8bQ8e5FqNkO+QUJnXRlu8mKSPr+RwdRkO4+VF+KtPvHB9OTC1509q6fcL/od9HnaFjbKXRP79gtpYi3d+jMqSv0IpRbaFpczHHqXqQZKaCRks+MymQ3+WmCBGnAXvJoN5Pu8A2p6aQBz+i59tjDbFM+T1/pLovkXxpVrALN9oulVxe96aWqLFJfmlLcmkY+1qH3t8pRFUxUo5a6A9DE9bPOuY6eXOf9I6ED1nLp4X4SRARw5/TAX0sYX0o5j2sXid4p77WkMXT76JOnO/Zn+PKtfu8mD6Q6mpXw9PWCB5V77zTkCwMW78Xw2KTXfXxBdPGeel9Hb0TNgGT0yMoYCgPW4uTAYLzuMRY6+y1uEw8YX39Fd6uJRpY5z8ABK3PKJHmwkNq3nUR7z52mNR6u5KE9i8mcbDNAqpTeruhM7ju4l8sUJ6EHC9tT20l76dzpNeTh6kF7AhLf5WFXl9OYOSdIyztt2sRep7H2tWngn5Npwrq7wsOiwvGbB665XWlPkpYfQXfW/0aTd79MsvGvSioeRQQyCoG7G4jy5eYZwVQe9LUezjIqj+wiJ/YuzyLz8UMVz6r3PMkuWqdNT15YEN7wyeIu8g3u3w+Aqa09ylkr3/nNqirLAnBg/CCsuR+D2E+hkOaviK7z1mJQFV5AzgQX+eY+7geYwta+HHRBk1YuKt0qCh8wm8DcXFgVl+C19yVE5T6IrqOq4fzZ3tB4RwMykaNKN4Sib6YgEPOBX8zgFzCEj71K8x5fFu8dMgWDBKG8f/faR76NB+vSvIf3DYKRPQashBoRT746ArLX8GzUHGeK10GD4aswrtY3eFd8dZBFBUQERAR0ISAOWLpQEf1EBEQERAREBLIcAsIaj+hEBEQERAREBEQEsjwC4oCV5atIVFBEQERAREBEQEBAHLDEdiAiICIgIiAikC0QSGScIFtoLCqZbgQe7AaOvGVDoGwtIIq/ajfgc4ff2YRQJr83sXMxUHckm8pJt+ZiQhEBEQERAe6zssVr7RlYUwLvy9NiQJWU7LxlYJ56RfEruX+wDbc7bAfOKA8waiXbh9M2PaM3cdoCfDYBU9hO2kY2BSS8YC+5y9awOe+Tp9hGW9pEpSl2nDebKOqvsPuWSUVLkz5iZBEBEYHsi4Bx9lU9fZrLeV+6AKvt05c+I1O9WcrfTQwB/nbISKk6ZLFdtv3rgIKeisFKiGFsxwZDu2U+hcBqzqPDMd3263RoKnqJCIgIiAjoRSBL72H9twmoVA4YvFVhEfrwBL6uxJw2N7k83AkfGgM0bwd0YwOXff9kXh9VMdkQ5YKfAFtOa2XBR55RzXjJPIpnFLwvW3l5qlMnoOdMJohTpeFjKIf/aM28RMW5c+e0e/2VgTwDWtyPjTyzUdBz/OvUnvmGOD+5+8TG45sBzg2YU8eRl76GpY5h9d/1rPMyNkY6leXxALrgglIeHwQeJOuirAfrXa4HW89WBkVeZGvbbhz3Cv9Yn/Zt2DI4n6fouJbrNWTcXNho88+cdgfwhh9VBnmoB7AUZeiJIPA/reNZlC4n/ZcNqco4PKMMpOrKRPQTERAR+H4QSJthjC8fey0btlyqtB0WfZSo1R8Ko4zJcd2cZsOetbeodd1ejajTHcW1Xt4XtrHGtFZ0UmlnL5bj5y9G9FIlJpToRzZkNYz5ggQDSDFKe1uRG5l/ZiDJeaXYJB9NnkCUWlNcj5irZtwrVQaKY7I8SBwllMsPe6K9vor4kWmw2/jEiw18stmW/7N3HYA1XW/8l2HGHqGUGm3sVbuIXaNUrNijRu1Ze8SmZq2ittrUVvztTVDECrVjRJAESch67/v/7hvykryXvEQQdT9e3n33nvOd7/zuuee759xzv1+5rCLJGRT0buRITnJpGe3px8Cld/W6Y/zLMDjbmD4m/qcNBRhQ81CMWtSDKgIqAioCViOQqEdYym1DWz5n2TJZT/m9lNNaLTiCUYzes5VcN+vIdcPRTR1+hp0luynpCBSZx+/hHLUYpeVFYENx4y/z38E7gKfMUyO1/nhSpu/NoFUr3w7bgAIckUxroi8/WUp9upStgXE0qMZ3pD6oy7AoJWOnlTBvgX6vjgdpQRQeJI4w3wpHRh3nkGGVo0BFUibTf8f0985pjtI40slXi7QDvwOn+ByvASkY3INNcgWSuXUWR2K0P1MKk/2WNmmHwv+0cSpHefw8LRDlueADst0+JH5VLClQ96sIqAioCMQNgUTvsJI60xFcJqUznc6eLJw+MziUMqXJdcPptN27DZ/9wJmZ+soXs+HUnXEeTdnFKb17T/XHLPG+JGHnG3yc04L6ZCQg4tQcf5SOxSF40mnm+o305SeB43uB5/35TOq1UUncvxUepOM7I/KZ5UGKy1nTAOvopLzosIyiZb20nL4sn9yw5yVp3QeRx4kO5joXf1QlztbIW/4nV/IYUb8pVIc5lZlrGac1rVGkplERUBFQEbAGAavHYh8xof8KRmTmdNyo2yZGMIS+Wa4bJmGAccnD9KUbk0uokkiaJOR9YUh9RUIOWeZ92dOe021ZyKvDfDltySljmFYMYd7uDTmNxqjQTZuR22cOpwR12kS2ViVXEafomnJasGl58hfVEvEyUnAY0pj7OjSJdqRivZi/AXUvVriNFGH0c0s8SB6LaFsukdSsU7PmInNIBRCr+Ii40q7+w5l+NafxWKdBnIrc9ShyTr/fRJyGxZEDh+fALP8Tp1e/sBe5agUOka1Qf6kIqAioCFhG4JNf1v7iDnCV01ml+WA/qamH5sjC8wjZXDPzPaMiUY5x9HTlIhlOC5Ma2zC1Z8yqecbREhd1FOQihWzGEYjxoKVvjqguugOBZDkt7/TuCxmUYp5dAs694Win7DuusKNtfpzazMApvBscqb7JxKm7XNFtPMAR0aymwHYXS5W0fr/feKA2yznT1fo8akoVARUBFYHYEPjkHVZsFVSPW4fAJDrvsP8BbnS6qqgIqAioCCRGBHjfrcrnjED4VWDJbY4QM9BZWfns6nPGS627ioCKwMdDIC6P7z+elWrJ7w0BLacMlVWEdabwHTf19uW94awqVhFQEXh3BNQpwXfHUNWgIqAioCKgIvABEFBHWB8AZLUIFQEVARUBFYF3R0B1WO+OYSLWEI5HB1dix/VwaP1PYVHfBij5dT6Ua9Qbv+1/zOhWGtzbMwNdahVG3gKV0XLQYpzmO1lK3Cu/Y7PRtlI+FKrWAdMP+HBPfESLJ0dWYO05//hkVvOoCKgIqAhEQkCdEowEx0t4Xb6LZ6FcE0+xS54ZeQvlhOFd5UgpE/+PUHguGYiFSXtgchsn/ZJ/vz/wfdZRyLntPhbXMb7mGw4Pt29RalN9nPKYgFLG51haX2waMwspu49GnSzvcF+jfYbDkyfgYtXx6FsuVeKHTbVQRUBFINEi8A49UeKsU8iNwzh2X+9w4mxh4DXsWrEUC3vXQM1fFmPp8n24YRq+KM4KP16G16fHoufeEhjYyuCsFFNSZkYmh5fw9Q2PMExzD2cueCPc3wfPTWB77b4ejyr1fzdnpZRimxlVervgvlt/bH8Wv3FahLGJa+vZWtK13E9cNqnWqAj8lxFIcIfl/78+KP/TRljdz4c8wqlN63HwDt/+VYR35Ge27MK1IP3PuP0NxN9TZ8PdpD+OU/5U5dF12mxMb/MdyrefjtlTO6KUxZeHg/H44mEcOHUb/lH6YU3Ia7x+HYxQk/2aYGVfCCfhTCUUz64fx/8OnMG9lyaJDUm0ocHM8xohhkzal4/x+EX0dKYaddtaLywbvgTpXBojm+kZts2ETOk1eP7MzzDFxym7HTsQVroiUvr54rkRt/BrWH8qC5pUSxdNdbx2OFREi2LHMXTaOSXi1X9DWJFmLXkPkACvApxYALQjDYvbGr7Q/g/g+y4I0a6LfEE8weQd9IVfYFxKhhrjQtQ4S6gHw7AVB/6MT+Y4l2Y5Q4LY8ZEwtFyr6EcUnsDLhi44+tHEs8e0O3tnq7RP/kKvLnQYD15F6ZgtqNY+wOZpS/E46x0Mr9gXB3li4b8Lo5o0xtj9IRYyWd4dfG4GVtm1RrvcdpYTvfMRLXw29EDl7+qix5zN2DijPYPAdsQWQ6xCaG5gRYuccMhdFyO2Ks+JKC8PYGLzYsj4ZWMs89R7n/Dri9C8WHE0cluNPVtmo1OlAqg96awS9lAv2qfYPaEdmpXMi4arL2N1jzqo8dMA9HShU90U8zMh7ZOtWH/0K5T7zsGoTf9tlxmOfN/K77nhmdTLw9jwqAyaV8iKDJwCfO6nWKvFg817YFOnQWRnF1lTHH/Zo3D5oni0biXclXP8H5AAOpljjRmE2OINjRWVJNyLGgFzw4Dx04Hit8kAXYqxJK2+2zNTxhPq+l0fLNrM0bjvegd99gyIfGITnXrcS0XSYkBPYuEX+Q4vHpreLUuC2PGRMIxLzXU8gbfikuPjpDU+sXj30rX38WeP2UjdpT1yH7ZOneba37hfpBc6P++KDg65kF5xnxlbYeLgLfgzMyPYav3wz+YNOOmdFN/UaobaTlE64LfFhMBr31QMXijovcAFmRPUDb8txLBhiyyuv+OIa8R+/9lV0HRbEBp2pn12+dBhzQacrrEOtetm00WWR1oeL1MY9zutRKcCdKYkkXJrsxwl11/CuvyGU6B9jFX1aqNPhXNYrHDW2zrihzHrUcWxIlIN6I3CK9Zif52sen3Goi3gE3bJA57aDOiQKQoQdlmQOT3vCXye84YiGBfWeuDr5n2Q5tFeZMAxPHvKHjTVAWz2rYDOBRKuaSjm2js6Io3XRVzw1aLSF1HsMtbnU/lmJ/rzL8BUhvGKemuk8IMtf0XeskqxVyb0KLAmJ3Cgl54BIMdIBlzOTw43Q4wxhRet+QYGFSZcKSszZNhqhguj2kcbyaW2B/jaG7hF5yYM37V+EpCeC2Ym9gY27WM+X9qWjBHzZzNMFm9SFHm0Dej1B2nG0zLcFyPyd5vFwNKpySN3jI53FNB+AUeNHFS7tQVedQPYrGPUp1Nq4U/AYaDHXDIo5GDg6t8iwotZtJ16tOzYR7HO/7LpJeHjzlJvIpRrHwGDidMtdgupkwOFad+gisBZltGfmDfh/hMvGK2Feaq4AX1KKwrJmTcY+IMdcVrWMwWjucwaxPzcv7ELg2lnBLzPMug1MSzLPJNq6cuLyQ5LGFqsVyznJKKG0bfiiqED69KqP8PUNQFOn+D5542QQxXeEPXhZe1PbHmDFTwWmEzcdrG+bjcYim090xzU8wTuO8XRfWa2tyI89zxuaDbRDfuYeyyHGYzLkTC5PquuVB56UvyP9ZC83y+WQKuzB8imJqnFaeglPaeUhMnF36bIloBXsqdLFem4/YmEv7kus1xqyaTL5qOpvjo8TEo6QDKXrC+NGzeO/dOkqXSeT8IrCxIwv67UXWbKahUst6/eFMZ61cmriyulf0NnKV++olSpUUfqk0ir5AzjUSWJRu7NrCN1Zt/XcWdJ4N/ys8s48TSYr7k3RHKgiDRr1UpamXyal08p6dqdkBB9Mbq/gXPrSO1lJOOKJpbxebOxqaRI1kjWMZBuZHkjm1qkleQuK+XF9eUyde1dHeYa7zlSJUk26bTHX079PlP2+EXOJeFXZbhTeZnpG2V/HH6GnR8q+UjkNdYIQhzyJrakbzYwSHJlBlI2NcwKfjDT5Mp2wAwRl81R9+p/x8iLxqZZObvIIUOT28tAyGO8DXruM+AzAzHTnEiiuSFSvZ7IQ41+d8h5ke8YdJlxinXiPlWk4x8it8j31maUyHPDfrGgTzk8i5xqdgwyTZep/zDItBsDRb8Vtr/WLVjPtzu4Ycl22vWbEgSa5SmiYXDm2tQ7VeGn47HRLGvJQ90hHfBDvhNZrRjPMmoy3birhmPU37uKyN4QkZg484KWiGRvZ7CNOpoTGx2EMdgRI4aW6qWYFQOGBqstf8UFQ2rZVpOBu8dFtM2TvXle9+rVB8wSafSXoSjWs1cjkZv8VsQiT6D+cKL5mzC30c/+RL/xT5C31xHMW/MPnt5+gtnkfR/ahK46Ngk5gs37HNFgWAH93Sqfnxx6nQvtbfegzbZM6DwzC1frZUFrZ18UX3wJQ2aWiKYxdeUJcL9VFWN7LoPjqKXoUYS3lgkpmltYOGAWfti6EBXuzcCPLc+h3fptmFo4HUc8XAI+zxmNIk112eKrLgOQo9avON55Lr5csBSadkuQ33A7bps8FdI71UL3Aa1ANg8TGYhRjl9HDuJrY49kyZOYpDFsvt6DuRbwsc2UCRlCbiGAd47g3WiE2CJTpvTQnL+Gldvzona/XHrM02RCxiR+8DmzFifyNUG/9BE5Qp948pnIQqx5lAlu970QmCEnkj7+B+6+OVG+SHJ4nTwLn6ylUTZPUjz1OI2bSYugfIEMiNqwtK9eItAmPTIpnCSfuAz7iUzKnlECKrPCCj/YDN75TwkAii5h0OXYFkUqzZQjAnOi40U7GYUXrQBTTtKnzl6F5Rn05/yCo4Ugc1oi9rG54MBljvx+iNjn60s6mXDqoe1lBnC0wVmDr/3InbaXEx0RySxuNZ9BjjWOfLTGFBwJFi1o/GH526ztxOEY86/Mqc9ny6FkZxfgvvKTz7G2HuDIsxNHRga1YbT9zXWygBfniKAq0MVYbkqOFL8GVj0AvtrK5zIcMfzwNhNHEAreLfnhiKwKsdBByBHtFw5kIVIqEoMdMWLIrGbrxf3vQyyWxTbVvktE2yzdHvh1FS2o+T6s+PA62VQTQFKUws9jO+CRho33VVLY2aVAqhRmOllzRYV64/HLXKj6jWIKn59s2oiwSkORxudXeAY6IA0bliLJ06fCgx284hDdYSnH7bLWwKg5z/Fzn7nwXPsLlJm39yGh5/cjzHUR2uqcFUsIvYe9uy8ioFqU0pJXwbBG09Fr/jp8ebIo+vflPIxRMrdHrzz1seHVaMx15pVilMA7uPVK6cViF63PZYv4JC1eEaVTH4PXA56QdKZA2CFT5ozQeOzFs1+PoLDx7PPZVuYMwdhwTItfh2aPNO2ofeOLuxs2427RTnDw9sPrAl6YP9sdd/4ain51J2FI029xvn5eDKjVD13rVkLQr0UxvcctbG0YyVMi7Ik3XuUvh3ImzjD2Wia+FKGHgd9ysV/LEd22t/xgPIUn2fnFdiZT1ucUFh3co+bs7NhZK3J7P5tUFbbyb4GxO7mjo7KX+86Sq83Qmev3WPirXC887VEleRmSc7KNblka5R7GkPDaQk4rsszTbKa/TOM02iCDs7SgT8nmWBSoxU+CCLuLjK8ZJowOVNcuid/JM0BWRTmbUukKJHPdwinMyM2Kc1xAyCGu1rzNKcK8TMvfq24C1bNzSqs0OfPaAksrxsHCGOyIEcPQGMqIAcMYcsXvUAjrv4zTfzx/SpM6T2eVvrpBFbsCMbYN4vyM04RGscQTaDyeaL4TeqwXEtcpQc1DWdeujNRzWyN/LZkiY5ac1k0haO6PESeHNnLAQDwVtKSy2NRcHYu5IXJqSCMZfibqhEgs2YyHX+0Ttx+rS+WcEOSuItWqVTN8SknmrzrKUU4ziN8O6VzUSZxb9JBe7euJc9k60qvlN4JMztJrg3FexqDwzQHpmC2dNNvgZyzh7bfGZ7cMcs4vJWq3k979u0qLH76T/HkrysgjhgkU/z3i1rCWVMuTRJLmryHff/+91KrXQ1bd0Y/hY8YnQPZ0+lqq/+6tn5J8WyqneuZ/L7nbbJHnhqkA3aEwD3ErWUR+Oc55jWgSLHtcM4jzUmVuhhJ8S27cOiLt02aVXy4QEM7djMkN+XGbUscAWVY5vTTdbWQL0+VQMsn+Lnml/KTrhmlf4/5P73v6FyItjdNPUc3nqTPLDxY1nclvLzZpZ05hdR/KqRtOS1X9xTBNx6kgS7xo52ZwCs5G5HeFQ42nYDSnB7OPNijl736VRToMFOnSgNOA3TndYzjXB4eLlPtBZMhIluXC7W76ss5PEknhKLLiJk8n+dO6fSWSm3boJAZ9hhTRv1jemj7keWN9bDhdV5d2dJ6vn6aMyfbn21h/TmkNZl26tCDnWxGRfENFaJIEHGRdytHuISIDO4pU4vYmw5RgM9ZpdGtyxXFKsTanDscfM5jE82GWM491mlGStlUWucKuIsSd+NHO0fxWJCY7LGEYU72Uc2TpnOhLNPM3nhhub0aMiF89YtGgNqcAx7NNGtSHXeZUMjHt2UukTmWec9Z55Gn9wZBDPFaV2BLfBs5sj+t1M7GGnInniyYnBgkTf68bcs+Prccowbul5Rd1ZI2uD9XI/TGFxWnEDeNRy99vnstz6x+gWdYT05EwX7l+dI8cuvhImUK3LG8OSy+XkeJh/tEb82kk8OEFObj/lNx+YehVLGuLfCQWfDTeG6Vjw7FywQRSRYHG+6bcMrbgtxqD5f6Nu+brEn5F+n1ZQCY+CpG7x4/JHdZFc3OofJV7uNxWTA5YKs7pXWVPMLdfrZRqaevKxlun5OTNiII1j1dJ65rD5MT7Pi9v6/OeNnxFSpaO6AASrBRCdZ2ko7eUDjiKPPUg2SY7lRjbWZQ8yk9vdk6XH0c/oGEZ7sdFnrATjYtY0hcXHVal5fXucY6O1NzlwH236VQ8nphoIjDN+CyGvsmi+N8WOU4c41TlGOxIzBgqDmtmTGAQLw9iYbY9EaDLxPexrs+1COdHPZBIHJY5DMLl8vRG4jJ8oxw+sFA61uooG7zNtWJzeRPDPo08/N1V2q1hL/deJHZ8Xp2eKwMn7ZV3go30zYOKl5UuU0bI0MUXdRd9wB/OkrObu2475GAbyVlrrW6RjebWBCmer5GM6DNNDhovmsALsmTACFl/J8KBvRc4VKWfJQIXl5K1OzVHBG50+p95Ewu5yEU86XhTxVH1huv/zebAiQVlhU/ilaAHl3DJOxnyFs8HR8Ny38RrLS3TemPLkG5YeCkYIS9fQJO+IJpPXoRuRTiB/B4kNnyC/92PU6iCqk7GB1bxMUJ5gTkpUqY0PGgJDUGIfTLdcmtouR3ObeO5CQ5CcFIHJNcl5TtrZ4/Dx8kZRU0e4cXHAjWPioA5BIKfcWEGF2AoL3vl5jM+YzM0l/Y/v4/P7+7d1z3Gg2NuPsP7D4KR6B3Wf76RqRVUEVARUBFQEbAKAcMts1Vp1UQqAioCKgIqAioCHw0B1WF9NOjVglUEVARUBFQE4oKA6rDigpaaVkVARUBFQEXgoyGgOqyPBr1asIqAioCKgIpAXBB4l6VjcSlHTZsIELjMQJc7HjIQKKMFvOYb7zbcLjOeIYQ+5GoiruqayQgOfX9KBICoJqgIqAh8Ugh8dg5L4X258SVQJLY4bx/iNLLznsAYbhcYB84uDdBvHuO6RQ09k0B23F/O6OKMk7bsF5ZFneEXGQ2bZbf7kM6K5R5rBixgrLO+CVQvVY2KgIrA54PAZ+ewdLwvSqdZ/OOf5Aez+d5ED4Bxgt+vMC7b5sUk05uhd1ZKYfZODBja4gNTCAQALY6R2mDf+62uql1FQEXgv4lAon6G9e9yoFA+oPtKfUTo7UP5uxA5bc7xZLAT3jYQqNuQnSADXHaYQl4f4zliIMpp3wN5mTezA785ohpzhzyKB/W8Lyt5e9+0KdB6LAnijHn4/YLHv3UEcuRg5868Gx8bDnIENLMTgzwzKOhhfpo2It8Qy9PJS2BIHaByJXLqlAO+62Udw+qVJbR5DoORulEfHei0owZ9/FJ4kByz0Q7ana8Vo2cbDgUdZ7Tt2kx7ih/a06gBI4NzO1bhWa5QlbhVYdDmNsy7BnjAW5VuHSMcWKw6rEkQDiyhY2T8TbNy5WeetqmM6K0M8VRREVARUBGIKwKJPYDHIga2nG2IHfbmb5H6E/RBGWPiujnAwJ5l/4yo2epiIk0v6H9b5H1hjDXSWsk+Q5y9EKZP/6XIHaOaFyLfMpBVL/IFKQGigg3xtoKWkX+mi+iDujKe3oihOsofY64Yv6/1ZqDPu5GTxMiDxKQvWH/SSslGL32+ICWGn5VyfQ8DfDJsS7msIskZJPRuAka6urJNZAdjwA0axFhl5N/ZeDaKUQxeVoD4HYpTQLcoOtSfKgIqAp81Aol6hKU437Z8zrJlsp7yeynv3ltwBKMYvWcruW7WkeuGo5s6/Aw7S3ZT0hEoMo/fwzlqMUrLi8CG4sZf5r+DdwBPmadGav3xpEzfm0GrVr4dtgEFOCKZ1kRffrKU+nQpWwPjaFCN70h9UJdhUUrGTith3gL9Xh0P0oIoPEgcYb4Vjow6ziHDKkeBiqRMpv+O6e+d0xylaTlaq0Xagd+BU3yO14AUDO7BMeWK27F8HF2GbSRT6RTi/5QjzSKR8z8YxvPzCzmIkkber/5SEVARUBGwFgF2f4lbkjrTEUzgcw86nT1Z+CzG4FDKlLbMdVPMhlN3nEern8tQN07p3eMnF6f7LPG+JCHNlkIf/YJZ0inZOK14kD+GxuIQPOk0c/1G+nIlnYaU5Hn4TIoOtJnBoSmq4iJW8SApHttaoU3r6KSqlSK9uiGflvXS0sGUT87vB+QL+pOcOXRmyW4Anj68CajNmwFOu/rw+M+u5vmTohZvnxHw8iU9+35OpZ7kszFT3IhlK2K07E3UXOpvFQEVARWBOCDwKYwv/VcwIjOnk0aRJuCtMBq4Wa4bJmCAccnD9KUbky68kkiaJOR9YUh9RUIOiUXelz3tOd2Whbw6zJfTlpwyhmnFEObt3pDTaIwK3bQZuX3mKAxPetlKDhlbTtE15bRg0/IiWWqJeFmkEzFk4tehSbQjFevF/A2oe7HCbaQIp84s8SB5LKJtuURSs07NmovMIRVArOIj4kq7+g9n+tWk0GadBnEqctcjfc5L67jNSNegHbcZ7XpRWU6NctoxgBVs7iR62pBYC9EneGGYTn3F6VNT8Z8uYt/SMG1qekDdVhFQEVARiAMCNkraOPi3RJf0xR3gaiAZScl8Gmm2iSMLzyNkc83M94w4PRXpGO/4r1wkw2lhUmNHGQlpnnG0xNFFQS5SyMYRhlXyGrjoDgSS5bS8U8IsZHh2CTjHEUnVstaNcCzaSdv8eIYzcCx94zKZcjNxSX+uyDb+WY3Tg1xB+HtBLgQpANS+ygUdt5iuG0e26xkFO5tF7VYdGM/RXaZDQFfD6NiqTGoiFQEVARWBKAh88g4rSn3Un3FFgM67M6cHG5+io+KUXqmmwN4TdPDLgZLbgYY1gF+7x1Wpml5FQEVARSDhEVAdVsJj+slpDA/ne1mGp5mm26S2AqmtdItcPrlKqQarCKgI/OcQUB3Wf+6UqhVSEVARUBH4byIQl/Vm/00E1FqpCKgIqAioCHwSCKgO65M4TaqRKgIqAioCKgKJ5D0sDW7tmIF5S1Zh3blkcG5VFwUdbKF5/RLPn/rAplRPjO1aDhk+mHsNx6ODa3E+WwvUz59IIIpzW9XiyZGVOOTwI1qUSh/n3GoGFQEVARWBxIZAInqGFY5/hhdH+QNtcO3EYHxtZ4Aq5F8salYLC4qsxYlx5WDtSvP4Ax0KzyUDsTBpD0xu4xR5OXz8lX6cnNpnODx5Ai5WHY++5VJ9HBvUUlUEVARUBBIIgQ82ZonVXu1jHDt2E7krVUZOo7NSMiVzwk/DXPFmznis8WF8oVgk5MZhHLvPl7DiKa9Pj0XPvSUwsNUn7qyU+ttmRpXeLrjv1h/bn8WOXTwhU7MlBgT4/uDMZe/fEK3ajN4/yImkhLUzgfuJxBajGQnmsAJXNkIqWxvY2PBjlxUddsQxUN2rozh6MS3KOxePNqqxyZQJ6YIu459rYUa7LXwH4u+ps+HOZdrxEq0Xlg1fgnQujd+GMVJijz86tQnrD94B30+maPHszBbsusY13x9Igh+dxKb1B3Bbb4Cu1FDvO3hgjQkOFdGi2HEMnXZOiTalyn8UAR3PWJSX4ONS1YAzwPixwOjRwKT5gAcdYFQJv0AWAb4EznfRo8mzfeRWa8YYl3yPrwM7OlPZx9BqzZroWQlmnjY9om4bEbjOQAYml7dx90f7Dj1GdooFQJaPZoH5ghPIYWlw459zKDDDlwGRBKJ5gqX14zZ5F3L6MNw1ZeD8XfR8Gq97eCQpkTqV6dAreoWCz83AKrvWaJc75nTRc+r3aJ9sxfqjX6Hcd3z5SCdaPNg8DUsfZ8Wd4RXR96DS5ftj16gmaDyWQfM+gGgfbMKMNUH4+v4wVOh7UO90NJcxpkopjDhmzU2BPQqXL4pH61bCXfVYH+CMfYQiAvQ8YxvoFOIrqXMBxw8D1esBlbj9Zzs6L75Mbir2jIJyYhMDLpvuNGzPppPrsZpxNDcyNmVfkwQPgPn3gNV/McYko6b05UvqqkRHYMV44FZ8b7Sjq3vnPQvIldd4wztG2XlnK6IrSCCHFYIbN4Lg4LsaowaNxPxDD5Q4sHGQcFw5dgrPilSCc7qo2TS4fcIdj9KXQrkCXACh9cM/fy3AnDlLsedf4xAjBF77xuOnyYLeE12QOZ61CrvkAU9tBmTOZFCguYa/7xdBr1rP4XHNAZnSK/szotXEwaj1RWadoVq/f/DXgjmYs3QP3poTtQrx/q3B1Z33Uajzd7j3zzWkccysYwvWPj2AA7eKo1IZg3M3i0lEofaOjkjj5YELvup8TgQq/50tSzxj4R7AYt4pWyW87hyzAiU4gqpYB5hO53JtIuBtyBxwmMwJrcmhRtLRSLdJ7GSXdAfmMCqKGzu5Zj8BRw1DhfAr5LLrAGzfQofKkddP0yJGEY+2MfxXXXaKzNOKaY7T6Rrl+ExGXWlJVgGW2Yn5GjTndgiPsvma5cDj/o2dyWIwhPx41RnouQKDVv/PqI1xrBnm7PtvyFaQC3BIC3xZG7ijdFCW9EVkjbal/RdoU4jM4Kzzbeb3Yb2r8fePs3TxshFTvS6x/t/kZbBsdh1p+V17jF79QeK8iDcCfVlPhRtv7B6TYl9w/7cME5eDdmciVrwhMIpFnIwJYviOqW1oeN5+Yd0WM9xdopM4xB20nFTzSGZ8l1IKtp0sf/w+WCqnTi1NtvhZTh/1iOauzKiYVJx+OSXR6JLCPGRUcR7rd0yC5JXs6VJFOm5/IuFvrsssl1oy6XK4vDo8TEo6QDKXrC+NGzeO/dOkqXSebyDIMrHlzcamkiJZI1nHALSmErCpiaR2GiqXDEFtwy7+JlO2MPruqz3SpUpH2f4kXN5cnyUutSYJzTEjr2R984xiZwthAzD7sU1SQAaeYPRZcxKwSZqkzCuDLuqPB6yuJ0mKTZA7Oj4r85iYqgk7P1TykURrrKdZ40yTqtufGgJsq9F4xthMti0TObeZgY5XiOxdLnKWzTVG4YXXpgWDHpskmukqstv0gmRZraOk0SVnO+zNYMzm+NU01xhEebCeQ86oWnNDpHo9kYe69suA1OdFvmMAaFLSvZUJ34oU78VA0koaBmLmf4mJAy9oiUj2dgb7aWdz6vdWtNF+l0wifzIItE4YmLmYo8gFXgox6TOkNvvlt0ik9mzDIZbVpr7IPdoZU71CDohkKivy1gwGonZsGqF+SGPaZObyn1+E9u8zpGNdeqQXGfKWpE/EHE4RWs1sWdE2NhRgYO5DZvImgl0Js2bbNhv6nQhCP4M7bqI5hByrjgMu9a1z0K+O46gHn18Nivr8ilNyf47E4tCfsWzEd0j5ehPmbsuEzjOzwC55FrR29kXxxZcwZOYEuN+qirE9l8Fx1FL0KGLKbWGdCUoqWz4ryxByCwHB/PF2ZjIERzbvg2ODYShgp6QKx7VDr5GrfSq83jMX2zJ1xswsdkiepTWcfYtj8aWBmFlCl1BJbJDUcF37nB/j77h9B5/Yhv2ZXbC/kHK6QnF6/0lkrToC2V88wVPbYxYwKfG2EO2rlwi0SY9MGaPa9TaJuvGJImCWZ4zNpBxP/4xuZKTmyKXoEgaAThX3CgZw9PT2Moh7dos5XnMEcYCBmDv9EJHEl3Esr7O8coYeSZl+nMMRSQ5lUoOXs3JF6zjwODr5wTjK4CNt3zc8wNEYbIAq1KerZlIGtXYAgjhKwEPgTHZgvSO3FeEI66KPfnP2VtLoWNKnT2L2b/q2QFaO0i4T36xL+ZSbo8SvaGdgDPVynAdkH85RrEFjWtrso9gdk7AfmvoUOFnDkIj1mtSbvHwr+e2m32cOp5hUIra28YAjYWLmWSVGLR/tIM1PAAk9hQktN9F5TMMP6bR44fsKabNmtVqx8vzqDJ9fjYG96kcAAEAASURBVIv0/Oo1riztjp4b82Pe3+NQky9hae9ehmegA9KwcSqSPH0qPNjBlo8SsMtaA6PmPMfPfebCc+0vBueiS2b1n6TFK6J06mPwesD5gnTGzj0U3o9fIlfVb5RzTf6oTdgYVglDWU+fy54IdEijXCuU5Eif6gF2XObcRYmUuj0J9SfcywsvvqmCfIoBr89h294AlJpVEFcXz8SNWmEWMTGWH/bEG6/yl0O59MY96vd/AoFQyzxjyr2JbzVgP3v6k+y4lQ4/LhLKBRZHOE04gJ1kQkvyMkAF2raFnX1MDlHxVaYSEweeabpI2xnpy7xIYMqduQwHgvg7iE4sXvoUHcRkREWSxO4ikwGdVJ/NesUx1etlMfLFHWY6k3t4PppHzlzcR1HqqsxSRpIkwLd0Wjs5LdiR50KRsweZZ6h+2/g3Kk7G/Za+Y2obh1sRp2W8UbCU+SPvTxiHlbQonJ06o97XB1GmhAaXPQth6smSsVdNcwNbpyzCpq1b8DhZAZyePRYP7QSakCC8eOYLjVMrrN5RE9mNVtrZw060ytSzXrQCG2PUVu6x/aIROuVtgdXn+2B8aWMmY2IrvtP9iK7NRmHqsWfQFslqCPrqgDpd2mHRqqlYm+4rPLwK1OtfiQ+etbCzt4OYrPPVis3bILJWlGZ1khTVW8Nl8R4sWq1ByLUHkEJ5Eeg+G6syV8So9McwKgZMlFWOpw9dQuG2k1A0HpBYbaSa8IMj8GIun+3wLv2QmV7fLhdHWGPIXM27qVJBsZvmf4ALJtbSyb3WU/G84EU2aoXBoXB7bX+OUm7zedRO0tUwTXaOMOZ1ZdDkQEbz5/Ojpes44uBoJx3vU8fRLmUyIPAwmQBGk0DUg7Q21zkaYWc9tyPzlGMa6qlaj6MiPp95xnvOq18Au+cxP53w4n5cqLGJHTW3s7Oj7jeHzoUet9wM7nPh9ce6fZuB5Z3mSKov7aCeP34H1nB4NbQhnxOdJ8P4eg6maPOoMnSMLDN3Zj4vo81PzwCnqescHbJFfY1ixysvdQfk5vO6PsAEw3UVY70G0+lw1Jj5GJ9d5eSobx9vIpj30lh9WTW5b2AXoCyd1MlbXMCyFHDlvpWsx5e80VzEeqX8h8eKAg/qME8MOMVmvcW28YKD1VO8yTkUm4aPeDzhpiU1EvTIQ06e9pTnyoTz+5Dg3dLyizqyJkhRrpH7YwqL0whOiJvKm+fyPNB0R9y2Nd4bpWPDsdHmk8P8veTGPT8xnWYO3t1Svqizhs/WKJr7Mqawk4y4wcns9yGaAHns5WN4xhcoj+9668uNBRPN41XSuuYwOfEOmLyP6qg63x2BcSVF5htIM99d24fXoOFDK/fjIk/4bCYu4n9b5LiH7vGU1dnC+Uj9wHaRS8aHSCY546PPJHu0zZjq5cdnetv5TMrHTJ1D+NDN/bLor2tTrXze5sE8pw2kq6aHEnLbdxxJb+cnpMaE15WIIl1Y47U1uDLDFSP9WqBvNX+snOKOWssXomnWuA6KYy4rwP13jDvkhP6DaiJG1VxOM8N1JPxa9EU1/5WY4l4Lyxc2jTlPzEXH42gMmARdxNLRm5Cq+yi45laHV/EAV82iIqAikIgQ+MQclh65oAeXcMk7GfIWzwfH9zDHrpQS/O9+nEIVVHWKraMPwoNLl+CdLC+K53OM9tLzhzrX0THhM7azx+Hj5IyiaT+UFWo5KgIqAioC7w+BT9JhvT84VM0qAioCKgIqAokVgYSdS0ustVTtUhFQEVARUBH45BFQHdYnfwrVCqgIqAioCHweCKgO6/M4z2otVQRUBFQEPnkEYltR8IEqSALH7dPx++KVWPtPclTWETjyHdnnD/HgUTC+bDIEbi2L6N9i/0AWfZhiohNFam7twIx5S7Bq3Tkkc26FugUdYKt5jZfPn8LHphR6ju2KcjExWWqf4MjKQ3D4sQVU3sYPcxbVUlQEVAQ+DAKJaNEFCRyHFUW5g+1wnQSOefmmviLa+7NRPf805Nt+HQtqJmwECX0JJn8DHuDq7acI1r1ybgf7lBmRxykHUhtsMUnJtyLv4eT/9uJCQA5UrF0dRRyCEOCQHmmVMWvoU9zyfIwAvtgMm5TIlj8fsiSPlFtJZJEoMvyf4She/gDaXDuBwV8bCw/Bv4uaodaCIlh7YhzKRdMXoV/77DAmT7iIquP7QuVtjMBF3VIRUBH4tBFIPFOC2kc4euwWclesjBzGPprY2mZIj9TaB7hw3tsqpN+FwDHk9gHyYTVAjY5zsGzZYiz8bQiaOZeH65xLjBcRIU93dkW+nDUwbt8jvLi7DUNq5sfXab5Cq718/ZyifXIGm1Ysx5KR1FWzNloveBQRncOgxjJRpBaPjx3DzdyVUDkykyWcfhoG1zdzMH6Nj0GL+S/bzFXQ2+U+3Ppvh8rbaB6jT3Lvsw9D0pjQ2JgEg0lo1e9fn1YX1P39l5MIS0iMBI4Kf1XCSPB1WdHFWQp+lUdKtl0iV01DQlhTgv9KaeCQWdptZ/hjE/Hd0Fwyp6sqs65ZE2k8QDZ1bChTb1mT1qQQk83gnS2lzrj7jKNhEI2XzK9dVcbdNOzxXS01stWXyMHoH8usfHZSe5fp6+shcrRHAxlxeq241hwnxuw6rYyKMbdaVmm0xlyYAn9Z2TC1ZG63XSIjwZzht2VKeXvJ2f2g0TrL32HuMqBAQRnkbmqT5eTqkcSPwNGqIvnWvYOdbG5/ThAZPVpkLKMaLPibhANR1B1npIO2jLw+ktHEL58TeR7leJx/sh9on1FkoS4cTETuEE9GnQiI+G3c8tstUqEso1IkkmZ7vr1IiYVG6z7wt8n5Us6Z7rxNEfEkpscWi4wZI7KJkTMU8drDczpKZA6/3/ZduiPx+xNylMSG+SR6HxQ/dQmWK4FGWBp4jGqI8XZjcOzafnT2GYYBq/zidM8QcooEjtoyqFJBP9cV+uIuzqx3Q8d5Iei7eT1avt6CBXPmYOmef2EpNNq7EjiaNZiR6EvlE9x5EKY77LdkCp70WAwXxveKkC/Qfc9lzKlk8hZz8EGseFga7Uu7oEP2w1h8VTfPqMsSnSgyQhNCTuOwuwZlnL+LHhhU44V7jwQpU+tiUpMaLAYuLvvCKF/0EdatdDdRrm5+sggEvDtJI1IDJRn77wibT51ajBN4FKjVnvH1FFA4kljEGHpz2czHTweKM25gmVLkqWLw1XcSPiWfeIJx8aLM5j9hnMLfGTMvqqRnvL+WOYBXtCcxSIGJwCbXj2SJyfn6gZHolU8axvk7xHPilBXYdYUxFYmVIlmK8TweZLT6gvpAuvq98f/73yZw1Hhi3RZ7tOr6JW6e9UaVNY+wq32GOKClEDiegI+jPe4unY7p06di1vL9uJehCebv24xeoSPRdH4yNOzeGRX+HYzGv/JMRZKEIXCMpFL5oQ2A54Y+6H3eGd2+S8Yd4XjwbzhyFk0TLal9rgL4Wu9HdMcC/l4N38ptkds2Oap2zoezf5zRswXzaDSiSBNt4VeO4dSzIqgUnckSmtsn4P4oPUqVK8DIm/9D98bzkaxhd3Su8C8GN/4VVyJ8IjXaw9ExDbw8LphoVzc/VQQskTSySWLJYiXEsXWSkx1c1rwMiFualPa/Al2Zn2w5CKXzWpOTzMC9GKk7G8kVRwIHNwCFTe7BopVAp7KM0b1dpgCMm6qTcwxgW7UBKTyU2XE62cltSfzYjUFbTRzfS3asvRcxsCsD1zZtCrQey4C6hvy6Lz76/XsEySBdGNWdDuwQ9cQkfjvJklyNdtQEanYChjRjgFx27svv6XPdXsljtKkRHXLTnsAN2q1IwDE6bOZb+y8v9aeMwM6yem/TH1P+Hp5M22j/7JMR+2Iqy/9/JHOsQSev1N2XhJa0v9nv3Gbl+lZi0Fv+rkkbhw/hDUM9kmEuj3260Xi+vv2KV3QmOq2uQGmeE8c6JNokpk+T622z5128d1Hay/NrjXyqBI68/0kACXsAr4eXsathIxz9OikunRL0OngSbiWVTt4K0T7EkaO38OUP8zB8QNUo4Y1eY+PcbcjUeSay2CVHltbO8C3OK3TIzLeKA46MRaOGE+GVvz7Curhi7tsjFjZsbJGh+jAs7FrcTIIweMxrjpqHUjISvAOyl2uFJbtcUUBXFVvY8fmahhd5zOKPTYvOQqr+jYULmFKbAq/3zsOR4PKoyQYmgQEISpICKagrsmjx8OhR3MpdMcrzKyVVOK6u/wuX87bBzO/JxfV3bFxctnBIlZJX5cvIRai/Pj0E2DG5rqND4ajEVK5uB+5mB/69yU54H7856m9SyjSF+e3X/qTbuAsco74FNoxmzmai0Imkqxz57rwcnUmMYktHUI5R00uzM6UTmkA7B1cnN9RjcnApjo6fwX9yNNCGtFQm10xaOonZnTnyomNZYOYSFG/a0YfR4dnJv6Yzaqk4QUY7tyQZ6CQyjCJTrzuZhOmYdo1n5PlHQPO/gPYDAF4y2MqPIj7jGBX9KPBnFUayp/5xdYGFhzma5P21F+vyG/MbpQrLLOcEdHho3MNyYinLZT7LUBxiRmD0r3SQC3j5U3dlfrRjyU92h6PcXYAHbWvRnDQn7WlHhProW9S1mzY35Xl62pbnrHdEkp4816MP03badGEOce6h3KbGIjwP21cxCn5a4CZvBPbRnvSNeQOTKiLfZlfeKKxhe4jYlWi2Yq2fVZbaJEPSpHnRdfsFTCpogye/lUfROcfhtpyt1xohgeORCylRvnfpKM6KmbU+pCsJhEMECRZSPdgRSWvqyglD4KhXmgTFuq/DzhE5DfQipkXZ4iue2X/334LWpbCZ44a0PuuwI7wefvwipaEBFUXr0vOxdFcQajbiMnWzRJFK3lc4ftQDacsPQnFe7KaiffAnRi4Oxc/LRuC7lFrcj5WLS4tXLwNhkz6TqRp1+xNEwCxJI+uRjx3svzPY+U8BXvLu2s3ZisqxAzxDRzXmLEdSFUjXMZqdMLMFKjdkb6zIHyVJ6qrMy8tx/QU6AfYmTen0UkRxfFGyxPrThiO8OnSCiiTPTX2n9Nsx/U31DZCH5XuzMoW5bfuK9B0a5mB9t/Ynzcghjkpy0Tlc562fiZMsQ4fmzQ76az868b06PxNTMbpjFsuKIacNHUKhPLSLzrhIYToWW9ZLwTw2Ybo6I4ktb0xm+DAxR2+vWc+U3J+rKwdvPYk/z/v8x3TYBWJTxuPMGyO554PETeDIaieAJMmHYqTjDX4jOmUhIWFImoJDCStF9/wqrCScK/FWL5pweTk5siJWGmkhNkQ9iugJHOvjAsl4PJWG+p4kdfu5cNnbFMPOBJqU4I9Dgxqg/75g7tPCa+VepO4xBh3atkVbw6fbr654ueov+DOFnijSW08UaaJF9/zqTPTnV6+vLEWHNhuRf97fmF4zg85Rxs7FFYYn3q+Qvxx7NVU+XQTYQbX6jVNv46NXwT4jRwWcetq0n1OCd+h4rOwAq/Qlf9Q8ToG10jsrRXPK+pyq5l31I3bwRrlNvZ68I49J7Okc7K5wFMBL9w9yWg3hSO/bMjHl0B/jJAc07/E6NVoQTsfMquKCB0cTnO6b01LP92U8fm0hne235MjiKOOXabpZTOOheH3bMZexWuHPAX8TPOOl0JDJng58UD06p2VArz2GnY6c5uT5WbiETowjxWxWFvCWwNGVI1LaZ9psEjuBY4KtEvTb00MKZC8iNasWkHSOdWTBTStW6oXflG2TB0uHStkladoS0nLkQjn2NOoal2DZ3fILqaMnwSLt1Bgp7DTCwqqTEDk1pJEMPxPXJYp6dcHHJ4pLwaQCx/JSrVp1qT9it5CyJ5po7m+QjoW/kLwVGkr7tj9K6dxZpWjHDXJfo5F7a7tL/iT2kqeqi4zap1+DpfHZJoPrl5csSCEluq+Re+S22tPpa6n+u7dhRU+4XN8yUX5pXUYyIL1U6OzGFUBjZLTbMBnYu7N06DFV9j6MXKdYubiC90uXvOVl0nUrzkO0Gqo7EgsC/tNF7FtygagFg14Ylvm9emEhgeluckKNzC9iU1ikUWeRi5GblHhxZaBzFZHuQ0U61hOp+ouYbf+mKpXt6SVEftwkEsZVhRlyiBgp4e6sYTkNRArybc/cdUUaskwPQ5khh0Qqc9XjwCEiDZxZ5nr96rY3p0WKslf6fjH1UffWLlytllVkl69Sknl5uoUYMc+f95iuIVcZMu+bwyK5SnFF3UOR1lx12HWgSAceq/UV9ZUn7xRXIZ6fJJLCUWTFTZZNnqxuPJabdVZEc0ekTyORegWZPjdtZN75HiIxlkWDL48UKdJUpFcr1q8c82YhjxVtcLUnnn+S62qXSI4KIrfeiDTJxZWanvryzP41OV8uLiLKp15e4rgjInXQZpZB3Tupz2rh6sxXSoNiV2tsP7q87Oy+oK6rlhqb1QW8v4RsSqxwAkm4/2143HyD7IULI6u5wVI8y9FcmQHXkX5o0bca/FdOgXut5VjcNKt5bcG+8NVkREYH84cTcu/rB2dw4qrgmwqlkSt13Aar2id/4efunui5YSSKRx8wxm5mjFxcWnivbod217phy4Tv8AGgiN1eNUW8EBhfCsjE6ayuMT7oiJdq85l4x36D03vKyCnv+36IwdHjlYuchitM5uAE7C/MVezuP5yOy8fna6nMHU3YfcFenKrlUKsop/E+JfHjKL52Jk4Zc6oxsUqCOqz3WsmgB7h0yRvJ8hZHvvdFgvVeKxBdudVEkdGzGvaY5+IKurgUozelQvdRrlB5Gy2Cpx5QEVAR+MQQ+HQc1icGrLXmWk8UaaVGLlI5e9wHTs5FkdbKLGoyFQEVARWBTwEB1WF9CmdJtVFFQEVARUBFwPLKbBUbFQEVARUBFQEVgcSEQNxWCiQmy62xhaGMtjNi+awj7+vl2ddYWc0Gtl/kwY9zbltj0WeXJuCvznwvJgNsSjKk1WdXe7XCKgIqAgmJwMd3WK+vYGmnSihVoyO6tKyPdrNOKxFdEkbenMb6+btwM8z6d8LiVrAWL57kwsALd7C9V96IrMG3sWX8LByIS0VC7uJ/8ydi7KihGDpuKY57x/ICTERpH3Qr+PYWjJ91INo5Crn7P8yfOBajhg7FuKXHYTQ/dZNFuOIxFWVf+74NTWXJYM2DA5jd0wUVSpdCWZdp+CdxQmDJfHW/ioCKwHtG4CM7LA3uLuyFnkvPIEOj3ij0ZB9WT18Bd2sDo8UGTipXrH70L+bWMH01LrZM73A8/DLWjx+HCZMGoN/IjbgcYOVbg5o7WDNpPTR1+sBtzDh0L3ISP5dtjEW3Ek+PHX55PcaPm4BJA/ph5MbL5PqKwElzZw0mrdegTh83jBnXHUVO/oyyjRchrubb5aiO7p2KIsjjH/xz2QuBJmVElKZuqQioCHyuCHxkhxWGa1duIERsYJfkS7Sdvwd7to1GlQTxL3wXacc4dJv0P/ha7PhCcOPwMdw3vpr+rq3AvgiajRiJoV2rRuL0ik1tqPsCLDjoB03SFExqjxz1h6HDV3sZNfuw1UFNYyvjXY/bF2mGESOHomvVHFDe5o+QULgvWICDfhpGN+Fe+xyoP6wDvto7HtMPx+POw4ZTrBHK1S0VARUBFYG3CCRM3xCyH11zJoENOxv9xxYpflz+thDzGxp4/eWGqQd8IQzsemlxZ/TdnQzOJTLh2cHp6NapN0YM7Y6OfebjlM7jaHBv+yi0a+SCBhyN/XlyJ8Y0qwrnBqOw56k5j/QGx1fNwOYbYXCwVMvAvzF1trsS8Pqjip1jQTileoVXIYZ3uO1SIw3f9n3pRyf2US2zpnA7OBZ0QqpXr3jjoU9vlzoNX1Z+CT86MWvk5bmF6PljRZR2dsXYAz7R6qzxPojp3Tqh94ih6N6xD+af8lVCxKmiIqAi8LkhkPBBNPzl7/bFpeEqbytUB8l617QcXyWT2gv1sVf8dnWVb5KmkJq/PxJN2CUZXTKJpCgxTE4qBHBh52VksSRCGmIp9MNP0rpSFrGzzyu9j5hhews7LQOdkkq1t+GPoprzRs6OaSg/b3r6DoRnATK7QC4ZFKWqmsezpKJdBfntUdQwU1FtMP9b83y9NP8iuzRbawzdZD7dh9+rkcezKopdhd/EctU08nx9c/kiezNZ622of9BiKZt/kNw3Y7Dm8Z/SyNFW7L5qI+vvPRH3iVUlnS3ELk8vOaycVr9d0vWbpJKi5u8sM0wujS4pSVKUkGG6BmFGobpLRUBF4D+LgKWxR7z9dtD+ARji9wvmt7AQOikmzeTVWjBmGW5ps6FAoUywZXyYQk4OCL44BxPWKGvMksBeF8YoGcp1m4eVe87iwsWjmOIcJbQ5U2qfncO5e7lRujT1RC0zxAv7xv+EydIbE10yRz8eNf2H/K19hj1uM+DVYhF+c82auGyzAgftsz1wm+GFFot+g2vWaMhH0aDB9aVzsfMZww9Va4ofv8qCb+tWQu63c44aeC4Yg2W3tMhWoBAy2drjm0JOcAi+iDkT1uCJOsyKgqf6U0Xgv41AfKLYWUaE8e2mDLqIJqv/QJbY+ipzWsI8cfVmGKOxJ4eDEj+fk4UpU6aErTzFjas3+ZuEP4rYOiCVErsvZQ4UKaTfFfVv6NkzuJKyOLoXjFrFABwZ2wgNJ3ohf/0wdHGdGzVrtN82thlQfdg8dI1X0L9o6mLYEQLPRQOx3HEyto+sjIzxwTAG7e/9UIgnFg1cDsfJ2zGyckYrnG0YrnveQrjYIl1Gc+nD4MnzHsYxeHIHtgNWQNgeUtoKnt64ipucy80a/V7lvVdTLUBFQEXg4yAQtTd/JyuC/zcBi9L3wBVSjcRLbDMhUwZ2S+THDtcot898uhUezr82ug5NR25jleJw3Dh3AS8K/4TSykKASJIalSe441bVsei5zBGjlvZAkQRZ5BGpkHj80OD+5jGYH9YDi0aVRlpSoB4/8gTlKheNnZQtHqUleBbNfWweMx9hPRZhVOm0ZHAlx9mTcqhcNKYmZsMbkhQ8uy8RGhzK8xxVbJEpk0Kn8gracI3uuZWwPYQzoU06BjiOZzOLWor6W0VAReDTQCAB7+GDsH3eHhTt0FRHCGdt9cXQTWm1fECftCxatyxGEo7n8PHh7bP2FZ748GWmdM5o68pQy0yr69REA402evcWUeZLnD17E19+WwpfmK2hHbLWGIU59S9g3FzPaA/5I/TEc8sYAD+KiZq72zBu+FJcCIqqV4un+7gc/kJxtHJOhvsX3XH074XYcPKNrpO2nI+vBWwdg6ErLkdfTai5i61jhmLF5agr9WLOs23ccCyNbuBbg81Wjc51H5e8XyjeCs7J7uOi+1H8vXADTr6Jbc4uGcr+UBNZ7bii86qHboov0OsBninZSJakkaQo27oliqUQPPfx4eIYklI+8eE7YOng3NYV+VSH9fa8qBsqAp8FAgn2dC54lzRzKC5ToyxAsKxfI74nfpMfc9mzW7eVzBW6yOyDD0UTdFmWdSwpTrVGyvKFPaXCN87Sb/MdcuOEy92tvaRUOs4H2SSVb1zGys47FohbgvdK52ypuPAjFpKgkFMypNFwiSd9FqsWZdFF+G3ZMXWY9G5RRjLbZ5JSLXrL0Mlb30IQsKWVpEc6abVBWUESIeHXZkn1DKyX4pGNH5vkUnfRc10iS/lEAmWTa3JBpbnyMOr6jsBN4pocUmkuyXgiSQx5ArZIq/SQdK02RMqh/Ai/vUOmDustLcpkFvtMpaRF76EyeSuJhHhers2qLhwYR9jOOtgkrysG80kCZHnRhYTfk7+6FJM09hmkcNVa8mPzmvJNkiSSOns5abfoggTx3+VlHaWkUy0ZuXyh9KzwjTj32yx3yD2kioqAisDnhUCiDX4b6n8XN73tkTNfDqSO45205vp4lC26FQ0vu2N4LLfhwb6+0PD5CVeRx0MCMadgETw8eBeTrVxjork2B7NudET/hnEjAIpvvjhXSnMNc2bdQK/+DeOc1WKG10tQruS/2OA5GTnNJtIi6NENeGm/hFOWUPj4J0fWLA6Rn4GF+uPuTW/Y58yHHHFtEGbLVHeqCKgIfGoIxPSA4aPWJWn63ChkWGMRN0NCcW/PAVzNWgZTc8Xu6ZLTWX04CYfn4TfI0SSuoaLimy/uNQv3PIw3OZrEPeM75bCFQ/YCKGDQkS2LGWVJ0yN3/BqEGWXqLhUBFYFPEQGzT3g+xYrobA73wPjyGfD1gGuo2PdnVEgUiyki0NQ+PYpLOZqC7x1F7LRiK775rFAdOQmfRR29lANNGzlG3q/+UhFQEVARSAQIJNopwfhhEwTvf72hzZIL2dN+iMFjKPb1K4uOG1+i+OB9kQPgxq8C/7lcSrT28sOOABXH4ujS5nFakPOfA0OtkIqAisA7IZCoHda0adPQokULZM+e/Z0qqWZWEVARUBFQEfj0EYjb3NQHru/q1avx9OnTD1Oq9j72776A4A9TmlrKB0LgxYnZGLf2zgcqzXwxL47Mx8z/ceRv/rC6V0VARcBKBBK1w7KyDu+YjNHGZ/XF1EPn8NemI7i0ciBGb/5ATvIdLf/Q2bWhwQj52JGC41Bpjed0tBj1AvUa5YlDroRPmq6yK/Js7YHRp18nvHJVo4rAZ4TAh3jQk8jhTIrS7VrjTKfmWLLpGS6nX411ExLzooMAPLh6G0+D9ZHQ7exTImMepw+w1DsEu5unwLDKAfDokyqRn1Oap72DWT+tQrFF51Dioy++yYh6o1ywvPlEXCTtSnE1nFTibz+qhYkSAXWERR7cswum4fx3fdG+Sz900S7BtO2MxvoeJeTGYRyLLwlXyG0cWDYcDcjQPGfZMixe+BuGNHNGedc5uBQ1qEWC1sEO+Zq5oWvZT6O3DT01Eb9p26N3odhfbUhQmCwos83aDN1zbcTYHYEWUnyeu9fOBO5/nlWPVGutOl8cCQ+LPxLqPenwWxukX+1vpWChkvLDoK1yz0IQiriUV7x4cTl//nxcsphN++bhCflr3X65FRBxOOTxbfEKjPgt4Zdk0e975JXJrvezGSCbOjaUqbfeAaDgndKyzji5/za6hUa85teWquOUyBMG0YTImyDGiQg2lKN5IY8e+UenUgkPkDsndsiOY7flhTmTFD2BARIQoP8EBgYz6khilxA53jGtOI3xilzfNw/lxF/rZH/khiC3IzWE91e3oL8aSOb6699fAZ+Y5pCjDPSVT+TNO9h95k+RsaNFRo8VmbJA5Nr7v4DfwVqRkIsiTYqJrDAJdkPWJMlYggFh3kmzPvOrQyIt6osUbfduuCaAKe9FRQKNsAKwYWB/eNZfC/fTq1DzfB8M25k4li9oH2zCjDVB+Pr+MFToe5DjKYrmMsZUKYURx0xstCuCTt1rIbVF154wB4LPzcAqu9ZoF8GhkQCKbZGtVD7InQcGXYxNuHsC2jUribwNV+Py6h6oU+MnDOjpgvJdN8HfkMrv7y74yj4Lao9YimWj6uDLpDnQKdLoUovHfw1Gk0YN0bCh8vkRBTNWxdJosRAVhaE4/Pt8nNEBbCjA5Ev7+BB+7/8TmncejIlTpmDCqMEYNH4V/vF/H7eWvjh07DW+reAYES1D+wCbZqxB0Nf3MaxCXxzUNwRcHlMFpUYci7bYJvTaJqw79dKkBtZsvsTlzX/hlJ/5tMlLlkDGs4fNH/wM9y5oATTeAMT1NXpTqL4uCRzgWxM16wAlqGhILWBNIn4EnbQY0LMUYMptas835k9sIvmEacXiuZ26CutPTIuyfX9Cj5utrm0CPcPSwo5EVaJhJO0wDcI0drBPFDMxGlzdeR+FOnfBvS7XkCZvZh29u/bpARy4VRydykS5VEKvYdPml6jRvDzSWg0hE768jM37AlGlSfkY3jMKgde+qRi8UNB7gQsyJ9CtghLBPsDzLwztfR7OsyYbrLaF4w9jsL6KIyqmGoDehVdg7f46iERP5b8SPzS+iglPg9A6syGb33pUzV4Pyx6546cMyj46QtffsNPVcByBmF/DxfgjyncYbh46hNQ/dUMZM7OGttkqoZxdF/yRbTtWD8rP86DFkz9qokBzUozs/il+dDRRLHj7M/QWbj/IiOzZIpq35upO3C/UGV3udcG1NHmRWWmffFH6wIFbKN6pTLROM+DebXin/v6tytg2tE9OYN2mo1jtNhdOBxqifIboF4Bt5uxw9DkVm6rP4jiZiPAL71WeFY1eXY8lJGxoDVSy4tlj+pyAI8OiMc41kvPznQ3w8yGgZTOe3kfA4F7ALe5LzUu9cDdgUEV9eUHHgT7jgfyj+JvlneRTgHJDgKr/AP09gCbMc+IFEPYGqOLGtKWZjvZuGwz8cQtImxpIURiYNYi6uX9jF2APg+Z4nwWCeR9clnkm0Xkqon0CjOoL/MvmmISPf0tRp1ECDgM95gIPcwC7fovsvC9No0OfTxteAf5pgPJtWUZv6mrMMsYCk1mXXSzH7QawfT2QzajUwvftlcT8L17VbJp2TDx+NpBP6Yd4AzqzD3AmP7Hjz99P8ng5YB3rltgk4op+J8vSot6AlhhXthhyuwkCvxmL8zWjOIN30h/fzHYo0q0/igRuRtOdWdDwZAGdwwo8dADni9RA9XRR9Abcw23v1IhDN4UnJ9Zh09HVcJvrhAMN6bCi91O6QgKOjEWjhhPhlb8+wrq4gm00ZrGxRYbqw7Cwa3Gz6cI85qF5zUNIaWPPsEbl0GrJLrgWiH6Fp6k9BWun1InmgIP+mojb7XaghdFZKaVkaIblHfrg+3VB+Kl7/KIrmjVW2al9jINHg/Hd1Dy6c6Dsev3iBcKS2MM+wZy3opUiQQh8kww5UrLXMYhdkW7oXyQQm5vuRJaGJ6FjwAk8hAPni6BGpIagxYvrJ+CZpwv65WevZKXYZq2Alj3y4P6i+bB4g0+et2TC3kwVbOZNUIU1JGIwwSL8KrDqLp3Bv0AAO+E7/G7cBGAfH6NoXtNRPAaeHgOmLABctjA5nci4dkCBFcBU5TXOUGBoVY4+/qYzY6EO7OynO7P87nQ224EBdBiv+Qw4ZQk6ohQsn7ZsKMh81N3nB2Df/4CvJgGLCwA7pyq3csCFoUA71mFzS+CH8kC/o8D1A7SXp7hFU+AJHVZW2jGbZeSaSXty6i4D/EB7qtNORVJXAf4sB7TpEHlEFHqQaehcuL4Kjkz3kuU4beVGemCgC8v14Tal7mg6MZb1muVETCcoR6JL3jbAVn4U8RlHPbT3zyr8wUu973SgJHHZvBFYP4BOkvVOjJIwDiv0BIa124/GHi8xuqgGZwZXQqsxdXBpIs9+IpDgE9uwP7ML9hdSqhuK0/tPImvVEcj+4gmepsoKx6RsSC+u44RnHnTplz8O04K2yFqhJXrkuY9F8y12UzoEUleeAPdbVTG25zI4jlqKHu9IwpWkWHes2zkCOZUrx6LYwD5ZcvI0mxN25kojjyLK3ZfC9JLg8orOwSMN8tzawE7pDfwf/gsP77bYu6oNdNEctbfw944A/NAgDm0m1Bun9t9D7trlI48ebRgTP00gXryUyNUIPoFt+zPDZX8hHcdY6On9OJm1KkZkf4EnT1Mhq6M97q8ehukvSyCQt7E7Tz/Br3ljBDiy/th+aQMQaMtb5c9dHgA/PQQ8q0QGwj4fp/XopLrxzj/gJQc+brE7K0WD3xlgwhg6nxx0Sjs5gsnAnYHsnA8AmTvRIRmKCfMF3lynw6KD0Am7g45zOJpiPkVSKvd7wUAyOrYuirNSJCXQ/ms6Utr8FR3G5cx0Tm8VAr7KaIkOi6RuqPKDwV72J184cOCiXF88foxNaGVOblNsswGd6XDu639a/PtwHpB9uN5ZKYnSsgwfpZz4Cm3Z2p+js0PUmYuOkjiEF4+srEBHYBpvEJQWn4z1ToySMFejvEJAqCNyZ1dq6YCcX2XCmxevEk19w7288OKbQsjHBorX57BtbwBKVSyIq4sXgbFoob2/GsPcDuLx0kr4Zshtc/14gtTFLmsNjJpTHxfGzYXn+3AKcbDSockwfLOyPdY+M8nEKcG2C7/E4Oa82hJYgk/ux9nCzdGrYT3Ud2mFbsOnYvHcPviOd3U6ef0A97x5i2ulaL2PYdX8Uej00yycD4uSKenXKJL3FR7ci3Ig3AteL75BIX1DwLltexFQqiIKXl2MRUpD4Kx/WIkOmNYxDZ49z4IcmQyXh88fqJPKDjY2NlE+dkjffGOUwi3/1Ny5jUc5eYv+mcvhVhxxLAMMfiICDV6fdl5AtU2AK5uCVnE8VkjmKsDcP9jZjjA4KyUPJ3hKV+B0GUdbu3frP/vZSc80OiujXjM9YAg79WW3DQnowFbd5GgnO1CmNG2jEzXq272f02gzjYosfPNuMSNHK3fCDcfpOE6e4WN0C8mNuzMWA7wOG3/pv73uGX7zppKUgHqh3mf+hu0YvsLPAvSBuODB0eI2YA6dH/3qpycJs5QjWC5MrSG581aU+vXKSq48dWXO1XdfS5ZQqwTDby8WlzKuMmPVIpk0zE16fJ9fag4cL/2nHCSjFVfu3LwqN0KCZVc9SOG5Rg6tJ7KgtgPJ2yPzPPEMi226ZrLBdIXh44lSLEdfuWBulV00gEPk1JBGMjy+JFzBx2WiS0FSGzpK+WrVpHr9EbLbP2oh/rLHraHUqpZHkiTNLzW+/16+r1VPeqy6E2nVnO/OnyUnUolTjSbSpIaTpEJ26bjtaVRlJr8DZF716vKHad3fHg2UhY2bylqzS53C5OwvueXrAefNrjB8emSpTHYbKYvOx3G92Jsd0iRPc/k7+K0Rho1w8RycQ3IMuEa2LhMhX9lilzLiOmOVLJo0TNx6fC/5aw6U8f2nyEGTFaRhlzpLyizD5d7bVZgmOmLcfCwTi+WQvhYagt8CZ8na/mCMGv7zB9lWv7AXuRrpxETUOoCXn3JIw9V+1iz42zuSKw0ZYO7HRiILuALPVAIIdfVyIh2HiAzsKFKJ25sM14rHIpGGuURSVxJp1lxkjrshJ5tgsx+46rA1jzcUqV1dZPwxwzG2keH8/QN1jRwo4sK83TbxWIjIjJIiNpVFrrDbC6Gu7KAOg87n20Sq1hQZzNWMXVpQfxGRfENFfNi+1vQRaVCPeZm+bgORzvNFf41Q54A8IplKi7RuLOKURqQI66pI2GWRytTRs5dIncoiKZh35GkeiEnfE+opK9KVdndgvWp9RdzKi7iznBAPke7clzy1SNNmtGGOSDDVJUZhVRNOgh5fEXf3q+JtttOKezkJ5bB0JWsC5LGXj9K2KIHy+K535GWkYZekc8osMjzuvZRInBwWi3/zXJ6b7fR1xn3YP+Ev5ObRbbL16E3zy9ojWeMr06vVlhVG2wMOyLimP0r9+vX5qSN52HPkq6ts8/NjK5l2UkHbX86sdJP6vIKd2qyQs4YO463aoAMybepheTT5S0nSlleOTgJkXfN0whtuZU4v4mOfSlyW+73NKhYdFq/dm2OkWKGR4hmtY9RIwGMv8dE3BAl8fDdae308Krsk++msWecaUXjkLY3vSVk2tqeUJ2lm4fZuMm9/FOJMzWOZV8VJep4yFBw5+2fzy3ecSGl2yh9M2InfpuPwYIdtlbyhQ6HzC4ghsf9tkeNsqnE6k+wTPc7xaqA9cRG/ayLb99G5RS2MdnrQBn7FSe7QhnsxVS5O2j584gR1WAltfoI6rNiMezxKsif7Sc7GaWBI1uSTy2Rsz/KSHIWlvds82R+N+je2gj+V4xp5fqiPfFt1RjxGHrHV8Y2sK0d25E3Gyy9EtnXKJZnSpZN0pp9M2aX1OpOrLQaHpXQ5u9uUlPb7rL17ChPvq9fkieapzCqcTBrtj9pDxFaHmI+HeAyXyj8uk8dx7LBi1qoeTWgELi4VSceRRnc3ketx6gsS2hJVnzkEPnuHFeZ9Va490cjTWYUlWaP9cbtrMofof2qfRu6s+FmqVqogFSpUkKrNx8l+7/fQ44adkiY2uWWWNXNABnw1T4/LsnHNJBdyS/NxK+Skrxm7/PdLv+87/r+98wBr6uzi+J+IOBDrAlHqVhx1ttq6cNS9KrhX3RYVa7W1VtE6cNW6R7UVxYmjiqPOT1FUxF23oFUcIENRAQFlJe93EhJMQoAQAoKc93lC7njn717uyTvu+Ys9dH3TDQlXxIQKNqL9mJ6iq9Ne4xqWCC8xqcNQsfOj/TGTLt1cE+EdjYjf86PP0wz2oHJNC3N3RXO0vEiDBg3g5uYG+XfWhERcnVgV9r6d0dhMgoHrVsKhjI5Z2KwpnHNNvIfdmwLRtMYGVOpfF08CndN9lySj0GRh3vD4l0QpO1bMaFKjxX99dg8uVXBApwo0W86BCTABgwnI183l4WCKhsue4FkeJvBBmy57iXveu/GvX23s9plidGMlb5vE0o6M1QdtJUq06IVOH7YKXDoT+CgI5HGD9VFcw9zbCLPm+HVz89xbf645E2AC2UqAx7+yFTcXxgSYABNgAoYSYINlKDlOxwSYABNgAtlKgA1WtuLmwpgAE2ACTMBQAmywDCXH6ZgAE2ACTCBbCbDBymrcKp9fWVxOjlIsJf+Ey8lXHAcmwASYgDEJsMEyJk0deY2ndZhTyPN0pkI8cON2GjmQA8wRVoArOdnMCcG7L/BnDvX2nBP4cB2YABMwjAAvazeMm96ppvtS1PQEfdLLLZTE1v4gQbU/oZDFSBGdruJ8H1JCyAlGIoq0gLxJWO5EilryASbABJhApgjk+R7WldWkbDqKlEO/I0mDPoBDN9omV/yKEENDWyNJ7mYxcJo+vXsA/X5Xnosg0bPPSeWzHPBpKWCgusoEDQOupzzbtwcGkUJo72nKNPQVRK79e3QmYbr+lGY4cI4e8KogVxitVoWkF0hz5xP67kgaP6De2XzKw2Mrld0b6DuIBNteq1LQN6VfOBgYPIZkC0gKQT1EnCIlVup5laM6liKtod3BSWeDqK4dRpDSKdWjw9dUz6mkaKqeMJ1tuSKsN8k/6Ap3iKNsEUl059N1lo8xASbABDJBICd7lsoW57fkb7UdeVScc1dJgnyljm8lxHGV71OSO/iczn+/W+G9X8QqfamurUPyAuRFWREorlNxIaY8Uu6rf1H6tiRXIA/S+yR3QFICKpdycdeEaOog92dOfstOkpTAV+SVWRFTiAh3Iax6K3fIr1lPR6XsgPKQ9tdekkNYp+YXVp5pnUJCnFD654u7LkTxT4VQVJHa0NJGCC9l/OMkrzA7RDvHlPsJd4TYeFCIvZOF2EyeojcRE/Ui5a6jaxIrLxW7lFnwESbABJiAwQTyfA9Lbut1KYweC3z/KyCFEif1ZBa9oHmatso4ZsAC6gVtpV5QWuHtMeAkzUWN7AJ0Il893Z1JsfQZyWrTHJROhdG/08ot7XOxB0kynOaS2lokxTMjddHxJNSxVdmjs2kFNFYOVZYvQx056k2mFxSKsAnU9pX0WUPy4001RzvJFSCe/UTKq8SDAxNgAkzA2ATYYBHR1BRGU4Wdn4bayGgdomFBVbhCw2/lG6n2dH8X/BJoRkNw+5QKqHLl0nuXyXDQHFSaCqMkv52uRKlWkfnJX3DsOSC5irRw4xTtNJLLgBsaqJ6pKsJS/gOXkVLrXEMz53RMgAkwgbQJ0COIQwnq8bybRXNL1Mt49wZoTg/dziSxHX8LmEjHPTxpOxoo1pykpcdRj4zmZ7buormr4rQyz4EWO/xL80d1gcB0PJyaNgbmHAJad6VeCM1/hd0G7lLv5ij1Vor9Qiv9agKW3jR3VZ6kt2nRQoEfgFsudH1KkzF8ADhOBvL/Bzy0AdxW0TH6ufF4BzCJ6nLvH6o7zW0dpXOzKL+6tYFdVN/i1jQvR9//7qNjm6hnR72ff/8Atm8n4zkVGFuNFnNQT27XJ8CSmVRWOqHiUGA2xTWxA2KIkSpE0FzghQGAl9ox1Tn+ZgJMgAkYg0AelxchhNRT6jeQFkl4aA5v6QWXFlfc8iJDUQv4qmwqKZ4CX0+i3s3u9+dl1NO5eheo0IhskdbwWbgfLcQIovxaAFZa50LvAC9LArXJyOkbpGFkRK4CtVrTApEsNCZzG9LCDmIxWjkEqW/9OB4TYAJMQF8Ced5g3dxIvR3qyQyYSHM8vwLVjdHnJEO2fRoZqWDgIg37dTpIcz7Uu+LABJgAE2AChhMwxuPZ8NJzQMrqNDx3sQlVpDBQyVg0aMiwoyPQII56NWQQP6F9DkyACTABJpA5AsZ6RGeuFh8wdUFL6lXRx9ihRCWghLEz5fyYABNgAnmYAK8SzMMXn5vOBJgAE8hNBNhgKa6WDE89j+I6LcDg8HERiPBZiTk7Hn2gRkXgzNrl+F+I7AOVz8UygY+LQJ43WPGXVmDCIi9c3eOBM7e24udZez+uK2zE1sjiYxGXaMQMszgrqd8S9J8Zga49KmdxSallXwwt+1TGfqdZuPg2tTh8nAkwAX0J5Pk5LLNGQzDo8kj02+BB70UVh/vOefqy+0DxohB41x8vYmkpIoV8poVRsrItyllk9cqOOBztVwjOLaNw84ciH6jtGShW9ggrhm1DPderaJCZl6UzUKTOqCW7Yqb9JvSbfwPH59aH1psKOpPwQSbABHQTyPMGK/7Kn1h8rSkmDC2Fl3YybFj8D7qu6KWblpGOxt0/jcsF7WBXwQAjE+ePkxunYfqGILQd2BxFRDzCH9/FoyL98NfW71E3yx7O+VC97wyMrpA7HrnxF+ZjmWwoLn1mAGMjXeekbCSw7jsWFeu64OCUveiZC2y9UZvPmTEBYxIw2AuhVsJYP3fxffsGolbdpqLv797itVQrggG7xnJ+G/vsvNiz86TwV3pqlb64JPYeviuik+uUKG65/iGOKR3FJh/Oko0o4THCQSx6mGh47rGHxIBOc8TTZMZSEbC2o2g958H7PKVx4l1MjIiJVZYjjRBBQeEiOYkqZmKUeORzUBz09hcRuqokzyc6SkRFJX2io2NFgiptjv2OE+dGfCJsZwdotTdWPDu/R+w86a902isVLy7tFYfvvr8TsqZJMWJPd0vRbZfSc3LWFMK5MoGPnoBx5rCk/2H5sFl4OWQHLp5fhy+PjsGU0zljBYMscC8WuwXD+tE0NJ9wCuTyDuFHZqJXTxd40ntSSSEf6owciw7Z4KUh9upSbMs3CEMqGfOXvwRlG1aHeBSobI8ML47Ow5C+X6CKgztuuzuhU9thmDTOHk1GeyRLibw+7IgKpqXRcbobNs7shE/NymHkP+QaIznIELznF/Tq4QAHB/nnG9Qq2RpuMckRcujGK3h5v8Xnzazw/gaXIXDvYrgFW+PRtOaYcEpxJ+DIzF7o6eKZxe0oiC8alMSV0+TriwMTYAIGEzDOkGDCHfwbWJcebNVhUVCGXp0s0O4o+RH6mvz1fNAghe/hp6jz/Si8HD0c5hWLKx5gJQfOxy/7tsBS7lQ220IcAk4swi/rBMb/aQ/L90/STNZAhii/PZg6/hparFiozEsCqy6zsauVFZoXmYTxtTdjh2cnWKuXGb4VXXrexbwXMRikeg/t9S60tumKjUGXMEzxEhkZwj7LcKiPqorRWNvWXrWj9R2P039sQOFRY/CljlFDWbAX1i7eAu8oK9StVhIi5hUi89dBX6cB+KK4esW0sjVkN/4h/ANLwqas2u0t9cXhp3Xw/aiXGD3cHBUVZZbEwPm/YN8WFQB5YfHw9diLyLb90IR8JuodIm9j74lotOrVRMf7dxJY2ljh+QX5akV2eaI3U47IBLQIqP1Ha53JyK5ZA9hV/QGrXXahZLOX2LT+AsKavcpIDlkUNx9qj56I2tF70fuINXr71FUq9tIDvVlL1FV7sMb7emBvZFv0y9BTimQ5bu/FiehW6NUk7deEo864oIfDfATU6IYExz5YnV6LTSQo0cYZ60bX1xkz4eYa9GvnhcImpjC3aYyBG46gT82UE1hFO/6OHb93gvazN2bPfPgPOYj+6s/qEn2xafgPaL8zBsPGmussN/WDCXjg5QWLYboNlqSsHRrnc8RfZf+B++QayAcZQv9qh5r9EnDv6DCUNqbNEjGIflcA5Qqr/SLJVxujJ9ZG9N7eOGLdGz51lbe+xArNWpLn4uQQhSf+IbBon3wgnQ1qh89OeJx1x4zVtjjpQAZLR+fZpGABiNicMeqQToP4NBPIsQSMY7AklTB2lztMFqyDq0dFtOrcBFdMyUtrDglxZ8ioWHWHc82kJ0mirxfeVhyqoVwf9cQfIfo/pUhWNxQ+Oz1w1n0GVtuehAMZLB3PqWQCFi3n4dLD1nAZtxFWM93gVCelcUmOrMdG/npjsfPQdIXH9tSjm8C0QEHk1xmBHuY6Xg+SUCNkSQsQdaYy+KAsGKfOxqLposrJnN5GRCAhvylMjWms5BU0KY5iRaMRESm0qhuHM3tPwIqEyJJuhUT4er1FxaHKlRDklfiejx8qO05EDb2Hh2lRRbMBcKr8FK5rX2iV935XFhUNSdGi7w/wFhNgAhkmYKRHxWt4bjoBy/GbsdPtJ5QIeoXPm1bPcGWyKkF8SDAiK1ZHNbl5lgXCY3cC7LoUUxYnQ8Q9b/hVdsREO72fUoDEGs0GOGFo83LJD+D06p/Pui1mruqG63NWwy8rjEJ6FVA7b97LGdW2DsUO9SkrGhIcvO5T/NIvo70rtYxT23zjhZM3i0Ly8G9s2+yKVfN+wfzAwTi+7VsoftrIHuLwgeuppdZ9PD4EF45cQKi24TWrijpV3iDwSYJWuniEBEeiYvVqip62LNADuxPsoLgVZE/h7jyDHBa7wa7aFPhr56mVU8Z2pXjkH4TyNUk/hgMTYAIGEzBOD4sGnCpZXEbb9u2wo9pL/Gc6EXu6ZeDhb3D19Uto3skRQ1y3YdGOYqjw7C7Q9UfYkbNbeRfjqbszlkQ2QPTMnjh0MRS/VTGSDU+lapIyPTCySn+4X/sBcxsZgD/OBwv6Tcaeoy/xWD4kaN4Uk7bMQUeV/VWUG4H/zRyOZedu4tQ5M3TvsBESEzNU+3YlVg6slLQQofggHPTwRgMrC8xp2xF1cQvHPGPQl4zGSPVhwlTakdHDsec9caV2Pyxz6IqyEjOYf1JYOTyrzOltIJ6EFNI7W1mIN7b/vRUL5r/BooAm6KzRYS2G9u2tsdj7MaTf1FT7QWGOTo5D4LptEXYUq4CkW8FO7vcYSExAg+GLUcW/J5xKf4FSytvg+V+dUGXsMcRoGzBJMfTd+Qw7e+tj3N/gwpV4tJpVVe/2cUQmwAR0EDDeOkipiHh0TVzxeyHijJSpsZa1K6qTEC4C7j8RrzXWZMeJB3fvi7jYI6IraovVEcqKh/4pOppL5ONJWh+JKNb3b43WBc+vJ8pNuC50rQjXiKi+8+6leJnVK6nVy0trOzFCPDh7QOw/+0D3snaNtK/Ekq87is066x4t1vXsLXboXLmdIK78VElUnXRN55L4F2fcxMIZvwrXa+80Skt3591B0atyP3E4NmVM6YPZot5nvwo/HRcmITxA3H/yWkddEsStUYVF6WlPtJbDp8w/xZHg+aJeuQniuo7ypMFrRCvbceKCsf4xUhTOB5hA3iBgxO6EBJ9UaoCGNSxz5tv8psVQzrYCimt0asxQtZYtJP/tw6nS3dFV1Sks7Yij0VLQLaD1kSJ8Z28dZj+DhwqWREl9fphnMFuDouf7BFXtvkF3u6rpyKDI8Oq0C9xFe7RUdYSiT2Fun+745ptv6NMbv3nswaze8m36dB+EJRfkS8cjcGXbHLjsfAzJ89u4EaFVy7ensOVyZQwy34ixy/9TnozGrv7Fkd/EBCbqn/wWcNgcrpWB7l1J1R/x2+dHsJDmqLSDabFysK1QXLOHp4gUBo8jUnS2t1FbDq+dWntfhtcXNmHO/IO4H+iJFS5rcTJIvTsWjzt/7ELRqc46V09q58b7TIAJpEEgJ9tCIYdmAAAsCklEQVRlo/aw0mho8EwbUWDYFR2/uNNIJH0lzm90EeOaFBSoPVTMWOMpnqV4KzeN9LnilFQ82vydaG3XTDRr1ky07jdHeIZkRSPfiZ2NIew8VD2sOHFgZEVRqlgxUUz9U8pGDNqpfPtbzi+NHpYCb7inmNh+hNgTmk6dE0LEXd9QIX2xQtQu0EN4GrEnFOE1SXQYuvMjvDdyxQ3MlfzICORhxeFEhPo+gEmNUthVrxzOLH8DjzZq69zTMPJ8ysgEEi+it9kA2EU+wnhVLzedImRhPtjy1yrM/vUyGs+ZhfFjB6FJiZQDBrIwb3j8Ww69O1ZMNcfEqxNR1d4XnRubQTJwHVY6lMlADyvVbOnEa5zdcwkVHDrBEC9caeXM55hAXiSQdw1W4lVMrGoP386NYSYZiHUrHVAm5fMuL94T2dfmxHvYvSkQTWtsQKX+dfEk0Blls690LokJMIFcRkBjRieX1T1z1TVtiGVPnmUuD06dOQKyl7jnvRv/+tXGbp8pbKwyR5NTM4GPnkDeNVgf/aXNBQ00a45fNzfPBRXlKjIBJpATCPAgWE64CnmgDrKnnjjKks554EpzE5lA1hFgg5V1bD/enBODcGrrQdzTR304/hJWTFgEr6t74HHmFrb+PAt7X6gv+844JlnoGWzecTXZ63zGc+AUTIAJ5EYCPCSY3VctMgC3H4chXuGaKR8KWlbBZ+X1XBqX3XXVVV68Hzb8vA5mTgvxtT53j1kjDBl0GSP7bYBH2G0Ud9+JeVaZ+50ksbZD5zILMXt5IuZOaKzhE1JXlfkYE2ACHweBzD05Pg4GGWxFHO6f9sZTA30BRvsewWa3dRjfth1+Wu+GTSfuI/f48H6Liy7jcLzBzxhoq+crAPFX8Ofia2g6YSgcJzpCtmExNCS3Mkg/KTrJdbQaD/unM/AjZZa5/ppBFeBETIAJfAgChr5XJg3ZIoaN3Z2s2isNPSamtK4oLC0ri7YzvMTLdN7V1KdcY704/O6ZDykOe4qHau+cxgX7iwCdLobSqVmUhxjhsEhkRjBYkN7t2s6dxUadbozUyn8XJK57eYrzD19ruQpKFLFyNeF3cWrHEzUVhlXZxL0Qft7HhOelxyIixTWRirh3lE9MrNK1FLnXCgoS4SniJWUmfbpafG3dQ2xXV2Z+90z47NkpPDXhCn8tuIm3XMUfRpZ0Trg0SdSsNVlcMuKLvips/M0EmEDOI2BADysOF5b1R6vGo7DxYYTy120svCb1w/bPd5FX6s2ourYLvj+ZLOf7Iexwcplyj9xLt8eg6lNnNFMqDkN6G7NbNcR074z2bWJxdek25Bs0BEYVDE6urXJD9hx/O7VE085OWLV3N5YObYwGI/ZBJV4hvb8Z/cubo1Ln6dgfnNS/iDw5H/3qlcSnPTcqPcEn4p5rP9Sr3wMz3I9h38qRsKvZEQuuxCSXJntxFPOG9MUXVRzgftsdTp3aYtikcbBvMhoeKTwgke7T/l04W6ExmqrcSsk93y/djpiqT+HcbAIUIr6Q4vbsVmg43Vuj55ivzkiMNbKks2ntJqgbtBNbL8ldQHFgAkzgoyeQcRsqFW+e3Rd394wQtp1dheLHdtw5MbxIFTHjqfyneaK4+1NZUWLMlYxnrZUi8z2sRHFrzRKxPzxa7O9TRFSbekvRk5AGLxNfSVoL11daBcbdFXt2nBcqH7gaZ2OfiuNz+oles4zRe9Szh5VcgddiRcs2Yp1aj/DdyVGi2aiTQuXMSCT6iXn2I8RBZS8y4cZU0bDp78JPzdmvNGir6FRnhDij0SOJFqubQVi2+lkc0Xa7FHFCzJv2t1BcVhErjg4vJSSdNib3qhNvrRFL9oeL6P19RJFqU8UtueNXabBY9pVEtE4BN7kxxtuI8xbflyOXTiuCjZcn58QEmECOJaDPtLmW0ZbAwsYWtjbF3gsDUo/g+VtLfKl0jWNjUwqvvUO10n2I3XyoM+ZH1JErDh8qDYfzSVIT0V4nca1OW7TRkOSg+kU9gX+IBVKKzUbhjEsPOMwPQI1uCXDsk65eMEwkJdDGeQ1G19cTcdwj+AZaoVZVuZhgFG5um4XZrnKtpwIwt7DA88sRGKamR1iw1TT0XjwGrgGt8H15CWL+twxXvpiEXxRahDIE7dyGq1FNMXfoIMpPFaSI8D8Gt6tr0KKp2hxU0Y74fcfv6KQtS1zIBnUaFMMnin64QHRUDPIXKpQs15Gvzhj8WCcae3sfQmmH80miiNGke3WtDtqmgEvi8wapOkfiNokuRrfqRa6XVO1QfkvMUYS0QaIiI+lAGa2TvMsEmMDHRkDPp2k6zSaF1+IFY/FWuRDhbUwcipbQfrqkk0cWno71OQBPS3t4fiZvbjwuep6HdevpsIkIxYsi1rCiZ7cs4h58/CrTwoAaSLlmzwIt513Cw9YuGLfRCjPdnJBJweAUrZU+XIdJK7rgyLpm+G/pNxhwdQh2HViE2sXIWsheY02LHlRztSCpAMdJ5dDht3MYtfpT/OkmxZANcul5eZCgYJHisO0wFpMGaqnc/jwTVlXVjBXFNjEtgII6ZIll74B8CZGIoFHHTyQSlCpVAnEPoxRDfQUV5dCfWB8c8LSEvednCu/n8Rc9cd66NabbRCD0RRFYy+EqQ0ZVnWWhPtjpcRbuM1bD9qQDGSwtTWfZG0RGm6B4qZyjbq1qK38zASZgfAIGzGHpqESBWviy5iP4nJPPCUXj3PkA1G6UcxSHEwMCEFHtM1SX26u3V3HgeBQaNq+Fu+tdcZoeyrKn7nCecQrBbnaoNsU/lVVn+WDddiZWdbuOOav9aKYmq0I8rnkmoM+iwUnGioqJf3IcR29EKcS51Est2MoZPZ4uxtqdi3G+7o/optZDshz6PSqf/BtvqtUHDa0mf6paEAQNsUP1HNW3ExF0fQmG91+DuwrhXjPUb94IFiEBCFRvfGIAAiKq4bMkuLh64DiiGjZHrbvr4SqHqwiGqTpLrJthgNNQNC+nZahU1UwIRcibGmjcuLjqCH8zASbwERMwTg8LpTF4wQAs7tMAnb5MxPmHjvhnYM751VuozSDYrz8GV3cp4nwDIT6rguhLK7HNsjlm00M+MawBhi+uAv+eTij9Rak0PHVLUKbHSFTp745rP8yFIYLBUZ4zMei3M7hx8gzydWmDraqfDG9uw79eF7rVCqLD2FpY8HVr3G9XDwWe3qRFFPVQpew1zO8yHp/uWo7e1spE8l7WT1ao0vM1lj+qlTxUJ79fJTbDsXn+VPRu+DkKf2WHWoXCcP/WddyT9IbbUReUpaHDiP/NxPBl53Dz1DmYde+AjRITmFX7FitXDkQliSnKNWqMyoWPJd/+xb4Zjb4zF8E7TIY6qjoUaoNB9utxzNUd0jhfBIrPUCX6ElZus0RzOdwsVHWOu+iFW7UHY0FdI93GyS3lDSbABHIkAWPOrsW99BOXLt8X4TpUVw0pJ/OLLtRKlUaJ4IDnSjXkaBH8OERorCpPuCVGFS4tpj1JZU23WlbvXr5MXnigdtiomwmv7omzx7zEjaDkZRU68393+nth/+vN1BWPpdHi2fVTwvOCv45l7TqzfH8w2lU0KdxTTdFXKkJ2jxAOLte1tMOkIio4QDxXLuaIDn4sQpLh6lZ1Dv2zozCXaCs6076kmOj7t9rqEhEs5tcrJyZoS/nS4o5tg9oJZx/1uO+rzltMgAl8fASM+tPUrGQNfJlzOlaaPxAkRVCmnGJFAh03R5mKqrXZymhhHjgi7Yz9Nqouj2Zy9b2CJbO+kaYlqsOuQzrDqrIguK15gz5r62r0rtTrClqYYFO/NWw0Dhq6I4F1r2X45Y85WHzCGpPbWSt7oxIUKVMu2eOEeZmKRFgVklSdE28vVqg6r1ZOEJZ2PIpoR1WcjH7H4MampbjX7S/MTl5jn9E8OD4TYAK5jUD6T+fc1qIM1jcx1Bd+z2UI2+2Bl10GIjeMLslC9mGyfSd07Pwttj59jK2T1uK2+rxSBhmkGl1IIYqWQAkT9RgW+MrJBT1M/PBQH1+CyqRhHkcg7WwPPX4PJBcme30Bm+bMx8H7gfBc4YK1J4MU52TPffGm4XTM6VNJh8x9cnLeYAJM4CMjkHcFHBUXMhFXJ1aFvW9nNDaTYOC6lXBgFUciE4+zzvZYm2gNqdkobJvbBO/X+mXkP4BVnTNCi+MyASaQNgGjDgmmXVROPGuKhsue4FlOrNoHrZMZWszdhZrh+WFZMnkBe8ZrlHgDC6lXpVB1brkD61obZvYyXjCnYAJM4GMkkMcN1sd4SY3UJokFGatM5qVUdZZrYf3vdXNw5zWTPDk5E8jjBPL8HFYev/6GNV9fPSyja2GRP8Mzm7Hjarhh9eZUTIAJ5GoC3MPK7suXl/SwjK6FRasU7TqjzMLZWJ44FxMaq1Z9ZvdF5PKYABP4EAS4h5Vh6qyHpbceVlZoYUks0Wq8PZ7O+JF0tVgJK8O3LydgArmZgKGvlmnrYSnykYaILcPGit1GepfTWC8Oxz47T3pYJ4W/0pO59MUlsffwXcNe/mU9LE09rNhn4jzpYZ18D1dc2ntY3FW7B4yvhZUgLk2qKWpNvqR8EdzQu5jTMQEmkJsIGNDD0qWHBcRdWIb+rRpj1MaHCmepOcWIywL3YrFbMKwfTUNzpR5W+JGZ6NXTBZ4ZluxiPSxtPay9i90QbP0I05or9bDCj2Bmr55wUYNrfC0sU9RuUpc80m8FS2HllP80rgcTyAYCGbeuOvSwKBPpm2fi/t09YoRtZ+Gqrkib8QKSU2S+h5Uobq9dKg6ER4n9fYuKqr9cS3IplHBNTO0+Qfio6ULFUd13nNephJVUH9bDSqmHdXutWHogXETt7yuKVv1FXFNobyWIa1O7iwnqcJOvqPE24ry/F+VgJ1YEp+9Ky3ilck5MgAl8SAIGLLrQoYdFhlViYQNbWxsU0yFTkQ12N5Ui8qH26ImoLdfDOmKN3j51lZ4RJLBq1hJ11V4LSlv6gvWwQG7+Uuhh1R6NibXlelhHYN3bJ9lLiMSqGVqqw6UXkX099iKybT80UfMon8pFe3848jb2nohGq15NoC1WIzEvgsKkGxYZSSJhLIX1nhlvMYGPmIABBiv30Yg7sxcnrLrDuWaSTEWirxfeVhyq9H0nl77wgV9lR0yskVIJK6m1rIeVqh5W3BkyKlbo7pwkjolEX3i9rYihGgv4ovDEPwQW7fW9d2j5us9OeJx1x4zVtjjpQAZLS2FE9iYS0aTDVqqk1gl9i+B4TIAJ5DoCBsxh5bo2Ij4kGJEVq6Oa3DzLAuGxOwF2XeRywzI8dXfGjFPBcLOrhin+aa06Yz0snXpY8SEIjqyI6klwEeixGwl2XZAs5iyLwD1vP1R2nAi71H4PpLilaPl6swFwGtocqUthheBNjcZgKawU8PgAE/hoCeSJHpZ5J0cMcd2GRTuKocKzu0DXH2FH0uqkhIWEBsOxuIo/ejqVxhel0rPfrIeVQg/LvBMch7hi26IdKFbhGe6iK35MgitXxoS78xJENojGzJ6HcDH0N1RJD7Fe/2pxuOh1C7UHL0gehtQrGUdiAkwgdxP4kBNo6ZWd+UUXaiUkhIuA+0/Ea8XCALXjtJlwa5QoXHqa0EMKS5GQ9bC09bASRHjAffFEG27cA3H3fpyIPdJVoPZqkbSkJVT82dFckN2iySfNj6RYX6EphTVf1Cs3QaSUwtomBrVzFiyFpXkf8x4T+NgJ5IkeluInhWkxlLNNHqjS+JWRJH2xX2/pC9bD0tbDMkWxcrbvhwFVdM2qopZtIm4vPoXS3VcjaUSwNByPRsNwKawb2LT0Hrr9NRsshaUCzd9MIG8QMMoATe5EJZe+8MNzWRh2e7xEl4GqFYQ5vzW5Sw8rDB5HpOhsb6MUe9SHrwyvL2zCnPkHcT/QEytc1uJkkHx+UYbnvm/QcPoc9KmUd35r6UOM4zCBvEAg7+phJV7FxKpK6QvJQKxb6cDexJPveCPoYSWGwveBCWqU2oV65c5g+RsPtFF7jSC5KN5gAkyACehJIO/+TFVKX+jJKY9Fy7weVuKNhdSr8kXnxmZouWMdWAorj91C3FwmkAUE8q7BygKYH1WWmdTDMm24DE+efVREuDFMgAl8YAJ5x2BJH+Lg0jXYsG0nrhZogYGda8FcIsXbyJd48dwEDce5YHTjEhmYZ8nklZNrSu24hrL9u6FGrrwKcm2qrfAy/wb9GxbPJAxOzgSYABNIn0CufFSm3ywdMfJVRbeJA3Fx82qE9pyL+b9UhcpHQtx/rujboR1CdvhgTuNMSMLrKFbnoXg/bPh5HcycFuLrXHsFWJtK57Xlg0yACWQZgTy1SlAW7A3vB5Vg17J8srGSky1gOwzOfd5h1dzttGowPdaZ08MC3uKiyzjorSmVXnU+5HnWpvqQ9DXK3rEceKpxxPg7snT/N4xfJuf4YQiE7QA2ZvUNZUDTDDZYstCtGO60BzHKQqWB/8DZvhnq166H1iNdceOtAbXJ4iRvzp7FjU+aoEV97eVqJihVqhhibv8L34R0KhF9GItWXiIfGYYFWcBGTNtQDPY9y6oNP8Yh6IIHdp16hGhFtjKEXd6HI74quoaVpXeq2CCc99iFk/5JpSvSkculR4F6lG/eHP3rncPUxVfJxS2HD0Eg3hsY8CdQ2tDCo4Atc4FZswCXBcC+m/IXCLQC3fAjrABXXf/XYcC8IUCvXkDf4cDF2Pdpw04AQ/rSud7AcDKqHFISiL8H3Fb710sZI5uP0D9y3wFAYYNvqKyrrwEGS4celuwFNjmOxbUOG3Hx4j44JSzGd8voKuSoQO58Tl+C9MsWaJpi1E+KgCdBEIUtUEQ1Tqiz7pnVw6J5n/27oKEpRY+GwL2L4RZsjUfTmmPCKfljPxxHZvZCTxdPnbUw6kG5b8Wl2xFT9Smcmyk1rSDF7dmt6H0nb6g9e1IplrWpUgGTbYf/7A/0/BtIcVvrWwN6o1tyDohqA3S2A8K2kPeyWdD8AUJD1/N9gD4Kl2aaGQeuBJ44AXv2ALvcAPVR9ZVrASd3OrcbcJugmY73kgiEbgb+eJhzaET9CXj3pB8ZBt9QWdcWAwxWftTuMxt/LhkEW7qJk0IcLO2mwHmALQoWqYjmX9kgPPiF6mTO+E68A+8LYahj1yKlRwapP3wuBaF4w8aomdwmqna8Lzx2XkCkvAVxATgxdxgWivGYb2+p1jvKSPMScOumH2QlLJHstlDqi8NP6+D7Di9x09ccpYrLL0lJDJz/CzqUsVTLXC7RsRMXFJVRO5zJTendQ3j62Sg0fUK9y6JWsJQbbPoBcvLkQ9S3+1LrIai7DqZWVigacBPXX6X4XZ7J2nHy9AhI7wA/Efb1dbViUo9ow3q6bbUOp7ZrSb2nig2Ahs2B75ZQb8oXWB6ijE09sIWDgcFjgPNav2DubKCe0yrqlc0AelNPavFZZRp5+WOBVf8AM8ig9h0GnFX2ImRBwM89AAd6KA4eCPxOxlIVYmh7ZEfK5wJ9RgI9utN52paHoAO035mMM+U3cDhwjuqlOE7GsMMIMox0rsPXQPup8p98ykC//xaTSkCV6oClOX1/Csx+lHQurXqokmt8E+dN3wLVGwNb/enMc2AqlffZN8BVKifN/FKpR+QpYLwr5UfGvDf1Qge5AK/VCj1Fx63KAuWo3tWJVbDyXFqc1JLr3pRfm/Wp3BtSuv4/AYvovPxRkOOCob6nEi78JD7r7Co0tRrfiDvbHEWjWt3FX746nPZlsDBj+hKUPl4qmpvZip8uqKk2KuuTcHOmqE/nJnrHaNbw5WGxcOlZauMbcdr5C2EOS/FFt56iZ8/0P716jxJrr2szeCd29y4kCvTYKd5pliSiPHoJC9up4lZi0omEG8vE7/ui1GK9FIcXLhVnNYEnn3+zq58omU+Swj8f3XBJxyT5Rc2ffZLja25ECY9ehUWVyTeSBC6j3EXX/PXEvEfa4oi665BwbaqojvrCxU9Zec3MeS8LCfxdU4iWXpoF3DkgxMGrQkyeLMTN40LsvqJ5XtfesW+FWKl2u71ZLsSgo5ox9w4SYp1aHNVZ3/FC/PJYtaf2TbfP+H5CPFa/jWh7VhshNjxTxqN/xylNhXAPf58uYp4QdDuJ3QFJx2JiSSD2vhBtugrxTJlX3DUhmjoIoUhG/7YtbYTwUtbtOJU5OyQp7Ul7Ib7a8j5v93pC9L5O+3rU430qta3XQnTpKESo8tDhb4WY9yT9/FKtByV9OkUIR3mdtEL4WiEKUf1V//LXnYT4lOKqgi5OqnOpfad3b7z7m9i3FCLlUzK1HLP3uHp/IlPGVBZ2CnO//QEHSw7GwhN/4OuyOcs+vzl3Fjdp/mqy9vwVDYlt+XU94r/biOlNCyczkEXcg49fZThOrKHwgddy3iU8bO2CcRutMNPNCXUKJEfNwIaE5spKIO5hlGKo7X2POw5n9p6AVXdnJEl2JcLX6y0qqkSl5BIdPkkSHalJdln02YGX9DEoxPrggKcl7D0/Uwhcxl/0xHnr1phuE4HQF0VgbUVzfmnUgbWpDKKe+USBwLBngF8rzazkPYD/lgIrfwciqec1o4XmeX323lHvJd/7G1SfJPrFoTmw/Sept0O9J+oYKULCK+DdPZqHo3orAj2VRqyiIalySbuF6X8t+hhw8jb1vroo49DXK0p3j3oL8mQ2rehbqcFWvgxwLCYp3prLwLRdSdvyvwNu0Ee+Qb29dOshj6cdigOTrKnHSXVZSt/r44DNFShSOvmlWg/t/NX2Dy6inul5KH1wAvUX0K/PmhSBvhVBByflmVS/0rs3nKkn/JMfQP/xOTJQk40QaAjJfdQYXOl5GD6jqubAxsrnry7T/NUczfmrt3fgNnYcdtdYg8Nz2qGEJImF7Kk7nJdEokH0TPQ8dBGhv1WhIUClHtbL7/DDaj/s+EkpWJghfGZQaEp5ByCQut7Fkm16PEKCI1GxdTWFwZAFemB3gh2mFqPMs0yiQ63iiQEIiKiGVtXlt8NbXD1wHFENV6DW3fVY/sARv/YKSVMmJCGUtanUaGbb5mkaIqq4kYaLtEo0LQkE0MPcw5OMAj3wStADP0OBhq+Wn6GH5aQMpdIvMhnBRs1oKHAf0Dwtg6j8X1RlWvBLoBkNv+1z0zFXR/VNLdQzAU4HA90qKmOQIXtCn4okYa1XPXRk3GI6LTKZBtyoRAtdflAalHTalWo9aCjWhNoqpeeBdmjwOS2COURHRySdib8CRJTXiqXFSetsit207o3408CyivTjQfuGSpHLBzxgaIdOY0jw3W5BE3TCvLS1sLaWf2zEV9NSG37Sv0RjDAkm3tsn5v80SHxZAqJ4s1FixuzZYvasGcL55/Fi1HAnsej4s6RhMLVqxT24K+7HxYojXSFqr45QO0ObcRfElB7TxGXt0T7NWKnvRR0TI6u2EX+EKMc2FDGl4tnOIeLLrjPE9j0bxO+zN4iLqqEXnRIdqWdv0JlEf7He/kvRZ+k24brAWcxwai9qtPtZzP3xd3FKXo806xArPB2riCYL7gkeEDSIvmGJaCysjKkQd1OBHqEcR3qjdfvqLIyGuYYWEqJcZyHsaQiqQyshfvV6H/PRdiF6dBeiFnkerURxHEbRUKPy/vdaQMNxRYQo1lqI7jREt/6OMh3dNwtoaK4IhGhNaR0chbijTBN1iob3Ggsxgoa3fh4hhB1te1B75OGmK8WtKISFnRB9Kf2qS0nH5X9PTROicRcaQvyV0lI9G49JGhK8upSGsahuf8jLprGsWTZC2MxKShd3WYjKVIdGPYXoSXkWzU9tu5l0Lq16JMVI/e9m4gAayvRX+zdOK7+06hHnRQyJ38/Eo3sLIcbuUoxYCvm8wdCSQpT+iupO5yUFhNjyIqlOaXFKvdZJZ1K7N5aUEWLA3fRSf9jzdClzbjCGwTK4dQm3xKjCpcU0HSJZmdPDkoqQ3SOEg4u2phTpcoUHiPtPXqcwoHRG3BpVWJSe9kQ+9J5FQSqiggPEc+XgdXTwYxGiMaWnuw7SYNamyqILkma2r+bQQ5jmOHJtoBvZn4zRTdVkkJ4NkZJhu3SO5pAyMslCRt33pBAnbumYmzGwHqlWN6380qoHtec28QjW+J9LKuUFGdgjFxX2K9ViM33ilRBfNHo/X5bp/LIoA/pdQr8Ucmho0KAB3NzcIP/O9hAyC59WCsD+aDc0NM7AqVoTonDpjznwsv0Rk9tZ67HiMASzPq2EgP3RcDN+ZdTqldamjjrE3IDbLA8UGTuT5T7SQsfnmAATMAqBDI6AGqXMHJ1JYqgv/MjdRdhuD7zsMjCLJNgt8JWTC3qY+OEhTRqnGuQSHX7PIQvbDY+XXTCwrtEtZ6pFJ59ItQ6sTZXMiDeYABPIFgIf4AmYLe0ysJBE3FjYGfa+ndHYrCV2rGudhQtICsK2bes065kTJDpSr4MEpRu1MNy7Qpot55NMgAkwgZQEeEgwJRM+wgSYABNgAjmQAA8J5sCLwlViAkyACTCBlATyzpAg6WH9s+QPrN+6A/8WbJmkh0XvHL18Foig2E/Ra8oMDKijfPMwJafce0SH7pb04UEsXbMB23ZeRYEWA9G5ljkk0reIfPkCz00aYpzLaDRWvZSWouWsg5UCCR9gAkwgewhk0epDo2Rr9GXtCVfF1Jqm4qvfHqq9MyQVT1a0EgXLOYrjOpaUGqUhHyqTOF+xfvwEseV+yjXACVedxWf5vxK/PVB/kSdW3F/XXVT8fLq4QO+ApBqkL4TX/B/Esgvyl7Q4MAEmwASyh0CeGhKUBZ2F98NKaN6ynJpjRwlKFLeALPA6roXoeN08xe+GzOhhxeHGpkno8mlx1B86DuPGOeG7gZ3RrEkfrLpFPl6SwwscGl0dJap2wuiZ8zBzdCfUqVwZJkW74pjirX4ZAg4txI8TxqFr+ZKwrNQOy4NkyamTNtLS3ZIh2NsbDyrZoWX5ZHcblKwAbIc5o8+7VZi7nTx7phZYBys1MnycCTCBrCRgqF2UhmwRw8buFtHKDGJurBMjWjcQtes0FN9MOSCeqv9wN7AQY/ewwrd2F+aWQ8Q/Gr2HV+Lvfpb0pv4K4atPnaM8xAiHReKhPnF1tjtWHBrQScx5Sm8YKoM0YK3o2JreBFWGV+5tRdlu+wQ5IHgfgleI6vk6iiPqnaW4s8Kp+3RxcUcf0W7OA42XiqVPV4uvrXuI7SrPme9zoq1wsdXBQlgO+SeFE15BXi9+b2Iqyo8ldwRphgRxaVJNUWvypRzrKDPN6vNJJsAEch0BA3pYuvSwArF+4jKYTDqG694b0Pj8RLh4qvcYstLk6ps31Zv0sGRftkIzhQ+zeEQ8voxdM0ZgTdwE7N09Tul4Nq38MquHpTtvSdmGqC4eKU++xobfQ+G03h7kZ/N9KDMWx26vgp2aV8rYU5vxrNFQNLIfDpvT63E3uYOoS3frfVaIu4jTl6T4skVTLfkQiiMNwJMggcIW6c3nsQ6WGlHeZAJMIBsIGGCwdOlh5cfnjkvxcwcrmBYpjhKF6LmXkA21z0gRcj0sn+ewMn0MtyVLsGTRCmzyfIISvdbixF5ntC6pRKGugaWev1H0sNQzTNqWRfnh7x/G41qLMUkHEgPxX2J51C2qHdcUFWtWxXszEoXD7q/QcnAlSAq2xqjqV/DXZZUXUB26W2rZJd7xxoWwOrBrIfeuqxmk/j64FFQcDRvL3UKrAutgqUjwNxNgAh+OgAGrBCWwsLGFrU0x5FfVW2KN5n07IvHfhfi6wxScq7YAV9tl1EW0KrOs+ZY9O4OzDz9FlzXTMKm1WjdFu7ioJ/APsUB7jeNROOPSAw7zA1CjWwIc+6zWOKtrx0RSAm2c12B0fR2IE25iTb928CpsAlNzGzQeuAFH+igNhCQfza9JkZYDDEV54R5wvSLQ+vA6/EkHZIXe4viaM4ht0o56TQLRUTHIX6iQ2lydqpYyPDt7Fg8rNdeav5KfT8TdXXtwu8q3WN7+vWkkLVo88Q+BhSYUSMyLoDCdi4wk714k6cCBCTABJpCVBHQ8TQ0vzvSLX3AqdDhOjm+B4b93x9Vf1X+lG56vMVK+OXcG1ws3wfhGqRsrbQ2s9+VawDh6WMoc89fD2J2HML28jg6upAIaFvkPng9lsK+t47wyi+c7DyKx6zcoU1h5CesOQqO1bjgS0w49zFPT3ZInfoNzZ2/ikyaTkVIabAt+XR+P7zZOR7I0GOtgKYnzFxNgAh+aQOpPxIzULNYD/asNwN4oSkSCK5XKF0NCrGp4KiMZZVXcpPmrhC9awO69RqNGYQoNrBmnEOxmh2pT/KG95k4uGG3ddiZWdbuOOaSHlTxdpJGLMXYsMHS1PY73dsblaLX8wr0wufuPOBFLx2QB2HrcAk6zh2Pw4MHKzxj81icS2/bIxcGVulshSbpbarmQLjbNX11OOX/19o4bhn+7GzXWHMaSdiWSHPIqtLhm4FSwG+yqTYG/FhTWwdIgyztMgAlkMQHj9LAKtsf33y7HgIZfY1u1GNx8UAHTj9bO4qrrl7304T9Ysv4ADh0LR2Gr81i7oR6+H9EcllqmOjGhAYYvrgL/nk4o/UWpVDyoS1Cmx0hU6e+Oaz/MRaMM04uDz4J+mLznKF4+lg8JmqPppC2Y01FzLsm04WJ4unyHLrZV8UljO1SR3oX35Th8vfIg2pg9xc7vO8L5UDyaD5oFiy2z0NZChhf/OMNp9zUcvNEGTmb7sOqb0eg7cxG8w2SoYy1vrBT39/8OV4/92BdcADUvroTLs3wQ0jjERIThldQWA90Pop2NWqMSE9Bg+GJU8e8Jp9JfoJQGMxLF9LqF2oMXZJGDYP2uL8diAkwg7xAwoi9BGWJD7+FOUD6Ur10dVkaYwsp2eZHE2/juk3aw8g3G3AoaT2eNOyKWtLmlJUvCXONoVuy8ReBlH9wV1dCsUUVYpF4lHYXTSsE932Gs3zj8/Wt9hZKxjkh6HErE7e8+QTsrXwTPrZBsyGUh7hgyxBdj9s1D06wHoUc9OQoTYAIfO4EMPQLThiFBQetaaPiFcYxV2mVl0dkwDxyRkrd2m7SxFMwWYyVvY2GU+7IdOn6VUWMlTyuBda9l+KXEdiw+EapjiFMeR58QBo8jUnS2t0k2ViAdrE1L76HbX7PZWOmDkOMwASZgFAJpP5mNUkTOzyR7NLA+BAc9dbd0VY11sHRR4WNMgAl8QAJqExYfsBYftOjs1MD6EA1NX3dLV61YB0sXFT7GBJjAhyTABotmdxoue4JnH/Iq5MCyTRsuwxOGkgOvDFeJCeRdAkZcdGF8iI8ePULZsmVRsKDCl5LxC+AcmQATYAJMINcQyNEGK9dQ5IoyASbABJhAlhPgRRdZjpgLYAJMgAkwAWMQ+AgMlhSBJ1dinH0zNGr4FewX/5u+Hz5jkOM8mAATYAJMIFsJfAQGKx/KtRmLkXXJw8a//+J2QHQm3jnKVvZcGBNgAkyACWSAwEdgsJJaa2Ly0TQlA5ePozIBJsAE8g4Bg5/ystCtGO60BzFarML/9wOaDNsNuY9WvUL0LWz5eThGT56KMcN/xKZb5EE39iY2/dAf9t27o+f0PTi7cQIc7Bqiif0v2PdY5XY2ElfXjcM3zRuhRR8XnHyuOq5XqRyJCTABJsAEchkBAwyWDsVhZaNloXvwveNKXAp8o583c1kQtgxuh5H7LNB/zhw4fnoKo7v/hKOx9dCnpQTeh/7BP9tccTihNfp9LsO1fxZjzOzDeEuDfiFbh6PLmD9xq/LP2LqqK+L+C9CvzFx2gbi6TIAJMAEmkETAAIOlS3GYMiMpii1OK2HhOBSV8umHN/GOK1YcCgNKW6Lo6zDktygOEXAAf3vHQpLPVCE+KKnQEWNHdkf3dvVR3ESG8CePEJZwD26rDyEMpfB1729QofTn6GxXSYdYoX714FhMgAkwASaQ8wkY4OlCh+Iwrcu7v3osNlVfiP127jhxWr+GJz54gMdSQbbuLDavB0qZtMGvs9ujUhnS2w3SysPEJMn5qiB1WzJYfg8TISTFUFIlba8VnXeZABNgAkzg4yJggMHSASBsCybODUWV789gzfZ/8cI/FCv3fImpveroiPz+kMknRWFhItfALY/2P09HZzWHFrHaBut9MsCkMAoXooSR8YiNJwPGgQkwASbABD56AgYMCepgUqghvnMZjs9LWMDC3Az58hVCkUL5dUTUPFTgqx7oUsEUstDD+GvrQ8TTLFTwiTXYfDlpKUeSKRJQfNMflWkSBb5Cl3bWyCcLwd2bcumMaAQEhimWs0ul0uR4mqXxHhNgAkyACeRmAsYxWEXqwn60E5ycnODYvQ5KVmyF4V1qpM/Fog1mrnNGq9KvcNDxM5Sp9AXG/tsA9nUfYtvW84gkC5Xodwjbzv2L/X+fwyval/53GNvPC3SdtYLevTKDt0tXtO04BNufFYIkf2EkXtuCrTfepl82x2ACTIAJMIFcRSBn+BJMjMDT/57DrGJ1lCmcAX6yGATdD4DsU1uUjn+O8ILWKG1uHBucgVpwVCbABJgAE8gGAjnDYGVDQ7kIJsAEmAATyN0EuDuSu68f154JMAEmkGcIsMHKM5eaG8oEmAATyN0E2GDl7uvHtWcCTIAJ5BkCbLDyzKXmhjIBJsAEcjcBNli5+/px7ZkAE2ACeYYAG6w8c6m5oUyACTCB3E0gU66ZevToAS8vr9xNgGvPBJgAE2ACGSZgZWWF+/fvZzhdZhJk6j0subEKCQnJTPmclgkwASbABHIhgUKFCsHBwSFba54pg5WtNeXCmAATYAJMIE8T4DmsPH35ufFMgAkwgdxDgA1W7rlWXFMmwASYQJ4mwAYrT19+bjwTYAJMIPcQYIOVe64V15QJMAEmkKcJsMHK05efG88EmAATyD0E2GDlnmvFNWUCTIAJ5GkCbLDy9OXnxjMBJsAEcg8BNli551pxTZkAE2ACeZoAG6w8ffm58UyACTCB3EOADVbuuVZcUybABJhAnibABitPX35uPBNgAkwg9xBgg5V7rhXXlAkwASaQpwmwwcrTl58bzwSYABPIPQT+D25l2Sjj4l7VAAAAAElFTkSuQmCC)"
      ]
    },
    {
      "cell_type": "code",
      "metadata": {
        "id": "HHunRHqqj1Xf",
        "outputId": "0975613f-59a1-4d39-815a-22354a3dcda5",
        "colab": {
          "base_uri": "https://localhost:8080/",
          "height": 136
        }
      },
      "source": [
        "a, b = torch.rand(2,3), torch.rand(2,3)\n",
        "print(a)\n",
        "print(b)\n",
        "print(a.shape, b.shape)\n",
        "a - b"
      ],
      "execution_count": 42,
      "outputs": [
        {
          "output_type": "stream",
          "text": [
            "tensor([[0.1941, 0.0068, 0.3582],\n",
            "        [0.9277, 0.5767, 0.5947]])\n",
            "tensor([[0.7258, 0.2525, 0.4246],\n",
            "        [0.7336, 0.4861, 0.1980]])\n",
            "torch.Size([2, 3]) torch.Size([2, 3])\n"
          ],
          "name": "stdout"
        },
        {
          "output_type": "execute_result",
          "data": {
            "text/plain": [
              "tensor([[-0.5316, -0.2457, -0.0664],\n",
              "        [ 0.1941,  0.0906,  0.3967]])"
            ]
          },
          "metadata": {
            "tags": []
          },
          "execution_count": 42
        }
      ]
    },
    {
      "cell_type": "code",
      "metadata": {
        "id": "9sAnbJefUoan"
      },
      "source": [
        "# this algorithm takes in toxic sentence and corresponsing nontoxic sentence\n",
        "# and returns layer wise PC set {P_0, ..., P_12}\n",
        "def run_bert_algorithm(S_t, S_nt, model, debias=True):\n",
        "    # inputs are encoded sentences\n",
        "    W_t, W_nt = S_t, S_nt\n",
        "\n",
        "    inp_ids_t, attn_masks_t = W_t['input_ids'], W_t['attention_mask']\n",
        "    inp_ids_nt, attn_masks_nt = W_nt['input_ids'], W_nt['attention_mask']\n",
        "\n",
        "    u, v, D, PCs, ev = [None] * 13, [None] * 13, [None] * 13, [None] * 13, [None] * 13\n",
        "    inp_t = inp_ids_t.cuda()\n",
        "    atn_t = attn_masks_t.cuda()\n",
        "    inp_nt = inp_ids_nt.cuda()\n",
        "    atn_nt = attn_masks_nt.cuda()\n",
        "\n",
        "    u[0] = model(0, inp_t, atn_t)\n",
        "    v[0] = model(0, inp_nt, atn_nt)\n",
        "    D[0] = u[0] - v[0]  # todo: check dim, torch. ?\n",
        "\n",
        "    PCs[0], ev[0] = getPrincipalComponents(D[0])\n",
        "    # PCs[0] = torch.Tensor(PCs[0]).unsqueeze(dim=0).cuda()\n",
        "    PCs[0] = PCs[0].cuda()\n",
        "\n",
        "    for j in range(1, 13):\n",
        "        # print(\"BERT Layer j =\", j)\n",
        "        if debias:\n",
        "          uproj = projection(u[j - 1][0], PCs[j - 1])\n",
        "          vproj = projection(v[j - 1][0], PCs[j - 1])\n",
        "        else:\n",
        "          uproj = u[j-1][0]\n",
        "          vproj = v[j-1][0]\n",
        "\n",
        "        uproj = uproj.unsqueeze(dim=0).cuda()\n",
        "        vproj = vproj.unsqueeze(dim=0).cuda()\n",
        "        u[j] = model(j, uproj)[0]\n",
        "        v[j] = model(j, vproj)[0]\n",
        "        \n",
        "        D[j] = u[j] - v[j]  # todo: check dim, torch. ?\n",
        "        PCs[j], ev[j] = getPrincipalComponents(D[j])\n",
        "        PCs[j] = PCs[j].cuda()\n",
        "\n",
        "        # print('PCs[j]', PCs[j].shape)\n",
        "\n",
        "    return PCs, ev\n"
      ],
      "execution_count": null,
      "outputs": []
    },
    {
      "cell_type": "markdown",
      "metadata": {
        "id": "FjiYHAoV37Za"
      },
      "source": [
        "**Debiasing BERT**"
      ]
    },
    {
      "cell_type": "code",
      "metadata": {
        "id": "fV5WCtls5Tj7"
      },
      "source": [
        "num_words = 10\n",
        "num_sents = 10"
      ],
      "execution_count": 44,
      "outputs": []
    },
    {
      "cell_type": "code",
      "metadata": {
        "id": "X7Ex5AqZ8Dvj",
        "outputId": "6dc2fc06-3c64-4ff1-f8e5-fa937c74fc0c",
        "colab": {
          "base_uri": "https://localhost:8080/",
          "height": 1000
        }
      },
      "source": [
        "from transformers import BertTokenizer\n",
        "tokenizer = BertTokenizer.from_pretrained('bert-base-uncased')\n",
        "\n",
        "toxic_words = ht['Word'][:num_words]\n",
        "\n",
        "ev = [0]*13\n",
        "count = 0\n",
        "# find toxic words and their sentences\n",
        "for word in toxic_words:\n",
        "  \n",
        "  sents = wsentTox[word][:num_sents]\n",
        "  print('word', word, 'num_sent', num_sents)\n",
        "  sflag = False\n",
        "\n",
        "  for sent in sents:\n",
        "    if count % 10 == 0: print(count)\n",
        "    encoded_text = tokenizer.encode_plus(\n",
        "        sent, add_special_tokens=True, truncation=True,\n",
        "        max_length=256, padding='max_length',\n",
        "        return_attention_mask=True,\n",
        "        return_tensors='pt')\n",
        "    tox, attn_masks = encoded_text['input_ids'], encoded_text['attention_mask']\n",
        "    ntox = tox.clone()\n",
        "    tokens = list([tokenizer.convert_ids_to_tokens(i) for i in ntox][0])\n",
        "    try:\n",
        "      idx = tokens.index(word)\n",
        "    except:\n",
        "      print('PROBLEM!')\n",
        "      print(sent)\n",
        "      continue\n",
        "      # sflag = True\n",
        "      # break\n",
        "    \n",
        "    ntox[0][idx] = 0\n",
        "\n",
        "    encoded_T = {\n",
        "        \"input_ids\": tox,\n",
        "        \"attention_mask\": attn_masks\n",
        "    }\n",
        "    encoded_NT = {\n",
        "        \"input_ids\": ntox,\n",
        "        \"attention_mask\": attn_masks\n",
        "    }\n",
        "    principal_components, exp_variance = run_bert_algorithm(encoded_T, encoded_NT, layerBert, debias=True)\n",
        "    if count % 10 == 0: print('exp_var', np.array(exp_variance).shape)\n",
        "    for i in range(13):\n",
        "      ev[i] += exp_variance[i]\n",
        "    count += 1\n",
        "  \n",
        "  if sflag:\n",
        "    break\n",
        "\n",
        "print(count)\n",
        "# print('ev[0]', ev[0])\n",
        "# todo: Use BERTForSentenceClassification then check the classifier hidden output\n",
        "\n",
        "# a = num_sent x 768\n",
        "# b = 2 x 768 PCs\n",
        "# inner = a . bT -> num_sent x 2\n",
        "# inner . b -> num_sent x 768\n",
        "\n",
        "\n"
      ],
      "execution_count": 57,
      "outputs": [
        {
          "output_type": "stream",
          "text": [
            "word whore num_sent 10\n",
            "0\n",
            "torch.Size([1, 256, 768])\n",
            "torch.Size([1, 256, 768])\n",
            "torch.Size([1, 256, 768])\n",
            "torch.Size([1, 256, 768])\n",
            "torch.Size([1, 256, 768])\n",
            "torch.Size([1, 256, 768])\n",
            "torch.Size([1, 256, 768])\n",
            "torch.Size([1, 256, 768])\n",
            "torch.Size([1, 256, 768])\n",
            "torch.Size([1, 256, 768])\n",
            "torch.Size([1, 256, 768])\n",
            "torch.Size([1, 256, 768])\n",
            "torch.Size([1, 256, 768])\n",
            "exp_var (13, 256)\n",
            "torch.Size([1, 256, 768])\n",
            "torch.Size([1, 256, 768])\n",
            "torch.Size([1, 256, 768])\n",
            "torch.Size([1, 256, 768])\n",
            "torch.Size([1, 256, 768])\n",
            "torch.Size([1, 256, 768])\n",
            "torch.Size([1, 256, 768])\n",
            "torch.Size([1, 256, 768])\n",
            "torch.Size([1, 256, 768])\n",
            "torch.Size([1, 256, 768])\n",
            "torch.Size([1, 256, 768])\n",
            "torch.Size([1, 256, 768])\n",
            "torch.Size([1, 256, 768])\n",
            "torch.Size([1, 256, 768])\n",
            "torch.Size([1, 256, 768])\n",
            "torch.Size([1, 256, 768])\n",
            "torch.Size([1, 256, 768])\n",
            "torch.Size([1, 256, 768])\n",
            "torch.Size([1, 256, 768])\n",
            "torch.Size([1, 256, 768])\n",
            "torch.Size([1, 256, 768])\n",
            "torch.Size([1, 256, 768])\n",
            "torch.Size([1, 256, 768])\n",
            "torch.Size([1, 256, 768])\n",
            "torch.Size([1, 256, 768])\n",
            "torch.Size([1, 256, 768])\n",
            "torch.Size([1, 256, 768])\n",
            "torch.Size([1, 256, 768])\n",
            "torch.Size([1, 256, 768])\n",
            "torch.Size([1, 256, 768])\n",
            "torch.Size([1, 256, 768])\n",
            "torch.Size([1, 256, 768])\n",
            "torch.Size([1, 256, 768])\n",
            "torch.Size([1, 256, 768])\n",
            "torch.Size([1, 256, 768])\n",
            "torch.Size([1, 256, 768])\n",
            "torch.Size([1, 256, 768])\n",
            "torch.Size([1, 256, 768])\n",
            "torch.Size([1, 256, 768])\n",
            "torch.Size([1, 256, 768])\n",
            "torch.Size([1, 256, 768])\n",
            "torch.Size([1, 256, 768])\n",
            "torch.Size([1, 256, 768])\n",
            "torch.Size([1, 256, 768])\n",
            "torch.Size([1, 256, 768])\n",
            "torch.Size([1, 256, 768])\n",
            "torch.Size([1, 256, 768])\n",
            "torch.Size([1, 256, 768])\n",
            "torch.Size([1, 256, 768])\n",
            "torch.Size([1, 256, 768])\n",
            "torch.Size([1, 256, 768])\n",
            "torch.Size([1, 256, 768])\n",
            "torch.Size([1, 256, 768])\n",
            "torch.Size([1, 256, 768])\n",
            "torch.Size([1, 256, 768])\n",
            "torch.Size([1, 256, 768])\n",
            "torch.Size([1, 256, 768])\n",
            "torch.Size([1, 256, 768])\n",
            "torch.Size([1, 256, 768])\n",
            "torch.Size([1, 256, 768])\n",
            "torch.Size([1, 256, 768])\n",
            "torch.Size([1, 256, 768])\n",
            "torch.Size([1, 256, 768])\n",
            "torch.Size([1, 256, 768])\n",
            "torch.Size([1, 256, 768])\n",
            "torch.Size([1, 256, 768])\n",
            "torch.Size([1, 256, 768])\n",
            "torch.Size([1, 256, 768])\n",
            "torch.Size([1, 256, 768])\n",
            "torch.Size([1, 256, 768])\n",
            "torch.Size([1, 256, 768])\n",
            "torch.Size([1, 256, 768])\n",
            "torch.Size([1, 256, 768])\n",
            "torch.Size([1, 256, 768])\n",
            "torch.Size([1, 256, 768])\n",
            "torch.Size([1, 256, 768])\n",
            "torch.Size([1, 256, 768])\n",
            "torch.Size([1, 256, 768])\n",
            "torch.Size([1, 256, 768])\n",
            "torch.Size([1, 256, 768])\n",
            "torch.Size([1, 256, 768])\n",
            "torch.Size([1, 256, 768])\n",
            "torch.Size([1, 256, 768])\n",
            "torch.Size([1, 256, 768])\n",
            "torch.Size([1, 256, 768])\n",
            "torch.Size([1, 256, 768])\n",
            "torch.Size([1, 256, 768])\n",
            "torch.Size([1, 256, 768])\n",
            "torch.Size([1, 256, 768])\n",
            "torch.Size([1, 256, 768])\n",
            "torch.Size([1, 256, 768])\n",
            "torch.Size([1, 256, 768])\n",
            "torch.Size([1, 256, 768])\n",
            "torch.Size([1, 256, 768])\n",
            "torch.Size([1, 256, 768])\n",
            "torch.Size([1, 256, 768])\n",
            "torch.Size([1, 256, 768])\n",
            "torch.Size([1, 256, 768])\n",
            "torch.Size([1, 256, 768])\n",
            "torch.Size([1, 256, 768])\n",
            "torch.Size([1, 256, 768])\n",
            "torch.Size([1, 256, 768])\n",
            "torch.Size([1, 256, 768])\n",
            "torch.Size([1, 256, 768])\n",
            "torch.Size([1, 256, 768])\n",
            "torch.Size([1, 256, 768])\n",
            "torch.Size([1, 256, 768])\n",
            "torch.Size([1, 256, 768])\n",
            "torch.Size([1, 256, 768])\n",
            "torch.Size([1, 256, 768])\n",
            "torch.Size([1, 256, 768])\n",
            "torch.Size([1, 256, 768])\n",
            "torch.Size([1, 256, 768])\n",
            "torch.Size([1, 256, 768])\n",
            "torch.Size([1, 256, 768])\n",
            "torch.Size([1, 256, 768])\n",
            "torch.Size([1, 256, 768])\n",
            "word ck num_sent 10\n",
            "10\n",
            "torch.Size([1, 256, 768])\n",
            "torch.Size([1, 256, 768])\n",
            "torch.Size([1, 256, 768])\n",
            "torch.Size([1, 256, 768])\n",
            "torch.Size([1, 256, 768])\n",
            "torch.Size([1, 256, 768])\n",
            "torch.Size([1, 256, 768])\n",
            "torch.Size([1, 256, 768])\n",
            "torch.Size([1, 256, 768])\n",
            "torch.Size([1, 256, 768])\n",
            "torch.Size([1, 256, 768])\n",
            "torch.Size([1, 256, 768])\n",
            "torch.Size([1, 256, 768])\n",
            "exp_var (13, 256)\n",
            "torch.Size([1, 256, 768])\n",
            "torch.Size([1, 256, 768])\n",
            "torch.Size([1, 256, 768])\n",
            "torch.Size([1, 256, 768])\n",
            "torch.Size([1, 256, 768])\n",
            "torch.Size([1, 256, 768])\n",
            "torch.Size([1, 256, 768])\n",
            "torch.Size([1, 256, 768])\n",
            "torch.Size([1, 256, 768])\n",
            "torch.Size([1, 256, 768])\n",
            "torch.Size([1, 256, 768])\n",
            "torch.Size([1, 256, 768])\n",
            "torch.Size([1, 256, 768])\n",
            "torch.Size([1, 256, 768])\n",
            "torch.Size([1, 256, 768])\n",
            "torch.Size([1, 256, 768])\n",
            "torch.Size([1, 256, 768])\n",
            "torch.Size([1, 256, 768])\n",
            "torch.Size([1, 256, 768])\n",
            "torch.Size([1, 256, 768])\n",
            "torch.Size([1, 256, 768])\n",
            "torch.Size([1, 256, 768])\n",
            "torch.Size([1, 256, 768])\n",
            "torch.Size([1, 256, 768])\n",
            "torch.Size([1, 256, 768])\n",
            "torch.Size([1, 256, 768])\n",
            "torch.Size([1, 256, 768])\n",
            "torch.Size([1, 256, 768])\n",
            "torch.Size([1, 256, 768])\n",
            "torch.Size([1, 256, 768])\n",
            "torch.Size([1, 256, 768])\n",
            "torch.Size([1, 256, 768])\n",
            "torch.Size([1, 256, 768])\n",
            "torch.Size([1, 256, 768])\n",
            "torch.Size([1, 256, 768])\n",
            "torch.Size([1, 256, 768])\n",
            "torch.Size([1, 256, 768])\n",
            "torch.Size([1, 256, 768])\n",
            "torch.Size([1, 256, 768])\n",
            "torch.Size([1, 256, 768])\n",
            "torch.Size([1, 256, 768])\n",
            "torch.Size([1, 256, 768])\n",
            "torch.Size([1, 256, 768])\n",
            "torch.Size([1, 256, 768])\n",
            "torch.Size([1, 256, 768])\n",
            "torch.Size([1, 256, 768])\n",
            "torch.Size([1, 256, 768])\n",
            "torch.Size([1, 256, 768])\n",
            "torch.Size([1, 256, 768])\n",
            "torch.Size([1, 256, 768])\n",
            "torch.Size([1, 256, 768])\n",
            "torch.Size([1, 256, 768])\n",
            "torch.Size([1, 256, 768])\n",
            "torch.Size([1, 256, 768])\n",
            "torch.Size([1, 256, 768])\n",
            "torch.Size([1, 256, 768])\n",
            "torch.Size([1, 256, 768])\n",
            "torch.Size([1, 256, 768])\n",
            "torch.Size([1, 256, 768])\n",
            "torch.Size([1, 256, 768])\n",
            "torch.Size([1, 256, 768])\n",
            "torch.Size([1, 256, 768])\n",
            "torch.Size([1, 256, 768])\n",
            "torch.Size([1, 256, 768])\n",
            "torch.Size([1, 256, 768])\n",
            "torch.Size([1, 256, 768])\n",
            "torch.Size([1, 256, 768])\n",
            "torch.Size([1, 256, 768])\n",
            "torch.Size([1, 256, 768])\n",
            "torch.Size([1, 256, 768])\n",
            "torch.Size([1, 256, 768])\n",
            "torch.Size([1, 256, 768])\n",
            "torch.Size([1, 256, 768])\n",
            "torch.Size([1, 256, 768])\n",
            "torch.Size([1, 256, 768])\n",
            "torch.Size([1, 256, 768])\n",
            "torch.Size([1, 256, 768])\n",
            "torch.Size([1, 256, 768])\n",
            "torch.Size([1, 256, 768])\n",
            "torch.Size([1, 256, 768])\n",
            "torch.Size([1, 256, 768])\n",
            "torch.Size([1, 256, 768])\n",
            "torch.Size([1, 256, 768])\n",
            "torch.Size([1, 256, 768])\n",
            "torch.Size([1, 256, 768])\n",
            "torch.Size([1, 256, 768])\n",
            "torch.Size([1, 256, 768])\n",
            "torch.Size([1, 256, 768])\n",
            "torch.Size([1, 256, 768])\n",
            "torch.Size([1, 256, 768])\n",
            "torch.Size([1, 256, 768])\n",
            "torch.Size([1, 256, 768])\n",
            "torch.Size([1, 256, 768])\n",
            "torch.Size([1, 256, 768])\n",
            "torch.Size([1, 256, 768])\n",
            "torch.Size([1, 256, 768])\n",
            "torch.Size([1, 256, 768])\n",
            "torch.Size([1, 256, 768])\n",
            "torch.Size([1, 256, 768])\n",
            "torch.Size([1, 256, 768])\n",
            "torch.Size([1, 256, 768])\n",
            "torch.Size([1, 256, 768])\n",
            "torch.Size([1, 256, 768])\n",
            "torch.Size([1, 256, 768])\n",
            "torch.Size([1, 256, 768])\n",
            "torch.Size([1, 256, 768])\n",
            "torch.Size([1, 256, 768])\n",
            "torch.Size([1, 256, 768])\n",
            "torch.Size([1, 256, 768])\n",
            "torch.Size([1, 256, 768])\n",
            "torch.Size([1, 256, 768])\n",
            "torch.Size([1, 256, 768])\n",
            "torch.Size([1, 256, 768])\n",
            "torch.Size([1, 256, 768])\n",
            "torch.Size([1, 256, 768])\n",
            "torch.Size([1, 256, 768])\n",
            "torch.Size([1, 256, 768])\n",
            "word pussy num_sent 10\n",
            "20\n",
            "torch.Size([1, 256, 768])\n",
            "torch.Size([1, 256, 768])\n",
            "torch.Size([1, 256, 768])\n",
            "torch.Size([1, 256, 768])\n",
            "torch.Size([1, 256, 768])\n",
            "torch.Size([1, 256, 768])\n",
            "torch.Size([1, 256, 768])\n",
            "torch.Size([1, 256, 768])\n",
            "torch.Size([1, 256, 768])\n",
            "torch.Size([1, 256, 768])\n",
            "torch.Size([1, 256, 768])\n",
            "torch.Size([1, 256, 768])\n",
            "torch.Size([1, 256, 768])\n",
            "exp_var (13, 256)\n",
            "torch.Size([1, 256, 768])\n",
            "torch.Size([1, 256, 768])\n",
            "torch.Size([1, 256, 768])\n",
            "torch.Size([1, 256, 768])\n",
            "torch.Size([1, 256, 768])\n",
            "torch.Size([1, 256, 768])\n",
            "torch.Size([1, 256, 768])\n",
            "torch.Size([1, 256, 768])\n",
            "torch.Size([1, 256, 768])\n",
            "torch.Size([1, 256, 768])\n",
            "torch.Size([1, 256, 768])\n",
            "torch.Size([1, 256, 768])\n",
            "torch.Size([1, 256, 768])\n",
            "torch.Size([1, 256, 768])\n",
            "torch.Size([1, 256, 768])\n",
            "torch.Size([1, 256, 768])\n",
            "torch.Size([1, 256, 768])\n",
            "torch.Size([1, 256, 768])\n",
            "torch.Size([1, 256, 768])\n",
            "torch.Size([1, 256, 768])\n",
            "torch.Size([1, 256, 768])\n",
            "torch.Size([1, 256, 768])\n",
            "torch.Size([1, 256, 768])\n",
            "torch.Size([1, 256, 768])\n",
            "torch.Size([1, 256, 768])\n",
            "torch.Size([1, 256, 768])\n",
            "torch.Size([1, 256, 768])\n",
            "torch.Size([1, 256, 768])\n",
            "torch.Size([1, 256, 768])\n",
            "torch.Size([1, 256, 768])\n",
            "torch.Size([1, 256, 768])\n",
            "torch.Size([1, 256, 768])\n",
            "torch.Size([1, 256, 768])\n",
            "torch.Size([1, 256, 768])\n",
            "torch.Size([1, 256, 768])\n",
            "torch.Size([1, 256, 768])\n",
            "torch.Size([1, 256, 768])\n",
            "torch.Size([1, 256, 768])\n",
            "torch.Size([1, 256, 768])\n",
            "torch.Size([1, 256, 768])\n",
            "torch.Size([1, 256, 768])\n",
            "torch.Size([1, 256, 768])\n",
            "torch.Size([1, 256, 768])\n",
            "torch.Size([1, 256, 768])\n",
            "torch.Size([1, 256, 768])\n",
            "torch.Size([1, 256, 768])\n",
            "torch.Size([1, 256, 768])\n",
            "torch.Size([1, 256, 768])\n",
            "torch.Size([1, 256, 768])\n",
            "torch.Size([1, 256, 768])\n",
            "torch.Size([1, 256, 768])\n",
            "torch.Size([1, 256, 768])\n",
            "torch.Size([1, 256, 768])\n",
            "torch.Size([1, 256, 768])\n",
            "torch.Size([1, 256, 768])\n",
            "torch.Size([1, 256, 768])\n",
            "torch.Size([1, 256, 768])\n",
            "torch.Size([1, 256, 768])\n",
            "torch.Size([1, 256, 768])\n",
            "torch.Size([1, 256, 768])\n",
            "torch.Size([1, 256, 768])\n",
            "torch.Size([1, 256, 768])\n",
            "torch.Size([1, 256, 768])\n",
            "torch.Size([1, 256, 768])\n",
            "torch.Size([1, 256, 768])\n",
            "torch.Size([1, 256, 768])\n",
            "torch.Size([1, 256, 768])\n",
            "torch.Size([1, 256, 768])\n",
            "torch.Size([1, 256, 768])\n",
            "torch.Size([1, 256, 768])\n",
            "torch.Size([1, 256, 768])\n",
            "torch.Size([1, 256, 768])\n",
            "torch.Size([1, 256, 768])\n",
            "torch.Size([1, 256, 768])\n",
            "torch.Size([1, 256, 768])\n",
            "torch.Size([1, 256, 768])\n",
            "torch.Size([1, 256, 768])\n",
            "torch.Size([1, 256, 768])\n",
            "torch.Size([1, 256, 768])\n",
            "torch.Size([1, 256, 768])\n",
            "torch.Size([1, 256, 768])\n",
            "torch.Size([1, 256, 768])\n",
            "torch.Size([1, 256, 768])\n",
            "torch.Size([1, 256, 768])\n",
            "torch.Size([1, 256, 768])\n",
            "torch.Size([1, 256, 768])\n",
            "torch.Size([1, 256, 768])\n",
            "torch.Size([1, 256, 768])\n",
            "torch.Size([1, 256, 768])\n",
            "torch.Size([1, 256, 768])\n",
            "torch.Size([1, 256, 768])\n",
            "torch.Size([1, 256, 768])\n",
            "torch.Size([1, 256, 768])\n",
            "torch.Size([1, 256, 768])\n",
            "torch.Size([1, 256, 768])\n",
            "torch.Size([1, 256, 768])\n",
            "torch.Size([1, 256, 768])\n",
            "torch.Size([1, 256, 768])\n",
            "torch.Size([1, 256, 768])\n",
            "torch.Size([1, 256, 768])\n",
            "torch.Size([1, 256, 768])\n",
            "torch.Size([1, 256, 768])\n",
            "torch.Size([1, 256, 768])\n",
            "torch.Size([1, 256, 768])\n",
            "torch.Size([1, 256, 768])\n",
            "torch.Size([1, 256, 768])\n",
            "torch.Size([1, 256, 768])\n",
            "torch.Size([1, 256, 768])\n",
            "torch.Size([1, 256, 768])\n",
            "torch.Size([1, 256, 768])\n",
            "torch.Size([1, 256, 768])\n",
            "torch.Size([1, 256, 768])\n",
            "torch.Size([1, 256, 768])\n",
            "torch.Size([1, 256, 768])\n",
            "torch.Size([1, 256, 768])\n",
            "torch.Size([1, 256, 768])\n",
            "torch.Size([1, 256, 768])\n",
            "word fuck num_sent 10\n",
            "30\n",
            "torch.Size([1, 256, 768])\n",
            "torch.Size([1, 256, 768])\n",
            "torch.Size([1, 256, 768])\n",
            "torch.Size([1, 256, 768])\n",
            "torch.Size([1, 256, 768])\n",
            "torch.Size([1, 256, 768])\n",
            "torch.Size([1, 256, 768])\n",
            "torch.Size([1, 256, 768])\n",
            "torch.Size([1, 256, 768])\n",
            "torch.Size([1, 256, 768])\n",
            "torch.Size([1, 256, 768])\n",
            "torch.Size([1, 256, 768])\n"
          ],
          "name": "stdout"
        },
        {
          "output_type": "error",
          "ename": "KeyboardInterrupt",
          "evalue": "ignored",
          "traceback": [
            "\u001b[0;31m---------------------------------------------------------------------------\u001b[0m",
            "\u001b[0;31mKeyboardInterrupt\u001b[0m                         Traceback (most recent call last)",
            "\u001b[0;32m<ipython-input-57-a6a31f7aabef>\u001b[0m in \u001b[0;36m<module>\u001b[0;34m()\u001b[0m\n\u001b[1;32m     42\u001b[0m         \u001b[0;34m\"attention_mask\"\u001b[0m\u001b[0;34m:\u001b[0m \u001b[0mattn_masks\u001b[0m\u001b[0;34m\u001b[0m\u001b[0;34m\u001b[0m\u001b[0m\n\u001b[1;32m     43\u001b[0m     }\n\u001b[0;32m---> 44\u001b[0;31m     \u001b[0mprincipal_components\u001b[0m\u001b[0;34m,\u001b[0m \u001b[0mexp_variance\u001b[0m \u001b[0;34m=\u001b[0m \u001b[0mrun_bert_algorithm\u001b[0m\u001b[0;34m(\u001b[0m\u001b[0mencoded_T\u001b[0m\u001b[0;34m,\u001b[0m \u001b[0mencoded_NT\u001b[0m\u001b[0;34m,\u001b[0m \u001b[0mlayerBert\u001b[0m\u001b[0;34m,\u001b[0m \u001b[0mdebias\u001b[0m\u001b[0;34m=\u001b[0m\u001b[0;32mTrue\u001b[0m\u001b[0;34m)\u001b[0m\u001b[0;34m\u001b[0m\u001b[0;34m\u001b[0m\u001b[0m\n\u001b[0m\u001b[1;32m     45\u001b[0m     \u001b[0;32mif\u001b[0m \u001b[0mcount\u001b[0m \u001b[0;34m%\u001b[0m \u001b[0;36m10\u001b[0m \u001b[0;34m==\u001b[0m \u001b[0;36m0\u001b[0m\u001b[0;34m:\u001b[0m \u001b[0mprint\u001b[0m\u001b[0;34m(\u001b[0m\u001b[0;34m'exp_var'\u001b[0m\u001b[0;34m,\u001b[0m \u001b[0mnp\u001b[0m\u001b[0;34m.\u001b[0m\u001b[0marray\u001b[0m\u001b[0;34m(\u001b[0m\u001b[0mexp_variance\u001b[0m\u001b[0;34m)\u001b[0m\u001b[0;34m.\u001b[0m\u001b[0mshape\u001b[0m\u001b[0;34m)\u001b[0m\u001b[0;34m\u001b[0m\u001b[0;34m\u001b[0m\u001b[0m\n\u001b[1;32m     46\u001b[0m     \u001b[0;32mfor\u001b[0m \u001b[0mi\u001b[0m \u001b[0;32min\u001b[0m \u001b[0mrange\u001b[0m\u001b[0;34m(\u001b[0m\u001b[0;36m13\u001b[0m\u001b[0;34m)\u001b[0m\u001b[0;34m:\u001b[0m\u001b[0;34m\u001b[0m\u001b[0;34m\u001b[0m\u001b[0m\n",
            "\u001b[0;32m<ipython-input-43-502a6c35d8c2>\u001b[0m in \u001b[0;36mrun_bert_algorithm\u001b[0;34m(S_t, S_nt, model, debias)\u001b[0m\n\u001b[1;32m     37\u001b[0m \u001b[0;34m\u001b[0m\u001b[0m\n\u001b[1;32m     38\u001b[0m         \u001b[0mD\u001b[0m\u001b[0;34m[\u001b[0m\u001b[0mj\u001b[0m\u001b[0;34m]\u001b[0m \u001b[0;34m=\u001b[0m \u001b[0mu\u001b[0m\u001b[0;34m[\u001b[0m\u001b[0mj\u001b[0m\u001b[0;34m]\u001b[0m \u001b[0;34m-\u001b[0m \u001b[0mv\u001b[0m\u001b[0;34m[\u001b[0m\u001b[0mj\u001b[0m\u001b[0;34m]\u001b[0m  \u001b[0;31m# todo: check dim, torch. ?\u001b[0m\u001b[0;34m\u001b[0m\u001b[0;34m\u001b[0m\u001b[0m\n\u001b[0;32m---> 39\u001b[0;31m         \u001b[0mPCs\u001b[0m\u001b[0;34m[\u001b[0m\u001b[0mj\u001b[0m\u001b[0;34m]\u001b[0m\u001b[0;34m,\u001b[0m \u001b[0mev\u001b[0m\u001b[0;34m[\u001b[0m\u001b[0mj\u001b[0m\u001b[0;34m]\u001b[0m \u001b[0;34m=\u001b[0m \u001b[0mgetPrincipalComponents\u001b[0m\u001b[0;34m(\u001b[0m\u001b[0mD\u001b[0m\u001b[0;34m[\u001b[0m\u001b[0mj\u001b[0m\u001b[0;34m]\u001b[0m\u001b[0;34m)\u001b[0m\u001b[0;34m\u001b[0m\u001b[0;34m\u001b[0m\u001b[0m\n\u001b[0m\u001b[1;32m     40\u001b[0m         \u001b[0mPCs\u001b[0m\u001b[0;34m[\u001b[0m\u001b[0mj\u001b[0m\u001b[0;34m]\u001b[0m \u001b[0;34m=\u001b[0m \u001b[0mPCs\u001b[0m\u001b[0;34m[\u001b[0m\u001b[0mj\u001b[0m\u001b[0;34m]\u001b[0m\u001b[0;34m.\u001b[0m\u001b[0mcuda\u001b[0m\u001b[0;34m(\u001b[0m\u001b[0;34m)\u001b[0m\u001b[0;34m\u001b[0m\u001b[0;34m\u001b[0m\u001b[0m\n\u001b[1;32m     41\u001b[0m \u001b[0;34m\u001b[0m\u001b[0m\n",
            "\u001b[0;32m<ipython-input-56-dc285ef43dc1>\u001b[0m in \u001b[0;36mgetPrincipalComponents\u001b[0;34m(D, num_comp)\u001b[0m\n\u001b[1;32m     17\u001b[0m   \u001b[0mpca\u001b[0m \u001b[0;34m=\u001b[0m \u001b[0mPCA\u001b[0m\u001b[0;34m(\u001b[0m\u001b[0mn_components\u001b[0m\u001b[0;34m=\u001b[0m\u001b[0mnum_comp\u001b[0m\u001b[0;34m,\u001b[0m \u001b[0msvd_solver\u001b[0m\u001b[0;34m=\u001b[0m\u001b[0;34m\"auto\"\u001b[0m\u001b[0;34m)\u001b[0m\u001b[0;34m\u001b[0m\u001b[0;34m\u001b[0m\u001b[0m\n\u001b[1;32m     18\u001b[0m   \u001b[0mX\u001b[0m \u001b[0;34m=\u001b[0m \u001b[0mD\u001b[0m\u001b[0;34m[\u001b[0m\u001b[0;36m0\u001b[0m\u001b[0;34m]\u001b[0m\u001b[0;34m.\u001b[0m\u001b[0mcpu\u001b[0m\u001b[0;34m(\u001b[0m\u001b[0;34m)\u001b[0m\u001b[0;34m.\u001b[0m\u001b[0mdetach\u001b[0m\u001b[0;34m(\u001b[0m\u001b[0;34m)\u001b[0m\u001b[0;34m.\u001b[0m\u001b[0mnumpy\u001b[0m\u001b[0;34m(\u001b[0m\u001b[0;34m)\u001b[0m\u001b[0;34m\u001b[0m\u001b[0;34m\u001b[0m\u001b[0m\n\u001b[0;32m---> 19\u001b[0;31m   \u001b[0mpca\u001b[0m\u001b[0;34m.\u001b[0m\u001b[0mfit\u001b[0m\u001b[0;34m(\u001b[0m\u001b[0mX\u001b[0m\u001b[0;34m)\u001b[0m\u001b[0;34m\u001b[0m\u001b[0;34m\u001b[0m\u001b[0m\n\u001b[0m\u001b[1;32m     20\u001b[0m   \u001b[0mexp_var\u001b[0m \u001b[0;34m=\u001b[0m \u001b[0mpca\u001b[0m\u001b[0;34m.\u001b[0m\u001b[0mexplained_variance_ratio_\u001b[0m\u001b[0;34m\u001b[0m\u001b[0;34m\u001b[0m\u001b[0m\n\u001b[1;32m     21\u001b[0m   \u001b[0;32mreturn\u001b[0m \u001b[0mtorch\u001b[0m\u001b[0;34m.\u001b[0m\u001b[0mTensor\u001b[0m\u001b[0;34m(\u001b[0m\u001b[0mnp\u001b[0m\u001b[0;34m.\u001b[0m\u001b[0marray\u001b[0m\u001b[0;34m(\u001b[0m\u001b[0mpca\u001b[0m\u001b[0;34m.\u001b[0m\u001b[0mcomponents_\u001b[0m\u001b[0;34m)\u001b[0m\u001b[0;34m)\u001b[0m\u001b[0;34m,\u001b[0m \u001b[0mexp_var\u001b[0m\u001b[0;34m\u001b[0m\u001b[0;34m\u001b[0m\u001b[0m\n",
            "\u001b[0;32m/usr/local/lib/python3.6/dist-packages/sklearn/decomposition/_pca.py\u001b[0m in \u001b[0;36mfit\u001b[0;34m(self, X, y)\u001b[0m\n\u001b[1;32m    342\u001b[0m             \u001b[0mReturns\u001b[0m \u001b[0mthe\u001b[0m \u001b[0minstance\u001b[0m \u001b[0mitself\u001b[0m\u001b[0;34m.\u001b[0m\u001b[0;34m\u001b[0m\u001b[0;34m\u001b[0m\u001b[0m\n\u001b[1;32m    343\u001b[0m         \"\"\"\n\u001b[0;32m--> 344\u001b[0;31m         \u001b[0mself\u001b[0m\u001b[0;34m.\u001b[0m\u001b[0m_fit\u001b[0m\u001b[0;34m(\u001b[0m\u001b[0mX\u001b[0m\u001b[0;34m)\u001b[0m\u001b[0;34m\u001b[0m\u001b[0;34m\u001b[0m\u001b[0m\n\u001b[0m\u001b[1;32m    345\u001b[0m         \u001b[0;32mreturn\u001b[0m \u001b[0mself\u001b[0m\u001b[0;34m\u001b[0m\u001b[0;34m\u001b[0m\u001b[0m\n\u001b[1;32m    346\u001b[0m \u001b[0;34m\u001b[0m\u001b[0m\n",
            "\u001b[0;32m/usr/local/lib/python3.6/dist-packages/sklearn/decomposition/_pca.py\u001b[0m in \u001b[0;36m_fit\u001b[0;34m(self, X)\u001b[0m\n\u001b[1;32m    414\u001b[0m         \u001b[0;31m# Call different fits for either full or truncated SVD\u001b[0m\u001b[0;34m\u001b[0m\u001b[0;34m\u001b[0m\u001b[0;34m\u001b[0m\u001b[0m\n\u001b[1;32m    415\u001b[0m         \u001b[0;32mif\u001b[0m \u001b[0mself\u001b[0m\u001b[0;34m.\u001b[0m\u001b[0m_fit_svd_solver\u001b[0m \u001b[0;34m==\u001b[0m \u001b[0;34m'full'\u001b[0m\u001b[0;34m:\u001b[0m\u001b[0;34m\u001b[0m\u001b[0;34m\u001b[0m\u001b[0m\n\u001b[0;32m--> 416\u001b[0;31m             \u001b[0;32mreturn\u001b[0m \u001b[0mself\u001b[0m\u001b[0;34m.\u001b[0m\u001b[0m_fit_full\u001b[0m\u001b[0;34m(\u001b[0m\u001b[0mX\u001b[0m\u001b[0;34m,\u001b[0m \u001b[0mn_components\u001b[0m\u001b[0;34m)\u001b[0m\u001b[0;34m\u001b[0m\u001b[0;34m\u001b[0m\u001b[0m\n\u001b[0m\u001b[1;32m    417\u001b[0m         \u001b[0;32melif\u001b[0m \u001b[0mself\u001b[0m\u001b[0;34m.\u001b[0m\u001b[0m_fit_svd_solver\u001b[0m \u001b[0;32min\u001b[0m \u001b[0;34m[\u001b[0m\u001b[0;34m'arpack'\u001b[0m\u001b[0;34m,\u001b[0m \u001b[0;34m'randomized'\u001b[0m\u001b[0;34m]\u001b[0m\u001b[0;34m:\u001b[0m\u001b[0;34m\u001b[0m\u001b[0;34m\u001b[0m\u001b[0m\n\u001b[1;32m    418\u001b[0m             \u001b[0;32mreturn\u001b[0m \u001b[0mself\u001b[0m\u001b[0;34m.\u001b[0m\u001b[0m_fit_truncated\u001b[0m\u001b[0;34m(\u001b[0m\u001b[0mX\u001b[0m\u001b[0;34m,\u001b[0m \u001b[0mn_components\u001b[0m\u001b[0;34m,\u001b[0m \u001b[0mself\u001b[0m\u001b[0;34m.\u001b[0m\u001b[0m_fit_svd_solver\u001b[0m\u001b[0;34m)\u001b[0m\u001b[0;34m\u001b[0m\u001b[0;34m\u001b[0m\u001b[0m\n",
            "\u001b[0;32m/usr/local/lib/python3.6/dist-packages/sklearn/decomposition/_pca.py\u001b[0m in \u001b[0;36m_fit_full\u001b[0;34m(self, X, n_components)\u001b[0m\n\u001b[1;32m    445\u001b[0m         \u001b[0mX\u001b[0m \u001b[0;34m-=\u001b[0m \u001b[0mself\u001b[0m\u001b[0;34m.\u001b[0m\u001b[0mmean_\u001b[0m\u001b[0;34m\u001b[0m\u001b[0;34m\u001b[0m\u001b[0m\n\u001b[1;32m    446\u001b[0m \u001b[0;34m\u001b[0m\u001b[0m\n\u001b[0;32m--> 447\u001b[0;31m         \u001b[0mU\u001b[0m\u001b[0;34m,\u001b[0m \u001b[0mS\u001b[0m\u001b[0;34m,\u001b[0m \u001b[0mV\u001b[0m \u001b[0;34m=\u001b[0m \u001b[0mlinalg\u001b[0m\u001b[0;34m.\u001b[0m\u001b[0msvd\u001b[0m\u001b[0;34m(\u001b[0m\u001b[0mX\u001b[0m\u001b[0;34m,\u001b[0m \u001b[0mfull_matrices\u001b[0m\u001b[0;34m=\u001b[0m\u001b[0;32mFalse\u001b[0m\u001b[0;34m)\u001b[0m\u001b[0;34m\u001b[0m\u001b[0;34m\u001b[0m\u001b[0m\n\u001b[0m\u001b[1;32m    448\u001b[0m         \u001b[0;31m# flip eigenvectors' sign to enforce deterministic output\u001b[0m\u001b[0;34m\u001b[0m\u001b[0;34m\u001b[0m\u001b[0;34m\u001b[0m\u001b[0m\n\u001b[1;32m    449\u001b[0m         \u001b[0mU\u001b[0m\u001b[0;34m,\u001b[0m \u001b[0mV\u001b[0m \u001b[0;34m=\u001b[0m \u001b[0msvd_flip\u001b[0m\u001b[0;34m(\u001b[0m\u001b[0mU\u001b[0m\u001b[0;34m,\u001b[0m \u001b[0mV\u001b[0m\u001b[0;34m)\u001b[0m\u001b[0;34m\u001b[0m\u001b[0;34m\u001b[0m\u001b[0m\n",
            "\u001b[0;32m/usr/local/lib/python3.6/dist-packages/scipy/linalg/decomp_svd.py\u001b[0m in \u001b[0;36msvd\u001b[0;34m(a, full_matrices, compute_uv, overwrite_a, check_finite, lapack_driver)\u001b[0m\n\u001b[1;32m    127\u001b[0m     \u001b[0;31m# perform decomposition\u001b[0m\u001b[0;34m\u001b[0m\u001b[0;34m\u001b[0m\u001b[0;34m\u001b[0m\u001b[0m\n\u001b[1;32m    128\u001b[0m     u, s, v, info = gesXd(a1, compute_uv=compute_uv, lwork=lwork,\n\u001b[0;32m--> 129\u001b[0;31m                           full_matrices=full_matrices, overwrite_a=overwrite_a)\n\u001b[0m\u001b[1;32m    130\u001b[0m \u001b[0;34m\u001b[0m\u001b[0m\n\u001b[1;32m    131\u001b[0m     \u001b[0;32mif\u001b[0m \u001b[0minfo\u001b[0m \u001b[0;34m>\u001b[0m \u001b[0;36m0\u001b[0m\u001b[0;34m:\u001b[0m\u001b[0;34m\u001b[0m\u001b[0;34m\u001b[0m\u001b[0m\n",
            "\u001b[0;31mKeyboardInterrupt\u001b[0m: "
          ]
        }
      ]
    },
    {
      "cell_type": "code",
      "metadata": {
        "id": "_RRZ3P8G8Qy-"
      },
      "source": [
        "# average and percentage\n",
        "ev = [e/count*100 for e in ev]\n",
        "ev1 = ev\n",
        "# for i, e in enumerate(ev1):\n",
        "#   print(i)\n",
        "#   plotVariance(e[:30])"
      ],
      "execution_count": 46,
      "outputs": []
    },
    {
      "cell_type": "code",
      "metadata": {
        "id": "tJyiGOSeCjXv",
        "outputId": "05a5f4ef-abf5-4d68-c49b-079fa71a26a6",
        "colab": {
          "base_uri": "https://localhost:8080/",
          "height": 877
        }
      },
      "source": [
        "first_pcs = [f[0] for f in ev1]\n",
        "print('First PCs', first_pcs)\n",
        "plotVariance(first_pcs, title='Debiased BERT - First PC contributions')\n",
        "\n",
        "second_pcs = [f[1] for f in ev1]\n",
        "print('Second PCs', second_pcs)\n",
        "plotVariance(second_pcs, title='Debiased BERT - Second PC contributions')\n",
        "\n",
        "third_pcs = [f[2] for f in ev1]\n",
        "print('Third PCs', third_pcs)\n",
        "plotVariance(third_pcs, title='Debiased BERT - Third PC contributions')"
      ],
      "execution_count": 47,
      "outputs": [
        {
          "output_type": "stream",
          "text": [
            "First PCs [100.0, 16.664305, 3.2204165, 1.6506686, 1.5292506, 1.6809036, 2.2854211, 1.804318, 1.5084901, 1.7115537, 2.2025723, 8.683898, 1.920198]\n"
          ],
          "name": "stdout"
        },
        {
          "output_type": "display_data",
          "data": {
            "image/png": "[encoded data removed]",
            "text/plain": [
              "<Figure size 432x288 with 1 Axes>"
            ]
          },
          "metadata": {
            "tags": [],
            "needs_background": "light"
          }
        },
        {
          "output_type": "stream",
          "text": [
            "Second PCs [8.2640454e-13, 4.872872, 1.7010942, 1.3906151, 1.2556964, 1.3359292, 1.4048938, 1.2969484, 1.243423, 1.2572174, 1.4299388, 2.8292646, 1.4840128]\n"
          ],
          "name": "stdout"
        },
        {
          "output_type": "display_data",
          "data": {
            "image/png": "[encoded data removed]",
            "text/plain": [
              "<Figure size 432x288 with 1 Axes>"
            ]
          },
          "metadata": {
            "tags": [],
            "needs_background": "light"
          }
        },
        {
          "output_type": "stream",
          "text": [
            "Third PCs [3.5527137e-13, 2.580907, 1.5077897, 1.2715862, 1.175367, 1.2134389, 1.2250774, 1.1942662, 1.1567006, 1.1461089, 1.2134941, 2.256406, 1.341799]\n"
          ],
          "name": "stdout"
        },
        {
          "output_type": "display_data",
          "data": {
            "image/png": "[encoded data removed]",
            "text/plain": [
              "<Figure size 432x288 with 1 Axes>"
            ]
          },
          "metadata": {
            "tags": [],
            "needs_background": "light"
          }
        },
        {
          "output_type": "display_data",
          "data": {
            "text/plain": [
              "<Figure size 432x288 with 0 Axes>"
            ]
          },
          "metadata": {
            "tags": []
          }
        }
      ]
    },
    {
      "cell_type": "markdown",
      "metadata": {
        "id": "YjLwq38tg5w4"
      },
      "source": [
        "**Normal BERT**"
      ]
    },
    {
      "cell_type": "code",
      "metadata": {
        "id": "nBuFfR07fIFA",
        "outputId": "e710bbbf-1ee4-4a3a-efa0-37d4e3e9e55b",
        "colab": {
          "base_uri": "https://localhost:8080/",
          "height": 374
        }
      },
      "source": [
        "from transformers import BertTokenizer\n",
        "tokenizer = BertTokenizer.from_pretrained('bert-base-uncased')\n",
        "\n",
        "toxic_words = ht['Word'][:num_words]\n",
        "\n",
        "ev = [0]*13\n",
        "count = 0\n",
        "# find toxic words and their sentences\n",
        "for word in toxic_words:\n",
        "  \n",
        "  sents = wsentTox[word][:num_sents]\n",
        "  print('word', 'num_sent', len(sents))\n",
        "  sflag = False\n",
        "  for sent in sents:\n",
        "    if count % 10 == 0: print(count)\n",
        "    encoded_text = tokenizer.encode_plus(\n",
        "        sent, add_special_tokens=True, truncation=True,\n",
        "        max_length=256, padding='max_length',\n",
        "        return_attention_mask=True,\n",
        "        return_tensors='pt')\n",
        "    tox, attn_masks = encoded_text['input_ids'], encoded_text['attention_mask']\n",
        "    ntox = tox.clone()\n",
        "    tokens = list([tokenizer.convert_ids_to_tokens(i) for i in ntox][0])\n",
        "    try:\n",
        "      idx = tokens.index(word)\n",
        "    except:\n",
        "      print('PROBLEM!')\n",
        "      print(sent)\n",
        "      continue\n",
        "      # sflag = True\n",
        "      # break\n",
        "\n",
        "    ntox[0][idx] = 0\n",
        "\n",
        "    encoded_T = {\n",
        "        \"input_ids\": tox,\n",
        "        \"attention_mask\": attn_masks\n",
        "    }\n",
        "    encoded_NT = {\n",
        "        \"input_ids\": ntox,\n",
        "        \"attention_mask\": attn_masks\n",
        "    }\n",
        "    principal_components, exp_variance = run_bert_algorithm(encoded_T, encoded_NT, layerBert, debias=False)\n",
        "\n",
        "    for i in range(13):\n",
        "      ev[i] += exp_variance[i]\n",
        "    count += 1\n",
        "\n",
        "  if sflag:\n",
        "    break\n",
        "print(count)\n",
        "# print('ev[0]', ev[0])\n",
        "# todo: Use BERTForSentenceClassification then check the classifier hidden output\n",
        "\n",
        "# a = num_sent x 768\n",
        "# b = 2 x 768 PCs\n",
        "# inner = a . bT -> num_sent x 2\n",
        "# inner . b -> num_sent x 768\n",
        "\n",
        "\n"
      ],
      "execution_count": 48,
      "outputs": [
        {
          "output_type": "stream",
          "text": [
            "word num_sent 10\n",
            "0\n",
            "word num_sent 10\n",
            "10\n",
            "word num_sent 10\n",
            "20\n",
            "word num_sent 10\n",
            "30\n",
            "word num_sent 10\n",
            "40\n",
            "word num_sent 10\n",
            "50\n",
            "word num_sent 10\n",
            "60\n",
            "word num_sent 10\n",
            "70\n",
            "word num_sent 10\n",
            "80\n",
            "word num_sent 10\n",
            "90\n",
            "100\n"
          ],
          "name": "stdout"
        }
      ]
    },
    {
      "cell_type": "code",
      "metadata": {
        "id": "z4er9_aBfIVn"
      },
      "source": [
        "# for i, e in enumerate(ev2):\n",
        "#   print(i)\n",
        "#   plotVariance(e[:30])"
      ],
      "execution_count": 49,
      "outputs": []
    },
    {
      "cell_type": "code",
      "metadata": {
        "id": "j8fEHLEvg0AL",
        "outputId": "8620da7f-4c67-4980-cb2a-56ccb14e1a54",
        "colab": {
          "base_uri": "https://localhost:8080/",
          "height": 877
        }
      },
      "source": [
        "# average and percentage\n",
        "ev = [e/count*100 for e in ev]\n",
        "ev2 = ev\n",
        "\n",
        "first_pcs = [f[0] for f in ev2]\n",
        "print('First PCs', first_pcs)\n",
        "plotVariance(first_pcs, title='Normal BERT - First PC contributions')\n",
        "\n",
        "second_pcs = [f[1] for f in ev2]\n",
        "print('Second PCs', second_pcs)\n",
        "plotVariance(second_pcs, title='Normal BERT - Second PC contributions')\n",
        "\n",
        "third_pcs = [f[2] for f in ev2]\n",
        "print('Third PCs', third_pcs)\n",
        "plotVariance(third_pcs, title='Normal BERT - Third PC contributions')"
      ],
      "execution_count": 50,
      "outputs": [
        {
          "output_type": "stream",
          "text": [
            "First PCs [100.0, 95.90289, 92.64047, 85.98039, 78.738716, 72.203766, 65.12186, 62.055866, 59.318584, 59.55841, 58.60945, 58.619534, 49.985893]\n"
          ],
          "name": "stdout"
        },
        {
          "output_type": "display_data",
          "data": {
            "image/png": "[encoded data removed]",
            "text/plain": [
              "<Figure size 432x288 with 1 Axes>"
            ]
          },
          "metadata": {
            "tags": [],
            "needs_background": "light"
          }
        },
        {
          "output_type": "stream",
          "text": [
            "Second PCs [8.2640454e-13, 2.0574522, 3.2137442, 6.8487763, 10.142096, 13.056733, 15.789739, 16.679626, 17.376616, 16.62317, 16.79904, 16.179943, 18.2871]\n"
          ],
          "name": "stdout"
        },
        {
          "output_type": "display_data",
          "data": {
            "image/png": "[encoded data removed]",
            "text/plain": [
              "<Figure size 432x288 with 1 Axes>"
            ]
          },
          "metadata": {
            "tags": [],
            "needs_background": "light"
          }
        },
        {
          "output_type": "stream",
          "text": [
            "Third PCs [3.5527137e-13, 0.7963947, 1.4201405, 2.8906684, 4.637038, 5.6294146, 7.1394453, 7.769206, 8.311952, 8.001429, 7.9243846, 7.720996, 8.928388]\n"
          ],
          "name": "stdout"
        },
        {
          "output_type": "display_data",
          "data": {
            "image/png": "[encoded data removed]",
            "text/plain": [
              "<Figure size 432x288 with 1 Axes>"
            ]
          },
          "metadata": {
            "tags": [],
            "needs_background": "light"
          }
        },
        {
          "output_type": "display_data",
          "data": {
            "text/plain": [
              "<Figure size 432x288 with 0 Axes>"
            ]
          },
          "metadata": {
            "tags": []
          }
        }
      ]
    },
    {
      "cell_type": "code",
      "metadata": {
        "id": "STSyuXNiOQlm"
      },
      "source": [
        ""
      ],
      "execution_count": null,
      "outputs": []
    }
  ]
}